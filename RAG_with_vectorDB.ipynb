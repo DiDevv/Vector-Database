{
  "nbformat": 4,
  "nbformat_minor": 0,
  "metadata": {
    "colab": {
      "provenance": [],
      "authorship_tag": "ABX9TyPN2rdlkE3YYpieo6g0987Z",
      "include_colab_link": true
    },
    "kernelspec": {
      "name": "python3",
      "display_name": "Python 3"
    },
    "language_info": {
      "name": "python"
    },
    "widgets": {
      "application/vnd.jupyter.widget-state+json": {
        "f461e7c76156441d8c51cecefccfe23c": {
          "model_module": "@jupyter-widgets/controls",
          "model_name": "HBoxModel",
          "model_module_version": "1.5.0",
          "state": {
            "_dom_classes": [],
            "_model_module": "@jupyter-widgets/controls",
            "_model_module_version": "1.5.0",
            "_model_name": "HBoxModel",
            "_view_count": null,
            "_view_module": "@jupyter-widgets/controls",
            "_view_module_version": "1.5.0",
            "_view_name": "HBoxView",
            "box_style": "",
            "children": [
              "IPY_MODEL_85f154e9ecf1492f83c8b1438675dab2",
              "IPY_MODEL_4ad75fc46f9e4501a3f9e73ec33eba37",
              "IPY_MODEL_177870e9878547cfbac7daff2478605f"
            ],
            "layout": "IPY_MODEL_48d5ee3e3f6f45218801bc429c4966a3"
          }
        },
        "85f154e9ecf1492f83c8b1438675dab2": {
          "model_module": "@jupyter-widgets/controls",
          "model_name": "HTMLModel",
          "model_module_version": "1.5.0",
          "state": {
            "_dom_classes": [],
            "_model_module": "@jupyter-widgets/controls",
            "_model_module_version": "1.5.0",
            "_model_name": "HTMLModel",
            "_view_count": null,
            "_view_module": "@jupyter-widgets/controls",
            "_view_module_version": "1.5.0",
            "_view_name": "HTMLView",
            "description": "",
            "description_tooltip": null,
            "layout": "IPY_MODEL_1a9ee09bb6ad4a68927b1942003b8e22",
            "placeholder": "​",
            "style": "IPY_MODEL_c7010556ff22490697e98a2a20eecf12",
            "value": "100%"
          }
        },
        "4ad75fc46f9e4501a3f9e73ec33eba37": {
          "model_module": "@jupyter-widgets/controls",
          "model_name": "FloatProgressModel",
          "model_module_version": "1.5.0",
          "state": {
            "_dom_classes": [],
            "_model_module": "@jupyter-widgets/controls",
            "_model_module_version": "1.5.0",
            "_model_name": "FloatProgressModel",
            "_view_count": null,
            "_view_module": "@jupyter-widgets/controls",
            "_view_module_version": "1.5.0",
            "_view_name": "ProgressView",
            "bar_style": "success",
            "description": "",
            "description_tooltip": null,
            "layout": "IPY_MODEL_c53c41ee544a4bf4898ec1e65d84708c",
            "max": 1000,
            "min": 0,
            "orientation": "horizontal",
            "style": "IPY_MODEL_666a3a3bb5bf4d77a24f440f8374b58e",
            "value": 1000
          }
        },
        "177870e9878547cfbac7daff2478605f": {
          "model_module": "@jupyter-widgets/controls",
          "model_name": "HTMLModel",
          "model_module_version": "1.5.0",
          "state": {
            "_dom_classes": [],
            "_model_module": "@jupyter-widgets/controls",
            "_model_module_version": "1.5.0",
            "_model_name": "HTMLModel",
            "_view_count": null,
            "_view_module": "@jupyter-widgets/controls",
            "_view_module_version": "1.5.0",
            "_view_name": "HTMLView",
            "description": "",
            "description_tooltip": null,
            "layout": "IPY_MODEL_c1d1256bcac34f778aaa19b6abe2ce8d",
            "placeholder": "​",
            "style": "IPY_MODEL_1cae3dc8a1944220a2c6167ee4b9e788",
            "value": " 1000/1000 [00:18&lt;00:00, 20.28it/s]"
          }
        },
        "48d5ee3e3f6f45218801bc429c4966a3": {
          "model_module": "@jupyter-widgets/base",
          "model_name": "LayoutModel",
          "model_module_version": "1.2.0",
          "state": {
            "_model_module": "@jupyter-widgets/base",
            "_model_module_version": "1.2.0",
            "_model_name": "LayoutModel",
            "_view_count": null,
            "_view_module": "@jupyter-widgets/base",
            "_view_module_version": "1.2.0",
            "_view_name": "LayoutView",
            "align_content": null,
            "align_items": null,
            "align_self": null,
            "border": null,
            "bottom": null,
            "display": null,
            "flex": null,
            "flex_flow": null,
            "grid_area": null,
            "grid_auto_columns": null,
            "grid_auto_flow": null,
            "grid_auto_rows": null,
            "grid_column": null,
            "grid_gap": null,
            "grid_row": null,
            "grid_template_areas": null,
            "grid_template_columns": null,
            "grid_template_rows": null,
            "height": null,
            "justify_content": null,
            "justify_items": null,
            "left": null,
            "margin": null,
            "max_height": null,
            "max_width": null,
            "min_height": null,
            "min_width": null,
            "object_fit": null,
            "object_position": null,
            "order": null,
            "overflow": null,
            "overflow_x": null,
            "overflow_y": null,
            "padding": null,
            "right": null,
            "top": null,
            "visibility": null,
            "width": null
          }
        },
        "1a9ee09bb6ad4a68927b1942003b8e22": {
          "model_module": "@jupyter-widgets/base",
          "model_name": "LayoutModel",
          "model_module_version": "1.2.0",
          "state": {
            "_model_module": "@jupyter-widgets/base",
            "_model_module_version": "1.2.0",
            "_model_name": "LayoutModel",
            "_view_count": null,
            "_view_module": "@jupyter-widgets/base",
            "_view_module_version": "1.2.0",
            "_view_name": "LayoutView",
            "align_content": null,
            "align_items": null,
            "align_self": null,
            "border": null,
            "bottom": null,
            "display": null,
            "flex": null,
            "flex_flow": null,
            "grid_area": null,
            "grid_auto_columns": null,
            "grid_auto_flow": null,
            "grid_auto_rows": null,
            "grid_column": null,
            "grid_gap": null,
            "grid_row": null,
            "grid_template_areas": null,
            "grid_template_columns": null,
            "grid_template_rows": null,
            "height": null,
            "justify_content": null,
            "justify_items": null,
            "left": null,
            "margin": null,
            "max_height": null,
            "max_width": null,
            "min_height": null,
            "min_width": null,
            "object_fit": null,
            "object_position": null,
            "order": null,
            "overflow": null,
            "overflow_x": null,
            "overflow_y": null,
            "padding": null,
            "right": null,
            "top": null,
            "visibility": null,
            "width": null
          }
        },
        "c7010556ff22490697e98a2a20eecf12": {
          "model_module": "@jupyter-widgets/controls",
          "model_name": "DescriptionStyleModel",
          "model_module_version": "1.5.0",
          "state": {
            "_model_module": "@jupyter-widgets/controls",
            "_model_module_version": "1.5.0",
            "_model_name": "DescriptionStyleModel",
            "_view_count": null,
            "_view_module": "@jupyter-widgets/base",
            "_view_module_version": "1.2.0",
            "_view_name": "StyleView",
            "description_width": ""
          }
        },
        "c53c41ee544a4bf4898ec1e65d84708c": {
          "model_module": "@jupyter-widgets/base",
          "model_name": "LayoutModel",
          "model_module_version": "1.2.0",
          "state": {
            "_model_module": "@jupyter-widgets/base",
            "_model_module_version": "1.2.0",
            "_model_name": "LayoutModel",
            "_view_count": null,
            "_view_module": "@jupyter-widgets/base",
            "_view_module_version": "1.2.0",
            "_view_name": "LayoutView",
            "align_content": null,
            "align_items": null,
            "align_self": null,
            "border": null,
            "bottom": null,
            "display": null,
            "flex": null,
            "flex_flow": null,
            "grid_area": null,
            "grid_auto_columns": null,
            "grid_auto_flow": null,
            "grid_auto_rows": null,
            "grid_column": null,
            "grid_gap": null,
            "grid_row": null,
            "grid_template_areas": null,
            "grid_template_columns": null,
            "grid_template_rows": null,
            "height": null,
            "justify_content": null,
            "justify_items": null,
            "left": null,
            "margin": null,
            "max_height": null,
            "max_width": null,
            "min_height": null,
            "min_width": null,
            "object_fit": null,
            "object_position": null,
            "order": null,
            "overflow": null,
            "overflow_x": null,
            "overflow_y": null,
            "padding": null,
            "right": null,
            "top": null,
            "visibility": null,
            "width": null
          }
        },
        "666a3a3bb5bf4d77a24f440f8374b58e": {
          "model_module": "@jupyter-widgets/controls",
          "model_name": "ProgressStyleModel",
          "model_module_version": "1.5.0",
          "state": {
            "_model_module": "@jupyter-widgets/controls",
            "_model_module_version": "1.5.0",
            "_model_name": "ProgressStyleModel",
            "_view_count": null,
            "_view_module": "@jupyter-widgets/base",
            "_view_module_version": "1.2.0",
            "_view_name": "StyleView",
            "bar_color": null,
            "description_width": ""
          }
        },
        "c1d1256bcac34f778aaa19b6abe2ce8d": {
          "model_module": "@jupyter-widgets/base",
          "model_name": "LayoutModel",
          "model_module_version": "1.2.0",
          "state": {
            "_model_module": "@jupyter-widgets/base",
            "_model_module_version": "1.2.0",
            "_model_name": "LayoutModel",
            "_view_count": null,
            "_view_module": "@jupyter-widgets/base",
            "_view_module_version": "1.2.0",
            "_view_name": "LayoutView",
            "align_content": null,
            "align_items": null,
            "align_self": null,
            "border": null,
            "bottom": null,
            "display": null,
            "flex": null,
            "flex_flow": null,
            "grid_area": null,
            "grid_auto_columns": null,
            "grid_auto_flow": null,
            "grid_auto_rows": null,
            "grid_column": null,
            "grid_gap": null,
            "grid_row": null,
            "grid_template_areas": null,
            "grid_template_columns": null,
            "grid_template_rows": null,
            "height": null,
            "justify_content": null,
            "justify_items": null,
            "left": null,
            "margin": null,
            "max_height": null,
            "max_width": null,
            "min_height": null,
            "min_width": null,
            "object_fit": null,
            "object_position": null,
            "order": null,
            "overflow": null,
            "overflow_x": null,
            "overflow_y": null,
            "padding": null,
            "right": null,
            "top": null,
            "visibility": null,
            "width": null
          }
        },
        "1cae3dc8a1944220a2c6167ee4b9e788": {
          "model_module": "@jupyter-widgets/controls",
          "model_name": "DescriptionStyleModel",
          "model_module_version": "1.5.0",
          "state": {
            "_model_module": "@jupyter-widgets/controls",
            "_model_module_version": "1.5.0",
            "_model_name": "DescriptionStyleModel",
            "_view_count": null,
            "_view_module": "@jupyter-widgets/base",
            "_view_module_version": "1.2.0",
            "_view_name": "StyleView",
            "description_width": ""
          }
        }
      }
    }
  },
  "cells": [
    {
      "cell_type": "markdown",
      "metadata": {
        "id": "view-in-github",
        "colab_type": "text"
      },
      "source": [
        "<a href=\"https://colab.research.google.com/github/DiDevv/Vector-Database/blob/main/RAG_with_vectorDB.ipynb\" target=\"_parent\"><img src=\"https://colab.research.google.com/assets/colab-badge.svg\" alt=\"Open In Colab\"/></a>"
      ]
    },
    {
      "cell_type": "markdown",
      "source": [
        "# Introdução:"
      ],
      "metadata": {
        "id": "O84_L3Hf9uZp"
      }
    },
    {
      "cell_type": "markdown",
      "source": [
        "Todo esse código estará armazenado no meu Github com o intuito tanto de guardar o meu aprendizado, quanto de compartilhar para outras pessoas.\n",
        "\n",
        "Todo aprendizado aquiduirido aqui me foi proporcionado gratuitamente pela organização DeeplearningAI. O curso pode ser encontrado aqui: [Building Applications With Vector Databases](https://learn.deeplearning.ai/courses/building-applications-vector-databases)\n",
        "\n",
        "A explicação do código estará em português e algumas abordagens alternativas foram tomadas pois estou rodando os códigos em um ambiente meu e não dentro do jupyter do próprio curso.\n",
        "\n",
        "O curso ainda não possui legendas em português, foi um ponto de dificuldade para mim pois ainda estou aprimorando minha escuta do idioma inglês, por isso, tentarei abordar o conteúdo em português por aqui, para quebrar a barreira linguística para outras pessoas que ainda não conseguem \"se virar\" no inglês :P, eu te entendo!\n",
        "\n",
        "Espero que possa ser útil, tanto pra você quanto pra mim!"
      ],
      "metadata": {
        "id": "nFuQA1_i9wqS"
      }
    },
    {
      "cell_type": "markdown",
      "source": [
        "# Retrieval Augmented Generation (RAG) - Módulo 2"
      ],
      "metadata": {
        "id": "jL9sFK_AQget"
      }
    },
    {
      "cell_type": "markdown",
      "source": [
        "RAG é uma técnica utilizada para recuperação de dados de forma assertiva. É muito útil na área de AI Engineering para otimizar respostas de chatbot que, por exemplo, lidam com documentos."
      ],
      "metadata": {
        "id": "JMqIkAiu-0s6"
      }
    },
    {
      "cell_type": "markdown",
      "source": [
        "---\n",
        "\n",
        "Antes de prosseguir, é necessário instalar alguns pacotes!"
      ],
      "metadata": {
        "id": "VDMaDWCx_wVc"
      }
    },
    {
      "cell_type": "code",
      "source": [
        "%pip install datasets pinecone openai tqdm"
      ],
      "metadata": {
        "colab": {
          "base_uri": "https://localhost:8080/"
        },
        "id": "Zo6bCY0PQlko",
        "outputId": "51eb3d94-3b4b-43be-f01b-fec6a779a5aa"
      },
      "execution_count": 3,
      "outputs": [
        {
          "output_type": "stream",
          "name": "stdout",
          "text": [
            "Requirement already satisfied: datasets in /usr/local/lib/python3.10/dist-packages (3.2.0)\n",
            "Requirement already satisfied: pinecone in /usr/local/lib/python3.10/dist-packages (5.4.2)\n",
            "Requirement already satisfied: openai in /usr/local/lib/python3.10/dist-packages (1.57.4)\n",
            "Requirement already satisfied: tqdm in /usr/local/lib/python3.10/dist-packages (4.67.1)\n",
            "Requirement already satisfied: filelock in /usr/local/lib/python3.10/dist-packages (from datasets) (3.16.1)\n",
            "Requirement already satisfied: numpy>=1.17 in /usr/local/lib/python3.10/dist-packages (from datasets) (1.26.4)\n",
            "Requirement already satisfied: pyarrow>=15.0.0 in /usr/local/lib/python3.10/dist-packages (from datasets) (17.0.0)\n",
            "Requirement already satisfied: dill<0.3.9,>=0.3.0 in /usr/local/lib/python3.10/dist-packages (from datasets) (0.3.8)\n",
            "Requirement already satisfied: pandas in /usr/local/lib/python3.10/dist-packages (from datasets) (2.2.2)\n",
            "Requirement already satisfied: requests>=2.32.2 in /usr/local/lib/python3.10/dist-packages (from datasets) (2.32.3)\n",
            "Requirement already satisfied: xxhash in /usr/local/lib/python3.10/dist-packages (from datasets) (3.5.0)\n",
            "Requirement already satisfied: multiprocess<0.70.17 in /usr/local/lib/python3.10/dist-packages (from datasets) (0.70.16)\n",
            "Requirement already satisfied: fsspec<=2024.9.0,>=2023.1.0 in /usr/local/lib/python3.10/dist-packages (from fsspec[http]<=2024.9.0,>=2023.1.0->datasets) (2024.9.0)\n",
            "Requirement already satisfied: aiohttp in /usr/local/lib/python3.10/dist-packages (from datasets) (3.11.10)\n",
            "Requirement already satisfied: huggingface-hub>=0.23.0 in /usr/local/lib/python3.10/dist-packages (from datasets) (0.27.0)\n",
            "Requirement already satisfied: packaging in /usr/local/lib/python3.10/dist-packages (from datasets) (24.2)\n",
            "Requirement already satisfied: pyyaml>=5.1 in /usr/local/lib/python3.10/dist-packages (from datasets) (6.0.2)\n",
            "Requirement already satisfied: certifi>=2019.11.17 in /usr/local/lib/python3.10/dist-packages (from pinecone) (2024.12.14)\n",
            "Requirement already satisfied: pinecone-plugin-inference<4.0.0,>=2.0.0 in /usr/local/lib/python3.10/dist-packages (from pinecone) (3.1.0)\n",
            "Requirement already satisfied: pinecone-plugin-interface<0.0.8,>=0.0.7 in /usr/local/lib/python3.10/dist-packages (from pinecone) (0.0.7)\n",
            "Requirement already satisfied: python-dateutil>=2.5.3 in /usr/local/lib/python3.10/dist-packages (from pinecone) (2.8.2)\n",
            "Requirement already satisfied: typing-extensions>=3.7.4 in /usr/local/lib/python3.10/dist-packages (from pinecone) (4.12.2)\n",
            "Requirement already satisfied: urllib3>=1.26.0 in /usr/local/lib/python3.10/dist-packages (from pinecone) (2.2.3)\n",
            "Requirement already satisfied: anyio<5,>=3.5.0 in /usr/local/lib/python3.10/dist-packages (from openai) (3.7.1)\n",
            "Requirement already satisfied: distro<2,>=1.7.0 in /usr/local/lib/python3.10/dist-packages (from openai) (1.9.0)\n",
            "Requirement already satisfied: httpx<1,>=0.23.0 in /usr/local/lib/python3.10/dist-packages (from openai) (0.28.1)\n",
            "Requirement already satisfied: jiter<1,>=0.4.0 in /usr/local/lib/python3.10/dist-packages (from openai) (0.8.2)\n",
            "Requirement already satisfied: pydantic<3,>=1.9.0 in /usr/local/lib/python3.10/dist-packages (from openai) (2.10.3)\n",
            "Requirement already satisfied: sniffio in /usr/local/lib/python3.10/dist-packages (from openai) (1.3.1)\n",
            "Requirement already satisfied: idna>=2.8 in /usr/local/lib/python3.10/dist-packages (from anyio<5,>=3.5.0->openai) (3.10)\n",
            "Requirement already satisfied: exceptiongroup in /usr/local/lib/python3.10/dist-packages (from anyio<5,>=3.5.0->openai) (1.2.2)\n",
            "Requirement already satisfied: aiohappyeyeballs>=2.3.0 in /usr/local/lib/python3.10/dist-packages (from aiohttp->datasets) (2.4.4)\n",
            "Requirement already satisfied: aiosignal>=1.1.2 in /usr/local/lib/python3.10/dist-packages (from aiohttp->datasets) (1.3.2)\n",
            "Requirement already satisfied: async-timeout<6.0,>=4.0 in /usr/local/lib/python3.10/dist-packages (from aiohttp->datasets) (4.0.3)\n",
            "Requirement already satisfied: attrs>=17.3.0 in /usr/local/lib/python3.10/dist-packages (from aiohttp->datasets) (24.3.0)\n",
            "Requirement already satisfied: frozenlist>=1.1.1 in /usr/local/lib/python3.10/dist-packages (from aiohttp->datasets) (1.5.0)\n",
            "Requirement already satisfied: multidict<7.0,>=4.5 in /usr/local/lib/python3.10/dist-packages (from aiohttp->datasets) (6.1.0)\n",
            "Requirement already satisfied: propcache>=0.2.0 in /usr/local/lib/python3.10/dist-packages (from aiohttp->datasets) (0.2.1)\n",
            "Requirement already satisfied: yarl<2.0,>=1.17.0 in /usr/local/lib/python3.10/dist-packages (from aiohttp->datasets) (1.18.3)\n",
            "Requirement already satisfied: httpcore==1.* in /usr/local/lib/python3.10/dist-packages (from httpx<1,>=0.23.0->openai) (1.0.7)\n",
            "Requirement already satisfied: h11<0.15,>=0.13 in /usr/local/lib/python3.10/dist-packages (from httpcore==1.*->httpx<1,>=0.23.0->openai) (0.14.0)\n",
            "Requirement already satisfied: annotated-types>=0.6.0 in /usr/local/lib/python3.10/dist-packages (from pydantic<3,>=1.9.0->openai) (0.7.0)\n",
            "Requirement already satisfied: pydantic-core==2.27.1 in /usr/local/lib/python3.10/dist-packages (from pydantic<3,>=1.9.0->openai) (2.27.1)\n",
            "Requirement already satisfied: six>=1.5 in /usr/local/lib/python3.10/dist-packages (from python-dateutil>=2.5.3->pinecone) (1.17.0)\n",
            "Requirement already satisfied: charset-normalizer<4,>=2 in /usr/local/lib/python3.10/dist-packages (from requests>=2.32.2->datasets) (3.4.0)\n",
            "Requirement already satisfied: pytz>=2020.1 in /usr/local/lib/python3.10/dist-packages (from pandas->datasets) (2024.2)\n",
            "Requirement already satisfied: tzdata>=2022.7 in /usr/local/lib/python3.10/dist-packages (from pandas->datasets) (2024.2)\n"
          ]
        }
      ]
    },
    {
      "cell_type": "markdown",
      "source": [
        "# Importando Libs"
      ],
      "metadata": {
        "id": "2d0ws5gKSZBp"
      }
    },
    {
      "cell_type": "code",
      "source": [
        "from datasets import load_dataset\n",
        "from openai import OpenAI\n",
        "from pinecone import Pinecone, ServerlessSpec\n",
        "from tqdm.auto import tqdm\n",
        "\n",
        "import ast\n",
        "import os\n",
        "import pandas as pd\n",
        "import getpass"
      ],
      "metadata": {
        "id": "Nc29aE-KSag0"
      },
      "execution_count": 5,
      "outputs": []
    },
    {
      "cell_type": "markdown",
      "source": [
        "# Conectando com o Pinecone e criando um Index"
      ],
      "metadata": {
        "id": "gfkSXUepR-zB"
      }
    },
    {
      "cell_type": "markdown",
      "source": [
        "Já detalhei todo esse processo no primeiro módulo, [click aqui](https://github.com/DiDevv/Vector-Database) para acessar o repositório no Github, o módulo um se chama Similarity Search"
      ],
      "metadata": {
        "id": "qbaYkssnSCI5"
      }
    },
    {
      "cell_type": "code",
      "source": [
        "os.environ[\"PINECONE_API_KEY\"] = getpass.getpass(\"Forneça sua Pinecone API Key: \")"
      ],
      "metadata": {
        "colab": {
          "base_uri": "https://localhost:8080/"
        },
        "id": "M7KIUMB-Q5IV",
        "outputId": "c2eb8874-7cbe-49b6-930a-0952173bd374"
      },
      "execution_count": 7,
      "outputs": [
        {
          "name": "stdout",
          "output_type": "stream",
          "text": [
            "Forneça sua Pinecone API Key: ··········\n"
          ]
        }
      ]
    },
    {
      "cell_type": "code",
      "source": [
        "PINECONE_API_KEY = os.environ[\"PINECONE_API_KEY\"]"
      ],
      "metadata": {
        "id": "8syOce1cSguJ"
      },
      "execution_count": 8,
      "outputs": []
    },
    {
      "cell_type": "code",
      "source": [
        "Pinecone = Pinecone(api_key=PINECONE_API_KEY)\n",
        "\n",
        "index_name = \"rag-course\"\n",
        "\n",
        "Pinecone.create_index(\n",
        "    name=index_name,\n",
        "    dimension=1536, # é a padrão\n",
        "    metric=\"cosine\",\n",
        "    spec=ServerlessSpec(\n",
        "        cloud=\"aws\",\n",
        "        region=\"us-east-1\"\n",
        "    )\n",
        ")"
      ],
      "metadata": {
        "id": "af19FgBUS6Zj"
      },
      "execution_count": 9,
      "outputs": []
    },
    {
      "cell_type": "code",
      "source": [
        "index = Pinecone.Index(index_name)"
      ],
      "metadata": {
        "id": "M61Fxsz6WDVn"
      },
      "execution_count": 13,
      "outputs": []
    },
    {
      "cell_type": "markdown",
      "source": [
        "# Baixando o Dataset"
      ],
      "metadata": {
        "id": "ZQIj8P6ATiDr"
      }
    },
    {
      "cell_type": "markdown",
      "source": [
        "Depois que nosso banco de dados foi criado, agora iremos baixar o conjunto de dados que iremos trabalhar.\n",
        "\n",
        "Utilizarei um conjunto de dados disponibilizado pelo próprio curso."
      ],
      "metadata": {
        "id": "d0R5ic6QTmP7"
      }
    },
    {
      "cell_type": "code",
      "source": [
        "!wget -q -O lesson2-wiki.csv.zip \"https://www.dropbox.com/scl/fi/yxzmsrv2sgl249zcspeqb/lesson2-wiki.csv.zip?rlkey=paehnoxjl3s5x53d1bedt4pmc&dl=0\"\n",
        "\n",
        "!unzip lesson2-wiki.csv.zip"
      ],
      "metadata": {
        "colab": {
          "base_uri": "https://localhost:8080/"
        },
        "id": "VO_CKlYkTZaN",
        "outputId": "906aafa4-f877-4b96-8699-9edf1e34e628"
      },
      "execution_count": 10,
      "outputs": [
        {
          "output_type": "stream",
          "name": "stdout",
          "text": [
            "Archive:  lesson2-wiki.csv.zip\n",
            "  inflating: wiki.csv                \n"
          ]
        }
      ]
    },
    {
      "cell_type": "markdown",
      "source": [
        "O curso nos deixa uma nota a respeito do conjunto de dados.\n",
        "\n",
        "---\n",
        "No curso, eles utilizam um max_articles_num  de 500 para economizar tempo e processamento, mas, obviamente quanto maior o número de dados carregados melhor será a resposta do modelo. Ele sugere que você e eu como alunos possamos aumentar aos poucos o número de artigos para observarmos a melhoria na resposta!\n",
        "\n",
        "Como sou exagerado, já irei começar com 1000. Sou desses..."
      ],
      "metadata": {
        "id": "zXW6-iICUFN2"
      }
    },
    {
      "cell_type": "code",
      "source": [
        "max_articles_num = 1000\n",
        "\n",
        "df = pd.read_csv('./wiki.csv', nrows=max_articles_num)\n",
        "df.head()"
      ],
      "metadata": {
        "colab": {
          "base_uri": "https://localhost:8080/",
          "height": 206
        },
        "id": "eZa5BBWiT7rR",
        "outputId": "4c7aecf4-ef90-4950-fdf1-aad4045378d0"
      },
      "execution_count": 12,
      "outputs": [
        {
          "output_type": "execute_result",
          "data": {
            "text/plain": [
              "    id                                           metadata  \\\n",
              "1  1-0  {'chunk': 0, 'source': 'https://simple.wikiped...   \n",
              "2  1-1  {'chunk': 1, 'source': 'https://simple.wikiped...   \n",
              "3  1-2  {'chunk': 2, 'source': 'https://simple.wikiped...   \n",
              "4  1-3  {'chunk': 3, 'source': 'https://simple.wikiped...   \n",
              "5  1-4  {'chunk': 4, 'source': 'https://simple.wikiped...   \n",
              "\n",
              "                                              values  \n",
              "1  [-0.011254455894231796, -0.01698738895356655, ...  \n",
              "2  [-0.0015197008615359664, -0.007858820259571075...  \n",
              "3  [-0.009930099360644817, -0.012211072258651257,...  \n",
              "4  [-0.011600767262279987, -0.012608098797500134,...  \n",
              "5  [-0.026462381705641747, -0.016362832859158516,...  "
            ],
            "text/html": [
              "\n",
              "  <div id=\"df-252563f7-c097-4c87-a848-1f7e4774cbdc\" class=\"colab-df-container\">\n",
              "    <div>\n",
              "<style scoped>\n",
              "    .dataframe tbody tr th:only-of-type {\n",
              "        vertical-align: middle;\n",
              "    }\n",
              "\n",
              "    .dataframe tbody tr th {\n",
              "        vertical-align: top;\n",
              "    }\n",
              "\n",
              "    .dataframe thead th {\n",
              "        text-align: right;\n",
              "    }\n",
              "</style>\n",
              "<table border=\"1\" class=\"dataframe\">\n",
              "  <thead>\n",
              "    <tr style=\"text-align: right;\">\n",
              "      <th></th>\n",
              "      <th>id</th>\n",
              "      <th>metadata</th>\n",
              "      <th>values</th>\n",
              "    </tr>\n",
              "  </thead>\n",
              "  <tbody>\n",
              "    <tr>\n",
              "      <th>1</th>\n",
              "      <td>1-0</td>\n",
              "      <td>{'chunk': 0, 'source': 'https://simple.wikiped...</td>\n",
              "      <td>[-0.011254455894231796, -0.01698738895356655, ...</td>\n",
              "    </tr>\n",
              "    <tr>\n",
              "      <th>2</th>\n",
              "      <td>1-1</td>\n",
              "      <td>{'chunk': 1, 'source': 'https://simple.wikiped...</td>\n",
              "      <td>[-0.0015197008615359664, -0.007858820259571075...</td>\n",
              "    </tr>\n",
              "    <tr>\n",
              "      <th>3</th>\n",
              "      <td>1-2</td>\n",
              "      <td>{'chunk': 2, 'source': 'https://simple.wikiped...</td>\n",
              "      <td>[-0.009930099360644817, -0.012211072258651257,...</td>\n",
              "    </tr>\n",
              "    <tr>\n",
              "      <th>4</th>\n",
              "      <td>1-3</td>\n",
              "      <td>{'chunk': 3, 'source': 'https://simple.wikiped...</td>\n",
              "      <td>[-0.011600767262279987, -0.012608098797500134,...</td>\n",
              "    </tr>\n",
              "    <tr>\n",
              "      <th>5</th>\n",
              "      <td>1-4</td>\n",
              "      <td>{'chunk': 4, 'source': 'https://simple.wikiped...</td>\n",
              "      <td>[-0.026462381705641747, -0.016362832859158516,...</td>\n",
              "    </tr>\n",
              "  </tbody>\n",
              "</table>\n",
              "</div>\n",
              "    <div class=\"colab-df-buttons\">\n",
              "\n",
              "  <div class=\"colab-df-container\">\n",
              "    <button class=\"colab-df-convert\" onclick=\"convertToInteractive('df-252563f7-c097-4c87-a848-1f7e4774cbdc')\"\n",
              "            title=\"Convert this dataframe to an interactive table.\"\n",
              "            style=\"display:none;\">\n",
              "\n",
              "  <svg xmlns=\"http://www.w3.org/2000/svg\" height=\"24px\" viewBox=\"0 -960 960 960\">\n",
              "    <path d=\"M120-120v-720h720v720H120Zm60-500h600v-160H180v160Zm220 220h160v-160H400v160Zm0 220h160v-160H400v160ZM180-400h160v-160H180v160Zm440 0h160v-160H620v160ZM180-180h160v-160H180v160Zm440 0h160v-160H620v160Z\"/>\n",
              "  </svg>\n",
              "    </button>\n",
              "\n",
              "  <style>\n",
              "    .colab-df-container {\n",
              "      display:flex;\n",
              "      gap: 12px;\n",
              "    }\n",
              "\n",
              "    .colab-df-convert {\n",
              "      background-color: #E8F0FE;\n",
              "      border: none;\n",
              "      border-radius: 50%;\n",
              "      cursor: pointer;\n",
              "      display: none;\n",
              "      fill: #1967D2;\n",
              "      height: 32px;\n",
              "      padding: 0 0 0 0;\n",
              "      width: 32px;\n",
              "    }\n",
              "\n",
              "    .colab-df-convert:hover {\n",
              "      background-color: #E2EBFA;\n",
              "      box-shadow: 0px 1px 2px rgba(60, 64, 67, 0.3), 0px 1px 3px 1px rgba(60, 64, 67, 0.15);\n",
              "      fill: #174EA6;\n",
              "    }\n",
              "\n",
              "    .colab-df-buttons div {\n",
              "      margin-bottom: 4px;\n",
              "    }\n",
              "\n",
              "    [theme=dark] .colab-df-convert {\n",
              "      background-color: #3B4455;\n",
              "      fill: #D2E3FC;\n",
              "    }\n",
              "\n",
              "    [theme=dark] .colab-df-convert:hover {\n",
              "      background-color: #434B5C;\n",
              "      box-shadow: 0px 1px 3px 1px rgba(0, 0, 0, 0.15);\n",
              "      filter: drop-shadow(0px 1px 2px rgba(0, 0, 0, 0.3));\n",
              "      fill: #FFFFFF;\n",
              "    }\n",
              "  </style>\n",
              "\n",
              "    <script>\n",
              "      const buttonEl =\n",
              "        document.querySelector('#df-252563f7-c097-4c87-a848-1f7e4774cbdc button.colab-df-convert');\n",
              "      buttonEl.style.display =\n",
              "        google.colab.kernel.accessAllowed ? 'block' : 'none';\n",
              "\n",
              "      async function convertToInteractive(key) {\n",
              "        const element = document.querySelector('#df-252563f7-c097-4c87-a848-1f7e4774cbdc');\n",
              "        const dataTable =\n",
              "          await google.colab.kernel.invokeFunction('convertToInteractive',\n",
              "                                                    [key], {});\n",
              "        if (!dataTable) return;\n",
              "\n",
              "        const docLinkHtml = 'Like what you see? Visit the ' +\n",
              "          '<a target=\"_blank\" href=https://colab.research.google.com/notebooks/data_table.ipynb>data table notebook</a>'\n",
              "          + ' to learn more about interactive tables.';\n",
              "        element.innerHTML = '';\n",
              "        dataTable['output_type'] = 'display_data';\n",
              "        await google.colab.output.renderOutput(dataTable, element);\n",
              "        const docLink = document.createElement('div');\n",
              "        docLink.innerHTML = docLinkHtml;\n",
              "        element.appendChild(docLink);\n",
              "      }\n",
              "    </script>\n",
              "  </div>\n",
              "\n",
              "\n",
              "<div id=\"df-bd0d5a8d-6e5f-49ed-a78c-a9969463d76a\">\n",
              "  <button class=\"colab-df-quickchart\" onclick=\"quickchart('df-bd0d5a8d-6e5f-49ed-a78c-a9969463d76a')\"\n",
              "            title=\"Suggest charts\"\n",
              "            style=\"display:none;\">\n",
              "\n",
              "<svg xmlns=\"http://www.w3.org/2000/svg\" height=\"24px\"viewBox=\"0 0 24 24\"\n",
              "     width=\"24px\">\n",
              "    <g>\n",
              "        <path d=\"M19 3H5c-1.1 0-2 .9-2 2v14c0 1.1.9 2 2 2h14c1.1 0 2-.9 2-2V5c0-1.1-.9-2-2-2zM9 17H7v-7h2v7zm4 0h-2V7h2v10zm4 0h-2v-4h2v4z\"/>\n",
              "    </g>\n",
              "</svg>\n",
              "  </button>\n",
              "\n",
              "<style>\n",
              "  .colab-df-quickchart {\n",
              "      --bg-color: #E8F0FE;\n",
              "      --fill-color: #1967D2;\n",
              "      --hover-bg-color: #E2EBFA;\n",
              "      --hover-fill-color: #174EA6;\n",
              "      --disabled-fill-color: #AAA;\n",
              "      --disabled-bg-color: #DDD;\n",
              "  }\n",
              "\n",
              "  [theme=dark] .colab-df-quickchart {\n",
              "      --bg-color: #3B4455;\n",
              "      --fill-color: #D2E3FC;\n",
              "      --hover-bg-color: #434B5C;\n",
              "      --hover-fill-color: #FFFFFF;\n",
              "      --disabled-bg-color: #3B4455;\n",
              "      --disabled-fill-color: #666;\n",
              "  }\n",
              "\n",
              "  .colab-df-quickchart {\n",
              "    background-color: var(--bg-color);\n",
              "    border: none;\n",
              "    border-radius: 50%;\n",
              "    cursor: pointer;\n",
              "    display: none;\n",
              "    fill: var(--fill-color);\n",
              "    height: 32px;\n",
              "    padding: 0;\n",
              "    width: 32px;\n",
              "  }\n",
              "\n",
              "  .colab-df-quickchart:hover {\n",
              "    background-color: var(--hover-bg-color);\n",
              "    box-shadow: 0 1px 2px rgba(60, 64, 67, 0.3), 0 1px 3px 1px rgba(60, 64, 67, 0.15);\n",
              "    fill: var(--button-hover-fill-color);\n",
              "  }\n",
              "\n",
              "  .colab-df-quickchart-complete:disabled,\n",
              "  .colab-df-quickchart-complete:disabled:hover {\n",
              "    background-color: var(--disabled-bg-color);\n",
              "    fill: var(--disabled-fill-color);\n",
              "    box-shadow: none;\n",
              "  }\n",
              "\n",
              "  .colab-df-spinner {\n",
              "    border: 2px solid var(--fill-color);\n",
              "    border-color: transparent;\n",
              "    border-bottom-color: var(--fill-color);\n",
              "    animation:\n",
              "      spin 1s steps(1) infinite;\n",
              "  }\n",
              "\n",
              "  @keyframes spin {\n",
              "    0% {\n",
              "      border-color: transparent;\n",
              "      border-bottom-color: var(--fill-color);\n",
              "      border-left-color: var(--fill-color);\n",
              "    }\n",
              "    20% {\n",
              "      border-color: transparent;\n",
              "      border-left-color: var(--fill-color);\n",
              "      border-top-color: var(--fill-color);\n",
              "    }\n",
              "    30% {\n",
              "      border-color: transparent;\n",
              "      border-left-color: var(--fill-color);\n",
              "      border-top-color: var(--fill-color);\n",
              "      border-right-color: var(--fill-color);\n",
              "    }\n",
              "    40% {\n",
              "      border-color: transparent;\n",
              "      border-right-color: var(--fill-color);\n",
              "      border-top-color: var(--fill-color);\n",
              "    }\n",
              "    60% {\n",
              "      border-color: transparent;\n",
              "      border-right-color: var(--fill-color);\n",
              "    }\n",
              "    80% {\n",
              "      border-color: transparent;\n",
              "      border-right-color: var(--fill-color);\n",
              "      border-bottom-color: var(--fill-color);\n",
              "    }\n",
              "    90% {\n",
              "      border-color: transparent;\n",
              "      border-bottom-color: var(--fill-color);\n",
              "    }\n",
              "  }\n",
              "</style>\n",
              "\n",
              "  <script>\n",
              "    async function quickchart(key) {\n",
              "      const quickchartButtonEl =\n",
              "        document.querySelector('#' + key + ' button');\n",
              "      quickchartButtonEl.disabled = true;  // To prevent multiple clicks.\n",
              "      quickchartButtonEl.classList.add('colab-df-spinner');\n",
              "      try {\n",
              "        const charts = await google.colab.kernel.invokeFunction(\n",
              "            'suggestCharts', [key], {});\n",
              "      } catch (error) {\n",
              "        console.error('Error during call to suggestCharts:', error);\n",
              "      }\n",
              "      quickchartButtonEl.classList.remove('colab-df-spinner');\n",
              "      quickchartButtonEl.classList.add('colab-df-quickchart-complete');\n",
              "    }\n",
              "    (() => {\n",
              "      let quickchartButtonEl =\n",
              "        document.querySelector('#df-bd0d5a8d-6e5f-49ed-a78c-a9969463d76a button');\n",
              "      quickchartButtonEl.style.display =\n",
              "        google.colab.kernel.accessAllowed ? 'block' : 'none';\n",
              "    })();\n",
              "  </script>\n",
              "</div>\n",
              "\n",
              "    </div>\n",
              "  </div>\n"
            ],
            "application/vnd.google.colaboratory.intrinsic+json": {
              "type": "dataframe",
              "variable_name": "df",
              "summary": "{\n  \"name\": \"df\",\n  \"rows\": 1000,\n  \"fields\": [\n    {\n      \"column\": \"id\",\n      \"properties\": {\n        \"dtype\": \"string\",\n        \"num_unique_values\": 1000,\n        \"samples\": [\n          \"326-0\",\n          \"469-4\",\n          \"469-7\"\n        ],\n        \"semantic_type\": \"\",\n        \"description\": \"\"\n      }\n    },\n    {\n      \"column\": \"metadata\",\n      \"properties\": {\n        \"dtype\": \"string\",\n        \"num_unique_values\": 1000,\n        \"samples\": [\n          \"{'chunk': 0, 'source': 'https://simple.wikipedia.org/wiki/Harbor', 'text': 'Harbour means to shelter or keep safe. A harbor (or harbour) is a place where ships may shelter.  Some harbours are used as ports to load and unload ships.  The port will have quays or piers where the ships may be moored or tied up and a transport system for taking goods inland.  Often railway and road transport will be used.  Goods also move by pipeline transport and by smaller ships on rivers.\\\\n\\\\nHarbors can be natural as in San Francisco or artificial as in ancient Carthage or a mix of both. During the D-Day operations of 1944, two artificial harbors (named mulberry) were built just off the beaches where the invasion was going to happen.\\\\n\\\\nRelated pages  \\\\n Dock\\\\n Dockyard\\\\n Marina\\\\n Naval base\\\\n Quay\\\\n Seaport\\\\n Transport\\\\n Wharf\\\\n\\\\nReferences \\\\n\\\\nBasic English 850 words', 'title': 'Harbor', 'wiki-id': '326'}\",\n          \"{'chunk': 4, 'source': 'https://simple.wikipedia.org/wiki/May', 'text': \\\"May 21 - Day of Patriots and the Military (Hungary)\\\\n May 22 - Republic Day (Sri Lanka)\\\\n May 22 - Unity Day (Yemen)\\\\n May 22 - National Sovereignty Day (Haiti)\\\\n May 22 - International Day of Biological Diversity\\\\n May 22 - Harvey Milk Day (California)\\\\n May 23 - Birthday of Guru Amar Das (Sikhism)\\\\n May 23 - Declaration of the Bab (Baha'i faith)\\\\n May 23 - Labour Day (Jamaica)\\\\n May 23 - Students' Day (Mexico)\\\\n May 23 - World Turtle Day\\\\n May 24 - Battle of Pichincha Day (Ecuador)\\\\n May 24 - Bermuda Day\\\\n May 24 - Commonwealth Day (Belize)\\\\n May 24 - Independence Day (Eritrea)\\\\n May 24 - Aldersgate Day (Methodism)\\\\n May 24 - National Patriots Day (Quebec)\\\\n May 25 - Africa Day\\\\n May 25 - Geek Pride Day\\\\n May 25 - Independence Day (Jordan)\\\\n May 25 - Liberation Day (Lebanon)\\\\n May 25 - National Day (Argentina)\\\\n May 26 - Independence Day (Georgia)\\\\n May 26 - Independence Day (Guyana)\\\\n May 26 - Crown Prince's Birthday (Denmark)\\\\n May 26 - Mother's Day (Poland)\\\\n May 26 - National Sorry Day (Australia)\\\\n May 28 - Independence Day (Armenia)\\\\n May 28 - Independence Day (Azerbaijan)\\\\n May 28 - Republic Day (Nepal)\\\\n May 28 - Flag Day (Philippines)\\\\n May 28 - Armed Forces Day (Croatia)\\\\n May 30 - Anguilla Day\\\\n May 30 - Canary Islands Day\\\\n May 31 - Anti-Tobacco Day\\\", 'title': 'May', 'wiki-id': '469'}\",\n          \"{'chunk': 7, 'source': 'https://simple.wikipedia.org/wiki/May', 'text': 'May 8, 1902 - Mount Pelee on Martinique erupts, killing 30,000 people.\\\\n May 8, 1945 - World War II: Final surrender by Germany, ending the war in Europe.\\\\n May 9, 1901 - The first Australian parliament meets in Melbourne. It is later moved to Canberra on this day in 1927.\\\\n May 9, 1945 - World War II: The Channel Islands are liberated.\\\\n May 10, 1877 - Romania declares independence from Turkey.\\\\n May 10, 1940 - Winston Churchill becomes Prime Minister of the United Kingdom on the same day that Germany invades the Netherlands, Belgium and Luxembourg.\\\\n May 10, 1994 - Nelson Mandela becomes President of South Africa.\\\\n May 11, 1812 - Spencer Perceval becomes the only Prime Minister of the United Kingdom to be assassinated.\\\\n May 11, 1949 - Siam changes its name to Thailand.\\\\n May 12, 1926 - The Italian airship Norge flies over the North Pole.\\\\n May 12, 2008 - A major earthquake strikes Sichuan province, China, killing tens of thousands of people.\\\\n May 13, 1830 - Ecuador gains independence.\\\\n May 13, 1981 - An assassination attempt is made on Pope John Paul II in Vatican City.\\\\n May 14, 1811 - Paraguay gains independence.\\\\n May 14, 1948 - The State of Israel is founded.\\\\n May 15, 1701 - The War of the Spanish Succession begins.\\\\n May 16, 1929 - The first Academy Awards are given out.\\\\n May 16, 1975 - Sikkim unites with India.\\\\n May 16, 2009 - Alexander Rybak of Norway wins the Eurovision Song Contest with a record points total.', 'title': 'May', 'wiki-id': '469'}\"\n        ],\n        \"semantic_type\": \"\",\n        \"description\": \"\"\n      }\n    },\n    {\n      \"column\": \"values\",\n      \"properties\": {\n        \"dtype\": \"string\",\n        \"num_unique_values\": 1000,\n        \"samples\": [\n          \"[0.012937644496560097, -0.029712505638599396, 0.028519857674837112, 0.00267211627215147, -0.03269412741065025, 0.012665409594774246, -0.004932639189064503, 0.0056521170772612095, 0.004815966822206974, -0.025978997349739075, 0.0019024041248485446, 0.002194084459915757, -0.033238597214221954, 0.010007877834141254, -0.016917461529374123, -0.009832869283854961, 0.029842142015695572, -0.008238350041210651, -0.012911717407405376, -0.049883823841810226, -0.026679031550884247, 0.008808746933937073, 0.015452577732503414, -0.010494011454284191, -0.023541845381259918, 0.023995570838451385, 0.03316081687808037, -0.011699623428285122, -0.006284091621637344, 0.0016723007429391146, 0.0002712222340051085, 0.007123482879251242, -0.00989768747240305, -0.009197654202580452, -0.00023435706680174917, 0.0066081807017326355, 0.00926895346492529, -0.027067936956882477, 0.00017784400552045554, -0.006196587346494198, 0.011200525797903538, 0.0015580592444166541, 0.003879348747432232, -0.008147604763507843, -0.006125287618488073, 0.003347842488437891, -0.027145719155669212, -0.023593701422214508, -0.022089926525950432, 0.018161963671445847, 0.04220939055085182, 0.020197244361042976, -0.02610863372683525, -0.01019584946334362, -0.010403266176581383, 0.024060389026999474, -0.029479162767529488, 0.013948802836239338, 0.018680507317185402, -0.011894077062606812, -0.017798984423279762, 0.017410077154636383, -0.017578603699803352, 0.024215951561927795, 0.0022281138226389885, 0.0005282655474729836, -0.0031971409916877747, 0.014998852275311947, -0.025434527546167374, 0.006637348793447018, 0.003775640157982707, 0.027171647176146507, 0.02227141708135605, 0.029556943103671074, 0.017824910581111908, -0.01156998798251152, 0.005522481631487608, 0.00019080756464973092, -0.02205103635787964, 0.006501231342554092, 6.871706136735156e-05, -0.024553004652261734, 0.015595177188515663, 0.003973334562033415, 0.009560634382069111, -0.0023674722760915756, 0.013443224132061005, 0.0181489996612072, -0.014428455382585526, 0.014065475203096867, 0.006883656606078148, 0.004067320842295885, -0.017137842252850533, -0.0034094194415956736, 0.010455120354890823, 0.023230720311403275, -0.007227191235870123, 0.030386611819267273, -0.0008572161896154284, -0.03256449103355408, -0.005866016261279583, 0.0261215977370739, -0.025110438466072083, -0.001263948273845017, -0.003953889477998018, -0.002062828280031681, 0.000969837186858058, -0.014402528293430805, -0.008957828395068645, -0.017163768410682678, -0.001951017533428967, 0.014713654294610023, 0.015297014266252518, -0.025875288993120193, 0.009768051095306873, -0.016528554260730743, 0.002074171556159854, -0.011848704889416695, 0.02880505658686161, 0.008931901305913925, 0.03061995655298233, 0.013533968478441238, -0.007019774056971073, 0.017176732420921326, 0.02149360254406929, 0.022517723962664604, 0.001962360693141818, 0.012263539247214794, -0.014065475203096867, -0.006015097256749868, -0.002315618097782135, 0.017085988074541092, -0.0020093536004424095, 0.005217837635427713, -0.023995570838451385, 0.013598786666989326, -0.03567574918270111, -0.00027507077902555466, 0.004138620104640722, -0.02551230974495411, 0.00973564200103283, 0.004015466198325157, -0.013235806487500668, -0.006877174600958824, 0.003464514622464776, 0.018226781859993935, 0.01737118698656559, -0.01068846508860588, 0.0014762267237529159, 0.01853790692985058, 0.02841614931821823, 0.015919266268610954, -0.009709714911878109, -0.02787167951464653, 0.008938382379710674, 0.0046377177350223064, -5.610795778920874e-05, 0.011673696339130402, -0.005590540356934071, 0.0029621762223541737, 0.04210568219423294, 0.009106908924877644, 0.011978340335190296, -0.01616557314991951, 0.00910042691975832, 0.014246965758502483, 0.011894077062606812, 0.010319002903997898, -0.026627175509929657, 0.00909394584596157, -0.017163768410682678, 0.010053250007331371, -0.018978668376803398, 0.010669020004570484, -0.00887356512248516, 0.013832131400704384, 0.006284091621637344, 0.008154086768627167, -0.039616674184799194, -0.006066951435059309, -0.022893667221069336, -0.04303905740380287, 0.035157207399606705, 0.03160518780350685, -0.004420578014105558, -0.00556461326777935, 0.018382344394922256, 0.0074540539644658566, -0.0034126602113246918, -0.014985889196395874, -0.014000657945871353, 0.00910042691975832, 0.0029135628137737513, -0.006274368613958359, -0.6492156982421875, -0.004738185554742813, -0.016230391338467598, -0.021091731265187263, 0.004809485282748938, -0.0073114545084536076, 0.007590171415358782, 0.0167618989944458, 0.014895143918693066, 0.016450772061944008, -0.017280440777540207, 0.025421563535928726, -0.011031999252736568, 0.015867412090301514, -0.026264196261763573, 0.004715499002486467, -0.0108634727075696, -0.03012734092772007, 0.022738104686141014, 0.013715459033846855, -0.0003356349770911038, 0.02958287112414837, -0.012976535595953465, -0.0030302349478006363, 0.010370857082307339, -0.005840089172124863, 0.0030448189936578274, -0.010079177096486092, -0.004718740005046129, 0.020106500014662743, -0.022439943626523018, -0.005376641172915697, 0.02463078685104847, 0.016800789162516594, 0.03728323057293892, 0.0038274945691227913, -0.016463736072182655, 0.046098459511995316, 0.016735970973968506, 0.03253856673836708, 0.01616557314991951, 0.003668690798804164, 0.023684445768594742, -0.0026170210912823677, -0.02588825300335884, -0.001152137410826981, 0.03749065101146698, -0.013417297042906284, -0.017293404787778854, -0.01978241093456745, 0.0015207889955490828, -0.017578603699803352, -0.027897605672478676, -0.0027417954988777637, 0.003448310075327754, -0.030308831483125687, 0.00926247239112854, -0.022439943626523018, 0.01857679896056652, 0.02870134823024273, 0.018784215673804283, 0.026367904618382454, 0.001952638034708798, -0.029712505638599396, -0.015154415741562843, 0.012652445584535599, 0.000984421232715249, -0.0005870067398063838, -0.013313587754964828, 0.014169183559715748, -0.007810552138835192, 0.03259041905403137, -0.01671004481613636, -0.019095340743660927, 0.011414424516260624, 0.016139646992087364, 0.02457893267273903, -0.014545127749443054, 0.0012534153647720814, 0.010902363806962967, 0.04817263409495354, -0.012295947410166264, -0.01306079886853695, -0.005580817814916372, 0.048846736550331116, 0.0021406097803264856, -0.014234001748263836, 0.0010954218450933695, 0.02050837129354477, -0.008095750585198402, 0.001609103288501501, 0.03023104928433895, 0.007680916227400303, -0.018654579296708107, -0.0008260225877165794, 0.018019365146756172, 0.007019774056971073, -0.01853790692985058, -0.010519938543438911, -0.005007179453969002, -0.01228298433125019, -0.022193634882569313, 0.005153019912540913, 0.017786020413041115, 0.02880505658686161, -0.015309978276491165, -0.008484657853841782, 0.023956680670380592, 0.015906302258372307, -0.04793928936123848, 0.004281219560652971, -0.006241959985345602, -0.00024711809237487614, 0.007784625049680471, 0.013728422112762928, -0.022880705073475838, 0.01201074942946434, -0.00788833387196064, 0.01659337244927883, -0.026030851528048515, 0.012367247603833675, 0.01947128400206566, -0.019536102190613747, -0.011012554168701172, 0.005496554542332888, 0.011829258874058723, -0.01852494478225708, -0.017461931332945824, -0.019821301102638245, 0.02198621816933155, 0.017448967322707176, 0.020262062549591064, 0.006689202971756458, 0.020300952717661858, 0.024656713008880615, 0.03759435936808586, 0.006112324073910713, -0.013125616125762463, 0.020054645836353302, -0.025603054091334343, -0.016891533508896828, -0.019873155280947685, 0.0019105063984170556, -0.01776009239256382, 0.0011213489342480898, -0.049391210079193115, -0.0222584530711174, -0.04073154181241989, -0.03666098043322563, -0.0167618989944458, -0.0020093536004424095, -0.0330052524805069, -0.023295538499951363, 0.018887924030423164, -0.022569578140974045, -0.004828930366784334, -0.020145390182733536, -0.004530768375843763, -0.002756379544734955, -0.001845688559114933, -0.006864211056381464, 0.010331966914236546, -0.03028290346264839, 0.0045275273732841015, 0.006831802427768707, 0.008303167298436165, 0.017902692779898643, 0.015063670463860035, -0.010967181995511055, -0.04003151133656502, 0.011044963262975216, -0.0013482114300131798, -0.008218904957175255, 0.01682671532034874, 0.013689531944692135, 0.009359698742628098, -0.02144174836575985, -0.003911757841706276, 0.014506236650049686, -0.010040285997092724, -0.007266081869602203, -0.012237612158060074, -0.0324348583817482, 0.007551280315965414, 0.021260257810354233, -0.01088291872292757, 0.029997704550623894, 0.025110438466072083, -0.024501150473952293, 0.014545127749443054, 0.009340253658592701, 0.0057623074389994144, -0.005853052716702223, 0.002657532226294279, -0.036038730293512344, 0.0006133390124887228, -0.012613555416464806, 0.02924581803381443, -0.004034911748021841, 0.02380111813545227, 0.023062193766236305, 0.032849691808223724, 0.02468264102935791, 0.005243764724582434, 0.006410486064851284, -0.001500533428043127, 0.0010111585725098848, -0.01000139582902193, 0.03259041905403137, 0.006728093605488539, 0.01264596451073885, -0.014208074659109116, -0.02771611697971821, -0.004747908096760511, -0.015815557911992073, 0.026264196261763573, -0.006206309888511896, 0.010837545618414879, 0.00034657298238016665, -0.00027932444936595857, 0.02797538787126541, -0.011382016353309155, -0.0037594358436763287, 0.006663275882601738, -0.020547261461615562, -0.011829258874058723, -0.005321545992046595, 0.0008847637800499797, -0.02237512543797493, -0.013456187210977077, -0.006562808062881231, -0.007745733950287104, -0.01769527606666088, 0.004595586098730564, -0.006595217157155275, 0.02551230974495411, 0.0010784071637317538, -0.006439654156565666, 0.03762028366327286, -0.007875369861721992, 0.018823105841875076, 0.0055581312626600266, 0.02269921451807022, -0.02066393382847309, 0.005739621352404356, -0.010656055994331837, 0.02797538787126541, 0.0012153348652645946, -0.016256319358944893, -0.04283164069056511, 0.013909912668168545, 0.004145102109760046, -0.0010362755274400115, -0.00018199639453087002, -0.00863373838365078, -0.005642394535243511, 0.03634985536336899, 0.01709895022213459, 0.02166212908923626, 0.0036200773902237415, 0.008977273479104042, 0.011868149973452091, -0.013663604855537415, 0.022854777052998543, 0.01996389962732792, 0.01083106454461813, 0.002957314718514681, -0.0014187009073793888, -0.018784215673804283, -0.019717592746019363, 0.0012234371388331056, 0.0009730781312100589, 0.001954258419573307, 0.02066393382847309, 0.005503036081790924, 0.015491467900574207, 0.0002801346709020436, 0.006549844518303871, 0.022465869784355164, 0.004427059553563595, -0.027197573333978653, -0.026510505005717278, 0.014804398640990257, 0.03650541976094246, 0.0018537907162681222, 0.0008726104279048741, -0.02419002540409565, 0.024202987551689148, -0.019717592746019363, -0.00013024338113609701, -0.008205940946936607, 0.0181360375136137, -0.009599524550139904, -0.011336643248796463, -0.016969315707683563, -0.032253365963697433, 0.021688055247068405, 0.002386917592957616, 0.013287660665810108, -0.0230881217867136, -0.0083809494972229, -0.0217269454151392, -0.0035034052561968565, -0.008452248759567738, 0.01989908330142498, -0.01179036870598793, -0.013125616125762463, 0.007272563874721527, -0.009418034926056862, -0.03611651062965393, -0.013767313212156296, -0.0008268328383564949, 0.006404004525393248, -0.009152282029390335, -2.9319953682716005e-05, 0.008802264928817749, -0.01956203021109104, 0.025758616626262665, 0.008925419300794601, 0.011096817441284657, 0.025914179161190987, -0.008050378412008286, 0.0037173042073845863, -0.0011910281609743834, 0.09380440413951874, 0.0062322369776666164, 0.009191172197461128, 0.005509518086910248, -0.020599115639925003, 0.010370857082307339, -0.008640220388770103, 0.005334510002285242, 0.02776797115802765, 0.012522810138761997, 0.0067021665163338184, -0.02588825300335884, 0.006070192437618971, -0.01923794113099575, 0.030982935801148415, -0.005386364180594683, -0.02275106869637966, -0.019860191270709038, 0.029012473300099373, -0.03282376378774643, 0.0086596654728055, -0.024721531197428703, -0.013268215581774712, 0.013909912668168545, 0.011044963262975216, -0.0006165798986330628, 0.023451101034879684, 0.010506974533200264, 0.02732720971107483, -0.00012973698903806508, 0.007071628235280514, 0.022634396329522133, -0.009638415649533272, -0.01129775308072567, -0.003464514622464776, -0.0002762861258815974, 0.013935839757323265, -0.009819905273616314, -0.01836938038468361, 0.0020109741017222404, -0.0038339763414114714, 0.01019584946334362, 0.01083106454461813, -0.018978668376803398, 0.00420343829318881, 0.00477059418335557, 0.014402528293430805, 0.021701019257307053, 0.004222883377224207, -0.005350714083760977, 0.025214146822690964, 0.00289249699562788, -0.0044951182790100574, -0.025382673367857933, 0.012950608506798744, 0.009392107836902142, 0.025421563535928726, 0.015271087177097797, 0.004187233746051788, -0.015685921534895897, -0.00623871898278594, -0.0006356201483868062, 0.011265343986451626, -0.009184690192341805, -0.0011926485458388925, -0.03150147944688797, -0.0036233183927834034, -0.0033932148944586515, -0.03445717319846153, 0.013054316863417625, 0.007713325321674347, -0.03046439401805401, -0.004579381551593542, 0.01840827241539955, 0.011356089264154434, 0.0012088530929759145, -0.004676608368754387, -0.015815557911992073, 0.007752215955406427, 0.032849691808223724, -0.013067279942333698, -0.000864508212544024, -0.03264227509498596, -0.028234658762812614, -0.002182741416618228, 0.009742124006152153, -0.009599524550139904, -0.005000697914510965, -0.005869257263839245, 0.019860191270709038, 0.016891533508896828, -0.0017922137631103396, -0.00860133022069931, -0.007791106589138508, -0.007551280315965414, 0.01572481170296669, 0.02616048790514469, -0.002777445362880826, 0.0037367495242506266, -0.029868070036172867, 0.004640958737581968, -0.005862775258719921, -0.0073892357759177685, -0.0005959192058071494, 0.03061995655298233, -0.020573187619447708, -0.001168341957964003, 0.009528225287795067, -0.0044011324644088745, -0.017526749521493912, 0.015971120446920395, -0.014324747025966644, -0.008692074567079544, 0.01245151087641716, -0.009819905273616314, 0.0030594030395150185, 0.007829997688531876, 0.031579259783029556, 0.014221038669347763, 0.00645909970626235, -0.019224977120757103, -0.008199458941817284, 0.011861667968332767, 0.0024922466836869717, -0.023619627580046654, 0.009392107836902142, -0.020028717815876007, -8.304788207169622e-05, -0.03305710852146149, -0.007959633134305477, -0.0019137472845613956, 0.008737447671592236, -0.0434279665350914, -0.018499016761779785, -0.009243026375770569, -0.022141780704259872, 0.0125033650547266, -0.003198761260136962, -0.0263808686286211, 0.0026154005900025368, -0.01776009239256382, 0.020482443273067474, 0.012652445584535599, 0.001840827171690762, -0.02934952639043331, -0.03168296813964844, 0.014259928837418556, 0.006073433440178633, 0.0058109210804104805, 0.014765508472919464, -0.0006445325561799109, 0.021169513463974, 0.009405070915818214, 0.02660124935209751, -0.020962094888091087, -0.01874532550573349, -0.008899492211639881, -0.014921071007847786, 0.03707581385970116, 0.03544240444898605, -0.004287701565772295, -0.008180013857781887, 0.019224977120757103, 0.011822777800261974, -0.005065515637397766, -0.01737118698656559, -0.013689531944692135, -0.02150656469166279, -0.03331637755036354, 0.025253036990761757, 0.027249427512288094, 0.0362979993224144, 0.008549475111067295, 0.02161027491092682, 0.015050706453621387, 0.03707581385970116, 0.004721981007605791, 0.017500821501016617, -0.005661840084940195, -0.01137553434818983, -0.019315721467137337, 0.018680507317185402, -0.009696751832962036, -0.008666147477924824, -0.010746801272034645, -0.012808009050786495, 0.0006222514202818274, -0.04765408858656883, 0.008938382379710674, -0.012568183243274689, 0.0046377177350223064, -0.0011691520921885967, 0.01022177655249834, 0.006614662706851959, 0.014208074659109116, 0.00021632960124406964, -0.0005205683992244303, -0.023658517748117447, -0.0038372173439711332, 0.006870693061500788, 0.007953151129186153, -0.014882180839776993, -0.0010581515962257981, -0.011939449235796928, 0.006374836433678865, -0.0010281732538715005, -0.0012995980214327574, -0.006527158431708813, -0.005263210274279118, -0.01956203021109104, -0.016178537160158157, -0.0362720750272274, -0.014959962107241154, -0.017604529857635498, -0.004491877742111683, 0.028571711853146553, 0.0062516825273633, 0.02181769162416458, -0.02699015662074089, -0.009003200568258762, -0.004692812915891409, -0.015504431910812855, 0.01611371897161007, -0.008367985486984253, 0.043116841465234756, 0.011855185963213444, 0.01033844891935587, 0.0024857649113982916, 0.01967870257794857, 0.023062193766236305, -0.0009649758576415479, 0.03533869609236717, -0.011310716159641743, 0.03541647642850876, -0.0060118562541902065, 0.0012104734778404236, 0.011116262525320053, 0.0057720304466784, -0.02924581803381443, 0.03095700964331627, 0.009560634382069111, -0.010869954712688923, -0.018226781859993935, 0.0011108160251751542, -0.015232197009027004, 0.003542295889928937, 0.003470996394753456, 0.012879308313131332, 0.005153019912540913, -0.010040285997092724, 0.00015394241199828684, 0.018447162583470345, -0.011868149973452091, 0.02787167951464653, 0.03624614700675011, 0.0013765692710876465, -0.0037432312965393066, -0.000659116602037102, -0.02435855194926262, -0.011362570337951183, -0.013021907769143581, 0.016917461529374123, -0.01886199600994587, -0.013378405943512917, 0.01974351890385151, 0.020093536004424095, 0.001431664451956749, -0.007998524233698845, 0.009657860733568668, 0.023464065045118332, -0.01203667651861906, -0.005490072537213564, -0.005895184352993965, 0.0472651831805706, -0.016450772061944008, -0.014519200660288334, 0.004086765926331282, -0.01770823821425438, -0.013780277222394943, -0.024928947910666466, 0.024177061393857002, 0.014376601204276085, -0.008815228939056396, -0.02166212908923626, 0.010578274726867676, -0.02610863372683525, 0.010746801272034645, 0.00221190950833261, 0.022738104686141014, 0.012270020321011543, -0.05952872335910797, 0.014467346481978893, -0.012717263773083687, 0.014156220480799675, -0.026964228600263596, 0.0026607729960232973, -0.00992361456155777, 0.05172464996576309, -0.015595177188515663, 0.02138989418745041, -0.01615261100232601, 0.020650969818234444, -0.03318674489855766, 0.004563177470117807, -0.0010152097092941403, -0.00552572263404727, 0.01818789169192314, -0.012069085612893105, -0.023075157776474953, -0.01660633459687233, 0.006792911794036627, 0.01886199600994587, -0.008257795125246048, 0.0002623097680043429, 0.008983755484223366, -0.03552018478512764, -0.008944864384829998, -0.008640220388770103, -0.00904209166765213, 0.026964228600263596, -0.0018910610815510154, 0.014065475203096867, 0.0019380539888516068, -0.06092878803610802, 0.01698227971792221, -0.015011816285550594, -0.022880705073475838, -0.02013242617249489, -0.03590909391641617, -0.018991632387042046, 0.00556461326777935, 0.004689571913331747, -0.020650969818234444, -0.017591567710042, -0.014441419392824173, -0.023023303598165512, -0.02605677954852581, 0.00046182723599486053, -0.005055793095380068, -0.0010905604576691985, 0.026510505005717278, 0.012808009050786495, 0.02539563737809658, -0.008886528201401234, -0.012192239053547382, -0.014454382471740246, -0.003213345305994153, 0.026730885729193687, 0.006303536705672741, 0.004741426557302475, 0.005457663908600807, 0.04047227278351784, 0.004462709650397301, -0.032357074320316315, -0.003568223211914301, 0.02039169892668724, -0.02880505658686161, 0.0041062114760279655, 0.019756482914090157, 0.01011806819587946, 0.019613884389400482, 0.02595307119190693, 0.0007336571579799056, 0.05042829364538193, 0.0023302019108086824, 0.012049639597535133, -0.006475304253399372, -0.013702495023608208, -0.023554809391498566, -0.01886199600994587, 0.01853790692985058, -0.0035131280310451984, -0.03430161252617836, -0.01274967286735773, 0.010656055994331837, -0.009612488560378551, -0.0009852314833551645, 0.04358352720737457, -0.020793568342924118, -0.007402199320495129, -0.018278636038303375, 0.02127322182059288, 0.008730965666472912, 0.014182147569954395, 0.030101412907242775, -0.039331477135419846, -0.01022177655249834, 0.018343454226851463, 0.0007316315895877779, -0.016347063705325127, 0.008322613313794136, 0.0018067978089675307, 0.005960002075880766, -0.007142927963286638, 0.0049034710973501205, -0.011732032522559166, 0.030931081622838974, -0.01913423277437687, 0.034612737596035004, 0.004294183105230331, -0.028182804584503174, -0.014182147569954395, 0.0026170210912823677, -0.007201264146715403, -0.001208042842335999, 0.00242580845952034, -0.016204465180635452, 0.013780277222394943, -0.013611750677227974, -0.03388677537441254, 0.014493273571133614, -0.03272005543112755, 0.0058854613453149796, -0.03150147944688797, -0.013209879398345947, -0.020819496363401413, -0.01747489534318447, -0.007006810512393713, 0.027793897315859795, -0.012989498674869537, -0.010811618529260159, -0.008724483661353588, -0.003103154944255948, -0.005528963170945644, 0.01242558378726244, -0.011498687788844109, 0.011576469987630844, -0.0026024370454251766, 0.008465212769806385, -0.007233673240989447, -0.0003799946862272918, -0.03227929398417473, 0.005298859905451536, 3.618153277784586e-05, -0.00860781129449606, -0.014130293391644955, 0.18221595883369446, -0.017837874591350555, 0.01655448041856289, 0.0021357485093176365, 0.0024825239088386297, 0.0028325405437499285, 0.029868070036172867, 0.018615689128637314, 0.0022718659602105618, 0.006916065700352192, -0.018382344394922256, 0.004271497018635273, -0.010889400728046894, 0.01835641823709011, 0.015854448080062866, -0.023386282846331596, -0.018550870940089226, -0.03523498773574829, -0.030308831483125687, 0.019108304753899574, 0.019095340743660927, -0.020482443273067474, -0.033238597214221954, -0.02737906388938427, 0.027897605672478676, 0.00840687658637762, -0.012043158523738384, 0.007039219606667757, -0.0016520451754331589, 0.012419101782143116, -0.004948843736201525, -0.008581884205341339, -0.007272563874721527, -0.001720914151519537, -0.00045534546370618045, 0.005989170167595148, 0.014778471551835537, -0.01041623018682003, -0.0009633554145693779, 0.012004267424345016, 0.01306079886853695, -0.005888702347874641, -0.002557064639404416, 0.007518871687352657, -0.016191501170396805, 0.01672300696372986, -0.008147604763507843, 0.001592898857779801, 0.013073761947453022, 0.014324747025966644, -0.04602067917585373, -0.002774204360321164, 0.039720382541418076, 0.010921808890998363, -5.458878877107054e-05, -0.01011806819587946, 0.0064979903399944305, 0.008147604763507843, 0.03002363257110119, -0.014441419392824173, -0.010895881801843643, 0.03253856673836708, -0.02571972645819187, 0.04405021667480469, -0.02605677954852581, 0.021234329789876938, -0.029271744191646576, -0.013508041389286518, 0.00045696590677835047, -0.007842960767447948, -0.021454710513353348, -0.00951526127755642, -0.005720176268368959, 0.00819297693669796, 0.005866016261279583, -0.026134559884667397, 0.005055793095380068, -0.021195439621806145, 0.020534297451376915, 0.029505088925361633, -0.013858058489859104, 0.0069679198786616325, -0.02089727856218815, -0.012633000500500202, -0.0037367495242506266, -0.03028290346264839, 0.001541854813694954, 0.018006401136517525, 0.011680178344249725, -0.007142927963286638, 0.01080513745546341, -0.026303086429834366, -0.009132836014032364, -0.018550870940089226, 0.0005323166842572391, 0.014208074659109116, 0.01940646767616272, 0.020923204720020294, 0.013832131400704384, -0.00463123619556427, -0.0061058420687913895, 0.002986482810229063, 0.03220151364803314, -0.0017063301056623459, -0.037853628396987915, -0.006413727067410946, 0.00044359720777720213, 0.024215951561927795, -0.0030464392621070147, -0.01055882964283228, -0.0008017158834263682, -0.03497571498155594, 0.004044634290039539, -0.023541845381259918, 0.019549066200852394, -0.0020223171450197697, -0.004277978558093309, -0.04127601161599159, 0.002664013998582959, 0.011019036173820496, -0.023723335936665535, -0.015439613722264767, 0.001503774314187467, -0.0003190253919456154, 0.011602397076785564, -0.009385625831782818, -0.04866524785757065, 0.016904497519135475, 0.0038663852028548717, -0.03266819939017296, 0.019717592746019363, -0.013106171041727066, 0.0031760751735419035, -0.01699524186551571, -0.0053085824474692345, 0.018343454226851463, 0.010377339087426662, -0.04262422397732735, -0.037464722990989685, 0.02137693017721176, -0.010448639281094074, -0.031916312873363495, -0.014687727205455303, 0.013378405943512917, -0.001732257311232388, -0.006792911794036627, 0.005055793095380068, 0.006177141796797514, -0.001323094591498375, -0.03173482418060303, -0.01991204544901848, 0.0053409915417432785, 0.005982688162475824, -0.04651329666376114, -0.0038112900219857693, -0.00909394584596157, -0.01796751096844673, -0.009936577640473843, 0.03017919510602951, -0.005528963170945644, -0.028934692963957787, -0.020988022908568382, 0.021208403632044792, -0.026238270103931427, -0.019497212022542953, -0.016178537160158157, -0.16199278831481934, 0.028986547142267227, 0.025577127933502197, 0.0035228505730628967, 0.008588366210460663, 0.011647769249975681, 0.011122744530439377, 0.005221078637987375, -0.026523467153310776, -0.009962504729628563, 0.02787167951464653, 0.004115934018045664, -0.018019365146756172, -0.02424187958240509, -0.015647031366825104, -0.002510071499273181, -0.008212422952055931, 0.015919266268610954, 0.03183853253722191, -0.006773466244339943, 0.032953400164842606, -0.019989827647805214, 0.02011946402490139, -0.009716196916997433, 0.015698885545134544, -6.633703014813364e-05, -0.021428784355521202, 0.008199458941817284, 0.015569250099360943, -0.01201074942946434, 0.02061207965016365, 0.008841156028211117, 0.038009192794561386, -0.008017969317734241, 0.004008984658867121, -0.0007393286796286702, 0.017410077154636383, -0.005240523722022772, -0.0029378694016486406, 0.006779948249459267, 0.023736299946904182, 0.015711849555373192, 0.00863373838365078, 0.01127182599157095, -0.021078767254948616, -0.0007583689293824136, -0.007603134959936142, -0.027353135868906975, 0.005130333360284567, -0.050946835428476334, -0.012133902870118618, 0.011900559067726135, -0.0061220466159284115, 0.0067345756106078625, 0.00794666912406683, 0.011913522146642208, -0.010357894003391266, 0.008348540402948856, -0.01660633459687233, -0.00204176246188581, -0.026043815538287163, -0.004741426557302475, -0.0056845261715352535, -0.019224977120757103, 0.004086765926331282, -0.00928839948028326, -0.02870134823024273, -0.008050378412008286, -0.01604890264570713, -0.0012274881592020392, -0.020650969818234444, -0.02242697961628437, 0.024967839941382408, -0.017669348046183586, -0.006695684976875782, 0.005726657807826996, 0.009489334188401699, -0.006267887074500322, -0.00011292486306047067, 0.014726617373526096, -0.011440352536737919, 0.029453234747052193, -0.013216361403465271, -0.007927224040031433, 0.006530399434268475, 0.0009641656652092934, -0.03386085107922554, 0.006851247511804104, -0.023451101034879684, 0.00923654530197382, 0.029219890013337135, -0.03287561982870102, 0.008089268580079079, -0.005788234993815422, 0.009443962015211582, 0.023541845381259918, 0.024267805740237236, -0.010079177096486092, -0.005383123178035021, -0.025654908269643784, 0.018758287653326988, -0.03061995655298233, 0.0038599034305661917, -0.01127182599157095, 0.013858058489859104, 0.015180342830717564, 0.007998524233698845, 0.012237612158060074, 0.050609782338142395, 0.019328685477375984, -0.01753971166908741, 0.00013348428183235228, 0.032460782676935196, 0.02408631704747677, 0.014726617373526096, 0.008990236558020115, 0.0008750411216169596, -0.02330850251019001, 0.018110109493136406, 0.01020233053714037, 0.013793240301311016, 0.009748606011271477, -0.002983242040500045, -0.004196956288069487, 0.0090744998306036, -0.027586480602622032, -0.09810831397771835, -0.005379882175475359, 0.021260257810354233, -0.008050378412008286, -0.03767213970422745, 0.008737447671592236, -0.0022799682337790728, -0.0004525096737779677, 0.012788563966751099, 0.012380210682749748, -0.02457893267273903, -0.010720874182879925, -0.003801567479968071, -0.001092991093173623, 0.022439943626523018, -0.009748606011271477, 0.007460535503923893, -0.0030415779910981655, 0.020249098539352417, 0.0030513007659465075, -0.0006242769886739552, -0.009521743282675743, -0.028156878426671028, 0.011116262525320053, 0.0024987284559756517, 0.006844765972346067, -0.032408930361270905, -0.0050298660062253475, 0.022906631231307983, 0.014052512124180794, -0.00017551460769027472, 0.007136446423828602, 0.002395019866526127, -0.010649573989212513, 0.006183623801916838, -0.017604529857635498, 0.0009576838347129524, 0.018174927681684494, 0.01643780991435051, -0.02771611697971821, 0.0013433501590043306, 0.00267211627215147, 0.02524007484316826, -0.025810470804572105, 0.014363637194037437, -0.014856252819299698, -0.03090515546500683, 0.021363966166973114, -0.01198482234030962, 0.002401501638814807, -0.00810871459543705, -0.009035609662532806, -0.01107737235724926, -0.020197244361042976, 0.04161306470632553, -0.009009682573378086, -0.011142189614474773, 0.0024744218681007624, -0.013871021568775177, 0.013248770497739315, -0.021636201068758965, 0.012633000500500202, -0.03995372727513313, -0.004174270201474428, 0.02864949405193329, -0.011252379976212978, -0.00945692602545023, -0.0026607729960232973, 0.02909025549888611, -0.0037367495242506266, -0.03072366490960121, -0.0010265528690069914, -0.013047834858298302, -0.001618826063349843, -0.013365442864596844, -0.012159829959273338, -0.01274967286735773, 0.01913423277437687, 0.007149409968405962, -0.0019040246261283755, -0.014765508472919464, -0.015984084457159042, 0.016191501170396805, -0.03023104928433895, 0.016632262617349625, 0.0412500835955143, 0.00553868617862463, 0.013067279942333698, 0.007927224040031433, -0.01638595387339592, 0.009333771653473377, 0.020197244361042976, 0.011213489808142185, -0.0031776954419910908, 0.022465869784355164, 0.02639383263885975, 0.012607073411345482, -0.003662209026515484, -0.011757959611713886, 0.03583131358027458, 0.006909583695232868, -0.019432393833994865, -0.04788743332028389, 0.016295209527015686, 0.022789958864450455, 0.0006287332507781684, 0.0025975757744163275, -0.012483919970691204, 0.006228996440768242, 0.0013530728174373507, 0.012107975780963898, 0.02253068797290325, -0.02522711083292961, 0.028130950406193733, 0.013443224132061005, -0.007648507133126259, -0.020417625084519386, -0.01088291872292757, 0.009547670371830463, 0.001599380630068481, 0.007810552138835192, 0.006021579261869192, -0.024423368275165558, -0.0014195111580193043, 0.02632901445031166, -0.006682721432298422, -0.01962684839963913, 0.0005979447741992772, -0.022556614130735397, 0.03170889616012573, -0.013883985579013824, -0.008303167298436165, -0.002629984635859728, -0.025641944259405136, 0.006676239427179098, 0.03100886382162571, -0.013793240301311016, 0.001610723789781332, 0.004579381551593542, 0.0011715828441083431, 0.0056521170772612095, 0.043739091604948044, -0.0335237979888916, -0.024553004652261734, 0.01693042553961277, -0.013469151221215725, 0.0021713983733206987, -0.003198761260136962, 0.0167618989944458, 0.0097550880163908, 0.026756811887025833, -0.021026913076639175, 0.04088710620999336, 0.023606663569808006, 0.012535774149000645, -0.019173122942447662, -0.016411881893873215, -0.017850838601589203, 0.01835641823709011, 0.017008205875754356, 0.0012234371388331056, -0.02771611697971821, 0.023593701422214508, 0.031138500198721886, 0.0025716484524309635, -0.007084591779857874, -0.0021049599163234234, -0.014622909016907215, -0.0033770103473216295, -0.0034872007090598345, 0.006721612066030502, -0.008517066948115826, -0.007479981053620577, -0.0022459388710558414, 0.010532901622354984, -0.010267148725688457, 0.0313459150493145, -0.010487529449164867, 0.005298859905451536, -0.015556286089122295, -0.019043486565351486, -0.00910042691975832, 0.018602725118398666, 0.012120939791202545, -0.021402856335043907, 0.012386692687869072, 0.014596981927752495, -0.0023982608690857887, 0.012166311964392662, 0.010494011454284191, 0.0023253406397998333, -0.0035163688007742167, -0.001208042842335999, 0.0028130949940532446, -0.009852314367890358, 0.0020903758704662323, -0.013015425764024258, 0.017384149134159088, 0.022439943626523018, -0.012289466336369514, -0.007369790691882372, 0.02693830244243145, 0.007726288866251707, 0.02412520721554756, -0.012600591406226158, -0.04244273528456688, -0.026536431163549423, -0.014817362651228905, -0.0055581312626600266, -0.03907220438122749, 0.0022378365974873304, 0.002057967009022832, 0.0070457011461257935, 0.022128816694021225, 0.009793978184461594, -0.010280112735927105, -0.017552675679326057, 0.0026818388141691685, -0.009398589842021465, -0.020793568342924118, -0.010694947093725204, 0.005891943350434303, -0.000631163886282593, 0.027197573333978653, 0.021778801456093788, -0.006689202971756458, 0.04187233746051788, 0.008918937295675278, 0.0019186086719855666, -0.02864949405193329, 0.004540490917861462, -0.01908237673342228, -0.013974729925394058, -0.023541845381259918, 0.001094611594453454, -0.01687856949865818, -0.027560554444789886, -0.0054673864506185055, 0.02605677954852581, 0.014467346481978893, 0.012445028871297836, 0.0340941920876503, 0.03985001891851425, -0.008737447671592236, 0.027949459850788116, -0.015543322078883648, 0.03987594693899155, 0.023062193766236305, 0.014739581383764744, 0.0022718659602105618, -0.020417625084519386, 0.04568362608551979, 0.003202002262696624, 0.01831752620637417, -0.022621432319283485, -0.021947326138615608, 0.0005238093435764313, -0.0057623074389994144, -0.012684854678809643, -0.04661700502038002, 0.011887595057487488, -0.008218904957175255, 0.0018084183102473617, 0.015478504821658134, 0.0038112900219857693, -0.040938958525657654, -0.009476371109485626, -0.015737775713205338, -0.02771611697971821, -0.005496554542332888, -0.027586480602622032, 0.021856581792235374, 0.007201264146715403, -0.013793240301311016, -0.030049558728933334, 0.027949459850788116, 0.028442077338695526, -0.005972965620458126, 0.006903102155774832, 0.04583919048309326, 0.03894256800413132, 0.0038274945691227913, 0.00029411102877929807, -0.01743600331246853, -0.04112045094370842, -0.015556286089122295, -0.015647031366825104, -0.010066213086247444, -0.026341978460550308, 0.01947128400206566]\",\n          \"[-0.017580363899469376, -0.006832368206232786, 0.0007949454011395574, -0.013591485098004341, 0.004325168672949076, 0.011853426694869995, -0.025797851383686066, -0.00798441469669342, -0.0023257355205714703, -0.015489364974200726, 0.026024265214800835, 0.03095209412276745, -0.026463773101568222, -0.0005177549901418388, -0.013604803942143917, 0.010255211964249611, 0.024585871025919914, -0.009096506051719189, 0.020537059754133224, 0.0008107610628940165, 0.010328463278710842, 0.004301861394196749, -0.00443504611030221, 0.012645875103771687, -0.004891203250735998, -0.003344597527757287, 0.02643713727593422, -0.023400528356432915, 0.011793493293225765, -0.03441489115357399, 0.028181854635477066, -0.016488250344991684, -0.019444946199655533, -0.010494943708181381, -0.02225514128804207, -0.01606205850839615, -0.008503834716975689, -0.0208567027002573, 0.02669018693268299, -0.021975453943014145, 0.009316260926425457, 0.021269574761390686, 0.00723858131095767, 0.006342914886772633, -0.04208632558584213, 0.015769053250551224, -0.004991091787815094, -0.010974408127367496, -0.003715849481523037, 0.05561787635087967, 0.016301792114973068, -0.010295167565345764, -0.018632521852850914, -0.017074260860681534, 0.02156258188188076, -0.010368418879806995, -0.018286241218447685, 0.029140783473849297, -0.019857820123434067, -0.025784533470869064, -0.01893884502351284, -0.0009439456043764949, -0.017593681812286377, 0.03398870304226875, 0.007112056016921997, -0.03489435836672783, -0.04030165076255798, 0.01619524322450161, 0.0028135241009294987, 0.017793457955121994, 0.03236385062336922, 0.02109643630683422, 0.03702531009912491, -0.012938881292939186, 0.006113171577453613, -0.011746878735721111, -0.044243913143873215, -0.013078724965453148, -0.02906087227165699, -0.02225514128804207, 0.006912278942763805, -0.02249487303197384, -0.01917857863008976, 0.00738508440554142, 0.002315746620297432, 0.011893382295966148, 0.0006526043871417642, -0.001530790119431913, 0.009928910061717033, -0.022787880152463913, 0.00916975736618042, 0.008836796507239342, 0.023027611896395683, 0.005440589506179094, -0.020883340388536453, 0.0027485964819788933, 0.010894497856497765, 0.005903406068682671, 0.00473138177767396, -0.045096296817064285, 0.022548148408532143, 0.013298478908836842, -0.009908932261168957, -0.009569311514496803, 0.00634624483063817, 0.016981031745672226, 0.003642597934231162, -0.0025488196406513453, -0.012472734786570072, 0.000984733458608389, -0.0500241257250309, 0.007345128804445267, 0.036865487694740295, -0.04754688963294029, 0.007398402784019709, -0.03516072779893875, -0.016967713832855225, 0.01161369401961565, 0.018858935683965683, -0.024505959823727608, 0.02324070781469345, 0.029700158163905144, 0.01740722358226776, -0.0009081522584892809, 0.02547820843756199, -0.007611498236656189, 0.020577015355229378, -0.01202656701207161, -0.03108527883887291, 0.0077180457301437855, -0.00045282754581421614, 0.005051024723798037, -0.021495988592505455, -0.0028867756482213736, 0.005713617894798517, 0.0070055085234344006, -0.020057596266269684, 0.019245170056819916, -0.027915485203266144, -0.005157572217285633, 0.04195313900709152, 0.037797778844833374, -0.018605884164571762, -0.007704727351665497, 0.015089811757206917, 0.029460426419973373, 0.02027069218456745, -0.004281884059309959, 0.01619524322450161, -0.010601491667330265, 0.028155216947197914, 0.03404197469353676, 0.0014533766079694033, 0.00803768914192915, 0.010574854910373688, -0.005014399066567421, -0.02060365304350853, 0.0028318369295448065, 0.016488250344991684, -0.00598664628341794, 0.021176345646381378, -0.014224112033843994, -0.002542160451412201, 0.012466075830161572, 0.014676939696073532, 0.009968864731490612, -0.0024322832468897104, 0.01928512565791607, -0.013931105844676495, 0.012612578459084034, 0.020643608644604683, -0.007731364108622074, -0.004857907071709633, 0.006166445557028055, 0.025424934923648834, 0.03609301894903183, 0.013018791563808918, 0.001844606245867908, -0.035054177045822144, -0.005167561117559671, -0.00025492359418421984, 0.007924482226371765, 0.046028587967157364, 0.02249487303197384, 0.007125374395400286, 0.012312913313508034, 0.028794504702091217, 0.011713583022356033, -0.012486053630709648, -0.008989958092570305, -0.003812408307567239, 0.00023203248565550894, 0.00900327693670988, -0.003341267816722393, -0.6269264221191406, -0.015449410304427147, 0.009369534440338612, -0.02738274820148945, 0.007651453372091055, 0.021602537482976913, 0.009083187207579613, 0.000972247333265841, -0.030712362378835678, 0.006183093413710594, -0.021495988592505455, 0.031111914664506912, -0.007345128804445267, -0.005883428268134594, -0.015476047061383724, -0.010221915319561958, -0.012006589211523533, -0.031111914664506912, 0.022108638659119606, 0.00025638029910624027, -0.0034794467501342297, -0.0006388697074726224, 0.00023931602481752634, 0.022601421922445297, -0.005184209439903498, -0.01203988492488861, 0.007438358385115862, 0.005873439367860556, -0.004238598980009556, 0.0214293971657753, -0.019924411550164223, 0.0208567027002573, 0.01977790892124176, 0.019831182435154915, 0.032576944679021835, 0.015622549690306187, -0.01262589730322361, 0.046508051455020905, 0.011567079462110996, 0.044616829603910446, -0.004791314713656902, 0.018779024481773376, 0.023613624274730682, 0.019351717084646225, 0.001459203427657485, -0.012852311134338379, 0.010201937519013882, -0.01203988492488861, -0.002510529011487961, -0.010861201211810112, 0.016381701454520226, 0.011493828147649765, 0.00804434809833765, 0.0005152578232809901, 0.013484938070178032, 0.00916975736618042, 0.01895216479897499, -0.020936613902449608, 0.016514886170625687, -0.0032563626300543547, -0.022827835753560066, 0.02884777821600437, -0.017673593014478683, 0.01797991618514061, -0.0012918902793899179, 0.007997733540832996, -0.006965552922338247, -0.001769689959473908, 0.00768474955111742, 0.0017597010591998696, -0.0026803393848240376, 0.026889964938163757, 0.0046814377419650555, -0.02523847669363022, 0.027569206431508064, 0.016008784994482994, 0.023733491078019142, -0.0016648070886731148, -0.004468342289328575, 0.019817864522337914, 0.011287392117083073, -0.023999858647584915, -0.02166912890970707, 0.019591450691223145, 0.021762358024716377, -0.005270779132843018, 0.0070920782163739204, 0.004548253025859594, 0.014250748790800571, 0.00899661798030138, 0.019871138036251068, 0.0031081947963684797, 0.020044278353452682, -0.0039023079443722963, -0.018166374415159225, 0.006965552922338247, -0.018779024481773376, -0.03500090539455414, 0.004624834284186363, -0.0034361619036644697, -0.011593717150390148, -0.008450561203062534, -0.0035760055761784315, 0.002620406448841095, 0.004088766407221556, 0.010395055636763573, -0.006119830999523401, 0.0006834033410996199, 0.05945359170436859, -0.028634682297706604, 0.001059649745002389, 0.0016914440784603357, 0.00160737126134336, -0.004817951936274767, 0.009935569018125534, -0.02094993181526661, 0.030046438798308372, 0.012579282745718956, 0.00679241307079792, 0.01598214916884899, -0.0068656643852591515, -0.013138657435774803, 0.0005144253955222666, -0.0523681715130806, 0.004381772130727768, 0.001022191601805389, -0.011520464904606342, -0.025198521092534065, 0.028794504702091217, 0.016648070886731148, 0.001916192937642336, 0.0013243540888652205, -0.0017397233750671148, 0.007991074584424496, 0.01434397790580988, 0.021136391907930374, -0.011147548444569111, 0.008197510614991188, 0.015489364974200726, 0.0006655066390521824, -0.01239282451570034, -0.002189221326261759, 0.006436144467443228, 0.012838992290198803, -0.012719126418232918, -0.01054821815341711, -0.008783522062003613, -0.01622188091278076, -0.009482741355895996, 0.018259603530168533, 0.005061013624072075, 0.004331828095018864, -0.0160753782838583, 0.0027719037607312202, 0.004068788606673479, 0.009143120609223843, -0.034734535962343216, 0.008310717530548573, -0.008623700588941574, -0.0010321803856641054, -0.01584896445274353, 0.015316225588321686, -0.026770098134875298, -0.021602537482976913, 0.005660344380885363, 0.008890070021152496, -0.0008998282719403505, 0.02189554274082184, 0.004378442652523518, -0.03564019128680229, -0.015036538243293762, 0.004991091787815094, -0.0190453939139843, 0.013484938070178032, 0.012386164627969265, 0.00494780670851469, -0.02740938402712345, -0.00989561341702938, 0.02238832600414753, 0.008457220159471035, 0.016714664176106453, -0.022561466321349144, -0.026956556364893913, -0.0244127307087183, -0.0036758941132575274, -0.0032497034408152103, -0.0005984981544315815, 0.0023174115922302008, 0.00369254220277071, 0.010967749170958996, 0.005014399066567421, 0.009689177386462688, 0.004108743742108345, 0.003248038701713085, 0.007558224257081747, 0.01583564467728138, -0.01351823378354311, 0.005720277316868305, -0.0006888139178045094, 0.02607753872871399, 0.04736043140292168, 0.0049178400076925755, 0.03731831535696983, -0.012885606847703457, 0.0018629191908985376, -0.010295167565345764, -0.0022042046766728163, -0.023626942187547684, -0.0033562511671334505, 0.028155216947197914, 0.014024334959685802, -0.02071020007133484, -0.024798966944217682, -0.023640260100364685, 0.004112073685973883, 0.008543790318071842, 0.0016115333419293165, -0.0011262419866397977, -0.006486088503152132, 0.016967713832855225, 0.012186388485133648, 0.008363991044461727, 0.009975524619221687, -0.0036992013920098543, -0.01809978298842907, 0.03095209412276745, 0.01494330819696188, 0.022082000970840454, 0.0037225086707621813, -0.03795760124921799, -0.02094993181526661, -0.007744682487100363, -0.004105414263904095, 0.003665905212983489, 0.024226272478699684, 0.0010887838434427977, -0.01654152385890484, -0.004072118084877729, 0.015782371163368225, 0.016714664176106453, 0.013058747164905071, -0.00753158750012517, 0.013078724965453148, 0.003762464039027691, -0.004102084785699844, -0.019697997719049454, 0.021642493084073067, 0.026623595505952835, -0.02571794018149376, 0.012086499482393265, -0.009702496230602264, -0.010641447268426418, -0.03907635435461998, -0.004345146473497152, -0.007198626175522804, -0.029593611136078835, 0.028554771095514297, 0.006752457469701767, 0.0029616919346153736, 0.025185201317071915, 0.028554771095514297, -0.028901051729917526, -0.0016897792229428887, -0.011353984475135803, 0.019365036860108376, 0.015183040872216225, 0.008670315146446228, -0.016155287623405457, 0.019498221576213837, -0.02716965228319168, -0.011054319329559803, -0.024266228079795837, -0.0036292795557528734, -0.005843473132699728, 0.0053173936903476715, -0.007971096783876419, 0.004614845383912325, 0.014503799378871918, -0.002445601625367999, 0.02868795581161976, -0.007405062206089497, -0.016355065628886223, 0.0055438075214624405, 0.05945359170436859, -0.0015099800657480955, -0.006805731449276209, -0.0065926359966397285, -0.0019278466934338212, -0.03801087662577629, -0.013731328770518303, -0.009356215596199036, 0.016501568257808685, -0.0023057579528540373, -0.024133043363690376, -0.009369534440338612, -0.022841153666377068, 0.023267343640327454, 0.017686910927295685, 0.019391672685742378, -0.0007874537841416895, 0.0036858830135315657, 0.008483856916427612, -0.004724722355604172, -0.018139738589525223, 0.0017164160963147879, 0.0279687587171793, 0.0008665320929139853, -0.017420541495084763, 0.007318492047488689, -0.015262951143085957, -0.01979122683405876, -0.009123142808675766, -0.03073899820446968, 0.03164465352892876, 0.017700228840112686, 0.016355065628886223, -0.03611965477466583, 0.003928944934159517, 0.015782371163368225, -0.024332821369171143, -0.01168028637766838, 0.004531605169177055, -0.0008532136562280357, -0.003016630420461297, 0.09424140304327011, 0.007764660287648439, 0.01048828475177288, 0.018619202077388763, 0.004278554115444422, 0.00021039000421296805, -0.009436126798391342, 0.008144236169755459, -5.9933056036243215e-05, 0.004018844570964575, -0.020563697442412376, -0.008084303699433804, -0.007418380584567785, -0.006539362482726574, 0.025305068120360374, -0.011726900935173035, 0.001921187387779355, 0.00015389060718007386, -0.002270796801894903, 0.001530790119431913, -0.012779059819877148, -0.03249703347682953, -0.005194198340177536, 0.025531481951475143, 0.00295003829523921, -0.004365124274045229, 0.03992873430252075, 0.005673662759363651, 0.043524716049432755, -0.017433859407901764, -0.003832385875284672, 0.026596957817673683, -0.0011295715812593699, -0.017300674691796303, -0.011633671820163727, 0.001259426586329937, 0.03097872994840145, 0.03380224481225014, 0.00791116338223219, -0.01316529419273138, 0.0048479181714355946, 0.008363991044461727, -0.024466006085276604, -0.019151940941810608, 0.0013260188279673457, 0.0028767867479473352, -0.034361619502305984, 0.005800188053399324, -0.011234118603169918, 0.0038989782333374023, 0.006998849101364613, -0.003795760218054056, 0.010341782122850418, -0.013211909681558609, -0.007611498236656189, 0.03025953471660614, 0.020217416808009148, 0.014277385547757149, -0.002891769865527749, -0.022588102146983147, -0.005816835910081863, -0.007318492047488689, 0.011540442705154419, -0.007112056016921997, 0.002691993024200201, 0.008916706778109074, -0.022787880152463913, 0.010867861099541187, -0.01173356082290411, -0.006985530722886324, -0.021602537482976913, -0.035320546478033066, 0.013431663624942303, 0.009056550450623035, 0.02727619931101799, 0.0006384535226970911, 0.010375077836215496, -0.009642562828958035, 0.010907815769314766, 0.002214193344116211, 0.01012202724814415, -0.02844822406768799, -0.011706924065947533, -0.03047262877225876, 0.012998813763260841, 0.009908932261168957, 0.02978006936609745, 0.008743567392230034, -0.03241712227463722, 0.025278430432081223, -0.009069869294762611, -0.014330659992992878, 0.004834599792957306, 0.013731328770518303, 0.003795760218054056, 0.0055205002427101135, 0.005407293327152729, -0.020683564245700836, -0.0021059811115264893, 0.012406142428517342, 0.0026054230984300375, 0.005637037102133036, -0.016634752973914146, -0.017540408298373222, -0.0032014241442084312, 0.011287392117083073, 0.0027286189142614603, -0.0028734570369124413, -0.025185201317071915, -0.013704692013561726, 0.012739104218780994, -0.0279687587171793, 0.012672511860728264, 0.024572553113102913, -0.019271807745099068, 0.02582448720932007, 0.028022034093737602, -0.006885642185807228, 0.010435011237859726, -0.042592424899339676, -0.021056480705738068, 0.007777978666126728, -0.0006272160680964589, 0.003274675691500306, -0.022681331261992455, 0.011600376106798649, -0.0511961467564106, -0.010135346092283726, -0.008963321335613728, 0.006945575121790171, -0.023986540734767914, 0.021016525104641914, -0.002495545893907547, 0.021975453943014145, -0.022654695436358452, 0.020577015355229378, 0.019711315631866455, 0.022694651037454605, -0.006529373582452536, -0.013504914939403534, 0.0009014930692501366, 0.019005438312888145, 0.008190850727260113, -0.015209677629172802, -0.012852311134338379, -0.025704622268676758, -0.024359457194805145, -0.0024272887967526913, -0.009609266184270382, -0.005906735546886921, -0.017939960584044456, -0.009988842532038689, -0.01441057026386261, 0.004405079409480095, -0.009083187207579613, -0.003962241113185883, -0.028048669919371605, -0.020337283611297607, 0.015782371163368225, 0.040088556706905365, 0.011120911687612534, -0.024985425174236298, 0.03857025131583214, 0.0012036554981023073, 0.005720277316868305, 0.0021875565871596336, 0.005267449654638767, -0.011893382295966148, -0.0232273880392313, -0.00336457509547472, 0.02061697095632553, 0.011580398306250572, -0.014716895297169685, -0.0074516767635941505, -0.0034794467501342297, 0.03705194592475891, 0.017833413556218147, -0.008950003422796726, -0.0018479358404874802, -0.04690760374069214, 0.0013809575466439128, -0.0007216939120553434, -0.02703646756708622, 0.022095320746302605, -0.0065926359966397285, -0.017327312380075455, 0.04613513499498367, 0.019258487969636917, 0.01892552711069584, -0.005786869674921036, 0.0040488108061254025, -0.016967713832855225, 0.05732263997197151, 0.02667686901986599, 0.0009589288965798914, -0.014730213209986687, -0.014463843777775764, -0.023613624274730682, -0.013358412310481071, 0.021655810996890068, 0.014357296749949455, 0.015089811757206917, -0.01812642067670822, 0.01991109363734722, -0.023040929809212685, 0.01131402887403965, -0.028288401663303375, 9.473793033976108e-05, -0.014850079081952572, -0.036758940666913986, -0.007957777939736843, 0.0057768807746469975, -0.015622549690306187, -0.04514956846833229, 0.02384003810584545, -0.018179694190621376, -0.025331705808639526, 0.017673593014478683, 0.013678055256605148, -0.020390557125210762, -0.008783522062003613, -0.027915485203266144, 0.014184156432747841, 0.008989958092570305, 0.044350460171699524, 0.0488254614174366, 0.0022008749656379223, -0.02978006936609745, 0.0006567664095200598, 0.010341782122850418, 0.024119725450873375, 0.0428587943315506, 0.003394541796296835, -0.004398420453071594, -0.01702098734676838, -0.0027585853822529316, 0.003965570591390133, 0.0022341711446642876, -0.006149797700345516, 0.026357226073741913, 0.006086534820497036, 0.00449830899015069, 0.007957777939736843, -0.009602607227861881, -0.03108527883887291, -0.0030998708680272102, -0.01144055463373661, 0.015049856156110764, -0.021109754219651222, -0.008623700588941574, -0.007771319709718227, -0.002945043845102191, -0.024372776970267296, 0.02799539640545845, 0.00619641225785017, -0.01292556244879961, 0.0011021023383364081, -0.0019378354772925377, -0.006233037915080786, -0.021349485963582993, -0.005703628994524479, -0.0012294600019231439, 0.006036590784788132, 0.008230806328356266, -0.0008773533627390862, 0.023040929809212685, -0.001797991688363254, -0.014397252351045609, -0.019005438312888145, 0.02786221168935299, 0.00598331680521369, 0.0026087528094649315, -0.004641482140868902, 0.014077608473598957, 0.008969980292022228, -0.005637037102133036, -0.0039855483919382095, 0.0008665320929139853, -0.0063562337309122086, -0.008983299136161804, 0.0036992013920098543, 0.0020993216894567013, 0.014650302939116955, -0.0244127307087183, -0.020310645923018456, -0.046401504427194595, -0.018406108021736145, -0.017180809751152992, 0.0381440594792366, 0.004168677143752575, -0.014597028493881226, 0.029273968189954758, -0.026730142533779144, -0.0015690807485952973, -0.005670332815498114, 0.02740938402712345, -0.0074516767635941505, 0.0029533677734434605, -0.0279687587171793, -0.0026420489884912968, -0.007897844538092613, 0.030445992946624756, -0.024212954565882683, -0.015809008851647377, -0.013105361722409725, -0.007811274845153093, 0.02884777821600437, -0.014810124412178993, -0.011560420505702496, -0.0059433612041175365, 0.015329543501138687, -0.009176417253911495, 0.017833413556218147, 0.001966137206181884, 0.021163027733564377, -0.0059733279049396515, -0.010574854910373688, -0.015356181189417839, -0.03132501244544983, 0.04107411950826645, -0.018286241218447685, -0.0008981634164229035, -0.0030532563105225563, 0.0018362822011113167, 0.02491883374750614, -0.00982902105897665, 0.022947700694203377, 0.0027036466635763645, -0.001081292168237269, 0.0007117050117813051, -0.007231921888887882, 0.02930060587823391, -0.022694651037454605, -0.011880063451826572, -0.042592424899339676, 0.002197545487433672, -0.0053473603911697865, 0.033429328352212906, -0.013171954080462456, -0.0020044278353452682, 0.03196429833769798, 0.04967784509062767, 0.02442605048418045, -0.00269698747433722, 0.010468306951224804, -0.012046543881297112, 0.007877867668867111, -0.0031797816045582294, -0.010102049447596073, -0.001521633705124259, -0.005220835097134113, 0.039369359612464905, 0.01190670020878315, 0.006163116078823805, 0.009835680015385151, -0.02465246431529522, -0.010315144434571266, -0.018672477453947067, 0.010108708404004574, 0.009143120609223843, 0.03880998492240906, 0.01881898008286953, 0.005137594882398844, 0.003121513407677412, -0.012612578459084034, 0.00887675117701292, -0.031111914664506912, 0.004345146473497152, 0.004841259215027094, -0.026130812242627144, 0.010408374480903149, -0.027462657541036606, -0.023640260100364685, -0.009682518430054188, 0.008250784128904343, -0.02238832600414753, -0.006409507244825363, 0.003043267410248518, -0.006749127991497517, -0.005160902161151171, 0.007318492047488689, -0.015462728217244148, 0.01583564467728138, -0.014490481466054916, 0.03846370428800583, -0.018419425934553146, 0.012406142428517342, -0.0070055085234344006, -0.017806777730584145, -0.04594867676496506, -0.006635921075940132, -0.001045498880557716, -0.0034261730033904314, 0.013045428320765495, 0.00035606062738224864, -0.005463896784931421, -0.01120748184621334, -0.03761132061481476, 0.005953350104391575, -0.002816853579133749, -0.0021043161395937204, 0.0011778509942814708, -0.008017711341381073, -0.01477016881108284, -0.00553714856505394, -0.010807927697896957, 0.0010313480161130428, 0.0005169226205907762, -0.01512976735830307, -0.014397252351045609, 0.03468126058578491, -0.03191102296113968, 0.0006534368149004877, -0.013418345712125301, -0.026130812242627144, -0.011580398306250572, -0.03587992116808891, -0.033509235829114914, -0.006595965940505266, 0.012486053630709648, -0.03731831535696983, -0.003912296611815691, -0.009489400312304497, -0.022481555119156837, -0.00953601486980915, -0.023773444816470146, -0.038756709545850754, -0.003268016269430518, -0.002467244165018201, -0.009056550450623035, -0.018725750967860222, -0.014530436135828495, -0.003116518957540393, 0.00906321033835411, 0.023746808990836143, 0.01584896445274353, 0.207235187292099, -0.020097551867365837, 0.02274792455136776, 0.009156439453363419, -0.015769053250551224, 0.024625826627016068, 0.02525179460644722, -0.0027535909321159124, 0.003809078596532345, -0.010967749170958996, -0.04118067026138306, 0.001050493330694735, -0.028208492323756218, 0.018619202077388763, 0.014543754979968071, -0.03894316777586937, -0.028741229325532913, -0.037797778844833374, -0.024133043363690376, 0.003492765361443162, -0.009123142808675766, 0.021749040111899376, -0.002513858722522855, 0.015502683818340302, 0.01703430712223053, 0.013145317323505878, 0.0009073198889382184, 0.006482759024947882, 0.017433859407901764, -0.009775747545063496, -0.03918290138244629, -0.012745763175189495, -0.01225963979959488, -0.0046581304632127285, -0.01381123997271061, -0.0057535734958946705, -0.0009963870979845524, -0.0037524751387536526, 0.02631727047264576, 0.0033346086274832487, -0.01622188091278076, -0.0026853338349610567, 0.011686946265399456, -0.020044278353452682, 0.004807963036000729, 0.02844822406768799, -0.008557108230888844, -0.01291890349239111, -0.015023219399154186, 0.02382672019302845, -0.045069657266139984, 0.0008403114043176174, 0.005314064212143421, -0.006679206155240536, 0.026730142533779144, -0.022228505462408066, 0.031511470675468445, 0.01042169239372015, -0.02015082538127899, 0.0038357155863195658, 0.015183040872216225, 0.00649607740342617, -0.021882224828004837, -0.0020993216894567013, -0.009136461652815342, 0.011427235789597034, -0.031378284096717834, 0.028368312865495682, 0.029087509959936142, -0.02943379059433937, -0.02036392129957676, -0.004415068309754133, -0.025171883404254913, -0.006695854011923075, -0.0072652180679142475, -0.009848998859524727, 0.0035460391081869602, 0.02156258188188076, -0.017473815008997917, 0.007258559111505747, -0.01512976735830307, 0.004844588693231344, -0.002670350717380643, -0.012066521681845188, -0.004278554115444422, 0.008244125172495842, 0.00887675117701292, 0.006526044104248285, -0.027236243709921837, 0.02071020007133484, -0.0036259498447179794, -0.0333760529756546, -0.01929844357073307, 0.0048712254501879215, -0.005230823997408152, 0.009269646368920803, 0.02561139315366745, 0.00031818627030588686, -0.016022102907299995, -0.011493828147649765, 0.009948886930942535, 0.026290634647011757, 0.016608115285634995, 0.004728052299469709, -0.022121956571936607, -0.011400599032640457, 0.004068788606673479, 0.015209677629172802, 0.013618121854960918, -0.00982902105897665, -0.019844500347971916, 0.005580433644354343, -0.0032829996198415756, 0.0012036554981023073, -0.02073683775961399, 0.016035422682762146, -0.006166445557028055, -0.0044550239108502865, 0.005460567306727171, 0.0006825709133408964, 0.015169722028076649, -0.020230736583471298, 0.010927793569862843, 0.01619524322450161, -0.01227295771241188, -0.022654695436358452, -0.03177783638238907, 0.017926642671227455, 0.0012652534060180187, -0.052101802080869675, -0.0020060925744473934, 0.006209730636328459, 0.030712362378835678, -0.004837929271161556, -0.015542639419436455, 0.011560420505702496, 0.0037558048497885466, -0.006569328717887402, 0.0024788978043943644, -0.006299630273133516, 0.0023790092673152685, -0.019671360030770302, 0.006149797700345516, 0.0042219506576657295, 0.04749361798167229, -0.0034960948396474123, 0.0013068736298009753, -0.0076714311726391315, -0.022335052490234375, -0.005197527818381786, 0.002092662500217557, -0.01035510003566742, 0.006765776313841343, -0.0005860120872966945, 0.01941831037402153, 0.0011445549316704273, -0.02655700221657753, -0.016395021229982376, -0.013032110407948494, 0.0321241170167923, -0.018312878906726837, 0.007764660287648439, 0.01643497496843338, -0.011560420505702496, -0.021003207191824913, 0.01477016881108284, -0.16845184564590454, 0.0005589589709416032, 0.02094993181526661, -0.002019410952925682, 0.002871792297810316, 0.020030958577990532, 0.024026496335864067, -0.005560455843806267, 0.010648106224834919, -0.005274109076708555, 0.029247330501675606, 0.0042519173584878445, -0.04144703969359398, -0.018272923305630684, 0.001307705999352038, 0.022201867774128914, -0.01784673146903515, 0.051409244537353516, 0.002074349671602249, 0.002618741476908326, 0.0028568089473992586, -0.008550449274480343, -0.0038989782333374023, -0.009009935893118382, -0.005750243552029133, -0.011067637242376804, 0.007997733540832996, -0.005270779132843018, -0.002936719683930278, -0.00827076192945242, -0.0226280577480793, -0.014983263798058033, 0.03324287012219429, 0.01298549585044384, -0.019498221576213837, 0.000761649280320853, -0.007558224257081747, 0.016102014109492302, -0.019737953320145607, 0.023307299241423607, 0.037451501935720444, 0.019591450691223145, 0.004052140284329653, 0.015675824135541916, -0.018539292737841606, 0.00982902105897665, -0.009129801765084267, -0.0024023165460675955, 0.006852346006780863, -0.019564813002943993, -0.007944459095597267, -0.01680789329111576, 0.0009780741529539227, -0.02154926396906376, 0.011766856536269188, 0.00821082852780819, 0.009689177386462688, 0.0019145281985402107, 0.028288401663303375, -0.022814515978097916, 0.005380656570196152, -0.014903353527188301, 0.03294986113905907, -0.020630288869142532, 0.01702098734676838, -0.013784603215754032, -0.020510423928499222, 0.02298765629529953, -0.029513699933886528, 0.02238832600414753, 0.000668003864120692, -0.042112961411476135, 0.01078794989734888, -0.022361688315868378, 0.007012167479842901, -0.015276269987225533, -0.023373892530798912, -0.017247401177883148, 0.008090962655842304, 0.02634390816092491, -0.01883229799568653, 0.05146251618862152, -0.004458353389054537, 0.008623700588941574, -0.02586444281041622, 0.008031029254198074, -0.008836796507239342, 0.01012868620455265, -0.0416601337492466, -0.006219719536602497, 0.02286779135465622, -0.03156474232673645, -0.0017030977178364992, -0.006649239454418421, 0.006699183955788612, 0.023760126903653145, -0.025411615148186684, -0.002570462180301547, 0.005820165853947401, -0.028554771095514297, -0.012053203769028187, 0.0005352355074137449, -0.010288507677614689, -0.0004973611212335527, -0.0007570710149593651, -0.012219684198498726, -0.0036059722770005465, 0.009575970470905304, 0.020297328010201454, -0.003394541796296835, -0.012838992290198803, 0.016594797372817993, -0.005367338191717863, 0.011220799759030342, -0.022707968950271606, 0.02812858112156391, 0.003908967133611441, -0.0018362822011113167, 0.016141969710588455, -0.018432743847370148, 0.051755525171756744, -0.0074982913210988045, 0.022201867774128914, 0.009489400312304497, -0.0061531271785497665, -0.020656926557421684, -0.07692740857601166, -0.009256327524781227, 0.03001980111002922, 0.02027069218456745, -0.009809043258428574, 0.03790432959794998, 0.009189735166728497, 0.04147367551922798, -0.009629243984818459, 0.010668084025382996, -0.0012311248574405909, -0.024146363139152527, 0.017367267981171608, -0.00628631142899394, 0.03404197469353676, 0.0036792238242924213, -0.0036326090339571238, -0.021229621022939682, 0.012426120229065418, 0.005773551296442747, -0.011573739349842072, -0.01622188091278076, -0.02526511251926422, -0.0035027542617172003, -0.025771213695406914, -0.0051209465600550175, -0.017180809751152992, 0.015116448514163494, 0.006852346006780863, 0.009023254737257957, -0.007058782037347555, -0.012352868914604187, 0.00958928931504488, -0.013365071266889572, -0.029593611136078835, 0.023906629532575607, -0.04264570027589798, -0.005916724447160959, -0.01507649291306734, -0.0015516001731157303, -0.0025538140907883644, -0.0006218054331839085, 0.01656815968453884, -0.01883229799568653, 0.011147548444569111, -0.0392894484102726, 0.013544870540499687, 0.0036026425659656525, 0.007205285131931305, -0.010028798133134842, -0.008883411064743996, -0.026596957817673683, -0.01291890349239111, -0.01131402887403965, -0.025052016600966454, 0.00702548585832119, -0.016767937690019608, 0.015476047061383724, -0.014863397926092148, -0.003952252212911844, -0.012079840525984764, 0.0033329438883811235, -0.006759116891771555, 0.0178600512444973, 0.02454591542482376, 0.01895216479897499, -0.01976458914577961, -0.024572553113102913, 0.025784533470869064, 0.007078759837895632, -0.024133043363690376, 0.023027611896395683, -0.009835680015385151, 0.02884777821600437, -0.03827724605798721, -0.009282964281737804, -9.681894152890891e-05, -0.012585941702127457, 0.019458265975117683, -0.01835283450782299, -0.008031029254198074, -0.0190587118268013, -0.016248516738414764, 0.012832333333790302, 0.0028285072185099125, 0.008583745919167995, 0.014423889108002186, -0.002119299490004778, -0.004754689056426287, -0.00013401696924120188, 0.0006134814466349781, 0.026743462309241295, 0.012486053630709648, -0.02463914453983307, 0.002370685338973999, 0.005726936273276806, -0.009036572650074959, -0.010861201211810112, 0.02298765629529953, 0.02047046832740307, -0.024612508714199066, 0.0019361706217750907, -0.08752889931201935, 0.03223066404461861, -0.021362805739045143, 0.01256596390157938, 0.017780140042304993, 0.011187504045665264, 0.006329596508294344, -0.004365124274045229, 0.004771337378770113, 0.018739068880677223, -0.032097481191158295, 0.006549351383000612, -0.02812858112156391, 0.0009281299426220357, -0.034015338867902756, 0.0190720297396183, 0.026983194053173065, 0.022188549861311913, -0.00373582704924047, -0.03595983237028122, -0.002538830740377307, 0.0008186689228750765, 0.01940499246120453, -0.0075981798581779, -0.01715417206287384, 0.007405062206089497, -0.019125303253531456, -0.005310734733939171, -0.006452792324125767, -0.009735791943967342, 0.01976458914577961, -0.03526727482676506, -0.028794504702091217, 0.012286276556551456, -0.012805696576833725, -0.03827724605798721, -0.030898820608854294, -0.0037058605812489986, 0.021389441564679146, 0.018978800624608994, -0.0070055085234344006, -0.022774560377001762, -0.0027852223720401525, -0.02357366867363453, 0.012878947891294956, 0.0009714149637147784, -0.0012544321361929178, 0.016355065628886223, -0.0005302410572767258, -0.013997698202729225, 0.028741229325532913, 0.028208492323756218, -0.011240777559578419, -0.0010871189879253507, 0.014876716770231724, -0.0380907878279686, 0.01919189654290676, 0.006885642185807228, 0.012812355533242226, -2.4126697098836303e-05, 0.04613513499498367, 0.033402688801288605, 0.027196288108825684, -0.013038769364356995, 0.03963572904467583, 0.010261870920658112, -0.015995467081665993, 0.005617059301584959, 0.017473815008997917, -0.013358412310481071, -0.006595965940505266, 0.0008386466070078313, 0.0026104175485670567, 0.021282894536852837, 0.047333795577287674, 0.0024139704182744026, -0.003968900069594383, 0.021775677800178528, -0.004538264125585556, 0.00413871044293046, 0.015928873792290688, -0.008903388865292072, -0.030872182920575142, 0.02455923520028591, 0.014184156432747841, 0.009775747545063496, -0.016528204083442688, -0.007251899689435959, 0.0004636487865354866, 0.01345164142549038, -0.021629173308610916, -0.01405097171664238, 0.0020360590424388647, -0.025052016600966454, -0.007298514246940613, 0.014450525864958763, -0.003291323548182845, -0.02429286576807499, -0.024372776970267296, 0.043897632509469986, 0.011593717150390148, -0.002620406448841095, -0.007378424983471632, -0.020044278353452682, 0.005547137465327978, 0.0321241170167923, -0.024466006085276604, -0.007704727351665497, -0.0006630094139836729, -0.01328516099601984, 0.025278430432081223, 0.02477232925593853, -0.0057469140738248825, 0.01423743087798357, -0.0014958292013034225, 0.005344030912965536, 0.0061930823139846325, -0.003845704486593604, -0.010215256363153458, 0.04000864550471306, -0.02252151072025299, -0.011047660373151302, 0.014490481466054916, -0.022654695436358452, 0.01976458914577961, -0.015316225588321686, 0.013997698202729225, -0.00851049367338419, 0.008830136619508266, 0.008297398686408997, -0.007305173669010401, -0.012965518049895763, -0.014890034683048725, 0.0008232471300289035, -0.0018296230118721724, -0.011953314766287804, 0.007198626175522804, 0.034228432923555374, 0.008830136619508266, 0.050210583955049515, 0.03718513250350952, -0.01124743651598692, 0.027808938175439835, 0.004558241926133633, 0.027595842257142067, 0.011334006674587727, -0.0004055886238347739, -0.03097872994840145, -0.015289588831365108, -0.017327312380075455, -0.010008820332586765, -0.004541593603789806, -0.011041000485420227, -0.022801198065280914, -0.034947630017995834, -0.01394442468881607, 0.010887838900089264, -0.006732480134814978, -0.001370136276818812, 0.039023078978061676, 3.163133442285471e-05, 0.0160753782838583, 0.019151940941810608, -0.04336489737033844, -0.024719055742025375, 0.02336057275533676, -0.028208492323756218, -0.01800655387341976, -0.03369569778442383, -0.01065476518124342, 0.015569276176393032, -0.013305138796567917, -0.004195313900709152, -0.005663673859089613, -0.00014161266153678298, -0.0076780905947089195, -0.01928512565791607, 0.03129837289452553, 0.03750477358698845, -0.013931105844676495, 0.0009106494835577905, -0.02430618368089199, -0.008423924446105957, 0.012119796127080917, 0.004578219726681709, -0.006113171577453613, -0.008583745919167995, -0.0019428299274295568]\",\n          \"[-0.01541703287512064, -0.022600119933485985, -0.009783630259335041, -0.030355192720890045, -0.025539863854646683, 0.016507796943187714, -0.00836031511425972, 0.003435244783759117, -0.002349467948079109, -0.038682252168655396, 0.009357965551316738, 0.04958990216255188, -0.009377919137477875, -0.000706253747921437, -0.004845258314162493, 0.012763281352818012, 0.010322362184524536, -0.00794130191206932, -0.010355616919696331, 0.020391985774040222, 0.0035017547197639942, -0.004426244646310806, 0.017026575282216072, 0.020737838000059128, 0.009324710816144943, 0.00211502006277442, 0.008925650268793106, -0.018609516322612762, 0.025699488818645477, -0.01564316637814045, 0.0038841876666992903, -0.002984639024361968, -0.013740979135036469, -0.002214785199612379, -0.03463844209909439, 0.0010957532795146108, -0.0003367071913089603, -0.008506637066602707, 0.004110321868211031, 0.00697690574452281, -0.00846008025109768, 0.02257351577281952, 0.007183086592704058, 0.012630260549485683, -0.02079104632139206, 0.016733931377530098, -0.0005861199460923672, -0.013993717730045319, -0.0026936575304716825, 0.03793733939528465, 0.019567260518670082, 0.013408428989350796, -0.006734143942594528, -0.006697563454508781, -0.0032224126625806093, -0.03450541943311691, -0.0056101237423717976, 0.0023112245835363865, 0.0020135920494794846, -0.008825885131955147, -0.010515240952372551, -0.0116060059517622, -0.021057086065411568, 0.012796536087989807, 0.0050514391623437405, -0.030435005202889442, -0.03141935542225838, 0.008852489292621613, -0.00887244287878275, 0.009657260961830616, 0.02753516659140587, 0.020325474441051483, 0.010734723880887032, -0.018383381888270378, 0.008207341656088829, -0.02193501964211464, -0.03304219990968704, 0.002359444508329034, -0.0075422413647174835, -0.0021366358269006014, 0.009703817777335644, -0.03873546048998833, 0.002595555270090699, 0.00016419672465417534, 0.020897461101412773, 0.0071298787370324135, 0.007395918946713209, 0.004323154222220182, -0.00433978158980608, -0.0031026944052428007, 0.01887555606663227, 0.018409986048936844, 0.007010160479694605, 0.006059066858142614, -0.015044576488435268, 0.011845442466437817, -0.002893187804147601, 0.016866952180862427, -0.0011215258855372667, -0.052542950958013535, 0.025899019092321396, -0.00018518895376473665, -0.019846603274345398, -0.016960065811872482, -0.006544589996337891, 0.007755073253065348, 0.003531684400513768, -0.027242522686719894, -0.01582939550280571, -0.007063368801027536, -0.023597771301865578, 0.014485891908407211, 0.04283247888088226, -0.050255004316568375, 0.003824328538030386, -0.032270681113004684, -0.0013094168389216065, -0.00017427715647500008, 0.0042533185333013535, -0.024063341319561005, 0.00502150971442461, 0.02772139385342598, 0.025074293836951256, -0.020564911887049675, 0.02777460217475891, -0.009078623726963997, 0.01233761664479971, -0.008626354858279228, -0.001262028468772769, 0.003907466307282448, -0.0034651742316782475, -0.01172572374343872, -0.009550845250487328, -0.0064215464517474174, 0.007861489430069923, 0.02987631969153881, -0.004402966238558292, 0.025060992687940598, -0.03152576833963394, -0.008094274438917637, 0.027348937466740608, 0.03793733939528465, -0.013361871242523193, -0.020431891083717346, 0.002617171034216881, 0.03956018388271332, 0.021775394678115845, 0.010016415268182755, 0.011679166927933693, 0.004386338870972395, 0.024329381063580513, 0.022546911612153053, 0.00502150971442461, 0.00572319095954299, 0.030594628304243088, 0.012856394983828068, -0.013295361772179604, 0.006009184289723635, -0.003230726346373558, -0.004343107342720032, -0.003185831941664219, 0.01045538205653429, -0.014352872036397457, 0.009670563042163849, 0.009125180542469025, 0.02181529998779297, 0.010156086646020412, 0.024622024968266487, -0.0069236974231898785, 0.014392777346074581, -0.0005832101451233029, 0.0022979227360337973, -0.02383720688521862, 0.02454221248626709, 0.023305125534534454, 0.030301984399557114, 0.0056101237423717976, 0.022214360535144806, -0.028519514948129654, -0.007834885269403458, -0.00637498963624239, 0.012603657320141792, 0.04075736552476883, 0.024395890533924103, -0.015736281871795654, 0.007927999831736088, -0.00040113882278092206, 0.010841140523552895, 0.021509354934096336, -0.02785441465675831, 0.0009801920969039202, -0.005826281383633614, 0.01427305955439806, -0.00478207366541028, -0.6346656084060669, -0.0041834828443825245, -0.001479017548263073, -0.005899442825466394, 0.011632610112428665, 0.023025784641504288, 0.021150199696421623, 0.010734723880887032, -0.0063882917165756226, 0.0034219427034258842, -0.02124331332743168, 0.031073501333594322, -0.0008754386799409986, -0.00556356692686677, -0.03290918096899986, -0.0023361658677458763, -0.01213808637112379, -0.015377126634120941, 0.01532391831278801, -0.009677214547991753, 0.004249993246048689, 0.013674468733370304, -0.010435428470373154, -0.00604243902489543, -0.013548099435865879, -0.011878697201609612, 0.021123595535755157, -0.02104378491640091, -0.005683284718543291, 0.013661166653037071, -0.021030481904745102, 0.014073529280722141, 0.009896697476506233, 0.028785554692149162, 0.029583675786852837, 0.009810234420001507, -0.014698724262416363, 0.04136925935745239, 0.018210455775260925, 0.04964311048388481, 0.0028117129113525152, 0.0029430703725665808, 0.010082925669848919, 0.008247247897088528, -0.0004435389710124582, -0.010528543032705784, 0.031366147100925446, 0.0016910183476284146, 0.019726885482668877, -0.021961621940135956, 0.024489006027579308, 0.0031708672177046537, -0.009903348051011562, 0.005008207634091377, 0.008021113462746143, 0.021017180755734444, 0.0052675968036055565, -0.021841904148459435, 0.005380664020776749, 0.0024043386802077293, -0.017944414168596268, 0.010801234282553196, -0.00421008700504899, 0.014060227200388908, -0.011692469008266926, 0.008785978890955448, -0.01717289909720421, 0.028945179656147957, 0.008726119995117188, -0.003973976243287325, -0.0029347564559429884, 0.028306683525443077, -0.004925070330500603, -0.02230747602880001, 0.027934227138757706, 0.003245691070333123, 0.02790762297809124, -0.01818385161459446, -0.006345060188323259, -0.007775026373565197, 0.005699912551790476, -0.014286361634731293, -0.010195992887020111, 0.018835650756955147, 0.018197152763605118, -0.029769904911518097, -0.020804347470402718, -0.0038043756503611803, 0.016161944717168808, 0.0016918497858569026, 0.029344240203499794, 0.00209007877856493, -0.0019437565933912992, -0.008892395533621311, -0.01172572374343872, 0.020258964970707893, -0.008533241227269173, -0.02696317993104458, -0.0019736860413104296, -0.01914159581065178, -0.007881442084908485, -0.02200152911245823, -0.0057597714476287365, 0.011539495550096035, 0.0031043572816997766, 0.0033986642956733704, -0.01265021413564682, -0.013807489536702633, 0.06129567325115204, -0.02161576971411705, 0.0021000553388148546, 0.003977301996201277, 0.004748818464577198, -0.003541660960763693, 0.01541703287512064, -0.023438146337866783, 0.02804064191877842, 0.009038717485964298, 0.025539863854646683, -0.011705771088600159, 0.005008207634091377, -0.017784791067242622, 0.008174086920917034, -0.04754139482975006, 0.0011240200838074088, 0.01588260382413864, -0.006205388810485601, 0.0023727465886622667, 0.02301248162984848, 0.004030509851872921, 0.004519358742982149, -0.016401382163167, 0.01970028132200241, -0.006321781314909458, 0.017784791067242622, 0.011133784428238869, 0.006315130274742842, -0.008865791372954845, 0.015496844425797462, 0.009437778033316135, -0.025007784366607666, 0.013361871242523193, 0.0020069412421435118, 0.0166541188955307, 0.0033986642956733704, -0.01443268358707428, 0.0011373220477253199, -0.012610307894647121, -0.0270828977227211, 0.007801630534231663, 0.01306257676333189, -0.0072096907533705235, -0.01882234774529934, -0.0066277277655899525, -0.011413127183914185, 0.002783446107059717, -0.047328561544418335, -0.018769139423966408, -0.014352872036397457, -0.0056334021501243114, -0.0018971995450556278, 0.018197152763605118, -0.029078200459480286, 0.004735516384243965, 0.027122803032398224, -0.024568816646933556, -0.0045958454720675945, 0.02181529998779297, 0.0065379394218325615, -0.030301984399557114, -0.014924857765436172, 0.026683837175369263, -0.0006056572892703116, 0.005274247843772173, -0.0005341589567251503, 0.007655308116227388, -0.01786460354924202, -0.014818442054092884, 0.018223756924271584, 0.0116060059517622, 0.005640053190290928, -0.011772281490266323, 0.007934650406241417, -0.011000764556229115, -0.012470636516809464, -0.007083321921527386, 0.008938952349126339, -0.00925154983997345, -0.016308266669511795, 0.02047179825603962, -0.004349757917225361, 0.016800442710518837, 0.018742535263299942, -0.017638469114899635, 0.011206945404410362, 0.026098549365997314, 0.010049670934677124, 0.0008068502065725625, 0.010575099848210812, 0.032270681113004684, 0.02452891133725643, 0.006747446022927761, 0.0265774205327034, 0.0033853622153401375, 0.01773158274590969, 0.003867560066282749, -0.006631053518503904, -0.03437240049242973, 0.02568618580698967, 0.020644724369049072, 0.010595053434371948, -0.018343474715948105, -0.024688536301255226, -0.018529703840613365, -0.009105227887630463, 0.01570967771112919, 0.011572751216590405, -0.017944414168596268, -0.010575099848210812, -0.009590751491487026, -0.003701284993439913, -0.003255667630583048, 0.008586449548602104, 0.005756446160376072, -0.023863811045885086, 0.025007784366607666, 0.00830045621842146, 0.011805536225438118, 0.009903348051011562, -0.04397645220160484, -0.01601562276482582, -0.01978009194135666, 0.006002533249557018, -0.005161181092262268, 0.014166643843054771, 0.010375569574534893, -0.004928395617753267, -0.0010841140756383538, 0.011433079838752747, 0.02370418608188629, -0.010182690806686878, -0.005583519581705332, 0.027747998014092445, -0.02326522022485733, -0.007814932614564896, -0.014339569956064224, 0.027322333306074142, 0.002455884125083685, -0.03051481768488884, 0.02104378491640091, -0.014552401378750801, -0.014818442054092884, -0.0023112245835363865, -0.0015846022870391607, -0.01086774468421936, -0.03115331381559372, 0.014406079426407814, 0.008180737495422363, -0.0002695735893212259, 0.03384032100439072, 0.02442249469459057, -0.031366147100925446, 0.007502335123717785, -0.013834092766046524, 0.01150624081492424, 0.0026653907261788845, -0.010375569574534893, -0.004639077000319958, 0.009989811107516289, -0.03924093768000603, -0.027242522686719894, -0.0227065347135067, -0.004609147552400827, -0.019168199971318245, 0.001330201281234622, -0.0052476441487669945, 0.018782442435622215, 0.020099341869354248, -0.0019603841938078403, 0.03815017268061638, -0.0023261895403265953, -0.013634562492370605, 0.005084694363176823, 0.05392635986208916, 0.0026637280825525522, -0.03413296490907669, -0.01989981159567833, -0.002921454608440399, -0.03788413107395172, 0.012311012484133244, 0.008692865259945393, 0.02123001217842102, -0.016813743859529495, -0.015683073550462723, -0.004718889016658068, -0.011273455806076527, 0.02327852137386799, -0.020618120208382607, 0.006265248171985149, -0.008912348188459873, -0.00119551841635257, -0.005044788122177124, -0.0026022063102573156, -0.023557864129543304, 0.007522288244217634, 0.009078623726963997, -0.0007407558150589466, -0.017452239990234375, 0.0003286012797616422, -0.01239747554063797, -0.007661959156394005, -0.01402032095938921, -0.01594911329448223, 0.006517986301332712, -0.0008484189747832716, 0.023172106593847275, -0.013388475403189659, -0.012763281352818012, 0.01818385161459446, -0.02613845467567444, -0.014406079426407814, -0.009617354720830917, 0.002291271695867181, -0.017784791067242622, 0.10870404541492462, 0.047461580485105515, 0.015869300812482834, 0.02033877745270729, -0.0027585048228502274, -0.016733931377530098, -0.013674468733370304, -0.007794979494065046, 0.007715167477726936, 0.019567260518670082, 0.004712237976491451, 0.011985113844275475, 0.012896301224827766, 0.00360817089676857, 0.02656411938369274, -0.021402938291430473, -0.0048818388022482395, -0.016561005264520645, -0.007103274576365948, 0.013661166653037071, -0.007794979494065046, -0.02822687104344368, 0.008732771500945091, 0.03769790381193161, -0.006810630671679974, -0.0055436138063669205, 0.041422467678785324, -0.0019637097138911486, 0.013687770813703537, 0.00415022810921073, -0.020099341869354248, 0.020551608875393867, 0.019806696102023125, 0.004592519719153643, 0.012643562629818916, 0.01882234774529934, 0.013740979135036469, 0.03610166162252426, 0.008952254429459572, -0.013082529418170452, 0.00035728374496102333, -0.0012853069929406047, -0.0236376766115427, -0.029024992138147354, -0.00322740082629025, -0.004266620613634586, -0.008433476090431213, 0.03139274939894676, -0.013348570093512535, -0.0010076274629682302, 0.012417429126799107, 0.0012046635383740067, -0.01621515303850174, -0.016255060210824013, -0.006015835329890251, 0.021083690226078033, 0.03344126045703888, 0.0010999101214110851, -0.010821186937391758, 0.015789488330483437, -0.003837630618363619, -0.02817366272211075, -0.011931905522942543, -0.014499193988740444, 0.005360710900276899, -0.016135340556502342, -0.03272294998168945, 0.008001160807907581, -0.030115757137537003, -0.009431126527488232, -0.0070500667206943035, -0.037671301513910294, -0.015922509133815765, 0.018223756924271584, 0.027508562430739403, 0.011413127183914185, 0.014924857765436172, -0.016667421907186508, -0.016707327216863632, 0.023225314915180206, 0.014140039682388306, -0.0177448857575655, -0.030993688851594925, -0.021788695827126503, 0.02059151604771614, 0.02141623944044113, 0.016960065811872482, -0.00947103276848793, -0.020551608875393867, 0.033148616552352905, 0.0003346287412568927, -0.009032066911458969, 0.007894744165241718, 0.023491354659199715, 0.006561217829585075, 0.012384173460304737, -0.024236267432570457, 0.018343474715948105, 0.00846008025109768, -0.008945603854954243, 0.012244503013789654, 0.011572751216590405, -0.022613421082496643, -0.020365381613373756, -0.013521496206521988, 0.017811395227909088, 0.009497636929154396, -0.0005927709280513227, -0.026923272758722305, -0.007781677413731813, 0.006315130274742842, -0.01786460354924202, 0.013368522748351097, 0.011872046627104282, -0.013049274682998657, 0.03681997209787369, 0.030435005202889442, 0.03325503319501877, 0.0005075549124740064, -0.017811395227909088, -0.00586286187171936, 0.014140039682388306, 0.004422919359058142, 0.00014195741096045822, -0.024382589384913445, 0.006611100398004055, -0.03370729833841324, -0.01601562276482582, 0.00931140873581171, 0.007741771172732115, -0.0026770299300551414, 0.017957717180252075, 0.00810092594474554, 0.007342711091041565, -0.008207341656088829, 0.024369286373257637, 0.0046656811609864235, 0.011466334573924541, -0.0007066694088280201, -0.0040471372194588184, -0.004728865344077349, 0.002929768292233348, -0.014206549152731895, -0.0059759290888905525, -0.016933461651206017, -0.028014037758111954, -0.0040936945006251335, -0.020511703565716743, 0.004875187762081623, -0.002455884125083685, -0.015297314152121544, -0.006471429020166397, -0.024302776902914047, 0.0069236974231898785, -0.0053274561651051044, -0.012111482210457325, -0.022334078326821327, -0.015789488330483437, 0.0010782943572849035, 0.0236376766115427, -0.006597798317670822, 0.006717516575008631, 0.03503750264644623, -0.010242549702525139, 0.010920952074229717, 0.008918999694287777, 0.012111482210457325, 0.01150624081492424, -0.044535137712955475, -0.02415645495057106, 0.015669770538806915, 0.034558627754449844, -0.01939433440566063, 0.004592519719153643, 0.008213993161916733, 0.01734582521021366, 0.01013613399118185, 0.0032656441908329725, -0.017385730519890785, -0.05256955325603485, 0.000623947533313185, -0.0021067061461508274, -0.022094642743468285, 0.005154530052095652, -0.007036764640361071, -0.0029081525281071663, 0.029397448524832726, -0.008347013033926487, -0.010036368854343891, -0.0030062547884881496, -0.007914697751402855, 0.0029796508606523275, 0.04107661545276642, -0.00640491908416152, -0.005517009645700455, -0.011532844975590706, -0.013002716936171055, -0.02563297748565674, 0.01265021413564682, -0.015071180649101734, 0.004915093537420034, 0.001928791869431734, 0.0010533530730754137, 0.003648076904937625, -0.023730790242552757, 0.010062973015010357, -0.02358446829020977, 0.005616774782538414, 0.009637308306992054, -0.018343474715948105, 0.001492319512180984, 0.004190133884549141, 0.0116060059517622, -0.014618911780416965, 0.020711233839392662, -0.017146294936537743, 0.002374409232288599, 0.014512496069073677, -0.008812583051621914, -0.03370729833841324, 0.022427193820476532, -0.005826281383633614, 0.02681685797870159, 0.01004301942884922, 0.038416214287281036, 0.012025019153952599, 0.00247084884904325, -0.014219851233065128, -0.0009585762745700777, 0.006551241036504507, 0.017824696376919746, 0.02905159629881382, -0.008147482760250568, -0.012936207465827465, -0.008553193882107735, -0.003973976243287325, 0.008080972358584404, -0.01217799261212349, -0.0019204780692234635, 0.02486146241426468, 0.035569582134485245, -0.021589167416095734, 0.004815328400582075, 2.7980991944787093e-05, -0.01823705993592739, 0.013368522748351097, -0.023943623527884483, 0.0044594998471438885, -0.017465543001890182, -0.029716696590185165, -0.02492797188460827, -0.028652535751461983, -0.026417797431349754, 0.030408401042222977, 0.005653355270624161, -0.008433476090431213, 0.030275380238890648, -0.012623609974980354, -0.004376362077891827, 0.019540656358003616, -0.019181502982974052, 0.016228456050157547, -0.03301559388637543, -0.009397871792316437, -0.012317663989961147, 0.009936603717505932, 0.009218295104801655, -0.014618911780416965, -0.011945207603275776, 0.029184615239501, 0.00032943265978246927, 0.0017691677203401923, -0.016135340556502342, 0.0039673252031207085, -0.007389267906546593, -0.017718281596899033, 0.004918419290333986, -0.0005923552671447396, 0.008712817914783955, -0.007349362131208181, 0.003997254651039839, 0.012025019153952599, -0.007741771172732115, -0.02740214578807354, -0.024821555241942406, -0.032137662172317505, 0.010634958744049072, -0.012849744409322739, 0.0006210377323441207, -0.00483195623382926, -0.005008207634091377, 0.01830356940627098, -0.013588005676865578, -0.01036226749420166, 0.003920768387615681, 0.008666261099278927, 0.006348385475575924, 0.003661378985270858, -0.031100105494260788, -0.011632610112428665, 0.006138878874480724, 0.021589167416095734, -0.0021998202428221703, -0.024129850789904594, 0.00656454311683774, 0.0042433422058820724, 0.009537543170154095, -0.0017608539201319218, -0.03221747279167175, -0.016042226925492287, 0.00721634179353714, 0.008805932477116585, 0.006797328591346741, -0.02338493801653385, 0.02168228104710579, 0.006784026511013508, -0.001180553575977683, -0.019248012453317642, -0.018516400828957558, 0.019633769989013672, -0.004073741380125284, 0.0023660955484956503, 0.018782442435622215, -0.013967113569378853, 0.029982736334204674, -0.0030760904774069786, 0.015869300812482834, -0.003270632354542613, -0.013341918587684631, -0.0007494852761738002, 0.015989018604159355, 0.015523448586463928, 0.00635503651574254, 0.0044994056224823, -0.028519514948129654, -0.017186200246214867, -0.0009943254990503192, 0.01786460354924202, 0.0015089471125975251, 0.010209294967353344, 0.017199503257870674, 0.038629043847322464, 0.023544562980532646, -0.008087623864412308, 0.0066842613741755486, -0.02886536717414856, 0.0013060913188382983, 0.0008712818380445242, -0.022081341594457626, -0.015616563148796558, 0.004994905553758144, 0.03833639994263649, -0.010575099848210812, 0.030301984399557114, -0.008606402203440666, -0.020578213036060333, -0.024954576045274734, -0.019992925226688385, 0.00444952305406332, 0.015217502601444721, 0.05980584770441055, 0.04190133884549141, -0.015510146506130695, 0.002021905966103077, -0.0016602574614807963, 0.007442476227879524, -0.03940056264400482, -0.002085090382024646, 0.01944754272699356, -0.016667421907186508, 0.010794583708047867, -0.007402569986879826, -0.019660374149680138, 0.0013351895613595843, 0.01608213409781456, -0.010229247622191906, 0.002133310306817293, 0.0009070310043171048, -0.018197152763605118, -0.01475193165242672, 0.017784791067242622, -0.03759148716926575, 0.003611496416851878, 0.02435598522424698, 0.03272294998168945, -0.040278494358062744, 0.0065479157492518425, -0.01452579814940691, -0.005453824996948242, -0.035064104944467545, -0.01964707300066948, -0.007282851729542017, 0.006770724430680275, 0.018782442435622215, 0.00909192580729723, -0.007921348325908184, -0.006059066858142614, -0.030940480530261993, 0.033787112683057785, 0.020751139149069786, -0.003701284993439913, 0.016228456050157547, -0.02523391880095005, -0.012450683861970901, 0.005517009645700455, -0.006544589996337891, -0.005088019650429487, 0.0071764360181987286, 0.005297526717185974, -0.00486188568174839, 0.025952227413654327, -0.014007018879055977, 0.004509382415562868, -0.01569637469947338, -0.030541421845555305, -0.010701469145715237, -0.010269153863191605, -0.042938895523548126, 0.02104378491640091, 0.010654912330210209, -0.02511419914662838, 0.012477288022637367, -0.008220643736422062, -0.024489006027579308, -0.017266012728214264, -0.01754535548388958, -0.01692016050219536, 0.008373617194592953, 0.002715273294597864, -0.0028383168391883373, -0.022746441885828972, -0.012463985942304134, 0.014565703459084034, -0.0033870248589664698, -0.021469447761774063, 0.013415079563856125, 0.20783065259456635, 0.004439546726644039, 0.009916650131344795, 0.023544562980532646, -0.03368069604039192, 0.013887301087379456, 0.0232120119035244, -0.005317479372024536, -0.0008995485841296613, -0.004436221439391375, -0.027322333306074142, -0.006088996306061745, -0.015749583020806313, 0.023597771301865578, 0.0023378287442028522, -0.03288257494568825, -0.03386692330241203, -0.037219032645225525, -0.02028556913137436, -0.003927419427782297, 0.0021116945426911116, 0.009391221217811108, 0.00017947325250133872, 0.017877904698252678, 0.007183086592704058, 0.016547704115509987, 0.006631053518503904, 0.008513287641108036, 0.025579771026968956, 0.008606402203440666, -0.03125973045825958, -0.004136926028877497, -0.023996829986572266, 0.005663332063704729, -0.021642373874783516, -0.01614864356815815, 0.0032756205182522535, -0.0045958454720675945, 0.004898466169834137, 0.008566495962440968, -0.015736281871795654, -0.022280871868133545, 0.012444032356142998, -0.023611072450876236, -0.008938952349126339, 0.02129652164876461, -0.010521892458200455, -0.01596241444349289, -0.019553959369659424, 0.03644751384854317, -0.034053150564432144, -0.009903348051011562, -0.019234709441661835, -0.009111878462135792, 0.03974641487002373, -0.04081057384610176, 0.034053150564432144, 0.01684034802019596, -0.0021948320791125298, -0.004432895686477423, 0.00502150971442461, 0.02142954245209694, -0.03924093768000603, -0.002223098883405328, -0.010102878324687481, 0.010435428470373154, -0.03559618443250656, 0.012996066361665726, 0.01596241444349289, -0.030222171917557716, -0.007316106930375099, -0.004216738045215607, -0.031499166041612625, -0.004815328400582075, -0.008985509164631367, -0.02841309830546379, 0.03125973045825958, 0.009577449411153793, 0.0017957716481760144, -0.015975717455148697, -0.0009743724367581308, 0.015337220393121243, 0.014286361634731293, -0.0026637280825525522, -0.016667421907186508, -0.011739025823771954, 0.028838763013482094, 0.017971018329262733, -0.030275380238890648, 0.013767583295702934, -0.019726885482668877, -0.027162710204720497, -0.021908415481448174, 0.006807304918766022, 0.0010350628290325403, -0.013488240540027618, 0.011472986079752445, 0.016800442710518837, -0.018463194370269775, -0.007721818517893553, -0.0027867716271430254, -0.008586449548602104, 0.01868932694196701, -0.02244049496948719, -0.016946764662861824, -0.010561797767877579, 0.005576869007200003, 0.01353479828685522, 0.029264427721500397, -0.019873207435011864, -0.01735912635922432, 0.01996632106602192, -0.002419303636997938, 0.00564337894320488, -0.007728469558060169, 0.03019556775689125, -0.03155237436294556, -0.0020717885345220566, -0.004120298195630312, -0.008233945816755295, -0.009131832048296928, -0.028333287686109543, 0.03070104494690895, 0.01023589912801981, -0.010169388726353645, -0.028333287686109543, -0.04597175493836403, 0.01577618718147278, -0.010348965413868427, -0.03884187713265419, 0.006704214494675398, -0.018862253054976463, -0.0021881810389459133, 0.000759877497330308, -0.008047717623412609, 0.011951858177781105, -0.0037544930819422007, -0.013208898715674877, -0.018968669697642326, -0.004649053327739239, -0.012118133716285229, -0.006870489567518234, 0.0029746624641120434, 0.01646789163351059, 0.01914159581065178, 0.008480032905936241, -0.003258993150666356, -0.0018539680168032646, -0.03125973045825958, -0.016627516597509384, -0.02117680385708809, 0.005117949564009905, 0.012384173460304737, -0.01181883830577135, 0.02478164993226528, -0.016175247728824615, -0.012696770951151848, -0.024076642468571663, -0.008493334986269474, 0.03155237436294556, -0.03306880220770836, -0.0018290267325937748, 0.01109387818723917, -0.04754139482975006, -0.014991368167102337, 0.006990207824856043, -0.16845668852329254, 0.008114228025078773, 0.022201059386134148, -0.007249596994370222, 0.02873234637081623, 0.008586449548602104, 0.0353301465511322, -0.006870489567518234, -0.002836654195562005, -0.017399031668901443, 0.03469165042042732, 0.0089988112449646, -0.03788413107395172, -0.015097783878445625, 0.0009610704146325588, 0.01907508634030819, 0.005028160754591227, 0.04418928548693657, 0.024435797706246376, 0.004632425960153341, 0.010255851782858372, -0.01135326735675335, 0.00931140873581171, -0.008619704283773899, -0.0020002902019768953, 0.011320012621581554, 0.002672041766345501, -0.010741375386714935, 0.011379871517419815, -0.018104039132595062, -0.0504678376019001, -0.002292934339493513, 0.02696317993104458, 0.0006447319174185395, -0.006102298386394978, 0.002442582044750452, -0.004871862009167671, -0.01823705993592739, -0.012922905385494232, 0.015190898440778255, 0.046237796545028687, 0.016108736395835876, -0.004692284855991602, 0.00883253663778305, -0.019061783328652382, 0.0253137294203043, 0.014326267875730991, 0.00010459746408741921, 0.007655308116227388, 0.012424079701304436, -0.01532391831278801, -0.020431891083717346, 0.0005653355619870126, -0.0008322071516886353, 0.001533056958578527, 0.000528339296579361, 0.002783446107059717, -0.009584099985659122, 0.0237174890935421, -0.0013750955695286393, -0.012184643186628819, -0.02511419914662838, 0.022719837725162506, -0.02021905966103077, -0.002864920999854803, -0.008400221355259418, -0.030301984399557114, 0.03495768830180168, -0.02828007936477661, 0.010129482485353947, -0.00290150148794055, -0.03463844209909439, 0.020139247179031372, -0.029716696590185165, -0.0040936945006251335, -0.0027335635386407375, -0.013647864572703838, -0.024874763563275337, -0.011453032493591309, 0.004762120544910431, -0.01932782493531704, 0.0506274588406086, 0.004808677360415459, 0.011220247484743595, -0.01741233468055725, 0.018157247453927994, -0.018077434971928596, 0.015017972327768803, -0.04932386428117752, -0.013887301087379456, 0.0018240384524688125, -0.016427986323833466, -0.02346475049853325, -0.009896697476506233, 0.011732375249266624, 0.02974330075085163, -0.020139247179031372, 0.000373287737602368, -0.007462428882718086, -0.012377522885799408, -0.009949905797839165, 0.02607194520533085, -0.0034003269392997026, 0.006015835329890251, 0.04094359651207924, 0.0005179471336305141, -4.853156133322045e-05, 0.01348158996552229, 0.03032858856022358, 0.00551368435844779, -0.02129652164876461, 0.02987631969153881, -0.008380267769098282, 0.02370418608188629, -0.02033877745270729, 0.011333314701914787, 0.006680935621261597, -0.01077463012188673, 0.017252709716558456, -0.005038137082010508, 0.04416268318891525, -0.02040528692305088, 0.022201059386134148, 0.023411542177200317, -0.012111482210457325, -0.024316079914569855, -0.08784648776054382, -0.015390428714454174, 0.014499193988740444, 0.01978009194135666, -0.006225341930985451, 0.01830356940627098, 0.013248804956674576, 0.025513259693980217, -0.006660982966423035, 0.017186200246214867, 0.0014349545817822218, -0.018742535263299942, 0.025606375187635422, 0.0027019712142646313, 0.038496024906635284, -0.002615508157759905, 0.009856791235506535, -0.02154926024377346, -0.025819206610322, 0.020378682762384415, -0.009936603717505932, -0.0018872229848057032, -0.013661166653037071, -0.03147256374359131, -0.0026088571175932884, -0.011040670797228813, -0.01914159581065178, 0.0202722679823637, -0.0021249966230243444, -0.0004776253772433847, 0.002317875623703003, -0.026018736883997917, 0.019035179167985916, -0.0076420060358941555, -0.021788695827126503, 0.018676025792956352, -0.03312201052904129, -0.005530311726033688, -0.009750375524163246, -0.022906064987182617, 0.001371770049445331, 0.01045538205653429, 0.02395692467689514, -0.006956952624022961, 0.011459683999419212, -0.03860244154930115, -0.0026005434338003397, 0.012410777620971203, -0.01213808637112379, -0.013847394846379757, -0.0074158720672130585, -0.02706959657371044, -0.027934227138757706, 0.002632135758176446, -0.016627516597509384, -0.012271106243133545, 0.005766422487795353, -0.005264271516352892, -0.020618120208382607, -0.0018173875287175179, 0.002362770028412342, -0.01484504621475935, -0.0071764360181987286, 0.007096623536199331, 0.018037529662251472, 0.013202247209846973, -0.013468287885189056, -0.013887301087379456, 0.026537515223026276, -0.0018423286965116858, -0.014951461926102638, 0.015616563148796558, -0.008067670278251171, 0.021190106868743896, -0.0179976224899292, -0.0018572935368865728, -0.03304219990968704, -0.012377522885799408, 0.033414654433727264, -0.03376050665974617, -0.002700308570638299, -0.007548891939222813, -0.0055535901337862015, 0.02694987691938877, 0.03160558268427849, 0.04214077442884445, 0.011612657457590103, 0.005926046520471573, 0.00046182924415916204, -0.0039008152671158314, 0.004333130549639463, 0.02593892440199852, 0.013308663852512836, -0.019021878018975258, 0.006258597131818533, 0.03559618443250656, -0.008945603854954243, -0.0015106097562238574, 0.009790281765162945, 0.01811734028160572, -0.015310616232454777, -0.017305918037891388, -0.08295135200023651, 0.040970198810100555, 6.500319432234392e-05, 0.009165086783468723, 0.010641610249876976, 0.019660374149680138, 0.011147086508572102, 0.0030361844692379236, -0.001410013297572732, 0.016321569681167603, -0.023571167141199112, 0.015017972327768803, -0.014179945923388004, -0.007741771172732115, -0.04543967545032501, 0.0066177514381706715, 0.02530042827129364, 0.02886536717414856, 0.0026803554501384497, -0.02256021276116371, -0.003691308433189988, -0.0032623186707496643, 0.005320805124938488, 0.01119364332407713, 0.011313362047076225, -0.006228667218238115, -0.001263691228814423, 0.020179152488708496, -0.0016594260232523084, -0.0021249966230243444, 0.02166897803544998, -0.028758950531482697, 0.00041319377487525344, 0.01140647567808628, -0.005979254841804504, -0.023318428546190262, -0.0244757030159235, 0.022214360535144806, 0.01596241444349289, 0.033920131623744965, 0.0013326953630894423, -0.021269917488098145, -0.014073529280722141, -0.013621261343359947, -0.0016253396170213819, -0.0013501542853191495, -0.0022280870471149683, 0.021269917488098145, 0.00887244287878275, -0.008213993161916733, 0.009717119857668877, 0.025965528562664986, -0.02345144748687744, -0.005440523382276297, 0.006225341930985451, -0.009816884994506836, 0.02390371635556221, 0.03485127165913582, 0.0038309795781970024, -0.026657233014702797, 0.021389637142419815, 0.025127502158284187, 0.03838960826396942, -0.022334078326821327, 0.025473354384303093, -0.013208898715674877, 0.008080972358584404, -0.013834092766046524, 0.006737469229847193, -0.025726092979311943, 0.008759375661611557, 0.000596927828155458, 0.02269323356449604, 0.044854387640953064, 0.020431891083717346, 0.02804064191877842, -0.0033338170032948256, -0.003681332105770707, -0.013581355102360249, -0.00031280514667741954, 0.01741233468055725, -0.009198341518640518, -0.03591543436050415, 0.021841904148459435, 0.017771488055586815, -0.005603472702205181, -0.007489033043384552, 0.0064681037329137325, -0.022360682487487793, 0.029158011078834534, -0.0012370871845632792, 0.0050314865075051785, 0.00804106704890728, -0.015270710922777653, -0.020312173292040825, 0.014964764006435871, 0.00034938566386699677, -0.011778932064771652, -0.00100513338111341, 0.015403730794787407, -0.0014989705523476005, -0.0009660586947575212, -0.009071972221136093, -0.019979622215032578, 0.0003774446086026728, -0.0013227189192548394, -0.005636727903038263, -0.011552797630429268, -0.013361871242523193, 0.0095042884349823, 0.0223739854991436, 0.036075059324502945, 8.272189006675035e-05, 0.013727677054703236, -0.021003877744078636, 0.0044994056224823, 0.013967113569378853, 0.001493150950409472, -0.025260521098971367, 0.03152576833963394, 0.0071764360181987286, -0.016747234389185905, 0.02397022768855095, -0.022852858528494835, 0.03596864268183708, -0.024834858253598213, 0.03019556775689125, -0.009098576381802559, -0.003977301996201277, -0.012882999144494534, 0.006384965963661671, -0.0027718069031834602, -0.04246002435684204, -0.010521892458200455, 0.01046203263103962, -0.023557864129543304, 0.013435033150017262, 0.026989784091711044, -0.006414895411580801, 0.044215891510248184, 0.029769904911518097, -0.003761144122108817, 0.020139247179031372, -0.0017808069242164493, 0.032962385565042496, 0.012437381781637669, 0.007608751300722361, -0.004738842137157917, -0.021974924951791763, -0.010222597047686577, 0.0029480585362762213, -0.005836258176714182, -0.027109501883387566, -0.021469447761774063, -0.008546543307602406, -0.005766422487795353, 0.01620185188949108, -0.01099411305040121, 0.0001839418982854113, 0.034744858741760254, -0.008147482760250568, 0.024701837450265884, 0.012051623314619064, -0.03354767709970474, -0.019846603274345398, 0.019873207435011864, -0.012357569299638271, -0.030940480530261993, -0.03825658932328224, -0.014126737602055073, 0.0036547279451042414, -0.004885164089500904, -0.0031725300941616297, 0.012922905385494232, -0.004363059997558594, 0.0033886877354234457, -0.018782442435622215, 0.02663062885403633, 0.006079019978642464, -0.018715931102633476, -0.011778932064771652, -0.014871650375425816, -0.029583675786852837, -0.010734723880887032, -0.0017392381560057402, 0.022334078326821327, -0.014579005539417267, -0.00632510706782341]\"\n        ],\n        \"semantic_type\": \"\",\n        \"description\": \"\"\n      }\n    }\n  ]\n}"
            }
          },
          "metadata": {},
          "execution_count": 12
        }
      ]
    },
    {
      "cell_type": "markdown",
      "source": [
        "# \"Embeddando\" para enviar pro Pinecone"
      ],
      "metadata": {
        "id": "EG2XO7dvU6Qm"
      }
    },
    {
      "cell_type": "markdown",
      "source": [
        "Eu nunca tinha trabalhado com a biblioteca ast antes, então por via das dúvidas, vou dar uma explicada de como ela funciona aqui bem por cima:\n",
        "\n",
        "O ast.literal_eval consegue converter o dado ao tipo original.\n",
        "Por exemplo o meu metadata possui chave e valor dentro do meu df, logo, usando o ast.literal_eval eu posso convertê-lo a um dicionário e armazená-lo na minha variável. - Muito interessante, né? - Se eu falei besteira, pls, entra em contato comigo e me corrige, tá? hahaha!"
      ],
      "metadata": {
        "id": "npRvbutNXzg0"
      }
    },
    {
      "cell_type": "code",
      "source": [
        "prepped = []\n",
        "\n",
        "for i, row in tqdm(df.iterrows(), total=df.shape[0]): # o iterrows percorre todo i do dataframe e retorna os dados de cada row\n",
        "# O total serve pra dizer ao tqdm a quantidade de dados do meu df!\n",
        "    meta = ast.literal_eval(row['metadata'])\n",
        "    prepped.append({'id':row['id'],\n",
        "                    'values':ast.literal_eval(row['values']),\n",
        "                    'metadata':meta})\n",
        "    if len(prepped) >= 250: # Aqui estamos processando esses dados em lotes, falamos sobre isso no módulo anterior :P\n",
        "        index.upsert(prepped)\n",
        "        prepped = []"
      ],
      "metadata": {
        "colab": {
          "base_uri": "https://localhost:8080/",
          "height": 49,
          "referenced_widgets": [
            "f461e7c76156441d8c51cecefccfe23c",
            "85f154e9ecf1492f83c8b1438675dab2",
            "4ad75fc46f9e4501a3f9e73ec33eba37",
            "177870e9878547cfbac7daff2478605f",
            "48d5ee3e3f6f45218801bc429c4966a3",
            "1a9ee09bb6ad4a68927b1942003b8e22",
            "c7010556ff22490697e98a2a20eecf12",
            "c53c41ee544a4bf4898ec1e65d84708c",
            "666a3a3bb5bf4d77a24f440f8374b58e",
            "c1d1256bcac34f778aaa19b6abe2ce8d",
            "1cae3dc8a1944220a2c6167ee4b9e788"
          ]
        },
        "id": "-krnX-tJUv1J",
        "outputId": "69b1dbe9-88c9-4efb-b9ed-f020e8f9eb1c"
      },
      "execution_count": 14,
      "outputs": [
        {
          "output_type": "display_data",
          "data": {
            "text/plain": [
              "  0%|          | 0/1000 [00:00<?, ?it/s]"
            ],
            "application/vnd.jupyter.widget-view+json": {
              "version_major": 2,
              "version_minor": 0,
              "model_id": "f461e7c76156441d8c51cecefccfe23c"
            }
          },
          "metadata": {}
        }
      ]
    },
    {
      "cell_type": "code",
      "source": [
        "index.describe_index_stats()"
      ],
      "metadata": {
        "colab": {
          "base_uri": "https://localhost:8080/"
        },
        "id": "tap-bFETYfgz",
        "outputId": "0dc98d09-1182-46ca-e167-a54b1aa8147e"
      },
      "execution_count": 15,
      "outputs": [
        {
          "output_type": "execute_result",
          "data": {
            "text/plain": [
              "{'dimension': 1536,\n",
              " 'index_fullness': 0.0,\n",
              " 'namespaces': {'': {'vector_count': 1000}},\n",
              " 'total_vector_count': 1000}"
            ]
          },
          "metadata": {},
          "execution_count": 15
        }
      ]
    },
    {
      "cell_type": "markdown",
      "source": [
        "Lá no pinecone a visão é mais ou menos essa!\n",
        "\n",
        "![image.png](data:image/png;base64,iVBORw0KGgoAAAANSUhEUgAABdEAAAF/CAYAAACmDICHAAAAAXNSR0IArs4c6QAAAARnQU1BAACxjwv8YQUAAAAJcEhZcwAADsMAAA7DAcdvqGQAAOHdSURBVHhe7N0NXFRV/j/wDz40RjWuW7jaSqVQamgK7kpY6ZAJ5gb2QPRAtr/I2ljdsviZLD2QZSxlpG0aaxK7iayFtCXuuqJrYqmTlugm+Di62bDZn7H8OSUyIs7/nHvvwJ1hBmYQFfTzfnmdO2cO955777lP3zlzblB9/QkniIiIiIiIiIiIiIiomS7aKxEREREREREREREReWAQnYiIiIiIiIiIiIjIBwbRiYiIiIiIiIiIiIh8YBCdiIiIiIiIiIiIiMgHBtGJiIiIiIiIiIiIiHxgEJ2IiIiIiIiIiIiIyAcG0YmIiIiIiIiIiIiIfGAQnYiIiIiIiIiIiIjIBwbRiYiIiIiIiIiIiIh8YBCdiIiIiIiIiIiIiMgHBtGJiIiIiIiIiIiIiHxgEJ2IiIiIiIiIiIiIyAcG0YmIiIiIiIiIiIiIfGAQnYiIiIiIiIiIiIjIBwbRiYiIiIiIiIiIiIh8aD2IXr0Yk2+KwaibxiNni5bmlQ1Lp8h8Ysj+TEs7cz7LFvOdvBhW7X3H5ID1g6dwq1xH3sp6eCsWT5+IUaOGYMiIGNw+fTG2HtY+IyIiIiIiIiIiIqIzrvUgeoMD//32EGzf7sPi0haC43sLkbdK5hPDYYeWGIjPkHNTDCb/tW1hcMdhMd+DbZnvGeKwYunjJtycsRwWm5ey2tfhqVuSMXO5A9fenIjEWyPgWD4Tybc8hXV2LQ8RERERERERERERnVF+d+cSfk0YHH8txPJaLcHDjtKlsIZchhDtfeAcqPn2EP7rY/qdmxWLJ92MzFWh+O17WzA/QUtu5MC6l6Zguf1a/H7FSuTPykb2rHz8c/PrGGNfjsm/Xy5yEBEREREREREREdGZ5ncQffA9DyAKq7C4xKal6DR8hqV/PoSQu+7G9VqSmwYH9q17BznPZiJTDDn5q7BD102Jbd1bIj0f28S4dXmOkidvnW4+DXbs+GfT38/5YAdsvqLKMu8Hryv5Mp99HasO+Mh4eAdW5f+hMd/Snd6bezsOfIbFb6jzzcx+B6ua5XPAbrO3HuS+Jg3F5mI8OcIIg5bUqHYVij9yIOSRF5A6QEuTjAn4/dR+wKpilHpZ7URERERERERERER0evn/YNF+8UiIBCreL23Wl7fjn4VY7LgMd8eP0FJ07J9hZvwQjJ+cg6VfWFFnq8LS16Zg4siJKNivZqn7bwXK11Up03Xsk+NrseW/deqH9q2Yc/cITHxc/L1Il5+9kyH7DZ+C5d+qWZpUo2iyyJu9VMlXVpKHKbfEIHOde4jbvu113C7mP+W1pdhhq8GOjwuQmTgCozLWQR8it3/8FEbdMgkzF1WhBnWo/ngOpiSaMOXvTRHtfQsmYsSoEbj1DYuW4k0oHpj1FCJ7aW897azAOvFiihYr2EPY2ASE4DOYt2sJRERERERERERERHTG+B9ERwjib4sE9ixGyV4tSeHAqn+uAvrdjcQhWpKO7Z/5KK0Ow8NLt2DLykK8vmAZtmyejwTDDvwhT4aOgdD787Hx0zmQvZyETysW42bk3x+qfLb1jYfx1vZr8dSKSmwR6fKzSvn3WIWnnl4KtwbaomyfXf9PVG5R86nz+QFL39A9xLNhK+Y8nIeqoRlYWVWBjxbk46ONlVg541rYPpiCOY3dvlvwzkvLYR+TjS1bliF/1utY9K+NyL/dgM8+KmucnvEnagc2xp7N2pf7zXHQKtZiGMKv0hL0ftITvcXLzv1t6yueiIiIiIiIiIiIiNougCA6EJI0CXGoxjuLdQ8Y/XYpFq8Coh6ahDAtSS/knnxs2bUSGcONWopgHIPxN4vXHZZmrdrd1C5H/qIfYLj/90i7Whek7hWHF/72T2z8090efbAn4MnJ4U3dpRjjMOke8W57FbRG73D8Mx+L7ZHIeuthhHXVEoWwyX/Ab0McWPyBGtgHfoC9WRcqRoyZbcaW/Aeghvjl8hWisrISH/2PKyVwNd9Wa2Ne9AuHvocXIiIiIiIiIiIiIjpzAgqiIzgBk+43uD1g1Pr3xahAJBLiWnikaIMDtsp1WPVX2Vf5U3hwfAym/FP7rCX792KreIkb07yndeOV4QgJ1t64XBOBAbrAuHRZ337amGrf7grxvw2r5mn9nDcOi6F8NdAY2I/EA9OuBdZlYsRNk/DUG4uxrtIGR4PyoRuDoe2t0KUel7Sw7mw1OKSNEhEREREREREREdGZFVgQXbj+1rthwCqs/Fj2M25BSdE+IG4S7u6jft7M/ndwT8QQjLpjMn6fJ/sg74Frk3Lw1Bjt85bUVLt319IObN/KkHQ1qrT+1fWDtetlCOnbFBAPm7wMW97Lwt39bViXNxOT7xiFIRExeErXJ3p7CAmRQfQjOPKD+t7NDzZlHQy+ou0t3YmIiIiIiIiIiIiobQIOouP6FDzcD1i1fBUclaVYWm3AA5MSmrpQcWPD0hdyUHFRAuZv3qv0af7RgmxkTI5D2CValpZcE4EI8XLI1n5B6wEDZaczCfhDudpverNB11WLZBzxALIXrcSWXXtR+WkhfnvtISx/8oXGlvjtYmgMYnAIqz5r3rmNbX05LAjDkIFaAhERERERERERERGdMYEH0RGOBx6KBD5ehpwPl8NmuBuJzXtb0dThh+/Ey80TEddLTVE0fAbzam28Jf3GYEw/wLyo1KPvdAfWPRuL26evarlPdS9Cx8QhFMtR/E+7luJixfL8xfjsgGxhL9RasCr/D1hcqb6VDH2ux8Mpsgn9PjTF9R2w2+zi/1MQYkKcWKWWvAJs1XcX07ADi/+8VayHOIy5UksjIiIiIiIiIiIiojOmDUF01wNG12HxomqEPpKCSC29uVBc+wsD8NHrmLnOApvNBtvedZgz+UksPqFlaWRET5HVsmIpPqu2wnZYpoXj4ecSYNyTg3seX4wd1eLvbRasy56Eye9XAxGD3VqN++Xqyci6/RKsezIeU/66A1ZZpuodWPx4Mp565XWUfqXlM/wAc14BZj46BUv3yvnaYP3sHUzNXucW1N63YCJGjBqBW9+wqAltEoIHnk9DqH0xkn+ViaWVVlgrVyHnvol4q/oS3P3CFK8PbSUiIiIiIiIiIiKi06tNQXQEx2F8nByJROo94UqSL9enF+K3v9iHxZNvxahRozBqwmR8NvwtZCdoGRpF4sn8VITvyMOk2JsRO08+UhQw3vw6Vs6/Gz1XzcTEWPH3o27F5D9bMWZGMRb9T1v6CTdiTE4Z5t/TG+uyJuJmWabYiZi5qifunl+G7DFaxzRdI5G1NBtxXVchc4Kc7yjcPCkHFf3uxvwlTzUGtY0/UR8KapTfAJyKIU/ho8JURFQvReYdN+PmO6bgnR3X4uH88qYyEREREREREREREdEZFVRff8KpjZ9WDrsNdgdgMIbA2EpM2HHYDvQyevSz7uo2xQDjT8VnXbXkU9Egpvm9Ns0Qz/k1aSz7RaLswVqijsMhpmBov0C347CYH4wI6cXgOREREREREREREdHZdMaC6EREREREREREREREnU3bunMhIiIiIiIiIiIiIjoPMIhOREREREREREREROQDg+hERERERERERERERD4wiE5ERERERERERERE5AOD6EREREREREREREREPjCITkRERERERERERETkA4PoREREREREREREREQ+MIhOREREREREREREROQDg+hERERERERERERERD4wiE5ERERERERERERE5AOD6EREREREREREREREPjCITkRERERERERERETkA4PoREREREREREREREQ+MIhOREREREREREREROQDg+hERERERERERERERD4wiE5ERERERERERERE5AOD6EREREREREREREREPjCITkRERERERERERETkQ1B9/QmnNt4mTucp/TkRERERERERERER0WkTFBSkjbWN30F0b8HyU505EREREREREREREdHp5qsxuD8x7laD6K6JM2BOREREREREREREROcSf+LfPoPoLf2xr6g9EREREREREREREVFH5StY3lI8vFkQ3Vdm98C5+pkrC4PqRERERERERERERNTRuOLcTSFs91i2rzi4Pt0tiC4ztBw8bxmD6URERERERERERER0tnnGub2TeZoHzSV9rLyL8r/gGUCX75unqYMnV14iIiIiIiIiIiIiorPNV8xaJjUlqyMyBu6Z35UmKUF0+cYzgK5G4dXxpj+Wr/K99s7tMyIiIiIiIiIiIiKijkMfw1Zf1Bi3i3uMuylwLrkC6UHHj9c7PQPo+ii79GNtLew/HoXj+HG3dCIiIiIiIiIiIiKizkDGvQ0XXIBLLrpIDMGNsXC9xsC5Lt0tiK4PoLvGv/u/I0rw/NKf9MRFwRc2mygRERERERERERERUUcnY95Ha48pMW8ZTP9pT6Nb0Nz1qh+XGh8sKhPFWznWmOGHo7ViOIorLu/T+AdERERERERERERERJ2VjH9//c23Sov0iy6UDcdlqgyeNzU0d8XK5Xjjg0VValct8gMZU5cBdNkCnQF0IiIiIiIiIiIiIjoXyHi3jHvL+LfaqFymqq9NsXA1Vi618GBRp9KNi+zChYiIiIiIiIiIiIjoXCHj3jL+rdIH0puC52pjc2dTS3T5xpVB/VBN0wfXiYiIiIiIiIiIiIg6O1eAXAuJC+4t0fXx8i7qiPpB0x/K4LmSRERERERERERERER0ztJi5UpMvCk+7gqQN/aJ3hhu1wLpTX9IRERERERERERERHRukoFwNRjuios3BdAlt+5c5KBvha7+IRERERERERERERHRuUjGxWVrc/VVjY274uRqmvZgUU8yAxERERERERERERHRuaypQbkaE/cWG+8io+ySmtkVcZdv1HQiIiIiIiIiIiIionORezxcHVxprl5durhGJP04W6MTERERERERERER0bnOFQvXx8T1sXK37lxkJvmhayAiIiIiIiIiIiIiOtd5xsb1AfUu+jcu3tKIiIiIiIiIiIiIiM4l+uC5672nxpboDJwTERERERERERER0fnEFTz3xhUzd+vOhYiIiIiIiIiIiIiImvgMorNlOhERERERERERERGd61yxcF8xcSWIzoA5EREREREREREREZE7GTtndy5EREREREREREREdB6THaP77hydQXQiIiIiIiIiIiIiIh8YRCciIiIiIiIiIiIi8oFBdCIiIiIiIiIiIiIiHxhEJyIiIiIiIiIiIiLygUF0IiIiIiIiIiIiIiIfGEQnIiIiIiIiIiKis8LpBE6eBBoagBMngPr60zPIact5yHnJeRIFIuj48XqnoL1VyfdyOPDNQQwccJWWSkRERERERERERHTqZDhSBrWPHnWipsaJw4eBH384iePHg+SnaqZ2E4QLLnDi4ku6oFcvoHfvIFx0URC6dhWfyNnReWv3/q9wRd8+YixI1AW17slXdbwJg+hERERERERERER0xsjW4D/84MR/9p/EwYNOhF51DBdedEx8chwnGk6omdpZt67dxP8X4NjRC2H96kL07RuE/gO64JJLgtClnfrqOPLDj/ixthYOx3HUy6bvp0H3bt1gMFyAi4OD0fOSi7XU9nWuLIc/GEQnIiIiIiIiIiKiDuer/5zE7t0n8fPQWlx4sR09DN1xycUX4cIePdCta9dmAcxTJeOcJxoacKyuDj/8eBR1jnoc+9GI/1qDMXBgF1zV/9Si6DLo/N3h/4PhgjO7HI7j9bi010/aLQh9rixHIBhEJyIiIiIiIiIiog5DtkD/+sBJbN9+EoOG/B8uMNQj5Ke9EHxhDy3HmVF7rA627w/juKM7dlX+BEOHdsEVV3ZpU4v0/3foO9Q5jp/V5ehhuAA/u+xSLbVtzpXlCJS/QXQ+WJSIiIiIiIiIiIhOK9mGV3bhIlugywB6cHADrri8zxkP2Epynsq8RRlkWWSZZNk82hm3SgaeT5w4cdaXQ5ZBlqWtzpXlOJ0YRCciIiIiIiIiIqLTSj5EVPaBLrtwkS3QL/9Z72atfc8kOW9ZBlkWWSZZNllGf8muT2TL7Y6yHLIsskyBOleW43Tr1EF0WbGPHwccjs4xyLIGsjMSERERERERERF1drKF99GjTuUhorIPdNllyNkM2LrIMsiyyDLJssky+tsaXfYd3tGWQ5YpUOfKcpxunTaILh8MK4dAf2ZxNsmyuspNRERERERERER0PpAxsZoaJ0KvOqY8RPRsdBniiyyLLJMsmyyjP7FG2VJaPnyzoy2HLFMgrbjPleU4EzplEF225u7MLbo7e/mJiIiIiIiIiIj8JQPThw8DF150DJdcfJGW2nHIMsmyyTL6E0T/sba2wy6HLJu/zpXlOBM6bRC9s2MQnYiIiIiIiIiIzgcyMP3jDyfF2HFc2KPjtHp2Uct0XCmjP0F0h6PjLocsm7/OleU4EzplEN2fytzRnQvLQERERERERERE1BoZBzt+PAgnGk6gW9euWmrHIcskyybL6E/Mrv5Ex10OWTZ/nSvLcSZ06geLEhERERERERERUWegRqfb8gBLp9OJ8vJy/PGPf8Sjjz6KJ598Em+//TYqKyu1HKemqUz+t3o93Q/iXLFiBVJSUrB9+3YtpXVtKdOpLscHH3yA++67r9nw4YcfajkCd7rXbVsEHT9eL+qhewWR7+Vw4JuDGDjgKi2143A4tJFOzmDQRoiIiIiIiIiIiM5R9fXAmn+dQP+B1QHHGqurq5Wg+ZYtW7QUd/fccw+ysrLQ4xS7Jdm9/yv8Z3c/jL2lG7p31xJ9kHlPZ8x00aJFmDlzphKfDQ4OxsKFCxETE6N92rJAytaW5XjuuedgsViUcVm+zZs3K+PejBw5sjEgHh4ejpdeekkZ98fpXscucj5X9O0jxoK0sjqVV89APluiExERERERERERUYeza9cu/OpXv1IC6GFhYXj11Vfx17/+VRkyMjJgNBrx/vvvIzk5GXV1ddpfdW61tbVYsGCBEqB2vX/wwQexZs0a5f3Z9uWXX2LTpk3K0FIAXZKfu/IG0qK+I2JL9LOILdGJiIiIiIiIiOhc15aW6A0NDRg7diy+/vprJUg+a9YsdOvWTftUdejQITz00EOoqqrCpEmTlNbbbSVbJJ/tluifffaZ0npbtr5PSkpSls9lxIgRWLp0qfbOt0DK1pblkF3o/Pjjj9o7/1188cUYMmSI9q51p2sde5Lz8aclOoPoZxGD6HqHsHrmMyhBEl7OGofLXKmrXsAzHxzU3gndjTBeejmGmiYiacwABPO3FET+ObkLSx6fg/LQ+zB7hglGLbnRN8vwzMwVODLmScy7f5CWqLJ+NB2z/mkHBvj4W0HdV4Gkl17AuN5aYjPe93OVn8cAnZFTFuDh67Q30o/7sXrxO1i29RDE9ZnQHaE3PYzH7onEZa1cABEREREREdHp05Yg+rJly5RuXAYOHIi///3v6OrjAZgyyC6D7V26dIHZbMZPf/pT7ZPAyGDq2Qyif/TRR3jqqacwYcIEvPHGG0og/e6771YC6TKg+6c//Qnjxo3TcvsWSNnauhyyW5YdO3Zo71p37bXXKt3ABOJ0rGNv5HzYnQudI7ojdMQNuOEmMVw/FFd034cN772CJ7OWYFetloWIWtZlECJHiauA/eXYVKOl6Rz8YjMOiX3thpHuAXTAiooNduUncti/CRWHteQzSncM0A2DemkfS45KLHruFZRsBYbc9TAee/Qx3HdLKI58+ic8M3u1WDYiIiIiIiLqTJYvX668/vrXv/YZQJeuuOIKmEwm1NfXd5guTwIllzU9PV0Zlw8UfeSRR/Dzn/9caXl+6aWX4rXXXvMrgH6myAC6q5sWf4ZAAu4dFYPo1AlchujbH8SDD6jD756dhzmPjURwTTnmvV+ptTglotYMGnkDuuMgyj/zbNl9EJs/OwQYx+HGcC3JxbIeq+3dEZV8OwZhP1Z/6r1V+OnlfgxwDTeEah9LOzZhQy0QOfkFPBY3EpEjImG6ewaeu3cAcGAVNhzQ8hEREREREVGn8J///Ed5veaaa5TXlgwdOlR57Yz9bv/tb3/DE088ofQKMmrUKKXLmvLycqWbmp/97Gf4+OOPcccdd2i5OxbZal6W3ddw6623ajk7PwbRqVMKjnwYvxnTHfWfrcXWc6R7H6LTLtyEcZcChz7bDLdQ+Debsfk74LKbRkIfl5Z2bd6AekRi6IihGDnQy992MPUeX6sZY2dgwYLZmHillkBERERERESdQnetTxWHH/06B5K3I5EB9P/93/9VxmUf6O+++y5uvPFG5b3smubf//43LrnkEuV9R9RaEF1+fq5gEJ06rbCrB4r/d2OfVX1PRK3pi5HXXwZ8txmbv9GSBLUrl8sw8hd9tRTNyV3YurEeiByKgV2MGBo5QPztemw+C626a3+0w27XD7Xu4fJro3FDMFCZ/zRm/Xk1th6wo/6k9hkRERERERF1OgMGiHtQoaKiQnltyebNm5VX1990BrILl+nTpyvjd955J/7whz8oAXXZCl12X/Pmm28iOjpa+ZzOPgbRqdPqbggW/9ejlv2iE/mt7/Um9MUhrN/s+vbJis2fHgIuN+GGy7Ukl8oNKJcx9BGRkN/pG4dHYwDsWL1hl/r5GXMQK16ZrlxcNA1LsFv7VGEYggdfmoH7ru+Dbz8rwZ+yp2Nq2m8w/U+rsT/wh4YTERERERHRWXbDDTcorwUFBfj++++VcW9ki+1169Yp47GxscprRycD6NOmTVO6cLn33nvxyiuvKAF0+TBV+YDUP/7xj+dUVyjnAgbRqfNqUF+6sxYT+a93NEwDAPuGCihh9AMVWG8HBoyOxmVKBpd6bN4ov8kfhEFXHlNbf3cNw9BQ8cnGrdh1Rlt598WEGbMxe7Z+uA/ytyhuLh4A00PPYl7ePMzJehL33SIWdGsJXnluESrZ7RMREREREVGnIrs3kQ8NPXz4MH7729/i+PHj2idNvvrqK0ydOlUZv/322/3qP/1s0wfQH3zwQbz88stuAfTc3FwG0Dsghh+p09q1c6v4fxDCrlDfE5E/jIgaKaPo61FxADj4782wYwCihxu1zzWOraiQuxh2Yclzrtbfs7BMRt7ry7GhUn7WRj/W4pg26q/gi40wGvVDsNI63qsu3RF8+SDlwaKzp4wEajdgk1uzdSIiIiIiIuroDAYDFixYgIsvvljprkU+dHPGjBl44403MHfuXKSmpmL8+PFKkF2S94pVVVXKeEcl+0DXB9CzsrKQkZGhBNCDgoKUAPrEiRO13NSRMIhOnVLt/hK8t072M3EDRnrE/oioZcZRsRgCO7burkTl1kPAwBsR1Uv7UFP/5SbIGPqQB152bwGelQTZw5xspe7+CE9/XIawgd0B+2YlgO/m283YIPtp/1lP9FRTAlL57m/wm9+8iQ0e3TvVOwIvJREREREREXUMAwcOxN///ndERUUpXbosXbpUCaLL7k5k3+Gydfr999+Pp59+GosWLUJKSgoqK0+l1dfpIwPosoGaDKA/8sgjjQF0uUxSTk4OA+gdGIPozThQ/bdp+NWYaNwkhz+YtXQ6e47i66qt2LpFDOuW4Z3Xp+PJV1bjoPEG/O7Bkb5boxKRd4ZIREcCB//5DlZ8Awy5aSTcv4uyY/On8qJD5Bt5mXsL8MtNiL1OfLS1AlubdZGi21cbh104qMs3IP4+DMIhrMh+Bn9atVnbrxfhhZnLcBChSLrd2z7tbbpbsevbpgD5kBtMCEYlFv3hT1j9mZjnd1ZUium+XLAVCL4B0c36fiEiIiIiIqLOQHbpUlxcrLTSHjNmjPKwzbvuuksJQstA+qxZs2AymXDJJZcoXZFOmjQJO3fu1P66Y9AH0J944gkleK4PoL/00ku4++67lXHqmBhE17NX4M+PjsYtmaXY9/9ssMnh/9iR7tlnx+b3/oQ/vS2Gv67AZutFGHTLY3g5+0EMkc8WJaIAdVceFiqfylsrA+XXeYStD1dgvez+JDIKkQY1qYn425Hib7EVazfa1aRGun21cXgPlUe0j6VeN+DJnMdwQ+gRbP3gHW2/3oCDPSNxX9YMjOuj5XPjbbp/wntf6iYcfh9mPnYDQg9vRcmf5+CFzFl4U0z30M9vwGPPi2NFs+UgIiIiIiKizkL2FX7HHXfgz3/+M5YsWaL8UvrXv/61EmCXBg0ahPfff19p/HXkyBGlRfru3R2jX099AP33v/89Hn/88WYBdFle6tiCjh+vF9vQqb1VyfdyOPDNQQwccJWW2nE4Tktc24o/J43BK7LxZUg4+tktqJbzmViAXa+YlBztzcCgDhGdz+prYT92At0MRgS34/GwvtYOMdl2ny4RERERERG1TX09sOZfJ9B/YPVpjTXu3btX6d7lu+++w09+8hMlUB0WFqZ92rLd+7/Cf3b3w9hbuqF7K90eyLz+LsdNN92E//73v0pf6DKA/txzz6GoqEj57JlnnsHDDz+sjLeXQMoWSF69++67D5s2bcK8efMwYcIELbW5f/zjH/jd736n/HpAfvkRiLaWLVByPlf0lS36gpR+6QGn8qqON2FLdD0HEDI+B//61ztI4cMqiYhOr+7BSiuB9g50dw9Wu55hAJ2IiIiIiOj8cvXVV6OkpAR9+vTB//3f/+Gee+5BTU2N9unZddlll+HZZ59tDKDLftzbO4B+pshfBkjyS4vPPvvM52CxWJR8rvydGYPojXog+qVN+HRuMvox8EJERERERERERNTpXHnllUog/fLLL8ett96K3r17a5+cXTKA/te//lUZl63SH3vsMWW8MxoyZIjyKh/yKlv++xrk59KwYcOU186MQfRGIbh2eIg2TkRERERERERERJ2RDKD//e9/V/ob72hk8Fx269KZTZkyBbGxsa22MO/atSvi4+OV/J0dg+hERERERERERER0TpF9oncEn376Kfbv3984yG5cOjvZheo777yjdNeiXzbPQXb3kpeXh4suukj7y86LQXQiIiIiIiIiIiI6zdQHNTqdTuW1I2kqk/vDJFvSsZfDf+fKcpxuDKITERERERERERHRaRMUBFxwgRPdunbDiYYGLbXjkGWSZZNllGVtTfduHXc5ZNn8da4sx5nAIDoRERERERERERGdNjIwffElMgx5AY7V1amJHYhapguUMvoTRDcYOu5yyLL561xZjjOBQXQiIiIiIiIiIiI6bWRgulcv4NjRC/HDj0e11I5DlkmWTZbRnyD6xcHBHXY5ZNn8da4sx5nAIDoRERERERERERGdNjIw3bt3EKxfXYg6Rz1qj3Wc1s+yLLJMsmyyjP4E0XtecjEcxzvecsgyybL561xZjjOBQXQiIiIiIiIiIiI6bWRg+qKLgtC3bxCO/WiE7fvDHeLhkbIMsiyyTLJssoz+BNGlS3v9pMMthyxToM6V5TjdGET3KhQPLd+PXbvE8IpJSyMiIiIiIiIiIqK26NoV6D+gC/5rDcZxR3d88/9qzmrgVs5blkGWRZZJlk2W0V+ypXQPwwUdZjlkWdrSevtcWY7TjUF0IiIiIiIiIiIiOq1kC+9LLgnCwIFdsKvyJ6it7Yqvv/n2rHQlIuepzFuUQZZFlkmWzd9W6C4/u+xSdOvW7awvhyyDLEtbnSvLcToFHT9e7/T8lkG+l8OBbw5i4ICrtNSOw+HQRjo5g0EbISIiIiIiIiIiOk989Z+T2L37JH4eWosLL7ajh6E7Lrn4IlzYowe6de2KoECj2a2Qcc4TDQ04VlenPLRS9oEuu3CRLdBlAP2q/qfWzvjIDz/iu8P/B8MFZ3Y5ZN/hsuuT9mq5fa4sRyB27/8KV/TtI8bklyhyOZ3Kq+cyM4h+FjGITkRERERERERE55uTJ4EffnDiP/tP4uBBJ0KvOoYLLzomPjmOEw0n1EztrFvXbuL/C3Ds6IXKQ0RlH+iyCxfZAr1LO/XVIYPQP9bWwuE4jvoTp2c5unfrBoPhAlwcHHzags7nynL4g0H0ToBBdCIiIiIiIiIiOh/JcGRDA3D0qBM1NU4cPgz8+MNJHD+uBjLbVxAuuMCJiy/pgl69gN691YeIyj7QPWKldJ5hEL0TYBCdiIiIiIiIiIjOZzIs6TmcDjIm6jkQ+RtE54NFiYiIiIiIiIiI6KyQsUrZnYpsFd6tG9C9++kZ5LTlPOS8GECnQDGITkRERERERERERETkA4PoREREREREREREREQ+MIhOREREREREREREROQDg+hERERERERERERERD4wiE4diBnZo6IR7W2YZdby6DisKJuVgrhRwzF4sMgzcRoKt9q1Dz0Ekrc17TktorPhcAUK0xMQHT0Yg4dHIyG9EBWHtc9a5YB1RTZSxkVj+ODBiB6XguwVVpHqhdhXitPjlH04tciqJTaxrc/HtInadEYlYNq7FbA3aB/qNdhR8e40JIjpDB48vOV5BlI+wXGgDNkpoozDxbqIjkPKrDJY9ZmrC5GqPxY1G7LFkUunwQbz27KsuuPDF76ODx5lda0D7VM3YpvlPqjOM3u9lnY6dIi64WO9eKsbgv2LQqUeRQ8e4H0b6jTlHYzho1rKG0gZRN6SaeKcIKabWojmNV3HXopp3uqN1EJd87qO/J1nSzz3rRbra3Ot7j869i9ykaIsj27Z12c3W1a3wXPZAqifXucn+bWerShM9Z7HNej3Q/Ms73lOaVlPWQD7oxeBbFs3LdVxRQDl8na95e/xtIXp+rW9XOwWFMsyaHUuLiUbZQeaT9ValOplenJIRWG1lsnF7+UK8Lq4vZyp84D++HN163Wh/c8ZrZ0H2nid0tqyCN7KYPM63QCuKXT1asDVgR/P2+RM1RWZt6VzXiDlCOS44i2vj3s+92NmK+enPcVq3lbrYGB123M9KMerb7XP2iSQbdRcm88jREQdWNDx4/VOQXurku/lcOCbgxg44CotteNwnCMHX4NBGyGVrRgp0RmovjEZMf20NJfrJiHn3gjtjdBgQf6dccjeHoKohFiEX1QHy5pSVNiMSFz4CeaONWoZhUDytqY9p0V0NtjLMW10KkqPhsN0dxR6owYVS8thuSgRBZ/MhamVKmx5OwFxOVUI+UUiYsN7oM6yFqVf2BCRsQrLHw3XcskL52JMS85A2ffijbjYD89Yh1WPhqofCp7Tga0CxWsswNBMrFs2GY05G/c5MY2xyYgKQeM8Q+4twCfZJugPpf6WT7EvHwnjslEVEoXEseHocdSCtcsrYBNlWPW3yQjvKvLYyjF/zkqvwS3r+mKYq8V62y/Wm0xodnwAaj4vRvk+IOLZdVie2rT8kq+yGu8Qy5VrgmtTyGBg6n3zUSHfiHWZuHC/ONYoH7WvDlE3HKiYFYekArHGw0xI/mVvt7rRuF00rnkarjVh4nUir2sbGpNRsDEHpmAto+DK2zhdV94QkXetPm8AZVACO0nIWGEDZFqYqL8rdfXXjR1lT0Qjbbm8iNHVG5cvsjA4uRjhEyYiwmNdh8alY4pJVH4poHm2xI7y9NFI/dDeuG+p9dXP85k/+48kg0t/TEXSm6IGy7QG3bLvKEbGYqVmeziCqg/LUHWlbtn8rZ8tzU/yaz3bUP5mLlYeVNPdVJtRvN6q2w9tKE6JRoY1Bsk3em6FKEzKToZy9RLIsraDgI6Fnvzdts20UscFv8tVW4HsXyUh/0DTsb/xeOplGfxfXj+3l9SszjVd8yUXbEKOqensUzFzMJLeC0f8HRHoqaWpQjH+ySlw7b4BLVcg18Xt5QydB5rOlwZEjBX7olgPrrzGpAJserXp3H46zhmtnweaL0vr1ymtL4tkXzMNox8phb218gZyTdG43UIQMyEWoa1cf7SLM1VXWjvnBVIOV15783UalbUOJb/Wradm69/3PV/jNnUdM11lEMeUmf8qwaQrtYxCs+3v87olsLrtcz00RCBz9XJMDtPyBcD/46oXbT6PEBGdHbv3f4Ur+vYRY0EICgoSr07lVR3XkUF0h+O421BX53AeO1bn3LXvPzLA3uHU1Z0bA3mwzHOO69/f+cS/tPct2Pv6aGf//rc5F1q0BOnEXue8+P7O/oOed27RkqRA8ramPadFdObVOdc+Nah5HT6yzPmQ2Pf6P7ZM5GjBVwuVfXTYU2udR7QkqfJVuV+Mdr62W0uwLnLeJad352vOLd+vdD4hxsct+Fr7UKh533m/nM6zG93md2TlE85BIv2xUl3qv54Q0+7vfKhUP0fXPMc5F36lJUj+lk/xtXOh3G+HPeFcq8/85WvO0WIao1/fqyX4cHSt84lB7uusZun9Yj7DnM9vdFsq58rH5Tp/zLnsqJYk7Vbnc9sC9/nsfWucyDvI+fznWsKnM8T7/s6RU953fr1bXT5/jpGB6yB1Q1svntM5IurBMJF+119qtBThoDqt0X/Y4l42bRu65T0htpdI6z95mdt0XXnbVoavnYvuFNMMv8v52udiOz8lxuMXilTv6tbOEH8/zHlb4kixTkS909IbifrfrE43E9g8W1Inlkfub+518Ihz2WQxTc/62oz/+8/G38vpjXQ+tvRr594Fsn57WXZPWn1qmo7/9bPV+fm1nn1xlUO/fsQ1wC1inqK+tEmzZW0HAR0LPbX92NhqHQ+gXOr11jBxvHPbC8X6HybS73IuOqglSQEtr//ba8tLcl73OxdZtQTJdc1302tiSk1WPi7S/NgXA1quAK6L28cZOg8INX+5S0l7ucJ9impe3Xpoz3NGIOeBAK5T/F4W6egy52Nyup7l1aZ7/5Km8gZyTbHxWZn2kPP977UEhXY8F/cnG09oSe3mTNWV1s55gZXja+WcIKb/pZagcJ33xDFLt578v+fTjpnimFCpX8+uMrgda7Y4Xx4m0u5f5Pxan1fb192Or4HUbbGUyx4T0/U8bh8R+4y8Vr3/fac+t1/O0nmEiOhskfHv2tpjYqhzHjumxsRlbNwzXs7uXKjj+GovLAjHkFa+2AYqUPi2FaG/m+P+rXrXcEyeX4S83PEw1mppAeVtTXtOi+gsqC3D+x86EPLoTPc6bExE5u9CgbL3scympXlh+Vuh2EdNyMxqaiUtRUxJRzysyF+itbKULcV+V4JtxemI6uXlJze7LbD0CcekO2PcWmcZ428X0wH2HaxREwTrvh3ifxPGj3Fv0hQRFSn+t6DSor6X/C6ftKcYhXvElJ990b2V0tCpSBeFsL5dqLb89sG6OBuljlBMeTKxcRksuywICZuEiTFuS4X4RGWpUKNbtxVL8mHtNwVzPFryhP/6LRTNm4vxvbSfXJ0Qf//qOnwyLxmhXlZlu+kgdcOypkzkNuHFl9ynYxz7Cl4cK9fbMt2vAqLwyLw8vPU/UW71CENHQNaOii+r1PdStQVKTYp3n64rr2X3PvW9EFAZBk5ByeYSpP/C6F4GTw0VyJ5WDCTNRc6v3NupulgPyBJei3BdizWv/J1nixwoKymFI2QyZj6sr4NGJE6fglCI+lDawgYPYP9xGOORs/YT5CWF+lleB8r/mCvqUzzSf6OVLYD62dr8/F7P3hwoRLYoR+jv0pHY2FqwGntF9QkfqC+Yv7wsazsI6Fjoqa3HRj/quP/lsqBshdjLxr6IV9x+EWGE6SVRLnk9Vtp0JAhsef3dXlZU7TcgZMI9GK9vBS6u+RLvFNuq2iqm5GKFdbd4iQhv5ZcEgS2X/9fF7eRMnQekqEeQN+8tPBLpvpeq5/YKbHEdvtvznBHAeSCQ6xS/l0Wwlb4vjq7xzcsb/wxKxPnsQd2PC/y/phDbLH4u8hZlYmIvLUlhROQvReVxmFHl2aXQqTqTdaWlc16A5dgntit6xSN2qJag0NaTqB2WxvUUyD3fPlSKY6ZxQiwi9K2rjZEYdY14rbLo6mAVLMEhiE8aj1B93rBEJIu81uqmDRVQ3bYtw/tlQPxLr7gft8X58JniPOSlBP6rlbNyHiEi6gQ6ZRDdszV9Z3QuLEN7sx6QF6/90DvEAbu4yCgvr4LV7qXvnu1rsdJhgOkmecHjntcQFoP4CTEId93cBpK3Ne05LaKzYccWlIuX2Ouj1Pc64bckIgRmbPxSS2jGhoovxOX60FGI0V8QS8HxuFVc0DvMFeoF/ZWTkPNkFIy+fqp5YyY2bVyFdHl/qfetGpQIMfZQ3wuhYdeK/8UNoO4mVLIpNxpRGNF4XxBA+QRbhRyPwKjrPTMbxL5skplRcUBL8lRbjtw54kYsPh1T5Q2SJubZTdi0Wtzoa+9d1LKGwNh4fKjC2hXiuDE2FsrRxG5FVXm5uMm1wxEcjpgJ8YgJ024VTZkBBB9PQQepG9UW+a2IUbeuXAwwymnvqcSOBjUFfSLEtopHhPzVnZ5Wj9yCZP3CodSkf3tUJC1v1HVNN5j+lyEUk7JlYEeOt6zq9SdR6EjEK896BG909sn5hoQipEGcX/aYUWa2wN7si1n/59myKmyRG3zMKER5botrxiMxRKyrzz3WlU4g+48pIw/JVwZQg70FqgOon63Nz7/17I2PgHe1BcrVS9/e7vuy+mnLvAblT1Vgx0JPbT02tl7HAymXGuiWO1yzLRks9k3xYqmS4VApwOX1e3uJfa1AHNPnyfrlrtoqpmboqVvOfbDsEdWqj8hZa4fFXAbzHjFN17GqUSDLFcB1cXs5U+cBIWRovKhPEc3WrXq+1H1x0J7njADOA4Fcp/i9LKKWmdeYxcVCLGJked3qSggixPksfmjTVPy/pjAg/EbxtzeGN6tXSl2VXxp6dgd0qs5YXWnlnBdgOcIGio1xuAJVHv2Eq/t0DCJc6ymge74wDBHXgnZxznT73qChWuzDYrK/jGj6cq3fJBRs3IS8OzxqiyuvUmlVgdRtx2crxZLGiPUgaoDHuc1X/WzZ2TmPEBF1Bp0yiN7VV2CmEzkXlqG92b+TrToq8HLsYAwfnYDU1ASMGT4Y0anFsOhvRGqs4tQeit51pUiL9sg7tdT9wTyB5G1Ne06L6CxwHJQPAwpHeH8tQa9XT/QWLzv2+bokroFVXs+He2tpJy7o5Q2OuKCXt/xtY0f57FxxBDDhngm6S/2x6ZgZ6UBhWgpyV4gbGJsF5XNScdvMCoT+biYmNQZQAytfjZI5zOuNpeESuSbcW7nreWuF7pO9HC/PqRDLcQ/GNy6WTSyHuDXs7UDp1GgMHj4GCampSBg9HIOj01B6Sg+BapuOUjfCImQQYyu27FHfN2qowpbP5cgOWGX8wFOtHTabFVUrcpE6MQsVIcnIfEBXmq4mpGdFwVGUhpQ5ZaiqtsFSruW9cgpmPtBU59pcBl/2zceTeVaYXn0R8Z73k43ETa98AJm9GKmDxPllfArSUuIwfMgAxM0yi72jndWKG3aH3GT6JnYuRvSU+5W+9ZyHU9l/WuY9UH1q9VPvFNazr4D34SNiDxBXL7NGe+zLqShusdKfnlbop7o/tmnb+lXHAylXGIbIlqKfbxFz87B9i9g7hd1WrX4GuLxt3l6affnILhL1IDW5Kbgpjj9ymvaSVAwYMhxxKeI4M15Mc1Acss36WhXIconp+Xtd3E7O1nnAcdgGW3UVyrRze8i9mW59SLckoON1AOcB73xcp+i0vCw18lYCEMdX65wkj7qShNytfhzpvV5T6IljnE2UYY8ZhZlxSBF1NSorHaZ2vu/sKNcMgZYj9IFMJIdUIOu+DBSaLcq2KlbWkwHxr05FjGs9BXTPF4pJGckI2ZqFpKcLYd4jrvG2FyNDnF8KDfF4ZUqMls83yzvZKBTXlZPvbPoyIJC6XXNQ/WIF1blI8ji3JYn6Evg1xFk4jxARdRKdNojemYPQnb38p01oLEwxMUh+ZRU2bdmGbVtWoSA1CrbyDCT9vlxcJKnU7h1qsHDqNOwYk4dVW3Zi57Z1KMqIgWPFNIxrY144ZBBGXHh6DK5GPwFNi6gDUi+yfegXLi53W6IGfn0JExfap8LydorygEPTG3OR6BaECUXy63mY1M+M+VPFDUx0HFLfFPva2Jl46390rcYCLJ/t2xYy9xc3ZNpoMz5aoXvVYEH+JPkAKxPm5iY2tVo8oP6kvGZBGqZVxSJv5TbsrNyGdUWZiHGUYdr4DJS3d9dQSpDZ8/jW1FKyo9SN0AmTEAMr5k/PRYUMdkoNdpTP+i3mt1BE6+IkREePQcLU+SgPTsTcv850e0CcFHrvHOSlhML8ZhoSRkcjLlXkPWHCzD8+4vYT7LaWwStZB57KhSUmB68k+IwuCnYYr0tETFQs0v+2Dpu2iXPgJ8sxc0IILAUpSJEPFmtPthqlNaV3ofK+uUVt3n9a4yNQfWr1U6+t67mFgHfXUMSOjUHMva9g1SYxPTHNVQWTEfV9OTLuamFfbnMrdC1I5jk0tlA+tf0x4G3rdx0PpFyhmHhfDFA9H0/OroDdFbA6XI6sx+d7fLkT4PK2dXtJ8sF9d2Wjqt8UvPWU7vxz1IgRCTGIGpuO5Z9sUqa5btlMxP9UrJuUFOUhoqpAlkvw87rYbx3yPGBF4X3RiB6dgDRxbu9xx1wUZbk/iLMlgR6v/T0PeOP7OsWltWVRu/0wrMlG0rsGZBatw7bKndi2Mg/J/Sow/y59XfHC1zWFGzOejxZlGJ+CrPcsiJpeggL9F8r+auWeqKNcMwRcjmATMvPF9YG9GFkpccq2yhDrKSLlFWTGNX0rEeg9n+GmTBSIbX2kJAsp46MxZmIGir+KwKTsTMR7/lrOg3zQaFJOFULT3kK6rpuZQOq20k2NoRzZdxXCML0I67aJ8orjhfwlY8WbSW24hjjD5xEiok6k0/aJ3q2bOnSmblFkWV3lpuYi7s1BQVEe0k3hCOllhLFXOEzPlqAoxQB7yUKPvvXERb+4qFn+ajzCexlgMIYi5tEicWF8CnnXP49oeeHpMTy/XvtcEch8iTqWHsYWWlnZasQlc0uM6NnCXa3tYNuDfI03EL8uwlzPIMwX2Rgdm4ZlP52CgpWbsGnTJqxbloPxliwkxE5DeWPzmsDKZzS2lLmpJaAny4IsP1uhixudp5OQvT0Uk4q833DbHSbkiWWJv8YIQ7ARoTGTUZQ3CQZxc7ewpf6o20ANMnse35JQqN2IdZi60ScZeQuTEbJ9PpJGDMDwUdEYfPVwpK6IQV52osig/wl7k9AHSpS6sWllAab0N2PauGhMW6NreyX7ax49BmnLjZhSsErN+8ly5Izdh6yJo93ztrEM3ljffVLUgQhkZovpaWnehcD0u7koKspB8tBQhBjFObCfuAGf93fMjASqZue3b/+hor75Lo8NNa38GqKt+0/LHCjNyfYaqD61+qnXxvW8Zx6yfAW8r01GzkJxHfCkCeEhYnpimuGmTJQsamlf9r2srdOCZJ7DTLP2+antj4FuW//reGDlCrk3DwVJIajKS8LwQcPFMg7GgBGpWPnLPOQkiAyXGqF2qBHg8rZpewmuACZikPPndPeAa4gJU94oQpFYBxH9xPFBTDN06CRxfJ+JKFQh9y9Ntcr/5Qr0urh1HfM8IM6RS9Rz+6qCKQhbPw1x0fpzeysCOV4Hch7w0OJ1SiP/lsVh7430D4owOSZUlM0A4zXxyFnSvK64a/2aQhWDF+VybVon7lWSYX9d1LM78wP/5UIr90Qd5Zoh0HLYSlIwfGIW9o3NUb7wcm0r4/I0jEn2XE/+3vPZUPzQcCTM3Ifxry7HOmX9r0LBb41YNnUMkt5uocn1vnykPFIK3JiDd/RfzEmBXos47Og9XRwfHo1BqDiOG8TxIv7VkjZeQ5zZ8wgRUWfSqR8sKltzX3ABYBDH6c4wyLKyBXrgYkzyATpNfdqFXil7NARkX7ie15Cnkhc3vqheUHsML96ofhzQtIg6oJAQebNxBEe83SfabcrNxrVX+mqxFCL2AfFiFzcVaoIb2/ciNexqePnlZovkjeloeQNxRwGWZ8V47FvixmROPmz9pqDoz+kwXROiLEPo0GTkLMuByV6KNPmzZkVg5QvpK5fT7r0v5O+OiGmE4+qrtPcutaXIfVNc+rfaCl3c7KaPRuqHQOLC5Zjp2aFkv1ClX1bE3dq864OYWChHkxb6o26LxiCz21CCSdoK6Uh1wyhubjdtWY68jMkYb5qI9HnLsW1jDsIOy5Zhoejt7Z5ZBoXFMoRcY0J6wWrkmOwonSp/dq+yLc1Fvi0UUwqL1ICUzNsvAsnihtczr9SmMnj6thgZs6oQPn0OJvvZNUFzITDFh4ub43buPzSkt5iy2OJeN/gRGXsABoaKJfWuTftPa/bMQ26ZWLteAtWnVj/90dJ6dqB0jmwlHGDAu6V9uYVlbZ0rSOYxiOOn6tT2x4C2bUB1PNByGWF6dRO2/T0Pmb8ej9iEdOT9fRs2vRoGm9wNf67W4VNd3kYtbS8ZQL8zTv2y4IMiJPv704c+JowX5wr3voP9XS7fYtp4zdlRzwOGXuq5PdyUjoLVnuf21vl7vA70PODS8nWKu5aXpR+ulnUnbCLiPeuQ17ri0so1hRsDjHK5QkIRkZSDVcWTEbI9G1lLGyO+/mnlnuhs1RVPgZWjAvOeMwNj5ypfMMgvvFzbqujP7uspoHu+L+Yhaz1gekPUo6QIhCrrPxymJ4tQ8GgIqnKyUOxt9e/LR8K4bFQNzUTJn5MR7iVG4G/d7qe0DA/HxDjPc1RbryHO4HmEiKiT6dRBdDq3KP0ItvDApB6ui4vLQ5UbDPtxL3lPyP8M6NlTeRdYXoMWhPEYGr9MD2RaRB3RdaMQI24pyszNb9Fs69fCIi5qhwzSEpoJRVSM2BnWfAyzZ4umBnEzsUq8XhchphAAVwuc+LlY/aq3h9FVYaNsXPnLEc1/Zm2MwSh5w6k8vEgKrHyhUTFijy3Hx67Gmzrm9WXi/2sR4XGBb1mQizIxhcyMlluhqz/5Fov1xmrMHevlZrdrP3GTJV5rHc1vThrUFP3DpdqFK8jsNhhhcK3XjlI3lO4GxE2bMQLxj2YiJzsTkydEwNjVhor1FnHzK8upcsgbZJlXe9/EiJjr5U1jVePDw6o+lxs6EiN0P5VWufJWoML18+gAytASa2m+uM0W9WF2HAYMGNA4jMmRrdJKkSrfj8/X6q/aRYfXG06FWL/t+iV8BEaJhbCtMTcP2Hxrxtp94nY8Qg0ieNOW/adlWqDakIiZ3gLVp1Q/9dqwnrWAd3hGpveAt6u+aG+babbdWlnWVrmCZB5D48XKqe2PgWzbwOp4YOVSrgkPO2C8Nh6Tn81BzrOTEX+tOC7aKrBR1E/TTa69MMDlDXh7uVoAR2CKbD3sLYCudH0hpuk5fxfXphH8Xy4trz/Xxf7qMOcBrUsib8vmOrd/6fGQRl8COF4HdB5wafU6JZBlCUWo3HfsdV7qn7gekOtN90sEl1avKeSDJH0d1yLV5Td/KffJALR2T9RRrhkCKceBCpjFig//ZWTz7ehaTxXal2gB3PNZK8xi64Vj1HXNt03UL5WpwjXZRq6uoYZOQUnhZK8B9EDqdmg/Gc4+gjovdUA9Lnm0Wm/VmTuPEBF1NgyiUwdhw7Kp0Yi+bR6q3E7WdpSVypNtPEaNVFMwdCKSxbVCeX5hs5/dlZaIC12YMMJ17x9I3ta057SIzoaQWIyPFDdkb+WjQl+HG6qw6J0KoF88TLLliUYGKfX3hVFxyeKiuBQLPVo02VcsRKHIF29yXc77Qd8CZ14iQrwGA8IwRNyAyoewuR8XBPtWbJQPWxrY9NCjgMoXOR7J4v6gtKDY/UbdLv6+SGa+uekBU5LWCt1wR8sPPLO8nYC4nCpEZJQgL0HegnkTgYn3ilKvEeXyeCqTfcX7YgnE0STK42e9p1tHqRtm+RPy4Uhb4dGsbPsizBc3Y/GJ8WI+qpqSVJF3HHKVp/Hp2VBeJm4wDRGI0PoiDRP1RHlA13b1fRM7tn4ugwviZtDVpCqAMrSk99iZyJuX12yYqdSLKEyW7581KQ8+k18Y5Y6OxvAnSkWJdBosKP2bKF8/E0yu8rWLEMTGRSkB4vwvtCRNVaH82Xeo2Ga6VoTiZt4tQBPo/tMaV6D6yfRmfdkrAqyfvgW6npsC3m4PqtWxlaaJ+pKAeR51y172EZSrF11QVNHasraDgPZHGYA7rNuZA9i2gdXxwMplniWuCUekodRjN6z6y3yYxTXh7WOb9sJAphvY9tK3AC5CeqSXAKa0PRejvR0z9pWiWJynQk2mxvOU/8sVwHVxezlj54EaFE8WyzYu130+0rflWCn7Db8uQglitiqA43VA5wHJr+uUQJbFoJQHtkIs9Ow6Zvsy5cG2ob+Icltuv64pupqRHS2Oa1OL3Y9rknmtUq9jrvMrJO2/jnLNEEg5+oUrvwK0fL61+XrSHuwbMUj7liyAe77QMGWq2Phls6miqkKZqvtzRmQAfbTsGioRBYXpiPJxWAmkbhvG3i6OCDYU/qXcfdnEeli2RJ7bohDl1w7VJKBtdKrXCJ5/Lzn8TCMiOtOOH693OhzH3Ya6Oofz2LE65659/3ESnSl1a2c4h/Xv7+x/ywzn+19+7azZvdG5aPpoZ3+RdtuCvVou1ZF/PaHkHTbpNedKkffrL1c6X3to5CnnbU17TovorPjyNedoUV9d+5mswy/fKd73H+acsbZOyyTsnuccJ/Pd9JqzqWYfcS6bLPOOdD70+lrn3pq9zo0LHnOOlPkSFzq/1nK5W+t8Qnw+boHu0yMibZj4m/D7na+VrnSu/IfH8Olep6skrn1OlnfRxr3OmpqvnZX/eM350EhZjtucCy1aRkVg5TtS+pCy74586DXn2t01zr0bFzofc033Ky2TZu/r8lg0rlm6XmNZxfFhmecyiWGjRbd+XetgmFgH/6h0fm2tdK58/aHGsu49oeXT+2qhsk2e+Jf2XrIucj4UM9J51zvtcPzpCHXjxF7nwkQ5ndHOGYs3qtNZPEMtl+d0GuvROJF3rbPSKrfhIlHmYeLvxTH5HW91TuaV063xffwOpAw6a58Sn8f7/tzl6wXjxLSfEEvv7ut3blPK4qqPSvkmyWUZJrb5ES2XO2/z3PjSSOfImBlO/Sbz6kSl87WbtHWyVKuDL92llGHY9LWN+6Dz6ErnY+FyfTzmXHZUSxMC2X9cvC97nXPZY+LvBol03fSb8bd+6nibX0Drebc6T7c66unoWucMV92S69Gjvrjvyy0vq9/brlX+7o91zpVTZL7+zsdKm2balm2r56uO+18uwbLQeZtMN2nHfv01oX7fVgQw3QC2194Fal0ZPf39ZsdzOVQe1DKKOajHDNf81fPU/coxXqwHfbUKYLn8vi7uhOcBt3P7Wtd2eNl5l1xnPutZe54zWjkPtPU6pbVl8VHecfIY61FXArmmcNVVuc8uk/VKHs/FulfWwzBxTGk83nztXCSWd+Tdoq5rKW12xq8ZfJxnAzg36NeTvI+r8WP9t3rP17hN5bKI44K4FlH21d/L46D4+6fWiqXV6Lf/kubbdKW4HqzRsgZ6LdJ0vFrk3Kgctxc5Z9wi/97j3Pbpy+I8M9I541/u66Y5P7fRqV4jeP37Lc6Xlf3nfuf7jSvEWxoRUfuR8e/a2mNiqHMeO6bGxGVs3DNeziA6dSg1K2c4bxskT5DaED7S+diCLU0XHzpe8/6l6aJWL5C8rWnPaRGdDUc2vuxehwfd5nzZ7S5fOPi+8375meeFuriof/8x9SbCNYx8bJFzr88dwMtNr7gx0f99s8HjBunI2tec98e45xn0qxnOlV95mWmA5du7RNwQKBfv2hDzmHPRbo/MR5Y5HxKfDRI3Qi3t58rNnWs6XoZmgbiDK50zfjXILU+L69JbEF1Zl4Ocz3+uvT9FZ71uSEe2OBdqN6qtTuf7tc7X7nfPK8s8Y6WXOyxfef/xdfPtGkgZNKcaRBczdW6RN6j6+uhrWTTN5/m1c2G8SLv//aYb8ZYc2eh82a0ODnLe9pK44dcHfk9scT4vb1zdAjEqv/YfHa/LrgVAWgxUa/yqnzre17W/61kLILQW3Je87ssLnVs8i9bisga47Vrj5/645QX1C4RmwaYAt62e7zouBHCcOFKxUPvCVBtaut4K5Pjj1/bStocuj+fgdiyWxwyP+SvnqcZAe5NAlsuv6+JOeh7weW73ss5Up/Gc4XkeaK/rFG/L4rWuvOxc+732uSawa4o6596lT7hvNzE0r9fqOhz0whbt/ak5s9cMvs+z/p8bWlhPHutf8vuer04sy1O3OQfpptm4r+rPp9p1XGOeZoPHcTOgaxHv5zbP9aAen/0MRPuzjU71GsHr329xviyPkeEPOZc1ltNbGhFR+/E3iB4kg+iC1i5dJd/L4cA3BzFwADusojNP9gNpPyH7/TQ2/lTNFyUvjAjp1VrOwPK2pj2nRXQ2tFqHHQ44DAbv+6DsA9bugMGo6yPzdJP9Qx71c54BlU/2J2oXyyrWxRlbGB1luQDjT3V90/rJWpCAMbPCULB3LkwB/m1LOkTdCGQ6skuK7/3choHkPRv13FUfu7Ww/n0qR8aAVFRkrMOqR713P+JVa3VQrDOxFnzUzzO//7TP+fdU1rMPgRyjmmnjtmuNH3VY7M7KA/CbO43bNoB9S+0Kwr9rwoD22VPaXj645n+RmGYr3fUEslxKnfdxXdzpzwPttR0CmWcg54FABLIsgZQ3AI31ytvxvDofCaOzEbZwP+aO1dLaQUe5ngzk3NDievLg/3RPw3lFCmgdtXzcLn96AFK/zMS6lZMbu5lqVWvzP9VrBF9/L7vS8SeNiKgd7N7/Fa7oK/sCDUJQUJB4dSqv6ngTBtGJiIg6KeVm6PBc7FzY8sNO6TyhBEgWwrRsE9KbPTyPOjRuO2ojngfIb+UZGJBag7mVBd4flEznOCvyJ47BwhuXY9P0M/zsHSKiDs7fIDofLEpERNQp2VDzXyBmbAwDJ6T61gqLYTxiGYTtfLjtqE14HiD/2cRxBjHjEcMA+nnKBuseA8bHMoBORNRWbIlORETUScmfGDuC2/en4NSJyZ9c1xra92fkdGZw21Eb8TxAfpPdzZwQxxlWlvOU7FrFAUMbug8kIjrXsSU6ERHROc7Qi4ET0pF9jjII2zlx21Eb8TxAfgtuoV9qOg9oz1VgAJ2IqM0YRCciIiIiIiIiIiIi8oFBdCIiIiIiIiIiIiIiHxhEJyIiIiIiIiIiIiLygUF0IiIiIiIiIiIiIiIfGEQnIiIiIiIiIiIiIvKBQXQiIiIiIiIiIiIiIh8YRCciIiIiIiIiIiIi8oFBdCIiIiIiIiIiIiIiHxhEJyIiIiIiIiIiIiLygUF0IiIiIiIiIiIiIiIfGEQnIiIiIiIiIiIiIvKBQXQiIiIiIiIiIiIiIh8YRCciIiIiIiIiIiIi8oFBdCIiIiIiIiIiIiIiHxhEJyIiIiIiIiIiIiLygUF0IiIiIiIiIiIiIiIfGEQnIiIiIiIiIiIiIvKBQXQiIiIiIiIiIiIiIh8YRCciIiIiIiIiIiIi8oFBdCIiIiIiIiIiIiIiHxhEJyIiIiIiIiIiIiLygUF0IiIiIiIiIiIiIiIfGEQnIiIiIiIiIiIiIvKBQXQiIiIiIiIiIiIiIh8YRCciIiIiIiIiIiIi8iHo+PF6p6C9Vcn3cjjwzUEMHHCVlnp21NdsxZL8RdhwoFZN6GJE5B1pePCWAQj28hWAfWsJ3vlbOXbV1KsJwaEYmXg/7osV+dUUN7XfbEDJX0qapt/9Mgwak4SH74qE0WP6h1a9gGc+OKi9k7rD2KsPBsWL6Y9xL0/zvE1GTlmAh6/T3hARERERERERERHRGbd7/1e4om8fMRaEoKAg8epUXtXxJl2fe+75F7TxZo788CMu6/UT7d1ZULMaf3huESrrQzHu7nsQFzMMV3U7gI9Xr8Snh/tj7PDe6KpllQ6umoVnCrfiUNerMPKW8Rh/XV8lCL/1sw349FB/jI7sje5aXqn2y3fwzOwV2P/DZRgydjwSrr8K3Y/+B//+YgNWV/bAL24IwyW69VW7rxwf73QgdEQMhoZfgSuu/Dl+2vA1Nn/ycbPyNM/bNFwzaBiu6KllJCIiIiIiIiIiIqIz7rvD/4eel1wsxpoC550uiH7wk0KU7uqBCZnP486hfdH38p8jLNKEq38ow6frf0DfuGj8vJuWuWY1cud/hh+vTMILMx/E6EFX4edh1yI6diz6H/oUGz7bipMR43FtLy2/oxKL/vAhvuoxEr975SkkDA/Dz68ahKgb4vALw79Rbv4Mu3vEwBTW1H5dDYwHI+63T+DOmGEYdt0wkf9G/OzrMmz+wo7LxsTgCoPvvK6BAXQiIiIiIiIiIiKis8vfIHrn6BNd65nFZdD987Bgwe8wUgtYS9aNq3AQfZE0eRz6ui1VMIbc/jAm3BSJ4Fq7liYm+eVabBbTjbz/QQzx6Oelb9xjSLocOLh6A6xamm/BGHB1X/F6BLV1agoRERERERERERERnRs6dBC974gbEIpDWJEzHXOWlmPXN7We8XSNHV/vtwPGSAzqrSXp9RqCiQ88iAlDjFoCYN23W/w/BFHX6Tt4cbkMg4aJvPb9+Lop7u5DLfbvlX2f90RwDzVFr/ZHO+x2/eBrGYiIiIiIiIiIiIioo+nYLdF7j8OMlx7DuKuBXf9agjkzn8TU30zFrMVbccgtEn0ctT+Il4uDcaGa0KraY3ICwQjWtWbXuzD4IvG/t9blh7Dpo0VYtFgd3pz1NN75Ukxp1DiMbIrRaw5ixSvTMX26flgCGb4nIiIiIiIiIiIioo6vw3fn0r13JJKemo0F8+bg5czHkHT9ZbB++ic8M3s1Dml5FLJB+cl6/1t5a0tef1J99VTfIP/vBrcnlyrq8e3e7dheKYbPNqDSWo++cTPw8qQhbg8tVfXFhBmzMXu2frgPA7VPiYiIiIiIiIiIiKhj6/BB9Ebdg3HZlZEY99ALePmuvsCBDdhao32GyxA2oDvw7XbsPqwl6dkrsWLxIpRsaQq7XzFgkPh/K3btVd+7s2P3lwfFPMMQdqmW1KgvJk6fjdk5YnjpPgwQKQe/FdP1sSaDLzbCaNQPwV6C7URERERERERERETUEXXgIPohrM7+DX4zvQT7PVqL19c1b28+YPQ4XIb9WPZRJWq1NBfrx0uw7NPNqL/4Mi0FMI68AZGoR/kHq3HQY/q1Xy7Fsv3AZXEmJUjuUy8T7o4NBr4U07doaURERERERERERER0zuj63HPPv6CNN3Pkhx9xWa+faO/OtGCEwILVn2/G1p0O9PjJJbj4xEFUrl2Cd/7xFRxXjkfK+DCRS3PJIFxr+DdWr16Nsi9q0OPCINj/325sKJqPv2w+jODrp+C3t/RuagXe7ee49soafCryr/50BxyGi+D4zorKsoWY8+Fu1F+ZhKdTh+GSIC2/ULuvHB/vBK692YQw2WW60GvAT/FV2WZs/qoHYkxN5VHzHsXFPwtB0Pff4tuDTcORLpfhsoub9RNDRERERERERERERGfId4f/Dz0vuViMBSEoSA0Ey1fXuEvQ8eP1TkF7q5Lv5XDgm4MYOOAqLfVsqMX+VYuQ9+FW2HWtxY2RSUh7cBwGNEbQXepxaMsS/OnPG2B1NVbvYkTkHWl48JYBCPbS7r7WshqL8kuwtbEbmO4IvelhPHZPJC7z6Hfl0KoX8MwHQNJLL2Bcby1ROFj6DF74xyEMmTwHv/ulWig170Fl3FPfu17GC3FNreKJiIiIiIiIiIiI6Mzavf8rXNG3jxhzBc6dnTGI3qT+RzuOnQS6XWhEsB+ditfXyvwXwnixnz2QO2phdwAXss9yIiIiIiIiIiIionOev0H0TvNg0e7aAzr9CaBL3YNFfn8D6JIhmA/9JCIiIiIiIiIiIiI3nSaITkRERERERERERER0pjGITkRERERERERERETkA4PoREREREREREREREQ+MIhOREREREREREREROQDg+hERERERERERERERD4wiE5ERERERERERERE5AOD6EREREREREREREREPjCITkRERERERERERETkA4PoREREREREREREREQ+MIhOREREREREREREROTDuRFEP1yBwvQEREcPxuDh0UhIL0TFYe2z1jTYUfHuNCSMisbgwcMRPXEaCr+wax96csC6Ihsp46IxfPBgRI9LQfYKq0j1RuQtmYY4Md3o1EJYtVTJWpSKaJnebEhFYbWWiYiIiIiIiIiIiIjOus4fRLeXY1psErJKHYgYOxETJ0TAUZqFpNhpKPcVC29kR/nTo5E0sxSOiFhMvGM8ImpLkZU8GtPWNP9jy9tJGDM1H5ZeMRh/x0TE9LIgf+oYJL1t0XJoHFYUTx2NMU+XwmKzwfaNe5jdZjHDdrg3okyxiHUbRiDUoGUiIiIiIiIiIiIiorMu6PjxeqegvVXJ93I48M1BDBxwlZbaETlQnj4cqR+GI3P1ckwO05LtpUgdPg3l8XOxMy8RvuLSjjXTMPyRUoRnrMLyR8O1VDtKHxmOaWviMbcyD4nBWvKBfMTFZqPmjgJ8kmuCUUuumj0GCXnAlJXrkH6NTLGi8K4xyPoyClOWFGDIkuFIq8rEupWTEar8BVD2xACk7XZPIyIiIiIiIiIiIqIzZ/f+r3BF3z5iLAhBQUHi1am8quNNOncQvbYUaUOmoeLREmzKiNISVZY5YxD3Zj/kbCpCcoiW6MaB0rTBmFYxGSUbMxHVVUuW9uRizPj56Je9CUX3qn+sTi8MOdsKkOyKoEtaGcp/XYKdWbIMVhRmFiNiejqiegHl6QOQ6hZEtyJ//BhkRxRgf65JSSHpEFbPfAYl34jRy5PwctY4XKZ+0ORwOV7JWIL9YrTvXS/jhThXDt3fNjMSv1vwMIYo45V45zdvYrMy7p37dCUrlk2fhRV2YMC9szEjVr/xXZpPN7iXEZeG3ohf3T0Bkb27a6nNWT+ajln/lBO/D7NnNH05o/jyHfxmfoulRdJLL2Bcb+2t5NiMNx9/R5SoO0xPzcN9A7V0IiIiIiIiIiIicuNvEL1zd+eyYwvKxUvs9e4BdCn8lkSEwIyNX2oJzVRhi/zjMaPcA+jSNeORGAKYP6/SEmyo+MIKDB2FGM8YanA8bh0LOMwVWr/noZiUrQbQvdsHyx4gpI+YQa0dFnMZzHvscDRoHxPwTTk2eAmIH/x0tRJA96l7KCJvugE3uA2D0FP7GGJskO6zQZfKtMvc0kZefoGSs9GBCqy3G2EU233/5gq02EPQpYMapxMZfjmOVK7An557GnM+Pahl8GRFxQa7mLac+Kbm/fj3apqeXA4ltK+bxw03jUTfHkrORvVfbkIlZHnrsWHLLi2ViIiIiIiIiIiI2qpTB9EdB+VDPcMR3l9L0OvVE7KB7o59+kd66tRWw+oAwsNdfcDoGdFTfgFRZdEC4zWwym7Pw8O9dL9igFEGzPdUYp+a0LJau5gaYC9JxYAhwxGXkoaU8cMxeFAcss2tduJ+7uvTF31ly/JPPMPlB7H5s0PA5fJzH0KikfTAg3jQbbhBt81CcYPus3FXy7QBGKdLmzDE/VuS/ebVsHePwt2Jg8Sb1VjrtbW75upxjdN5cPKTmP3HFzDxylrsWrwAq+VG92RZj9X27ohKvh2DsB+rPYPtoTc0Te+BcaKkgn4eD0yAe3Ht2PxpJTDwdtw9ojvq15Vjs/en3hIREREREREREZGfOnYQvdYOm3wwp9vQ1Gq75mC1OuJNv3B4C483stXA91+Hyni5jg1WmzbqRZh75pYdNWJEQgyixqZj+SebsG3bNqxbNhPxP7UgPyUF+Qe0fOerLiNxw/VA/fpN2HVSS5Ms5Vj9HTAyZqSWcAac3IVN6+uBEUMxcthIDMIhbP7CV6tyL7r3xYS0+zAAB7FqY/Mvc3Zt3oB6RGKonP5A4NBnm0XOU3C4Aut3A32HDMTIX9yA7tiKii9F+YmIiIiIiIiIiKjNOnQQ3bo4CdHR0R5DEgq16HcPo9fOzlW2GrQQ9waCjfD91zbUfKuNKozo6evppILtoI/W7t6EmDDljSIUZScjol+I0pVH6NBJyFs2E1GoQu5fKrSM56vuGDQkEqgvR/mWpgBwY8B5oO/+xXGyFna73X2oPYUg8t6t2CD+PHLIQFEFhiJyAHDo083arxP81CsMg4yAff/X7l3BnNyFrRvlxIdiYBcjhsqJf7cem0/hSxT7tk3Yj8tEeS8DBkTiBrGqtm7eKtYbERERERERERERtVWHDqKHPlCCTZs2eQwlmNRP/TwkRIbBj+CIt15Q7DYliH7tlc07YFGE9FaC6Ee8/vERGYMHBoZqXYGEIPRK8WK3w1vvGLbvRWrY1dCK1TZ9TBh/jb5v9fPXhSNMMMkA8BYtAOzYjPJ19eg+xoSRFypZvPt2BV6ZPh3T9cP7u7UPA1e5sVwJ3EddJwP3RkSNHCDqwGqltbf/LkTwxeLlh1ocVxNUlRtQLmPoIyKhTH14NAbAjtUb2tqP+SFskl3gXDoSIy8Xb7sMQuQoMeUv12KDZ1/rRERERERERERE5LeO3Z2LbC0eEuIxGGFwPQj0ulGIgQ1l5uZhZ9v6tbAgHEMGaQnNRGBUjMi3xtw8aP2tGWv3AeER12oJoYiKMQBrPobZ8wGgDWZsXCVer4sQc/ODQ3ZR08KDRFto8X7ecAWAt27AZrt8WGYFtqI7bhjhc2Oq+kzAjNmzMVs/3DNQ+zBAjs1Y/5l4HTgIA8Q2k63aMWCoqAmBPrCzHvWyWxoZKW9Uj80bN4vXQRh05TG1xXzXMAwNFZ9s3OrejY2/vtmA8m/ELjMkDBdprfAvvzpSfLAfm7Z5+6KIiIiIiIiIiIiI/NGpHyyKkFiMjwQsb+WjQh+UbqjConcqgH7xMMkW5BqH3QZ7Y1PyEMTGRQF75iH/Cy1JU1UopodQxJuaWrFHxSXDgFIsXOreSYx9xUIUimnGm2K0lFZsz8Xo6OFIW+ER2NxXiuI9QKjJpLV+P78NMo3DZdiFit12pUU6Lh0HU2vx8C7BSvc4bkOwW/Tab2rgXti9BM+4WrVnL1O+cKlftwGV/ga6D+/G9m+B7gPCxPJoHFtRoUx8F5Y852o1PwvLlImXY0Ol/CwwB7/YjEPitXbdm02t8PNloB7Y/8km5TMiIiIiIiIiIiIKXOcOoiMEk16YglB7IZLGZ6B4uxXW7WXITk7A/Gojkl+c2tQ6fM98JAyPxvBxubBoSSEPzMSUfnYU3heHjJIqWKurUDYrCQl5VhiTZmLqNVpGKSYdr4wFzJm3IXVOOSw2C8xvp2HcE+XA0ExkJvjZhPwXk5E+FCh/Ypw2HSuqVuQi5S5RLmMiZj4cwENKz2WX3wDT5UBl5T+wrxK47PqR6Kt9dPrVK32JA0PwYLZ7y/YX7hog0jdjva6/dp9O2rHhryVKP+XjRsu/U9V/uUkJ0A954GW3ac/OSoIy9Y2bRQkCYcXmTw8pXzQ8qZ+eGB67qTvwTTk2fKNlJSIiIiIiIiIiooB08iC6MDQdy4smI6K6GBkTx2DMxDTk74jA5IJPkGPSBbaNIeqDRHv1bOoxpWsE0v9ehMkDrSh+OgFjRicgraAKEakF+OQPJo+eVYxI/NMq5MQD5W+mIi46Dik5ZUD8TKwqnhxA6/FQTC4sQWbjdMYgYep8VPRLRt7KuTAZtWznvcsQLQPPn5WjvH4Axt3kRwj9x69RuWWr0nK9adiFg946sm+JfTM2fCleI6Mx8lL3lu19x8RiiPiosb92vUO7tHluxuqlb2LW49Ox6Mt6DLh7KibKfsoVdmz+VDY1j0T0yMvcpm283ITY68RHWyuwNZAyW9ZjtV1+0XADBumnJ4bIm8aJmnsIm784qGUmIiIiIiIiIiKiQHT+ILpgjMnE8p37sXPLJmzashP7dy5Hpmc0uk8yinbuxM5lHgFvYwwy/y7+pnIbNm3ahp17d2L5syYYXf2u63UNR3LeJjF9mXcTtol5bsqbhPAWGqGbcvdj/0rPeUZhsn46laLsf89BfB/tc1IYR8VC9uqNgTciqpeS1DL7Zix5+0/4k9vwHiqPaJ/7oPRZrmPfsh6y13PXQz/dGCIRLQu11csDOy2rtXm+g5J/7caRy0fivulzMOMW3RcAhyvUB5NGRiGyWb3pjsiRysSxdqOPfswbmrdR37V5A+pxGUb+wssXDVeOxI2XAodWlbetr3UiIiIiIiIiIqLzXNDx4/VOQXurku/lcOCbgxg44CotlYiIiIiIiIiIiIjo3LB7/1e4oq9s2RyEoKAg8epUXtXxJudES3QiIiIiIiIiIiIiotOBQXQiIiIiIiIiIiIiIh8YRCciIiIiIiIiIiIi8oFBdCIiIiIiIiIiIiIiHxhEJyIiIiIiIiIiIiLygUF0IiIiIiIiIiIiIiIfGEQnIiIiIiIiIiIiIvKBQXQiIiIiIiIiIiIiIh8YRCciIiIiIiIiIiIi8oFBdCIiIiIiIiIiIiIiHxhEJyIiIiIiIiIiIiLygUF0IiIiIiIiIiIiIiIfGEQnIiIiIiIiIiIiIvKBQXTqdKxFqYgeFS2GbJi1tDNufbZWhlQUVmtpZ5j9i0JMmyjKMHgwho+KQ8qsMtgatA+JiIiIiIiIiIioXTCITp3P0WrYvrWJoQYOLemMc9RoZaiG4ywEru1rpmF0chZKayMQe8dEjI8AzAVpiL4zHxYG0omIiIiIiIiIiNoNg+hEnU1tKWY8UgrcUYBtqwuQk52DnIWrsC0vEYbt2chaatMyEhERERERERER0aliEJ06GAes5kLkZmYgQw6z8lG+r6X25iL/ilw1b2YuinfYtXTNjmLts/ko18eWG9MzxN94phWjSryV3aVkK++zkV9u9aPVux3mPHWasixl32rJ7cxW+j7KEI8XXzLBqKVJxvhnUDIvDw9GaAlERERERERERER0yhhEp46jwYL8uwZjTEoW5r9XjGI5FGQjddxgJMyugEd4XLF21miMmTpfzfvefGTcNhwpJbpo+cGN2mfLYKnV0qTG9GJsPOiZthEVJSkYnpyFfOV9PrJTxyBhjgyt+2Z5OwUps9VpVl01EfF9tA/2lWLaxDikzDF7XYbAOGBeYwZiYhETLN7W2mExl8G8xw5HQwgiJsQjfmiImpWIiIiIiIiIiIhOGYPo1EE4UP77JGRvVd+F3zsTefPmYsqNalvrqrxU5H6hjOqUorAkFMkZM5F5b1Rjq2zzc/NQoY23TRmyZ1XD9LuZmPk7E0K1VMub2Sj20VOK7KM8KUcNshvvKEDRo+HKuFT+1jSUbrfA/GYWig9oiW1WgxqreOkDWOckYcCQ4YhLSUPK+OEYPCgJuVtPPUxPRERERERERERETRhEp46htgyLStQAsCGlCKuyJyF+QiLS/1yAKdeEIDzGBIMSPdYLxZTiEuQ8OgmTs0tQ8KjWAttRgYpqdbRtHDC9tAoFT07CpCcLsPxVk5ZuRoWXxuiOXflIeaRUbWU+NBMlIr++m5WwCK1/FWMUwk+5kfg+VO4R62hNNpLeNSCzaB22Ve7EtpV5SO5Xgfl3pSD/lAP1RERERERERERE5MIgOnUMO7bArI3G3xijjQldo5C+chNWFc1F5gRXm3CXSIy4RhsVQn7aUxtzAA3aaJuEY8R1Bm0cMPZqConXNZuuBblp2Uof6ug1GSV/m4zwrsoHjUJTl2Pntm3YuSUHJtkFSztw2Hsj/YMiTI4JhTHYAOM18chZMhNRoiS5fzm1dvhERERERERERETUhEF06hiOHGl6cGc37bWzOZyPrHc9W8urDEYjDB7B9bbph6vDxEvYRMTLV70+Joy/BnCYK+C9FEREREREREREBJzE1x87MP2uY4gcWIt+YoiMr8OCj080xafaYEOWmE7kMfzFFZixOvBgpEjLOq4lUGfFIDp1DFddDVcv4tXV+o7Hbagqkw/OtMGufzBoGzhOaCOSfvwURUzPQ/pQdbxq1m+Rv08dPz1CEXqVeLHXeTmoO+CQLeUvNaKHmkBERERERERERHonTuCjR+ow6v4GLNnghO0oEFIH2P59Ei/dfxxhv3JgbxvjRo7vxXQO6mJQ4tUq3ttEOnVuDKJTxxAWj/h+6mjFnJdRrj0f07GnGE+myQdnRiNpcRvaV3d1hZMtWPhWGWwy8ny4ArlvlarJpywcEyfEY8rrmVB7Pq9C9lP5sOi7fdlXimkT45Ayx6z2m35KDIhPjBdH30IsXOMxte3LULwPCP1FFE6563UiIiIiIiIionOOE1uyjmPqcjHavwsWmnugujoYWw8EY9+X3fD4CJG+pQETs+qV3EQuDKJTBxGOR7IS1Qdy2kuROnwwokcNx+DxubDINGMiMu/17BPdDzclY5LWpbn9wzREDx6AASOSUHhxTGPL93YRNhlvPas9QHR7Nn77tlJqRflb01C63QLzm1koboeHfhompCNzqB2ljyQgo8gMi01MuygDcXfOh1Wsp5kPt+uSERERERERERGdGw4ex4vviFdDEBau7IFb+zeFRg29L8DTxd1wuwGwv3MCHx3VPtA4/nMcf3m1DtP/Vx2WVJ5CNwdH6/HxW03TevW9erXhp07lYvWzj2ucsG9y4CUtr88uZ76vxxJd+RYsr4fdWxFFvn/q5r3k36fWhc35gkF06jCMY+fik+JMmJRm1A7YvlVbWhuuTUbeyrkwNT3f039dozDzgxzE99HeCyGmHJS8GKu9az+hqW8hU+vWxTL7YeRuV8fDIrTgujEK4e3RRLxrOCYXliAzvg7Fz6UgLjoOKc8VwzpwMgrWtnE9ERERERERERGd42xrTmKLeA35TTfc2lNNc3PRBcgq7YaFC7sivDGy7MTexccQGXMCz75+EksWq8P0W44jctrxgHsdsG+ow6iwejz4opjO0pP4lxj+OK0ekdfV4eMjWiahZpOcjxMb/lKHayc2YIE2X9nlTOQ9Dnyt5ZMcm8Q0r63HdFG+v61Sp/nSI/Xi79y7plHmLfI9Iue9XOSVyxEvppd6HPrOlam5oOPH652C9lYl38vhwDcHMXCA7ICZ6Mxy2G2wi4OVwRgCo0FLPFW1dti7GttvegFw2MUh9aL2eriojsMOm1hR7bqeiIiIiIiIiIjOQR9Pq8WD7wG3LwrGvDgtsTX/cSA2pgF7ewZh9koD7pOt1x31+GNiPV79N3DDaxfg/Qe6KVk//p2Y/tIgPGe+EL/pr/vbu7uh+s0LRIL4u1vE31UG4fFl3fF0tPy7k9j7usj3qhNXP98da3/bXU5Km5YY0c/3e/G394lpuM33BJbcdRzTNwTh6XIDHh8k20w3iL934MFS4H/+3AOzbhZpR49j6rUn8FEP3fROnMA/nzyOR8R89MtxPtm9/ytc0Ve2vg1CUFCQeHUqr+p4E7lWiTocGRQOCWnnwHDw2QmgSwbjaQigSwZj+68nIiIiIiIiIqJzkfIMuyAMvVp555ct+Q3YK15vzblADTxLhu54/C9dIbtQ3yA+17cKb5n4u38Fo/qAQQugS11wdaIYxNjene4NnaWb9fP9aXc8/WoX5Vl4Gz5s0FqPO2H/ThmB4SJX4Lcrbn5TzidYDaALNpH/I4eY3kzd9Lp1E8sl8orRDYWBLMf5h0F0IiIiIiIiIiIiOk84Ya3RRlt1Al98IV+D8ItfeLSO7NsFY+Vj6XY51ef5BcBR14ANyx14VfZL/uAxRI5VA/XNBeGG4R7zHdYFN8jXDU6oPQl3x633qS2oX/rlMYy6qw6v/uU4NliUbwwabf9CDdDXrKlv7A9dGbJOokY2zvx34MtxPmEQnYiIiIiIiIiIiM55oVerLbX36jsK9+A4cgK2mhNKN8MyMO166ubPfqq+6hmUxuROLa8/GrAh6xjCBtbjnkcasGDVSXxxNAh3PhCktC5vqyt+Y8DGhV1w8zDg/204iT9mnMA9NzrQ71d12OLqZ12Lqe/ddBL/WqMfnPh/YtlC+orlUbOQFwyiExERERERERER0Tnv6rggXCFeN7xxApVe4+j1eEM+MPS6eixRWqt3wc/kH8CJPZ7NtE84sX2XHAnyv5vd/5zAswucwKAuWLnvQuz7MhhrP+iB5yZ3wU+0LO68tJo/6lQfZtpb+afpgisSemBRWTD2fdsDOz7vhqdlc/UtJ/G/RfVKjt59lRfcOTcYW7d6G3qoLdzJKwbRiYiIiIiIiIiI6Nw3qBt+JyPF1pNIfvI47PpA+okT2JJ9An+0ivEbuuDOUJnYFTeMUVuv/yVf5FfGVPblDfhIjkzQulfxx3+cSrctIXFdMaSx/3LA9vFJH925AEv+op+v+Pt3TuJjMWYQ8x0ikxz1WJJVh3ueOa41mu8CY+gFePxhrdX9HrUblyFjuigtzf+21H05cOQ4Xk2rw1/W1bsa3ZMXDKITERERERERERHReaAb7ivohtt7AvalJ3Bt2DHck1aH6WnHMCrsOCb+0Qn07IJFBYbG7lVCft0Nzw1T849/xIGPlh/HX7KOYUyaDE4H4bnnLvC/G5ToLrhVvNj+eALTZb/lG47jo1ePIS5LDXR7Y/j4BMbcX6fO93/rEJutzvfp31ygZRBl++wkNrwjyve/DvxT5Pvn0jrc86Q6zf+5r7vyihu6YdYNgONDMb2JdfiLks+BR8afwB8/PIn3drE7l5YEHT9e7xS0tyr5Xg4HvjmIgQOu0lKJiIiIiIiIiIiIOjnHCfzzmXpMXex0a3095O6ueHmWASN6agkuR+qxIK0eL8km4C59gzBriQH/M6ipjfLHv6vFg0uD8Jz5Qvymv0j4jwOxMQ3Ye3c3VL+pBr3tG+ow8Z6TaOyWvXcQZud0wdup7vkap/WPrqh54gQWuLqTEfmf+/MF+M0I3QNHRflefbAef9ykvZcMQbgvrztmT1A6bledEMudUY9HxHI3Eh/fmtkdub/tDqOWdD7Zvf8rXNG3jxgLQlCQ+oBW+aqON2EQnYiIiIiIiIiIiM5DJ2GvOQmH7Ne8d9fWW2IfbYDtqBMwdEFIz1Pp4KP1+boH5J1wfN8Au8gf8lNd8NyTq3zdWsl3Qkzre/kFgp/LfQ7zN4jO7lyIiIiIiIiIiIjoPNQFxt7dEOJvIPmiriKvyH9KAXQpwPkiCIafivwtBcYlV/lay9eta4DzJwbRiYiIiIiIiIiIiIh8YBCdiIiIiIiIiIiIqAPpHd0F9z0QhKsv0hLorGKf6ERERERERERERER03mGf6ER0jrKhakUZqr7V3uo49plRtt7i9mTtVjnssAf0B+egtq6DBgfstdp4B+E4RzambXsZyrbbtHdt57DbA9sfNC39XZv2M6IzrQMen4iIiIiIqPNiEJ3oXLE+G9GjopG9HrAvnybGU1FYrX0mmGdFIzq1EFbtfae1fRFSp+bC3CyC50BZTgrSPqz2/6EYtaVIGzwcw6OzUaElnTHVhUjVttdZ5W0dKHXJvf40Z0Fu7GAMH5KC4lOP9baJZ522zBmDwcMHI6XkLBWo3VRh0eQ05JrrtPdt41ieJtbHcETPaqrd/hwHvP1dE8/9zIxsUY+jR6Wh2MsXW5K1KNWP+nQaNNhQlpmA4VcPwIDhCcg227UP9BwonxmHMVNL4avW2PcUIzslDtGDRX0fFYeUWWWw+vgGwXGgTM0r6uHg6OZ5re+miHURh6xyX19B2FGaLtbn6DSU+lifAfNrf1bZt+YjTezXAwYMxpi0YlgatA/0DhQiZVQCcrf6/hrFtj4f0yZGY7hYZ9Ei77R3K2D3Ni2x/q0rspEyTss7LgXZK6wtfkFj/6IQGco6lttVrKuJ05Bf7vk3p+f4pOw/o7JFrRfb6YnW9yUiIiIiIjp3MIhOdK5w1MD2bU/07AsYgyHGq+HQBS0ch22wfdNSaMLFisLUaETPMmvvXXyln1lWcxlsIfGIuVJLcGkw4+M1gMkUoyX4wXAtRtwYgvCYcIRoSWdMgwPV39pQ488mOZ28rQOlLrnXn+Z6i78TfzM0AuFnqX82zzrd+7oYhPeJQMRVRi2lkzpgRpktBPExoVpC2xiuHYGYPuGIGdRUu/05Dnj7u0bN9jMHakQ9tn1bhoznSuEtTI2j1X7Up/ZnW5yGtBVheGXtJqzKCEFhygyUerRMtq+ZgWnvGjBpeqLXY4B9zTSMHp+B/Jp+iL1jIsb/0ghLQRrGRGeg3LOV8758JMWmId9iRMyEiZh4vZY3Ob8xGB169yOIrbWgcFo2KrysD3vZ85jxoQ0970tHovw1YXvwa38WxLbNvT8b1ckl2PRJAeL/k4GH/2jRPtQ0WJD/eBaqbkzH1EjvX1da3k5A9IPZMBtiMF6ss9gIB0pnJmH4nfnNAs6Wt5MwZqpYP73UvDG9xPSnjkHS2x7zVdhR/nQ0hidnobjCgfAxyUieEIHeB0qRnToG0WmlsDUuo7fj06mfw5T956Keoq4YYezm7zmViIiIiIjOBQyiE51jDN20kVPg+MYG2+HmwQFf6WeODeZ1FuDGEYjQUhptXYsyhGPUdX63Qwe6hmPyok1YlZeMUwtXdmJtXgdGmLJXYdOyTEQFa0lnmXFsDlZtXI7MXwRQBzogm3ktLIjBiGu1hLYKm4yijauQlxRg7W7p73zsZ+ExMTCumYHny7yG0c+Kqi8rgLG3I75fCMLvvgfxouQbN2sfSvZyPJ9eiojsAkz2/FJOUYF54nN7zEysW1mAnOwc5LxRgk2r0xFuL0bWAn2g14r8KdmoMiaiYHUJ5rryLpuC0O3ZTcHoYBMyX0mEwV6IDM9AcW05smeUwtFvCuY8Gq4lnkHVVTA7wjFxQgRC+sUgeWI4rOXlboFvyztPIvvAJBT8weT9Fz82sV5yqmBMKcInxXPVdbZwFbbliWUW6yF7ue78cSAfv5V57yjAai3v3OJNWJ4Wiqqch5G7R8unsbydgtQSGyLSSrCtch2K3hDTFttu+badWDU9AvayaUh911Va78endjmHdTX4/2snIiIiIiI6ZzCITh2Kw1aF4jkZyMhUh+y3y2Hx2qepA1ZzIXK1fBmz8lG+z/PGWExL+3x+uf733E3pGe9VNUsr3gHl5+LZbp8Lh6tQ9na2+ndiyC2pgs3rvbhH2eYUo8p7xvbVO9SjJaW4ze+qjeo12FFVkqstRy7KDujKtqNYpGVj2QEx/vlCNY9cB77SJeWz+ZCr2C7GXcst14/Xn++7rcdcFJq9/HS/1u69L9taM1aavbc2r1q7Eo5mLdTdt0X222WoOqx9pLCh/E3dski65ZFdEmSkJCDlCbGetK4VZHcNuZmpSJiYKqZn1rV8lHTTc1hR7lpOWT/167klcvusyFfrnxh8rkc3av3NXu7RznN7oTKNwu3ae03Ve3Laol4q77ysA68csJTI5WlaF8p03ixv6gYj0LrQbPuUt9BNRjnyZ6n5Mub46E5DN3899+OKjzrni5ft0Wx3bpyv7JpC3bfcjjmiLpiLPPY5H2WV68S8RlTysTcjRu6/Sr5slMp9T6eqSE6rEFVu61U7jrm2pa0c88V7eUxrkcOCYrluZ5ep27KFv/O+nwGWn9+DF8c6UDrtefgdR2+lrtvK54v0fFS4HQtEfZXbco6u3klamd2P9S2xo3zmNJRG5GDuvd7aoAvVVbAEhyA+aTxC9cfSsEQkXwNYq3X9o+wpRuEecWx69kWY9D+EGDoV6fEi79uFjd0lGeNfxCtjxTqb/STyddu1YvY0FNuNmPR6OiL08/M4ZhZvtzWvv63VwWaa78+t2pePJ3OsmJQ/E1Hezi3SbgssfcIx6c4Yt0CzMf52iNWAfQdr1ATB8rdCWGBCZpYJ+lUWMSVd5LUif4muO6HaUuTmiHo9di6KpkfB6DZ/A8LTijBXrNOq2aK+aKluxydtP2p+DrOg9DkxXuTt+KfVtTzZeYsqpI9HXWE0nYiIiIjovMEgOnUY8mfz0dEJ4qa3GMXvqUN+TirihiQgf5+WSZI/J79rMMakZGG+lq+4IBup40TazKabXXkDvFH7fNkefd/CTenFn7uCDE1pG/+Ri4TkLOTrPrevyUD0iASk5eSrfyeG+U8niPJ69FvrrWxvZiAhOhop77m3OrR8OA0J41KQ67Wf3jYw9kRPbVQVhvB+2mgjKwofGo6EWcVYW74WK5fOR1psNDJc/fN+bxHpFbDItwerlDxrLaJ8vtKlgxvFci7DRrE8o2/LQrH8rHylsn7kz/fd+tTdl48EuR5lEPQoUFNViKyUMYibowtg1JYhbdhwDB8i1q1nIH3HFpgRg/HXe0YubKjaZoNhQqyuhbod5enRyrYorKoBjlpRNicNCbH6bVYHyz+atrNCW561b6Vg9NRlqAkGqlaI9TQ+A6XLRT2InaYENI12s6ifKYh+sFjM3UWbnrkc+cljkPqWmI5cH0Wifor1PG1NK9vaXoHcO8X2mZqNYlHmmqq1yJfrcVQGylv8097AAbG/zBfrVUuRKv4mpiPqYPbf9H1bV2HlHFFGWw+obV29rAMvZLcLcU8Xo27MI4jXupmwfS7+7h8WMQVNIHWhwYbSNHX75JutqDlQgeLZqRgzJMl9fxfk/jc6NhXZ765U1+e7ahcZVSe0DC7a/PVfvFneE9tIHlfeXosqWx2s5nylzkWnl+uOFT7ot4eyLOr2aLbfa/P9aLbaNYXMt+W/2lqxlyNj9BikPDcfK5VpFIp9LgG5/2heVlUVtqwHYsZqQcgQsde+l495ZW5bFsViHy5+T5Rrq5YkbV+JXLG9ay7SWjHXWrBMvN94UH3rlTxmJccho6QOsZPj1S/ifP6dt/1M02BE4rOZCHeUYsas8ta/pPCjrodcXCPKkY1F+t43bGuxUJ4j3lyItboq6/hskVj2tai7tCnIGfHLGGDFIhTvscGyeBFKEY9RI9XPZLcpaR9GYW5estduXBT9JqFg4ybk3eGRo6EaVnEMMBibQr+2igqx70Vg1PWeXQkZED/BJApoRkVjwFysq5dyxJGsCtmZ2vFj33xkvGuHMWkuMn+hZFLYt4rzkTxmzlaP2WvX5CNjYrRH1yVCS3XQC2/7M/pFIcZoQfESM6zV5ShcYkGoyaT+QkXUk/lTsmFPK8JMXfmauTETmzauQnqk9t7lWyvkVw4hxh7qe7HUFV+IOj10lJinluQSHI9bx8pVJtepyrHmI5SJdTnpN4luAfcmYp2+sQ2bPklHhLZe3I5PPs9hshurZSh+bl7z882eRcgSdc0SHN44T2NP97MswsPP318xERERERGdb44fr3c6HMfdhro6h/PYsTrnrn3/cRKdGVuczw/q7+zfXwyJrzk3WmucNdaNztcStbT733fWKPnqnGunD1PTxHDXS8ucK/+xzPnapKa0h0qPKDmdzrXOJ7S0cQu+1tKkpvT+T61tniaHWx5yzvj9DOeMJZVO51cLnbe50kc+5HztbyudKxfPcI52pXkt22jnjKWVzq93b3Qumj5aSxvnXPiVklHQzS9+oVNfujY7Uec8UnPEWXdCN65+olj7lDq/297a25R+ZKXzCbneE/Vl+Nq5MF6kNa4bFx/p/3pCXY5hTzhXfq+lCUdE+jCRPuyFLVpKnXPZYyLfyJedW2QZNXsX3OUcZnrZudFVqBOiLgyT05vhXHtUS9NUvjrS+/o6usz5kJjXE//S3ku7X1O20UNLXfVBOCLWe8ww50OLXVPwskza8gx6fKWz8S+PqNOX23CeRUsT9r41ziNNm57I67aeT+x1LlTq8v3O9w9qaaJejfMo85YXZP25zblQNw+nRa1/g57dqCV4V7PkfnX6amUUKp2vjezvHH2TqH8jXxPvNNp871/iyuhrHTTV170LbhPvhzkfK22cuEKpU/rt4XddcJV3mFh+j+0jt/2di7R9ShDb9jE5TVFH9zbWmzqx7mWZvM1ft5/VbXS+fMsg57DJYh/V1zltuzXtj965tse83bo96Xuxz8gyNu73gmu5E+c59+p3Oled95yGtk29luHL15wj3dJrnO/f7zE/Jc9osW37O0e+2rhlnV8vkMulqwNe6pjbNnPVy2GPOZe56qXk5e8U3vYz17FMqz+Vr8rj3TDn858rbxVqudyX1b+6rp4XBunqTV3pQ87+g8Syi/SHSpvWqbJcg54Xf6Fz4ohz7Uu3OUcOG+YcdstjzoUVWl1T9udBzidW6upeANT9YbTztS+1BEE5NvV/QqwNL9bOEJ81X59fvyOnI8rxr73qNh4k9ht9kVzHQo96dWSluj817cOCzzooeOwXvvZnqW73Iudjt4x0Dhs20nnb71c27jfKdo0X09btR/4T2+Epub0fci5rXD71+NT8PKNaO118pluf6j4r1k8A8292fPJ2rJM+f945SKy7x3T1Sdr7uqzL+mOqcPSIs+Z7LZ8cP+K5somIiIiIqLOR8e/a2mNiqHMeO6bGxGVs3DNezpbo1EHYcURruhjyy1hE9QtR+mRNX7INm7btxP4irbVgbRkWlajNFA0pRSh5NhHxExKR/uciTNFaXZe/t1LXMrgNYnKwabXW/+29EagqXqh1exGFmcsKkH5HPOJTcrD81XgY+0TAdKVD7VpCV7aorBLkJEUg9JoYTHr1LUxRCm/BwmJXi+swDBmqjhmvC5ftiE9dVwOMIUYY5M/cXePqJzpiXT0a3pRujMeD94p32yvh0fg3YFFPPoP4XtobwTj2FbwYL7bse8u0n9fbUeel6W/4oyXYtjYTMa5CdRXrectO7NySA5NbX9tWmNfYEDI2pnnLP/PHKIcJN+t7ebHb0dRxgMZowtyN21CQ0lrbQQOSJ4ntq72DMRKjrhGv1yQjMUxNksLjJiJcbNe9X2kJLoZJyNSvZ9nv+OwpotxmLPPVxUJtKRa+axd1pwCTdfOQ/VPnpIXAUfQ+yvUtTz2ExMSKspix8jNtR1IeThmOSc8kI9xWBrPWClbtbzsK400+29+6sRQkIS7HipjsEuQl+Pc3rdcFCxa9ZRb7cB7mjtW1KxXb55WXTMDWQrXbBUFtgRqCKbMmI7yxCweDqDeZmNS8grszxCBz9U5sWyiOH7ruH8LHThTbwoJKjy6p3Wjbw5CSiSnX6GbUKx7PPBkl6tx8LHLrs9mASc9NQbi+TOKY8FGZ2DZpOe7T0LapN80fnBuCmDHhYn4rYdZayip5rhF17L5w2NaYtda62vMCIscj1p/NpLVAzz4Qg5wP8vx7iKW3/cxDxFNzMMloR+FTuR5dzej4XdejEDtB1IEVa7VjsChCeTkwIROZceJYX+5qol6BtSvEFkgaL/5Cp6sRpmeXi3PINmxbnYfJkbKu2VGaPg0Vd+SJOum9TXNL5C+mknKqEJr2FtK1Y7hk+7aFs07/cO1XH+5Cfz0H6dc4RHmSkC27qXr1ReiL5FixEIV2Ua8y3OuVMf4ZpaW3+a1FohbreamDHlrbnw2iXuWt3oRt2zZheXa8ut9sz8Vv84zInC+m7daNin+Uvsw/tMP0xlwkNi6fDdYWVllYuPsaq7aoS6qc39rbLyZhsrh+KCst0/2CogrL3hN7Vvw9mKhfTcFGhPTSVrAcN7awsomIiIiI6JzCIDp1EBEYpQVmbOImf/DgaMSlTEP24nJY9DfaSnceqvgbdZGcrhEYcb02bt7YGHBpi/AxMbqf96vdFyjCYhGjCzQZk/KwbeNyFGRPQpS8j9aVrWLObYgeFa0NqSj8Xk237dmn3aSHYvKyndi2RQyv+nhA2+lwzRCEeQQhQvq2x4/RQxAT5RmQMSDylxGAowIVStfBIRifmgijLR9JQxKQOisfpWYL7E1RiybywW2ewRKbGWv3GDA+tllHEqhYXwbEjEeMPugeOUkJcpU/PRzRoi7lFpWj6ltvM/MmFKH+BCK7+dhyN45o3mfwNSMga6y5wkft3LdXCTDb1rj6zm4aCj+XGXbAouuCuZkr45V+ml2BRSVYbohBVHwMYgwWrDXLeqz1t33NeJhaDZoewcb5KUiaVQFjagGK7vUWBvTGj7pQuwNV8nXrombLmrVCftAU4LbskusrBiN0AUtF1xiMitPGW+GwW2BeUar2qf5IAqIn5rp1e+OVtj3ivfS/H2Iaj3Axhard+vrkpc6IaSilj2peZyOivEWi1UC4Z3cpofHJYn7l+FjZtFqemCjE/zIGhj1roWxa7XkB4fEm3fHLh8MbMf+hJGRvNWJyfhGS9YHsFnjdzzx1jULm3GQYq+fjt6+fel03TUgUGV1fAqnB8phfRiEqRqy/FWuV6WD7WqwUm8LbtvJkey8N0z5PxFxXP9yHtf7y/Xluwb58pDxSKvbvHLzzlPs2NbYUTLVZvde3ruGYIr9cs9thj5yJVxLcg/qWXUoNRGyzxQqBKV7sj9VV2OHWBUlLx6027s8NFciaNB/GjDnaFx4OWMvVfuz9eV5D45cOvy7CXLflM6JnS6vsoPsaa3H9nrJwJD8g1sea97HMdb1hLka+zYBJDyaeufMzERERERF1aAyiUwcRguS8Esy8I0K9YXXYYDGXIj9nGlJkX+fixl8Jbxw50tRSrJv2qunX398gXyDqYP9OG5WBXW3UK13ZDB4ZDSEhygPJQhqO6FpHG2B0tWjr9Hqip3v8R9FbLLcMukALtBjHzsWmtXmYciNQVZSNaSlxGD54MJLmVMBLI3U3js9WKv2hj7hWS2hUhbUrHAgZHuEePJStv/+2DSVZyQivKcf851KRMGowBoya5t6f9elg9PYrALH9ZQF9BZ1qrJDxG+uXat/bbkO1+Os+/VpphRkKU3xoY2Cx6nMzMCEWUVprXrNZppqxcY0Mymr9HLfIhvKSavS+ErAXZDXrp9w3P+qCrUbpH9mxr6L5sv77iLKv9NZWYEstfA0ex4Dm7Ch/OhqDh8chJf1lLFxnRV2ICVNlndBy+KRtj5ZU6x6S6NV3tlan4UYLhDcLul9pQrxsKbtebMOGKmwUeeJvjAIiYxEvt6nctJs3olxs1XiTH1+K2cpRbO0tctuR/5JHX/U++djPvDCYZmJukhHWvCcx31u9CaSux9wsllH7EuhABcyOcMTGiH1J/vLCYYZZTN/6uXx4ZHyLLeQVB/KRmlmFxFzt4Z+15ciITcB8+eBd20pMi01ye9CnG/k8h3HZqBqaiZI/i/rj9ctIHw9E/k6eG8Jx9VXae72hI6B0H36V54OhW677qmrU+F3B2rI/O1D++1QUXpmJOQ+re4y1IAljpq1UzmNV8xMw+ve++7+XAfTR8kuHOwqwPCum6Zc9ihCEyl9b2O1e/972vUgNuxqux3qEDpS/MdiBqlP9yZQPoYmTxJHSjOIV6go1ryiGw5CM8Vof+kRERERERAyiU8dhjMKk3OXYuX8/dm5Zh+XzpsDV44S1IFdtIXbV1Y3Br+pqffTAgR0VWtNVQ0+Pm3WhQXebrh9vVai4eddGD1hRrQ82HTCjtLwKVpsWBNCVbeIrm7Bpo5ehYJIfwcvOyILKXdqojtqKuB9666JDhivjkb5wOTbtFNt52yrkxBtQ8eaTWOjWNUZzSjcO3lrBKt2WeG+hLrtziPp1DopWb8P+vTuxqWgKIr4txbSZpT4DP+3iyyqPbhaE2n2oElVWBoi9Ch+i1J9EX3VnYwEmNXtQrLvwWxIR4liJtdvVFruulrkxJhOwaiMqtm/BWoQg8ZZWQ8hCCCYXr8KqZQVINFYh+65prTzc1MWPunBlOOR3IeGPF3lZTnXIvFH+FRA2UJbV5iVYKNJa+zLki1ykldgQMX0Vdu4U011dhLnZ6Zj0Sz/2woFDlNbgNluzGYtEtWVx1DWtTCc8XJmG+7FKZd23QxvTUbpL8fbg3HCMTwhRuzXZuhZlroBx1xjcPBYo+6wCVZ+vFZssEeNlt0OtCZmMkpWrsHxhIozbs5H0tB8PWW1pP2vGANOzryDRYEHu88XKFyZuAqnr2kMm5S8orPLXFf3iYZLB1ytjEB9iwcbPrdhqFnVr7K2Ib6mFvOy+5vFsWJPm4hWtCyHHmkUodkzCnIIc5LyRg0fCqlDs9gBXjb0c0+6SAfQpKCnUdyvUJDRKPgjW9WsBd2bZgl/U+AhvQfQWhEUoNdBroFxtqR2F8MZuf1oT+P5sXzMD00pCkflH1zKL9bOgCjEZeWI/ykFBRiLsJR81/gLLjavVfvxcrH5Va/XvJhRRsg+vNR/D7PklToMZG1eJ1+siGs+p8tcfUeLYUvw3H79uEMzPDcaAAanNHxDqjz7JeFDUs4rSlbA1lOP9IgdCH52EmBa/uCQiIiIiovMJg+jUMewpROq4aAy/ejAyyh0w9ApFxIR0ZP6P6xbarnb7ERavtMiUKua83BgEcOzJx7w16ri+X9we2qtlwTyU2cQEGuyoeH0exK2930y3xKsjjkJkv6OFRsV0yl5PxbTUBIyJfl4NAoTFqK0bheKFheJGXB2XXVjk3hWHlCcyMF8XtbB8OA0J41KQa/YrMtnhlZaUugfiGqqwcrlNaS2rBr5tqCrKRe6apoiQwRiO5EeTYYQVVn3sqtazRacaFHbvakel9vEdj1ilOWcTx74y5M8qbOqXuasBITGPYJJJjP+npnl/6e1pXzGWydatOvY1H6EcBoy/0UcQUmtt3Gw9Ctbl+Sg0W90C/w67rXlXOENjMd5gQ8XflsHsMOHWsWow1jD2dpgcZhQXlsNmGI9Yz65RvOqJ3iHi72U/8h+kI9wuv3zwI9gqtF4XYnCz2K0sS5Y16zfb8UUx8lc0dRMRaoqH7Es+/0OP4OaBZcj3Gr3TUX4dEo6JE3T90wu29bLOePCsc/1MMIntYf7LMo+uOBwoX1Is/o/HqNZaqWrT0B+rFOKYULi4WQnU7lKuEevIy/csEbHjYbBVoPgfZjgaA8YGxCea4DAXo3C9rVk3MD716g1l046di5Lp4bCLY9Hza1resr72M5+M8XhxbiIM5iws/NwjhBpQXTcgZmwMsH4L8j83IyRBdqUjRWB8UgjMn8/Hx+LYL/Pot7EnyztPIvvAJBT8oan7rJqD1aIsrhbgXrqQkmQAfXSqOGckoqAwHVHNo8GqyPFIFhMuLSgWRzodsd8sLBJLE39zwAHZ0BvlL0a81P3acix6T05zlNiT/BXg/iyW+/n0UkRkF2ByY6Be7cc8RPlVieDrlyD6VvvzEt2eR6AXFZcs1rpYP0vd1hjssi94uXj67nn6JGPqHQZY8zKQu7V5qR175iNbrGfDHQ+2/GWKT3JfEgelrSvFuUZ+URWKxF+5rj+IiIiIiIgYRKeOIiwKEQ4b7A0OFKcOR/TEVKROHI642VqgaewjSFaC5+F4JCtRbdVmL0Xq8MGIjh6MweNz1aCYMRF501033iYk/1qLeIi8aSLfgKuHI6nIiBg/+wCWDDKYrwUdq3LiMGB4NKKHDEfacjXME5ExFSYlSBCFqbla2cxZIo/aJ/rwIUmYv9UC8/IqGPq7IjDlmJdeiqp9ZsyfWey9v9yzpgeMl4qXNe+jeI8MmrgCFr7SJQNCLS8j4ekyWGw22PaUI/ehFMyvNiL5d9pDYYWqFfMx/7E05JqtSgtf254yZDyVD7u+K4baMqQNGy7WW1pTi0KlG4cQxMc0b/mrdFsytnmAynB4I+YVZCH1iWK1TDYrzG+nIbscfnZncgpkgHByCvKV5bSiqiQDCU+IGQ9Nx2SfUS+tbq+ZhnFTC1FVrZa5qigNSU9kI/dDXT8Ge+YjQdTD4eO0et8oChPvNcD8biEs+lb7wTEYH2NBcYmog/dObPySyW9hU/BWRgTsH6Yi5e3mwV93/tQFAxL/NxMR1WI5krNRLuqTrA+W8myk3JeB7AVmHHFtz2seQfpYwJKThLQi+csPUfe2FyIteSFqfAU0XSJGKK1X5+Xo1qfYFik5sv8THW91zrU99mQjqXF7WFA+Sz4k0SH2+3QkthqsC0f6n8VyymNVdAJSlX6/U8W2S0PNL+W3OXpWVJgd3h+cK/1iIpINZhS+a3ELGBuuF9t5TzGKtxuQ/KuAtyzCH31LHN/sKH1E1NcWusrwtZ+1xBj/Il4Z60D5Go/1HUhdF0LGTkSMoxCFH7q3hFe+WPiwGKWIwcSxXr55cNmXjydzrJiUP9PtWQWh14j1tWcjlJhsQzWsB8S8jK6vXgXZen1SKkrtoUjOuBWO9WUoW6EfqpoC5l1jkP6q2KbmDNyWmqvUaYs5H2njpomjfQQyM9rQt7ao+zPvMLrVfbk/ZcsyOcQ0/7eN/XW3uj/bUT5zGkojcjD3Xv16VR+IvVV7roOtulpUQI9ffrla7Yv1MWVyKPaVeayz9ZamL0hi0kX9EKss8zakzpHPPxHnSXGMHqccKzORmaBfOgNMWXlIDqnC/LvEtUF6PkqVaZYiPz1OuQaoCklGXlZLzxhp6Rwm5jDhQUwS+1jurJVwRE7Gg/78qoOIiIiIiM4bDKJTx9A1AunLSpAZL2/YHbBtL0f5dnmDa0DEvXnY9CctOC3I1pOfFGciXnkwosgrW5gLhmvFDfTKuY2twaWoZ0uQo0xTE2JCzgczERtAIEjpW7t4HfJcD2Kz26DMsmsI4jNKUPRoU2s1pWwFU9QHkDpEvm/lFwNivE88Zq4s0bXoU4MRkvG6cPRWRzuIECS/mAOToQwZ46OV/m/VQJGvdCkUk17PQ+K+NMRFRyN6fCrmm3sjOW81ckyukIbs974IkwdWYX7KGEQr+dJQ7IhH5gevNAUkDSHofZF4NTYFZ9SHZHprQa09aNBbK9RfzERJdjxQlqGWKXqMEjwNFfWp5PHT3MLwl5koedaIhcpyjkHC08WoM4m0wsktBu9l/Vmdl4zea7KQMFotc8JzZegpyrxa14IWxhA1GN2rZ7PljrpR/eWEe6v9EMSMUZdZ6Uu7DcIfLULBHUZU5SRhWoutlv2pC0LYZBR9IPbjg/lIFfVJ1oe41HxYb/JcT0YkzluFmSaxKZ+Tv/wQdW/iPDieLFICcC3qMwl5byTC8C/d+px9BFMXpsOtBnipc5Jre/Qsc/19HFLftTbb71sklrPE9RwA2ef35w7EzP075k5wCz3KSu7zwbkqtW97GYCWfYI3ColBrBLsC6CVuJ48vhW21sVHC/tZi8S2eynHa2tpv+u65GsZlT7hBR+t9xUNFsyfkg17WhFm/kJLczFNQc6NFZg2fDAGD0pB4bWZmHm3bkLV5ShWflFiRXFmGtKmeg4L3R5ibUwowCp5zPl0vlKn41KyUdbV89gfCCNMr64W556ejXVf7k/5B+UxUxxLA/gy2FNL+7O97HmkfRiFuWL7uK9WsW8/NxnIS8CAwYMRPdOK5Hnp7l/Kff4RSuXkGsyY/4SXdTarXPcrIFE//iS79ALK30wVx4s4cYwuE5t5JlYVezlWGsX5+xN5Lo6A9cNsTFOmOQ3ZH1qV64R1n4jzk8du5a6lc5jQNUb5ElJ+oWf6H89lJyIiIiKi813Q8eP1TkF7q5Lv5XDgm4MYOCDATjyJTlWDA/bvZT/jBhhDvD2gsYmrSwuDMQTGljLKaR4V9+AtZvKDq2zdjAhp5aGgjWW7SJTNa4tVMa3Dokwd+OGiDrsduEhsA48vHdzS10zDgEd2IHPtKiVQ5DgslvtEK9uu1g7bUWXDIcTbNhHrWW5/db4OlD4yGNOMBdif69F6d3suoieW4RFt3t6J9az0Wy/K9NPmy9K+rMgfPwbZEVpZHWI5RSXwXQd8U9djC3XbIdaRoZWH3Z5pbakLQuv7ikarN63u75782W/d6pyn01CHPNfV8lQMfsKIgr1ztV+2dCB+7Wdt12pdP838raf+0+qLr+NbW2jHEvhx7jntTuG45pNrmn7XAd0+2Ybt5uvcZpkzBnFvXou5lXl+/NKEiIiIiIjOBbv3f4Ur+srWsEEICgoSr07lVR1vwpbo1PF0lTfFIQjx48ZY3nDL/llbvemW02yPYIarbH4EMRrL5vNGXEyrAwfQJYPRe8DQV7pk6OXHtgs2KuvGZ4BJrOfG6TeY1T6Pf9m8ha7VXAabIQZRLQb2dPXpTAcnZRCtxTrgm7oeW6jbHS2A7oVfdUFofV/RaPUm4F3Zn/1WX+eaaXsdspVlICE5Hxa3vt/tKCuVD5sMa3zorvrg3FGIONN11A/+7Wdt12pdP838raf+0+pLey6Qdiw56wF06RSOaz65pun34un2SS0lEF7PYY5y5L9thSHlQQbQiYiIiIioGQbRiahj62rC3P37UeTWN68q9NFV2L9zZuB9fBOdIYZudbB+kY24Ia4+0achZZT6TIWoZ5v6VTfl7sf+oo7ZhQT3MzqnNZQja1Q0ooenotgRgXTfD64gIiIiIqLzGIPoRHRq+o5C8r0TEc6We0IPhP8qGcm/PE9702VdaEb2/b1pbQEyU0Jgk32il+8AfjkFOX/fhpLU09w3PxG17qADBlMsYlMyUbRx+WnpsoiIiIiIiDo/9olOREREREREREREROcd9olORERERERERERERHSKGEQnIiIiIiIiIiIiIvKBQXQiIiIiIiIiIiIiIh8YRCciIiIiIiIiIiIi8oFBdCIiIiIiIiIiIiIiHxhEJyIiIiIiIiIiIiLygUF0IiIiIiIiIiIiIiIfGEQnIiIiIiIiIiIiIvKBQXSiTspht8OhjRO1lX1HOcrWWzpvXWpwwF6rjZN3DjvsPFgQnZd4rdCB8djcdrV2WMxlMO8R9btBSyOigDnacBDieYXOCHmPt8eMMrOF93rUoTCITnS6rc9G9KhoZK8H7MunifFUFFZrnwnWolTl87icCi3FkxnZ4vPoWWbtvbh4WZ6GwcOHizRff3OeUdax+3ol/xj2LULag9koO8WLE/MsUUdlPdUNCY9kIPvtclhO24WPBbmxgzF8SAqKbVrS2VZdiFSx7HJ/7xBqS5E2eDiGR2eDRwvJisJU9+MptT/X8SCtxMeOqe0nqUVWLeFsEHUhRZRzXBbKfR2j7KWYJso5Zmop2ucQ0071z2FF2ZxUJIiyDb56sFjXcUiZVYyqw9rnmtNyrdAhtt1Z0N7H9v/f3v2AN1XmecP/+uL7ZFZ3wuJs+uAuHRUiggGBOtoJj0K6COmwtuxopzPaqbN0qtd0YYe6XaVPR+lUMFvECo6UOlI7SqarZjo6DStPywzbqFzNIENgB4OKYUamvcSXXCNLdmXJrDx57/Mn7Ulykp60KRTm++EKTU5Ocs65z/3v/M7JfVg3j1pkTz0K58zHsooaVBSvE73kS0/kV27UrhB1xWzRx5HLdy/CuicLohjY5ULF0kLMF/MWLq2Aa9eA4QBn9HgvXBXLUDh/NmYXKssZSPfhUwG460pQWCjmnS/6eHVuBJLqnCHnIgi8WKvUUSKfF66ohftXEfXNi4RUz26owLKF8zH9+jFug9qWFC506efXXC4rC6HNi8W+nI2KobY6tY2S2/Mqt3hHMaGOQdV6Ofn4I/kx1F5NtD76eXMR9n0jPtQvFPVfcQVqRB21LsOqJ+fR9M5DOjAm8UeBQXSaMOLB5LQdjBw6n8tC9CTCH0/G5KsB8xUQzwcTr5r5dFBMCyP03INoOaxOSxDFSfF++NRwr9Z0482wT7XCPsuiThkPE7HBVU4opBy8y2mclK4XCSUvnod8mIbpy8Www4f+t9UJoxQ9JfKoyKfaY6+TwR60N1dh2ZxC1Owcjyh3Hm6+zQrLXBusV6qTziPdfXcuikGRDicnyiU6phtFGllgtYt0UieNiwnYaUxXtqIfJdanF42LqGMerw96H14Lr14cQC0ng5+qry+IfJTfX4ToMTdqN+kFAyLofVSsv2i/yx8szVn5GXP+O9aOsjmLUfOMDwMWG1Z8bQXs10UR6KhHyc0laDk4nOC6fYWx5iN135n/PF+d8EdiLHW7Xpqfr7r5khPC9iYPwtMq0dF/CIcObYRjkvrWJSKypxaLyhvhPWND0VdXoNgmer8dNSi8qx2hpH5u6LkyLF4tpk+xo1jMa58SQvvqxSh7LqTOkYFUlxTVoD1khn35Cqz4shkhsZzF5anLkQJatUVlaPRGYVsi5l1uQ9TbKD5fC19KHR+B7+FFKGvyImorwoqvFsN2xovG8kWo3TNyYPhC94tl0vYWinr2xRAstxSj/GvxbZiPko5sTyDG2xKpXTyZeoIjp8vKTt5Ndlin2mC71qxOSW2j5Pb8o+HX5+cYdJTOReS+RzjtyZ0J1kc/jy62vm/o+UZ4wvmo7Ngn6vlD2OhQ39CRnEczGfd0uIhjEmQcg+g0cajBZN0ORq6dz2WpTJerT3QVwG4fQOtDrakdVz0zqtHZvxttZeN7EDvxGlzlhMKFDbzkmJwXz18+TGGxo2gm0Lc/qE4Yi1Js6d+HfUOPQ/jNgS403BZF75qlqPfleivNcLh2Y193AwquUCedTxd63xkxyYrqHfuwu60c41pbTMRO48Wwf7JxsXXMZ9hhN/uw9tFejP/1dKNjcjRgY4kJkRfr0XpMnaiK+lxYuzOK/JrNWDVDnXihScGWu10IXOlEc9+7ONTdgWZXM7Z0voF3D7Sh1BxE60rX8JX1en2FXOWjjH0aSqCX5uerbr7kDGJAOhlxSxEcU80wm03K5EvFGS/W3u8FvtqBQz9Xynfz9t041FYK02EXGn+iuSDheDv+rjkIs5j3554tSl3g2YedNfkINn8bLUfV+XQNoH2VC0FzKTp+3oUt0nKe7hL9qVXIF8v59g+0QfgofE018EZsaOjZjQ5pXlcHdh/YAkfEi6q13oR2NrpnHWpei8BWvxu7t0vzNotlHMKWJRF4718L70i/TpwAbbd/k7S9DjS/vQ+dT2u3AQhuaoc/i/pTaUtMsM3VDzrnclnZMi9pxu7+nWj4Uhbl6Dwdgxoin0zTHHd46mAVk60Pirysmd5RwVr2YjM4KJ1AWoAih0XU82aYLrGTpXRxm/Too+u+rz5Pcfo//hN/PuXP1FdE48f3TD2e3fU2jsm/VTyDk//f+9h/5HLMK7wW8QtMo8f9eOlHrXhp5y/wiz3/hk/yrof1f16pHseF0btpPdpfF+/5z+CGRTdgsjxddEA66/HUy2K67wSu/l9/gSNt60dcVk59GsQ/v3wMN/9tJQo+6cHTOyO4/dv3okA96R854MYLe4H7HirHh51Po/dzf43KW65S3pR9iJ6nu/H+7BVY47xWmRT2ofXxZ/Hh1XfAJvfJwiINxXb99mrccb3o7Ha04tmfvi7S4gSumjsPV/+J/KkECenp/xCXX2PDtX+mHhUf8aB+sxtv/fIYwv9+Eic+2I9fhMV3z8lT3hcyfl7rVBC97na0S+sj7ber54h1TuysBV8W+6hP7IMvXYUPX92Kp37slec9Z70ZVvU7w75WrH+uG/vfGcSJT05g8J29eH/SPNx6rdhrv5XSNYzbRRpbP/Jgq1h3755f4N+iN+Dm6ycbO9Y/F0Gwx432H3nwuvTZU1fj+hl5uDL5wzrzzbkhDybtKUk5/Xy4/KZbcdXxdOsThKfhKbjflPLifyj5cM8nuHqJDXkp+zdO+Ywvvt3SlHjazZ+Evc/8E9p3vq8s92ArGp99C5fbFuLaP5VnHXbYjfqnX8WZ/CLc8IXJMJ34Z7TvycNd3ywYKjcyQ9uh+HD30+h+7wasWFMMNZcq/uRqFJTejs9eewEv9AF/vXIh5Nydg22U3h56L15+s1hnWXQA/lfa0fqyJs999OrQd6irkCTDvjsdgPvFt2ApXYOiST68sPVZeHp+gbcHr8K8uVcn5hNZFAP+l9De9pK8nm8fuxzXzrkWk0fKtIa3U1M3xMtvtmmUMc+r379rP4K/O4FPwoP49d7h/SMzUmZkBtJirGULEQR+/ALeyhP1qWOSobpST0r995ei/rsqdaeNWE9qyoH1TLr8kjmNU8qASqkzP1S3W54wtKz84260bH0Jr0v1+hePobWpFW9hHhZOT8rw54JwP/IUXo1ci6LZ2nYpM7k+6F+If3zCgtefbsdHs+5DsVVT76vlBLetROXN2lpnhDwg7/9unLHejhs03VOlnRdtvGMe8obylZoPktquRCZY/9cX8W/P/jNeOnQl7rpHrQPPBbD+rkbsN4kD9BfKcbUmr4687zVl7i8H4W55Gi/16OS/eHsuOSX2zfpn8frHV2PhTXmpZVAV2vYtPPLWZKzydOH+mUlz/YkVxf/rM7z64gsITbsXd88R+zKhnk2fj4y3F+L1/xhE37YemEQdVzxdmUWRvO/O4arpVuRlLFOatErou2ToUxhpq9PVEyO01wn1fXIbpanbE7b7TAi+Hz2rrPeet/Fh9CpYpxupHzXbnpQ/s8pjBvt8eiJHeuH+Ybumzrkc/tbEdcrU/soy9vHU9QxehdsXXD2crz/2ocX1LPxJdY5SZ+1P3Rcy9bu6++R+YOQ/1b7pUP9dkyYp5U6SWrdcPftaXPX/ym+qNN/xxQg82/4R9c3d+PAP+WL7RX0s8l7A3YKNm54Q7csJnJshtvULuQ3ih3/6GOr32LCxazVu0qybSfRNiq6/GddZr5aPfSShHz2Ip98uQNPLa1CgWY28BV/Ae9s8eHXS7VjtuFqdmuRoOx58ej8K1r+CNQs0H/6fN+ML77XC81Pg9tVFkD99Zhc2fvd1RB5oQ1up5vtMN8D2f1+F+58HkH/v3bDJqxXFrk3fxeuRarS1rtDUnSbcMEvUTz9+CQPx+ilFprZblZzfEo4FcyWK6P+YhYXSrwBuuErz3SZc8fHreOGNQcy6SxzTGQmRqG3J+yUi7b68Hy/ttST1k8e6rDHm2ZT6L7WNktvz8O1YGT9GSNd/H0vdnK7/ma20fQvVxdBHV2U6vrnyYDvW/+9G/Ejs0z9dsBBW0W5LQzM9/YQL//QDsf//Iw+z5ufjyqHtSdf3zdDWjnj8PlKdm8YIZVhpB15F3y+DGIyocZo9Se1OkqE8eo8Vg5o4Quo6p+mDZWzHtQy0I5qYxHC5jSLU9QSe+PHbOCf6WdL+0jO0z5PiIXqxE9kYjq9S2z+S/P7Uv2Py56UddBkuu+wyeZr0N/58yB/+8N+xaPQPCY+zZ6Ox//qvs7H3jv02RnQ+bHdeF7vuuqSHc3vsd+r7Hzx/d+r74jGv8pXYB58p85ztWxubp05f6T2tTAxtjS1Vp935vPRtvxt5Wa+uid15x72xJ/vV7xirD7eLdVga2/6heP6LNWJ5a2J9yjuy3/1wqZgmvX821vcPs8TzO5V5h/TF1kjr+A+aT8nfeV1szS/U1/Ht+u662OO3XhebdeutsVvtt8ZmyduX/H2x2Envd5S0mrUodm/1vbGl86T5rovd/fwHygxvPT78ees8+fmt6/uV94QRP686HXgydqf6HXdWr4zdeau0fdfFbn2oL6ZN3b5/EPM4xbpXir/zlHWfZ5W+c15sbd9ZeZ7f/XilmD5P/vx1s5R5Vv5Y3Wtyui6NrVt/7/D6qus0TyxL+YYMTh+IPVmqzi99VjzkbZ/3nVj3CXUeiXa+0pWxlaXqfLeujfVpN8jQ+vTHHpemz9Iu93ExVUjZv3FKXlj6w3hujafdmthaab3kdFkZ2zEg3jixI3a3mHfRU4n7RJSUWPd3pHnXxfrVshMTZee66+6NvXJSfR2XRbrK65GUt7VOviCVYbUcSHKxjUPvDZffrPLC6b7YWlFehtNfyl9LY08+oXxHcrkZZmDffV+UIessZflqvr+uVLOeks9Oin2h5OlZjntjK+9dquR7692x7SF1nnQMb6daN2jrj6zSaKQ8/7vYjpXDn1fqnuH9Y7jMGE2LsZatLOtKPcP1n/LZ+PLvfOqdhLQzVE8ayi+Z0zilDKiUtkVTJtVlrXxIaSvldJHr9ZOxHXeJ77j9yVhKbSG24brrZsXWDVf/hgzXB2p6zxP7+1P1TYm6LtpybigPnHwldm/y52IHYuvkfS3Wc786SfLrJ2O3StvrTcjRuk6+JPKTmPfel5RK8INtUtoNtz9xaff9Ewc0bZq6zdVrY2ul9+U2LSn/acujqIfWSPOVbo19kHFV34k9KdVX974i9lg6Z2OnT56MnTytflFCPZshH2XTXqh1dGLdfVrsc2XfSeV87XfvjS2S9klyG5oiXh63xrZL9YTa/itld55YhraSEIy21Wo98fgP14j9pZareP9BlKt4v1GmzptS9hPSTue1cLp/XWyR9J2iLlp67xpRvyUvI1PZ1ckLQlZ5bAz12FC/Or4cKc2/82Ts8aR1ytT+GunjHfi+NE3UBZo0j5e3xLws8lq1mHbrkyKn61HTMr4f4/X/yh3iHeX9tOVOW7eoaaX0Me+MPRnQ5rHhdF0ntmXRvStj9zqUbbrz+T41j94ZW1l951AfNaHOGTM1DeLp8unp2Af9PbH+90/HzmrzrOxk7JV7xbzJ/QqZ+j067UKcsg9EXom31RpnvSvFe5oysX+dnLfWJmZVhVrPDpcLtT4WeSCVWocl5flhmdruxPwm73s1v837TnfsZEr6jI/+R1LzcybvPLFIlJs1sR6RzVLa5BEYW9YY82xK/ZdaL6X0MXTqwmzrZkP9z9HQ61toxdd9IvfRVWmPb75/b2yWdp+K/lW3V+rXJe7/xPo1nk+MtbXGjt/V79Tt6+gzUoaV4/14HR3PT5rjCh1KWj0e2y71Q5Lbzh9q+zWp6T1yO67K1I78WpNzdfoUH/zwTjFNpLNUEWRgfDuE0RxfZWz/SCLFv8+c+S/xOBv7r/9SYuJSbDw5Xs4gOk0IH7zVE9vx3VvlAn7ddXfHHn+9J9bz1gdyI6MNji966JXYOwMfxPp/vFap8MRjuKE8Hev5rtpwyAd8agdTeu0UB6dyRXg247JE9aUErOXPpO98ZuUz6aBW7QDHnyvvyIaD6OLF6e7YSmnZCQ2fuk7aBjalA6M2CskVtHoSYdb3D6gThBNKEGKe+L7hOeMHwHfHdgx1dtI07EY//5noSEsVf1IjpDQkiUEZudEQ33nntvh+EE73xNZIjbtOWqR0juQGS1qWNggRzw/6BwlaB74vrfudsa3va/bMJ2L50vprlh+fL6HzFNoudwhmPaLZoIzrkxis1u1U63VQZanbr5t2MjX/JwfGPu2OfUdaX22eENOkfJcSbMpiO5T1yHBwkHyglZNtVN9L6WQaWWc1OJS839X9mdwB0pNp3103Txw0faJOE5SgXOJBqHIQm9R5jQfU7tqhyfc6DG+nTjnOYr9ml+dT08zo5w2nRRbrrn/Amrmu1D/w1xiq/3pip4fqNdGubFM6yEMHp0bryYz5JSkonCaNU8qAKmX70yxLoqT/otiT76sTZMMBVE1tYUhCfSDKvtRez9PWOeq6aMu5sTyg1mvadkGuWxbFFt0uDvCeGA6/KdufmCfSE/lCOhiZJdY5pOy7Wd8V+1h9V2Z036fLY7Kk8jgUQH8ydiB51mSfiTZJSjNRDxqmV8/q5qMs2guxzVKgPh6nl72v7OOVP0nad/Z5wye7dcXTKql+/+wDZX9I+08TgDHaVg/VE0l5/bSYLp9A0m5PmnKVknYpaSnSrFqsjzjg1e670z1r5APZkdM8KS9IxprH9Pp8etT9lbic4RMh2nVK2/4a7ePJAVhtXaYEeGfdvkhMXxnrjp9c+0zkFyPrrvYRUvqmGcrdUN2inX72g9hWOZgk6reh9Y9/x9LYVk2bJQdCpXXT1gnxPqqYljvxPPFK7MBTSRcPWe+OJQY8Mgek+x6SPpfc/g175wnpOCjN+/KFFcN5OCWorjWgtOdDdbnan0zpp8vE9klpPsLxlW7bPZTftG2/Ut6kMh0/AZp76onJ9/tjO/63tF7Xxe5+IdPaa6jlMX5hl36fRGs0yxpjnk2pm+J5cHgtU/oYOu1K1nWzgT7cqOj0LRKo70/oProq3fFN4j5V4wZJ+1/ZHu20eD4x0NYaPn6Pf2dqnasryzKc0I8cQbyd0m/TdNrOofQ23o4bbkeSylQ8gP4d78iZ2/h2jOL4asT2jyRGg+gpF/sTXQjW25xw2Carr6Zh4XInnLdZYUIUvZ0eyOOpLmhC1xPlsE2zwl7RjG01ym/IQs97oIzmbIZz/UbI952IutHy8ONole9Kk49Vm1bBKo+lZcqwLMkMzJkrP4H5JmvmnyMZNckEs0Udyyv+XHknlbkUG112wF+PtTtHMYrszNWocw7fHAYzylEtvi7qDwzdsTr0Uiv8pkq0PeEQKRZnhmP9YyLtAnB7M9/Exujno7u2wx0pQNMPq9W0V1gfaMYqSxTuLp86Ja4UdQ/E94NgduK+b4hX/n51/46s9LtiPw9/AZyV5eL7gnjnfXWSnjNebH8xAlNFA1bN1OyZKU481r0b+7aXKzf9UucraOxAtXZ83BnVaBZ5Mdr5CnxJ4xbqr48f/b9WJ+WK2B9NNZq0k1mw4htOYNCDbs0Na6N7foZeUSaq7ylQpwhX2FEs8onPp38bp5xsh3my/DPQY8dHeZMk3W1Mb8R1PtOLn/WKVKoR+VG739X9OVbWv6uDc4r6QrCWVUMkMQJHh0oidmzzi3zXhi1LNGXW7MDG9aIWO+hG93F1WgZj2Tcjp1H2eT6B4c9nnxZjzpNp6kr8OpTx7v5y/YcC1D3khHmoXhPtygMd2N3zJhq+pEzJtp7Vzy9R+AOjLC8Z2Ou/l7AsiaX063CKLfd0a2pbtYzkP1AptngM5tZh87fMiLyY7ubZEqN5wAL7YqtoF3rgV8fVHfD3IjyzEg33WBHe41f3Xxj+N0Ki31CMIkPFWdSJT9XBGvXKY477xV7auF7sY/VdSfp934BKUwTu5xPHBYa9Ad/T5rFkER/ql1bBO6USne66oSHe0hocwBHpr+hH5F4W7YXYZrPFgoShqCMRnFSfDhH7bkv/IWNj0Yqy0qBt/6XxwkW/LV+keLdPHQM6Q1v9vQfF+vlbsSNpDOiCBxPzunnJRjwmNjPycrcohWNlQfn2Q/hNT0PCvjM7viL3Q48cy77sZp3HDPT59AS7PeJ9Bx6T8vjQcuL1kw6d9tdwH29BkahboujpU+uWc3786x7A+b0GMd2Hf413Ow72ibxmQvmyMdU2OuVOqVuwoC5xusmKVfWVMEXc2L4rafRtezXKNW2WrWCB/NdZqqkTRB/1K8vE3/cHMqa1LBKCZ3M96htcaN+rvcl6GMFdvfAfiy//GN4Redi0x4WyF01o6HwDh955F4d62lA+LYDWuyvQPtQWhjGQ4X7tM6zSyNDpSfeFSus6qzyudNzJExnuQiyOyRJuGRE+ifRz52OE1UpLyW8mVNZr235pN3wPdWL3+LftEHt6BIb3g5Yf6woLUVhcgcaXQyh4qAsd3zRQp50Lof0fWhCyN2NjiTY/ZjLKZUlynWezMYq6OSfHFWNwMfTR9Yk6slK7Txdg4Uzxd2Y5SjX737pshSjDIXzwoTohzkBbm/Xx+0h9HVVOynBGyW2n0qY5EYHn9XQtvtF2PEM78sPd2P2m+LwmreJCHWVY1jwAu6sLbSVGjy0NbEeWx1dZtX9kCIPoNMEFcWCv+vTXLbhzoehcqI+qTrUDFA7iWPwmNfEgtBB4zSt3Eszf2ow6NTA+MnGw2C06rAfE4wnHcCNzHlm+0YwGsb6+NbXwZhtHt1nFFmhZkDdVfSqL4sgRKVUC2PGo1JHUPDb8HwyKCjv0ftLd1RIY/3zoPamiD6PnB0nzNbhFUy0Ek4JVM+dgRlIDZLk6mxvBWDEnuXNuyU9KDx3HPpAPpp0OJd9oma+xwhK/YaU6X3hPS9L21MO9X5rhCEIJRw6jXJ/RuCZf7OlUpuVfR6nYB+2vxjsPYXheEJ2fBdW4T+p0DVEDU3sP6JywyNF2fKY00jPEuo5Kmm3UZ2Cdxf6UttVeYFNea9gKUvNCtm6ckbSdlrzE9T9zBEEpvxzckZKfGndJb4Twzoi9ybHsG2NplF2eT2L081mnRQ7y5Ih1pR61/ptZDEfyvJMssM6MnyDNvp4dMb/kkMWi881XlOLrXxX7qsMj7zNJ+Cc74BOd+ep7khM7ewUPbUG5eQCtq1oQ1DvxkkUeyHeWixwQD74pwXKTvQDOW+wwHe2DX+oanPGjR7xvdTqMp+OMVdhck49IRDow2YjShGPCTPvejqLl4m/gA7GWGlMz7MOBn6F+RRU8YTuaX22CfeTjT7GPzOOWJyTG2wsdCyrlfpbv4fkorKhFS6cPwY+zODC77ebUA9CZN8tBDX9AbZUytNUWR7HIEwMIvq9dpmjXCpJTzIQFt4g6PxpAQMpWuXAmjKCvF24pOLemAssKa9CrvpWdUeSxUdZjx46KQjJzIRYk35D7CjUgk0yn/TXcx5vkwN9IdUv8BJccLLdjYUEBFopd2btXyW/Bvh6xZk4U3Sq/HL3kcqfWLbp1gV0K8ItkfS+psc1UdjVMhgZwHkB7+TLUb+tBn88D133iGObhXkSkejDSh5bVNdi6P7GzH43koe6nnai258N8hQnmmU40v9QkauMgWl6Il08zJmc4SAmfkFM7rYw3ZA0nBlk/Z86QGuGTIhdoZKynwjj5sfo0S0p+E/kjpfhb4HCKNmowiCMZb1ia/X5Q2PHYvn3Yt+8N7HyiHJGnyjD/rnaE9NoxjYEXH4TrsA0NLvVCHENGtyxZTvNslrKum3N0XDEGE7+Pno74vJEdfXma8m2grc36+N1g3ht7GR6BxY6C5PZPtGk3i75JNJD5xPKI7XimdmSqFdaU+vQ0+lsrULYhAHNVBzq/kUU/2sh2ZHl8lVX7R4YwiE4TXASn4+1ucoNwhQWWqdJDVFWfqNME81TR6VSfS2w3ZNtciQ7rlAydy3GXj+ofNMAGH9Y+Kjp46tTcOImTUu0bDSHg6xMdSe0jgNMWkZ4Zt93455WrXETHKWW+PgxMEvP9xYVMYw2xQQkHAOmo8w38OnV7+kQDZZk6beLdOVwcvH69woToy93K3f0/7kH3QaCgtDilMc23O2EJ98Jv4MqK0YgeOSC6nBbk5+TnHTnw+7Cx/T5e1Ku1oscCqfnp307LdVvehS4iY83zRj9/MaSFTK3/RjTWevbCcJRVwhT1oFsNTvd4RRd9wQoUjxiUM+AKB5q2lMM82IoHn9PpsGeTB65xwDlNDb6dC6JfrK/ztgKxrtIBgR/90pHF2/2iBc0XB/XZtf/xq/emTUuuIQ3s+7DBtkTyKy96LreKvoofrg0+Y+28RRyoiTQIBeXr0XMvi/YihXQ126uH0NVYDutJH1ofrULJwtmYvrAWXiNBM7PeL/REOZEWHA8gqfVJJoMntNfDT8ZknZMTefKXio6lkcDUCKSrzKbPKUTJ/Wux9SdBnLzShnJXnf7V3CPKcR5LSywn5WcD2cumj2d3iEN19QTXQMCP6Mwi2MV+kE7eR/f6Rd9gAH7pymDnX8Ge635UxiujFRmvyh6r473wHDWhcsch7Os/hEMdlfhcVw3mi3wz/+Z6+CY58fXl8RI2DddLVxXOWAFnwuXdwlQHimeKnDv0KwPRn7pG/IlEpNycIvyJmDrjevGN+pSLVCKI6AWtfn9afKcV16v33VNOvJ7Gab2KKqL0pW6MXyChBiNP6858WtodgDguy/bIbOR9NIiTmWbJaj9oKb+8sVjyYStrxm5PNSyHXWj8SYaFfexB/YYgrA9tRrW0jwwbxbImgqzr5ovARdMvzZKBtna8jt/HXIZHMmVyQvxHkYc86bhTr5JUGWrHDbQjicLwdQ0iT5T/SEcj2jNdn5jMyHaoZc7o8VUm49r+XcIYRKcJTu1QSko2io7PPp1HByrjvcRzAbhqleFfrHOVK0z9DWuzv6L7QrumGpsfEgcXO9ei5VcZav6s5cMqJcuM1ejUTUvxeCT1SoJhxj8/4wbprGspNr6lM4/0EB3YbDvR4+KGOZA2KRweoRGxzhGHFGKLNupsi/zQ5MNc+Uz9G3dGHPCoT42yl4tOeNSDnrdFY+t1IwAn7vuazoHC3CIUm0Loky/jzDX1ikZTMRbeqE6Ky8E2jorVKu/3wcHU7R04Nk5BKq1rrJCSwvrdTp28pDwablNmvWDGmueNfv5iSAuZqP9uEn+Oj3TAONZ6dhTORVOOESKnT6vPDLKXo9oShWeXX2xjN9wHAeffZnMVXWYmRwM2lpgQ2tQIz0fqxLis8oAVxSUWRHf1IShf1erEX0nJOcmOv1oC9P4ygOD+PnEUUSoHnXIj075Xr66cOydxWINMHM14s2c3uuptiLxWhQq9EwspClBcJg5ed76Svk/zsRtl06ejcFPqb4qMMNxe6JlkRsG3mtH580P4zQfvYl/nKtg+9qK2KWkIEj2/DiZeYS05cwxBkdhSsEKWqa1Wr5wtmKntVYTwznvqU43Qe1LaTENe0mZFk9uiyGlkLEFhDxqlq8y+2oZD70mBuZ3ocDWg2imdHBmNHOextMRybhB/xHIGk08knFOGEzEimz6eaYn003g/en45IP9yJN/pkN+TT94f60fg+EH0HxbFYrlTJ8AzRqJukQaIGTihl2+Uq6httrGnalrTKtG1T9Rf6hX2ZkcT3jiwE80PiD7X3zVj59ttml+95CNfClxHzuqUGVHHS/vrC2Z8Tn6djwK7SK09/6qc9NI650f/bvH3JpvcBuvJL7CLtNYMp6Ph3ytdg3kjbGoQHTcthF2kVK8/9SxPeG+fKGlWzJmlThClVPqFwfDQWhof+9F3TNTgtuSO4Mhm2OTSrxtkU666L4A1U8A6m/0g2tOIqGd0TzAskNJCpNGv09fZA952+Yrd0KZlmC7q4/hjcbP0GS+qpNfF7Ur6jHFZE0LWdfNF4Hz3S9Vf6w4T+WI8DoYMtLXjdfw+5jI8kqPv4EjKyfEQPpCGzsnP0x+i12g7nqkd0WVBtWc3dnd3iHolCNfdtfAZ3Z9GtiOL46sL2v5dwhhEpwkogpNDFY0V9sVqNda1He6hK5qiCGwuw7KKWtQ/M3wVV/CpB+GWXphK0eBuxio5wJPpim7tshSh12pRsrQCLX79T5wv1ge2oW5mBO5HXkEkV1EMQb4i6FjiuKeyMwF4nutF8JT6Og2jn88X8+WLzuIru5LTcQDe59zwH8/lyYExmOaAQ+QT/wvdSR3+KHwNi1FS16tMV69+9HZ5U/LSwM52uMXBRc62yJInXz3Uuzfx6CbyljhYUp8bNncFyqdF4dntVcYIdn4FzuSfcMsK5J+L+8WBT273TASBTVVoPCjyTuPq4avMcrmNo6Hu98DmxxM7NtEA3D8+HwcsdvyVKEqhl7pThreI/sqD9l1B5WfGF9JY87zhz18EaaGy3y5WNOrBjj1JW368HWVFFWg9qG7RGOvZbMgHPsf64Nde8XsuBN8eo539OBtWfCMf0a4eeP1SYMSJryzJZUjLDOf6LSg1+dHY0Z8UaMwuD9iKimEKi7R8XdRXS+J1mgnOUgeifg/ce8MwLS+SD+xzJf2+70a7qLTyHUpg0JApefJ4l9YHOtFWYkKw+UFDVyrZq+tEr8iHdWu9CCeXiXMR9G5qQUDMcX/5KLfccHuRKHqsF+0b3MP7bpIJFvv9qJQu5frtSYx4DaJOWYns+ZnYUhOKb1O3JVNb/ZJH/O/EwqShQFLqnnNB9OwU5WJBEezx7cqThioJoS9hjGSRF/f2ygeYaZ2JyO9Lgd/hsUuFt/tHOZxLjvNYBspy3HA9n9jWRV7bIXptxmTVx1Pvu+J/ux39fgtK71BDu3OLUW7xo7/1X8W+FvN8OechdMGOhdLmvrwDvqRA5cBrUrAzH47bxjHAp70vUtwUG8ofbEbzg+WwJdyfQqrDxMqG3di+JyldD3fDI+qI/C8VDJ3YLFgmja/sxfakK5Uj0tjDIvn1htcYskCkvUhub4cnMZ9HxPd1Sh/W/CrAUoTiBaJMbGtHQFvviPK04/mAKJtOOIaCXxYUSePaH92K9l+pk1RBt/i8SO9sfyEkyb9Nyvt+tL+WWPpxxocdL0vrqwSc08pmP0zyw1VYiPmr1XtyaYm2USrf9puGT09EI2FENNk9b0kT2ra2pTya5DGRC1AtvX7EoQTDslzWhDSKutkQ6QTDKU3Cnlfnq1+aJzVBwO7+xJNhER/+NT6cbS4ZaGvH6/h9zGV4RDrrfFj0Z0UFV3CbdNJQh+F2PEM70lGGxRWtCCQky2TkWcQSpXvD/FT020S9Wttk8FeHRrYji+OrC9r+XcIYRKcJI39G/MoEH+rnD5+lL/iuOOiWj7bFgffC2cqY6PNno+yZAEJ+L4JXzlAOxo+14sE2pWK2PVQHh9mG1Y2lcmUT3VmLdb3D1Uy6ZUmvt9aJ7zzmR2uTdOOlC2iSVb4hav5RH+L31coF0/I6NMwdQOtdZXD5QvKVA2GxDFdlGeqbt2L43MHnYP6C+LPnFXiOSjcwUt4w/PmZ96Ppq2b41ixFTWdQfF7MNxiEe3UZaptb0P1bdb6sKGNAhl73wD84gHBOAlFW3C/yifmoC2Wr3QgOivUMh+DbUIGql0UOsN0omhjNfHtqsXRovgEEO2tQtsaFltey+a3WMGWsSR9e6RJpKb5TTj71gDMqvrtic69YVgj+znqUPHlQ/0x6Rlbc9+0CRHc9jha/CZX3KWVCj+0WsVC9q5oMG0T/rl70yg8v2jdUoWT2fJS1BWEp60DbNzRng3K6jaNhRd2PGmATHZuqwhJUyWPJifWdX4OTtxj7Mb7uvjPMhNJ/FMsfbEVJuQs+UcakshTyuVBxTz1cP/TjtLZDd0FkkecnTxZbFEK3x48BKS3kPGT08+OTFmPbP/qU+i8K73cqhuq/gcNu1Ij1DpzKh+0GpXQZr2ezoJvGSkDZjAAaRVq5/SGxPr1oWVkBzxlNeTPIek81CqI9eHyzdEOt+1CaFED1b5DuSVIP32iPa81OPPaEA9E9PrHGWlnmgS+tQLnJD/eLIdiXDB8cmb5cDPtRDzyHTSj/a+n6m9zJtO9D5lI0fXs0gQ7pxIJ0BaTBK5Wuqca2RwoQ6a0V+0HkrU61vu0U7dfC+ah5LYKCR7ZlHkIgTT5SGG8vtEyn+rG1oxFVazwISXldlHP/czUinUR/S73qOCPpYLC6Au3iwE+uI7pEW7BGfHhunXLDX1mGtvq1KGz1dUn51YT80OMoebhXWSdR/qRy0TpoRvnfa35hcWMRikUnMtAkymanHyHRT+ndXIGKl6LD8+iZZoN0IbD3B42a/NqCijq3evCqkTHNh41PHktlKtmIDtE/CzYvk8ewl8ZRra0QZdttTrg5XUZZ9fEsKCqxi/beDa+pGEVD9ymyoWi5SQ4EwL7C4E2As6XWLVHR1lfG6xa1HWoOwfzVJtyfs1+sjJ2SByLw3l+i5EeRx6W+0bK7WjGQnAfsddi4RNTLDXeiarNPmVeUu6Vy2WlAQ8lw6U2puyfZUSfqYvjrcWdVi5wuIX87apaKekjsl4Z6bdm3oPL74ngk4kZZcb2oXwfkdsZVXqKUp8dWi9I5zPLNJqyaFoH7nmWo7xJ5QypTG8pQIo7RzGVNWD1Ceuu23Wp+CzWXDec3uU2tgjcq1vcfjdVVxjhQXW8Tq1CPpSJtvKJdlfJ2r0jbxRWifJvLcX+pmlmPijZrfiHmL20RJVxhmmGHc7kz5eGwSbfXn4aF0uvb4jd3zGJZE1a2dbMRUfSumY35N89Gzc7RdjjG4nz10U1yH0Y6qVmzsgW9omyF/G7Ur2jBwfHY7Uba2nE5fhfGuwyb8nFsg6g3dyltp9weV0r1ZjlWp/tFneF2PEM7siGA039pgy3dys9YhW3Z/OrQ0HZkeXxlqP0bQHuxNiYmiO+XfkVTu0d9LerlWumXNHUiz/yRYxCdJo4lj6GzStMNi/+cRTqL19eBVXap4ojKYzfJ8dxJFjgbd6OrShyexe+CLn1u2io0f0s5ZDOJ75Q6mNLnvGvXDR+gplsWZmCO2rk332Q9T8G8DESjtvlbidfrjZk0dqm7Cw13iMqyShxAFYqOdXEV2gcdaJBuZKS5mqT8sWY4TL2oLy7E4toe5WoVw583w/HEz9H2jTz4Hi3BYmm+RSVo7J2M8rafo9kxmqayAHUd1bAeaUXFosVY9IPEMMxomZdswc/byjG5txEli8R6Fi5DVccAHPVdIp8MH/7H58vbE59vMUoe7cXkb7Th5/80uhvRWr7WJKdF78MiLRfVokdOZJH2bSItb4zC/0yNWNYyVLSeRZ27AcqIvdmxLC+HXeqsWKpRPhSQSGWxF4lmuRd9B9UJWQugfXUNauRHLVwvBhAtKEeT5xD2iYO1xJyc220clRnV6Oprw6rboIz9tz8K+5Z/wZblxsqc/r7Lglh+508b4DzRjipRxqSytKxKdF5ub0CXu3rkwNN5YDjPf6kOHaJODbZVYPGiRWhR85Dhz49DWox5/+iJ13+3D9d/i1c0old0btt6RH0ZP1A0XE9mIU0a40tN6HI5YRn0oLFimVifWvgXtGHzN6UD9ixNLRZ1hNTJtqA6pbIQHe+94r3rCtIfLBhgLtmIZr16KKs8oPxyRjqQKJL7BiqLHUXyAYETRbmuSNLse59F2vdb4BhtUy1fqSQOcqQTepUj30TOWtWFQx6RTpNEffuoWt8+2o7AJCcaRF3bpe3b6EmXj1RG24sEah5Ebz2WSXldlPOK5gDyRTnv+u4I6yO5RezjR8zYXrFY/mzJwx6cdaTud922+sUBOKW2+oHk5eSj8qk2lB6rUdZJlL9Wf15q/2NSAZp+2gzn1AF4Hq3AMtFPqfUXoO3pSmQsQVIQ8p9XoeCoezi/3u9HQWszStVZhoyQ5kPGK4+lkPpnb0IZw94vj6N6bOpqdLrrMMdwYCi7Pp7SvxCWF8k/L48ruE3kG8G62C56BeNErVscg/G6RWqHfMiT2qGUvskFFs8DzrNKfhR5vOJRDwZuqEZHX3IeMKP02d1oFknoe6ZKmbe5V1R/TfJ42sNlR7/uNpd0YLdUbt9qldNlWYULvaIeaerpSm2jxPHIzs5q2EQ7U79isciXNWg/YkN1x5sp+xqTbKj7F9HO3SDK1MMib4h8UdMRhK2qA28a6Cvrt93x/DYZvfH8JrWpJ0S9J7WpOR6RwPpAF3Y/UYo8fytqRbsq5e0akbZnnaJeelPT1pstSr6dIp0oGx3Dy5rAsqubjTDBYpEyuxmTP69MOe/OUx/dIuqhziobontbUSPK1rL7tuLsP3Si4RZ1hlwy1NaOx/G7ZJzL8DWV2PxsKUJrlLZzWVUr/HLbmaEMZdOO67YjxmIA0q8OlRPXZahN/pVRMoPbke3x1UXR/l1ELvvDH/47JqgvFdJr6XH8oxO4YXp8QDSi80T6+dYnUZiuSvrZnSQaQVj6zdzl5tzcmE13WdLPx0TlNAFv/JZzBtMzKg3MduUY9oecztLNj9SfU6qTxyJ6SqzTlNx81zCxnmF1PfXyn0b0VBiRz0Q3T3SgU27KPRoiLSPnzDAnN/TppmfjjBc1c2px5O93440HM3Vmg2gpLEHv3+7G7prRdHpHKRfbmEvSmff7j6Chb7exYGcO1j/+c2DTlSI/TZR0SGIoz0tl/VNRf+rMYLTM5Dwtxit/ST8D/VRaUVH/Zd6g3LdbadN4rPViFN6a2agNrsLuN6WhQ7R8qJ9ehUD9G9j9QK4OH/VN+PJgdN+PN3U9RpVO6fKR4fZCj/E2VDGA9uLFcNk68JsWx1BZGXl7RlhOUh2u1D0G+h8iPSOTRF2R1S7VrMtI35+h7Ka4IHksaX8YNQ59vPGS877beIqXByPrmnHekepuNQ8bzGtyGsJgeybnY5HnDdUHSdK13bluU0egtEcZ6rRoVKSdKSf5fsRlTXgj1M1ZEkkLkbQX3Pnpk4i0O1/xB6Nt7XjV7eNZhuPrnFXbqcm3BrZzvNoRX910VAUb8EZPNfKz2A7Dx1cXU/t3gbz/mw/xxaunimeX4bLLLhN/Y/Jf5fkwXolOE4/euHVxUkUi3bk8VxWu7rLEtPPRgE0EBtPTJN3Neyz7Q05nMV8OG2BTzgPoEs16jtDxM02R5sthIyTSUrcjk256FgZe3oFeaRzGe0YKiCg/rQ7tDWQeCzbXcrCNoxHurUdJefKVnxH0eqWR8Gak3HgurRysv9ShkfPTBUgHowzleamsp5nBaJnJeVqMV/66Qq3/Rt4gZb5ctltp03iM9eKgGztE9i/49n1JAXRhMIQgLHDaxzeALpnw5cHovh9v6nqMKp3S5CPj7YUe422oLrWsjLw92S1HqXsMlA2RntnvUs26qFPSylB2U4xnHosE0F5VgvrkK+KOeeE5CuRPm6ZOMGgc+njjJed9t/EULw9G1jXTvCPW3er+M5gochoabc/kfDz6+kC3Lsh1mzoCpT3KsA05CqBLRlzWhJdd3TySiRBAl5yfPolIu/OUp+NlaMTtGa+6fTzLcHyds6rks9vO89KOZLEdho+vLqb2b4JjEJ2I6BI18GIFChfOx2LpzuNlq1EunVgdQUHju/hNp2a82EuY6fKzGPiVC8vmxMdEr0WFNK7wzigKHhnNGI5EF6njbpH3CzG/yIVAuvEjPx5AKGE8Y7qUjKa9oIvUlWbg90F47p8/NCZ6/f0lmC2N62wpz9nY6zRBsO4mIiLKmUmPPrru++rzFKf/4z/x51P+TH1FREQXjyiO/VsAZz5vheO+zdi6pgBXqu+QwjS9GCv/Zh4mx0II/PxtBD/8D1x1yz1Y/dR2NC27Wp2L6NIX/e2vEThzJayOSmx+Zg0K/lR9Q+sLN+Pr9xXB+ieXqxPo0nGh2os/IHIqAtP1dtwxJ4d3oTkbwYn/m49bF92Ka9nwpfp/rkJB+UrckT8JJ9/7Jd469B4+xLUor1qHzU9XYx7T7NLCupuIaML79NQJnPvLW7Go8Foes18gvz/175j8eekgaHgIF73hXDgmOhERERERERERERH90eGY6EREREREREREREREY8QgOhERERERERERERFRGgyiExERERERERERERGlwSA6EREREREREREREVEaDKITEREREREREREREaXBIDoRERERERERERERURoMohMRERERERERERERpcEgOhERERERERERERFRGgyiExERERERERERERGlwSA6XQSiGPD3wnckor4mGifRCCJR9TkREREREREREZHAIDpNeOGuKiyuqEHVnSVoOapOTGsA7qpCFC4Ujw1+ddqF5d8grY8LfkTgXSOeV7nFWg5T3i9ETVdYnZJk0I0q8X5Vp/ZT59/AixViPZeh0Zcuyiy2r05sy6IaeD9WJ42RnDZJ6ZW16AB6N1ehRKTh7Otny9tQscGD4Cn1/bgzXtTMno/5hS4E1Eljp+ZHeRuCaL1TPJ8g+ZKIiIiIiIiIiIxhEJ0mjIHOKiX4LQech5n/PB9m+dk05CtPhgLL0vyuveo0VfSjMMIfi8epiXFJcfSUWJcrJ8MitsJ8uXj+UeJ6ye+L9e19eC28ehfbn4tiULw/+Kn6+gLJ/9r9KDoTgrvWhcA5daJGpHcd1r4WxuR76lA6VZ04RnLaJKVXVo61o2zOYtQ848OAxYYVX1sB+3VRBDrqUXJzCVoOahLcdCNuvs0Cq90q9pVqr0vksSq4B9XXoyDnx8/nQcrFps/E8wmSL4mIiIiIiIiIyBgG0Wni+HRQCX5/fBLaMKPJ0Yx9h/bh0DudKI8HZ9XAsjT/yYshJjnJBJP6VNcMO+xmH9Y+2osJO2jNFQ40bCyFKeJG/XMhdaLqjA+utV5Ep63C5ges6sQLLOJD7d0uBK50ornvXRzq7kCzqxlbOt/AuwfaUGoOonWlC74z6vyTrKjesQ+728qRr05C9KTIY4OI6pw0yMrlGfc+ERERERERERFNYAyi04Tge6YeLm980I6D2N5Qj/pnfJAHODniQWNzC1wbWuETE8K+VtRv6h4a4uPgi2LeBuW9jM5FENzVDpf03eLhes6HUDyAOo4sU4eua1boxVOP5ePr6x2I7qzFul7jYfTocT/cm5Xtqd/QDt9x7RmFIDzSdu5MGgzlsFue331Yfa0Kvix9j0d8Kj2z8zFsXAKENj2I9uPqRCGwqRaeiBmVT9XBNkmdKKSs37HUMx7ycqV9LQ+7Is07wr6MhuDZIObb1KvkjzRCzzfCG8nHKncbyq9JSvQpTmxxr0J+xIPt3vi3hOV8WP+ylALq8xcPiucD6N6kWa+IH61ie1r26Cz9XBBu8V7ja/GTDHnIG4rIqzTpQ0REREREREREEx+D6DQhhF73oPdIPMA6AP/LHnheD+Gs9PJEPzzS65e75aD32aPd8OwKDl2tPrB3+L20Ij7UL5yPktUutMvf5UF7cxWWzVmMRr82aB2Bf3MFlq2ohfeYOmmMzJMnq89UVuvwlc5DzsJc0oSGmVF412qujs4gvLMGhUUVaHzOj4HwAAJdLlQVzUZZx3AAF8fFdrb2Dp1wkARedcnb73pVO/J3ED2bRbqEP4fM15GbUbq+GXYxv6vBowSxj7Wi/sUIzGVb0PAleSbZ8Pr1oc8nHtL6LZ2Nkk2BhKvtw/ulff0ztJQvRo087wEMpPt1wbkQ2suXob7rLIqqncPDrqQIovtlsdX2Vbhvrjop2dzV2LlvH7Ysj48RdFbOh5790ladxcBBsS6/llIuitB+zXqZrTC/70Fr0w4kXY+P6K6taBR5EVPjqWiCOf71Kqt1hvqMiIiIiIiIiIguBgyi04TgeKQNTSXxkGgBqre2oe0RhxQGTpG3pAltjaVDAdSCB8S8W5vgSBtRHUB7ZRU8UmzUbMeqjt14o7sNq26TopvSjR/XDQetj3vQ+IwfocNe1G7zqRPHJv+bXdj3UqUcOHesP4R9jXbljRT5qN6kXB1du2mEW1t+LOZZ0wt8tQOH3n0Dnds7sfvQIXR81YzAhnq45Rt7WlBUIpZ1tA/+oYumg+jbFUX+tHxEd/UNX3V+3I9eMY99iT3zsDOSqeVofsQG+Bvx+J4QPOtaEDKVYqPYX0OfHVq/Nhx6Zx/29YvHoXex+yEbgm1VaPmVOl/cUS+Cxbvx7rvSvB2onKZO15IC6Hctg+u4E1t6tsA5RZ2u59wgBsT2WG8ryBBoN8FsscBi1tvifFR2iHVpKRXPrajzaNfLguKviXQd9KI74Ua3UfTuEttsKscKzS62N4rPyvtcfKf4nq5vpp5CISIiIiIiIiKiiYtBdJoQrLc54bDFr9iehoXLnXDeZtUN6Jpm2OF0zMHQ3LeIeZfbYb1CnZDssAfb5aFLTKhs60Sdw4r8uU7UPfsYHNLkqBc79qiXPlusKFCvHLbZcnTF8BVmWKaoWyI91w3aqubWYfO3zIi8+CBakoZb0Qq91Aq/qRJtTzjUm65KzHCsl7YpALc6NI7FXgQr/Oj5pbp9crDcisrvlcMa7oVfHZIl7O9DCAUoTn8mIkH+tzajTrpqvq4MLj/geOIxODVXXMvrJ76v7iEnzEPDl5hgfaABlaYI3M97E8a9h9iWphr9/S1Tr0B3Hbej+adtI9+4dHAAR6S/kzKk9RhYSr8OJwbg6dYMfnOmFz/rFWnzQKXY8mEm83CgXnpuTpdPiYiIiIiIiIhoQmIQnS554WBAHTs7Ck9tIQoXqo87Hodfng4E31MH5rjCgeYD7+LQoXexs+rCXDFc8NAWlJsH0LqqBUHdG1pGceSIFCQPYMej0ljdmseG/4PBSUDofXUsmmucKJ8J+HzKlsrBcpMdBU477KYQ+uRL1KPw7xHvzyyGY6TgdNwkK1bJV81HEFnQhI0l2jFL1PXT+75JdhQtF38DHyQOhXJNfvorxk/1o3VlGVwHzahu70S5kXMb0skK9em4uKIUX/+qSM8Oj9gLivBPdsAn/YringlyY1UiIiIiIiIiIsoJBtHpknc2MjSWCUxJN3U0T7UoN/6MakbpniSNYz0+VzAbcoUDTVvKYR5sxYPPJY+6LTmJk/JQ3SEEpLHGEx4BnJaGKIlf+Y58OJz5wK4+Odgb3O8HlhehQPyTgtl+vzTVj/49Yk6nQx5yxrC5N2OB9Pfa5AC4un6ZhAcy3hQ0QdgHz0CeWLcI2te3I6R7YiGJxQqrSIJQUL4efVw4yiphinrQLZ+fCKPHK9JywQoUGz0RQUREREREREREFwUG0emSl3/NjeozG1bLY1vrPB5JN075hWFyNGBjiQmhTY3wfKROHJIPq038mbEanXrbIj0022O9oxSWaA/6DgfQtwtwOpT37A4HsLsfgcMH0AcLSu/I1RXUYv1uEn+O6wXKwzgpjdc+dw4MD5ZjqUZXz27s3F4K82EXyh72JdyYVF8BistMwM5X4E0388dulE2fjsJNmiFZsmEvR7UlCs8uv9jWbrgPirT92/LxvQKeiIiIiIiIiIjOOwbRaQKK4OTIUdIhkVMjzFywEErYOAj3D/3DAdhTXtQuLEFVgwueo/ERuiPwb67AshW18KojolwYZjjXb0GpyY/Gjn7NuOcKu8MJHPOgO3nc9DMBeJ7rRfCU+loytwjFpjACr3bDH3XgK0vU8bmX/A0cUT88bh/CpmIUzZUn54T9drF+Uc/wWPNxx7vR7gfyHVlc9T4lDxaxyuYlW9D1kBWR12qxbs/IGcReXQcrfFi31otw8tXr5yLo3dSCgJjj/nLpjMRo2LDiG/mIdvXAK48p7xxKWyIiIiIiIiIiunQwiE4TRv6M+BXjPtTPn47pxe1IOyrINCuG5n54PqZPX4Z29SaZKSzlaKpXAqUDnRWYP18ZE332zbXwfhyEb1cEedPU4OdxDxqf8SN02IvabT5l2oViduKxJxyI7vENjbsdZ1peh4a5A2i9qwwuXwjhcBjhoz64KstQ37wV/oQYcwFWfMME/4tuhOzFsMdvbHmFHcX2EDxdQZi+sULMlTvK+kXh/U7F0PoNHHajptyFkLkUTd8e3VXv1ge2ie+NwHt/BdpHOslxTTW2PVKASG+t2N8inTp70btLPDpdKFs4HzWvRVDwyDZUX6POr2fyZJgQQrfHj4HBMCJJwXjrPdUoiPbg8c1+mCruQylvGkpEREREREREdMlhEJ0mjiWPobNKE1w9+g6OpBv/epIDj3VWwzo0xnkI77ynPtVhfaALu58ohU2KlUfCCH8chnSNtOnGanT0NcMRD35arChQL/u22QwPODJuzCUb0aw30swkK6rdXWi4YwDtVctQWFiIwuIqtA860PDTzpTAcMFtTvmvdbFdM9yIBfbFSno7b8tlCF2Ir9/tw+u3eEUjfJZytPVsgSP50nqj5O/tQKk5CNfdtfCNcEG6taoLhzwNcE4KoP3RGtSsFo9H2xGY5ESD5xC6tPlNz5fq0CHmCbZVYPGiRWg5qE6Pm1qMcrvIT2ELqssn1pBARERERERERESUG5f94Q//HRPUlwrptfQ4/tEJ3DD9WnUq0XlyLorIJ1GYrjKn3AhUT/RUGFGTBWaDVwFL80c+A0xm8Rm90Tek5X+KC3tz0WxEIwhHosDlZs0NRSeQM2L9PhXrZxLrdyHTVF0P05XG88qQtHkiCm/NbNQGV2H3m9LwMUREREREREREdLF4/zcf4otXTxXPLsNll10m/sbkv8rzYQyiExGN1mA7yha5gMZ96PoWbylKRERERERERHQxMRpE53AuRETZOu5GxcJCzC9yIWAux+qvMYBORERERERERHSpYhCdiChL0U+AfEcRiv+uGbvf1IypT0RERERERERElxwO50JEREREREREREREf3Q4nAsRERERERERERER0RgxiE5ERERERERERERElAaD6EREREREREREREREaTCITkRERERERERERESUBoPoRERERERERERERERpMIhORERERERERERERJQGg+hERERERERERERERGkwiE5ERERERERERERElAaD6HRpOBWEb5cfA1H1dTZG89lzEQR9vfAfH80CiYiIiIiIiIiI6GLBIDpdAgJwFZWganUFFtd6oYS1/XAtLESheFR1DshT9Ol9dmSBf1qEkqoaVBTVwntGnZjOXpe8HtLDtVedNg78G6RluMSWR+BdI55XuZGw5YNuVKnrkfzQTaNTAbjrSlBYOBuz5xdiWYULvR+r7yUzNO8A3FViefJ6BdF6p3i+wa++R0RERERERERENDExiE6XAAvyrlGemadOg0l+FsXJj8MIi8fgp/KENPQ+OzLLX+QrT8x5mDbSh6In5fWQHifH8cL16CmxjCsniy0yw3y5eP5R0sI+DsH/cQR5BUUociQ+bv7Lz6kzqSI+1BaVodEbhW3JCqxYbgPebkfNwhK0H1Pnicti3uhHYr0+n4d8sY6mz8TzU7ySn4iIiIiIiIiIJjYG0ekSkI/qV9/FoX2HsK+xQJ1m1Og+m1+1E+8e2Cc+14SCSerEiWCSKf2JgN+fRlRs74qHmtHsSnyscljUmSRReNdWwYtSdBzYjQ55ng7sPtCGUlMQrnUehNU5s5tXdbnRUxVEREREREREREQXHoPoNCEEX65HfYP08CCoTpMCtIEOdfrLw1MR9qFVnrcerl3SMCRh+LY1wrXZhUbtfDoi/lZ1OfVo6ZXCu8Y/qxX2taJxUwtcTdr1lUQx4GuHS15GCzxHI+r08WeZqg2EC0mx6oHjR8T/N8KqXnmfVrgbr/QCzvUb4TCr0yRmJ77naUNbhU2dIGQzL/KQp17AP2QinYAgIiIiIiIiIiLSwSA6TQh5GIDnZY94tMMXHwLknB87NkjTxGNzz3CwOvAztMjzdiM6RYrKnkXodXW+/SnXPQ871o6KihZlvqAVK+6Qgs4GP5vk7NFu5TMv9w9faX0uBM99hVhc5UK7/F4r6osXob5XL5AegX9zBZatqIU3eXiUUTJPnqw+U1mt0Masj4VCgCUflnNRRI760esPIaIznnv0lz3ww46iL5vENiXOa5nrhHO5DfFwfTbzSlF9szbQLlitM9RnREREREREREREExOD6DQhWJasgF1+FkJ/PJh95ACGbjsZDiCoTg78sld5AieKblWfjkQat/tulxKIN5eiw10Na46vgg7/pBH1e9WA+YxyNG1tQ1OVFT1dPmWa1nEPGp/xI3TYi9ptOu+PQv43u7DvpUo5cO5YLw1Po6SoIorIKfEn4kHVrNmYX1yBmoplmD9nOpZtkG5FOuzkiUHxvwUYbEFZ0rxlmwOjnldib9ynrlc+Kj370PXN5EvTiYiIiIiIiIiIJhYG0WlisNhRNFN56t+vXHM+4O+Vr/K2WKRrmf3oD8hTEfCrN6Nc8lewGwmEnzuC9soqeOWIrg0NP92SOPSIDvkmneHkRwTpb4MZRt9ONeRvKkVHdzMqlztR+UgXOh4YvhZ7iMWKAnUdbLYcXY19hRmWKeoYLtJzs3Y8lwjMN5XCXlCEulffwL5Dh3DozZ1oWm5BqKMCFR3SsDiKY++HxDb44LrbDdNDnXjj0Lt498ButJXlI/BM2ajnlZjMlqH1kp6br5CfEhERERERERERTVgMotMEkQ/7EjXYvPcAgoji4P6QeGHFfX+rXFHd+8sAcOYg+o/KL+Eodaa/iaZGaFMNXIelZ2ZUe3aiesSY9QDc9xSisDD5sW74yvgUQQTiby77Chya4HDBLdorwlVXONB84F0cOvQudladj6uxLXD8/RZ0djajfG4+LGYzzNNsqNz6L2haINZ+UzvkcxRx0QjyHupC5wN25JtNME2xwvlE19jnJSIiIiIiIiIiusgwiE4Thq24XBk/O+yDf9CP/j3iuckOe9lCeaiXqD+AgaEhXuwolsbhzkoE7evbkXhttD7TX1jkG3UmPvIyBu3Pqn9xedJckyfrf26SNEZ4ttuQaxY4nFYpcRE4rkyZZhWvYcWKZdJfrbHNS0REREREREREdDFiEJ0mjrlFKJZjykG88+N+9ElPHTfDFh/q5Wg/PG8FlCFVZhbBrjNKiq65dWh7yKY8P+zC3z0nXeGeST4qO/ZhX3/yo0Edt13PNFwfv8I9GEoI1EdPDGQYBuZ8iSISDuveSFQhEl4dGid/2jTx/2mc1bvp6Dnp/+FhWLKZl4iIiIiIiIiI6GLEIDpNIAUoWq4887/WLY+H7lguDdkSH+rFj/bnlPHSrXc55RtoGmH961I4H9iMhrnK62Dzg2g/pjzPHSsK4lfGH92Kll71lpoRP1yb9G4cGoF/cwWWraiFN+froieIlkWFmL/Gm3izz3MheF8NAdMccEjxcMG05G/gFKnvfsGXNG8Q3S9J8xagQD2Bkc28REREREREREREFyMG0WlCsTuc8l/pRp7aIVtsRcUwIYqofEm3BU57luOIT7Ki+gcNUK5HD8K1qhUh+Urp3LFX16nfH4G3Zj6mXz8d0+dXoHuKTaxxkuMeND7jR+iwF7Xb9ILsuVaAaulq/D21WFrVAt/RMAYO96JlZRlajppR2ng/hgZkuaIUdfU2RF6rQsnDbvjFvCG/G/XFJWgdHMO8REREREREREREFyEG0WlCMS35Chzq84QhWxYUozw+fLipGEXqVeVZuaYa2x5Rh3U52oJvP6Vc1Z4z4vs7f9oAR3ydzwEWRzO6nlqByeqkIRYrCszKU5ttxDud5kR+VSe66p3AW62oKi7E4hU1aN2fj/K2n2PLEnVlVNYHlHnPvtaICjHvsopGeAZtqO54c0zzEhERERERERERXWwu+8Mf/jsmqC8V0mvpcfyjE7hh+rXqVCIyKnoqjKhphPHAz0UR+RQX4Oai0vjoEUQvN8MyZaRlq/OaxLwjrmc28xIREREREREREV1Y7//mQ3zx6qni2WW47LLLxN+Y/Fd5PoxBdCIiIiIiIiIiIiL6o2M0iM7hXIiIiIiIiIiIiIiI0mAQnYiIiIiIiIiIiIgoDQbRiYiIiIiIiIiIiIjSYBCdiIiIiIiIiIiIiCgNBtGJiIiIiIiIiIiIiNJgEJ2IiIiIiIiIiIiIKA0G0YmIiIiIiIiIiIiI0mAQnYiIiIiIiIiIiIgoDQbRiYiIiIiIiIiIiIjSYBCdiIiIiIiIiIiIiCgNBtGJiIiIiIiIiIiIiNJgEJ2IiIiIiIiIiIiIKA0G0YmIiIiIiIiIiIiI0mAQnYiIiIiIiIiIiIgoDQbRiYiIiIiIiIiIiIjSYBCdiIiIiIiIiIiIiCgNBtGJiIiIiIiIiIiIiNJgEJ2IiIiIiIiIiIiIKA0G0YmIiIiIiIiIiIiI0mAQnYiIiIiIiIiIiIgoDQbRiYiIiIiIiIiIiIjSYBCdiIiIiIiIiIiIiCgNBtGJiIiIiIiIiIiIiNJgEJ2IiIiIiIiIiIiIKA0G0YmIiIiIiIiIiIiI0mAQnYiIiIiIiIiIiIgoDQbRiYiIiIiIiIiIiIjSYBCdiIiIiIiIiIiIiCgNBtGJiIiIiIiIiIiIiNJgEJ2IiIiIiIiIiIiIKA0G0YmIiIiIiIiIiIiI0mAQnYiIiIiIiIiIiIgoDQbRiYiIiIiIiIiIiIjSYBCdiIiIiIiIiIiIiCgNBtGJiIiIiIiIiIiIiHQB/z9+ixlFO865WQAAAABJRU5ErkJggg==)"
      ],
      "metadata": {
        "id": "_KWIYQGgYp_j"
      }
    },
    {
      "cell_type": "markdown",
      "source": [
        "## Conectando a OpenAI"
      ],
      "metadata": {
        "id": "B80-upN1YwB7"
      }
    },
    {
      "cell_type": "code",
      "source": [
        "os.environ[\"OPENAI_API_KEY\"] = getpass.getpass(\"Forneça sua API da OpenAI\")"
      ],
      "metadata": {
        "colab": {
          "base_uri": "https://localhost:8080/"
        },
        "id": "VWapvBp3YtFJ",
        "outputId": "c0da8c3a-1b71-4213-ecf6-de965750b2c5"
      },
      "execution_count": 16,
      "outputs": [
        {
          "name": "stdout",
          "output_type": "stream",
          "text": [
            "Forneça sua API da OpenAI··········\n"
          ]
        }
      ]
    },
    {
      "cell_type": "code",
      "source": [
        "OPENAI_API_KEY = os.environ[\"OPENAI_API_KEY\"]"
      ],
      "metadata": {
        "id": "jNqrshmbY4dN"
      },
      "execution_count": 17,
      "outputs": []
    },
    {
      "cell_type": "code",
      "source": [
        "openai_client = OpenAI(api_key=OPENAI_API_KEY)\n",
        "\n",
        "def get_embeddings(articles, model=\"text-embedding-ada-002\"):\n",
        "    return openai_client.embeddings.create(input = articles, model=model)"
      ],
      "metadata": {
        "id": "W53_AD4cY_0l"
      },
      "execution_count": 19,
      "outputs": []
    },
    {
      "cell_type": "markdown",
      "source": [
        "# Exemplo de Query!"
      ],
      "metadata": {
        "id": "8omrlxHNZTCH"
      }
    },
    {
      "cell_type": "code",
      "source": [
        "query = \"Tell me about AI!\"\n",
        "\n",
        "embed = get_embeddings([query])\n",
        "res = index.query(vector=embed.data[0].embedding, top_k=3, include_metadata=True)\n",
        "text = [r['metadata']['text'] for r in res['matches']]\n",
        "print(f'\\n'.join(text))"
      ],
      "metadata": {
        "colab": {
          "base_uri": "https://localhost:8080/"
        },
        "id": "FEvxicxHZSkR",
        "outputId": "6b259898-a4f8-4a02-dc38-6774a106fd23"
      },
      "execution_count": 29,
      "outputs": [
        {
          "output_type": "stream",
          "name": "stdout",
          "text": [
            "A brilliant mathematician and cryptographer Alan was to become the founder of modern-day computer science and artificial intelligence; designing a machine at Bletchley Park to break secret Enigma encrypted messages used by the Nazi German war machine to protect sensitive commercial, diplomatic and military communications during World War 2. Thus, Turing made the single biggest contribution to the Allied victory in the war against Nazi Germany, possibly saving the lives of an estimated 2 million people, through his effort in shortening World War II.\n",
            "\n",
            "In 2013, almost 60 years later, Turing received a posthumous Royal Pardon from Queen Elizabeth II. Today, the “Turing law” grants an automatic pardon to men who died before the law came into force, making it possible for living convicted gay men to seek pardons for offences now no longer on the statute book.\n",
            "\n",
            "Alas, Turing accidentally or otherwise lost his life in 1954, having been subjected by a British court to chemical castration, thus avoiding a custodial sentence. He is known to have ended his life at the age of 41 years, by eating an apple laced with cyanide.\n",
            "\n",
            "Career \n",
            "Turing was one of the people who worked on the first computers. He created the theoretical  Turing machine in 1936. The machine was imaginary, but it included the idea of a computer program.\n",
            "\n",
            "Turing was interested in artificial intelligence. He proposed the Turing test, to say when a machine could be called \"intelligent\". A computer could be said to \"think\" if a human talking with it could not tell it was a machine.\n",
            "During World War II, Turing worked with others to break German ciphers (secret messages). He  worked for the Government Code and Cypher School (GC&CS) at Bletchley Park, Britain's codebreaking centre that produced Ultra intelligence.\n",
            "Using cryptanalysis, he helped to break the codes of the Enigma machine. After that, he worked on other German codes.\n",
            "\n",
            "From 1945 to 1947, Turing worked on the design of the ACE (Automatic Computing Engine) at the National Physical Laboratory. He presented a paper on 19 February 1946. That paper was \"the first detailed design of a stored-program computer\". Although it was possible to build ACE, there were delays in starting the project. In late 1947 he returned to Cambridge for a sabbatical year. While he was at Cambridge, the Pilot ACE was built without him. It ran its first program on 10 May 1950.\n",
            "\n",
            "Private life \n",
            "Turing was a homosexual man. In 1952, he admitted having had sex with a man in England. At that time, homosexual acts were illegal. Turing was convicted. He had to choose between going to jail and taking hormones to lower his sex drive. He decided to take the hormones. After his punishment, he became impotent. He also grew breasts.\n",
            "\n",
            "In May 2012, a private member's bill was put before the House of Lords to grant Turing a statutory pardon. In July 2013, the government supported it. A royal pardon was granted on 24 December 2013.\n",
            "\n",
            "Death \n",
            "In 1954, Turing died from cyanide poisoning. The cyanide came from either an apple which was poisoned with cyanide, or from water that had cyanide in it. The reason for the confusion is that the police never tested the apple for cyanide. It is also suspected that he committed suicide.\n",
            "The abacus, the slide rule, the astrolabe and the Antikythera mechanism (which dates from about 150-100 BC) are examples of automated calculation machines.\n",
            "\n",
            "Programming \n",
            "\n",
            "People do not want a machine that would do the same thing over and over again. For example, a music box is a machine that plays the same music over and over again. Some people wanted to be able to tell their machine to do different things. For example, they wanted to tell the music box to play different music every time. They wanted to be able to program the music box- to order the music box to play different music. This part of computer history is called the \"history of programmable machines\" which is a fancy phrase for \"The history of machines that I can order to do different things if I know how to speak their language.\"\n",
            "\n",
            "One of the first examples of this was built by Hero of Alexandria (c. 10–70 AD). He built a mechanical theater which performed a play lasting 10 minutes and was operated by a complex system of ropes and drums. These ropes and drums were the language of the machine- they told what the machine did and when. Some people argue that this is the first programmable machine.\n",
            "\n",
            "Some people disagree on which early computer is programmable. Many say the \"castle clock\", an astronomical clock invented by Al-Jazari in 1206, is the first known programmable analog computer. The length of day and night could be adjusted every day in order to account for the changing lengths of day and night throughout the year. Some count this daily adjustment as computer programming.\n",
            "\n",
            "Others say the first computer was made by Charles Babbage. Ada Lovelace is considered to be the first programmer.\n"
          ]
        }
      ]
    },
    {
      "cell_type": "markdown",
      "source": [
        "# Um mini-bot capaz de interagir com esses dados!"
      ],
      "metadata": {
        "id": "EVYhKb4iaf-D"
      }
    },
    {
      "cell_type": "markdown",
      "source": [
        "O lado bom dos modelos de LLMs é que eles podem se adaptar ao idioma do usuário. Aqui irei fazer um RAG dos nossos dados que estão originalmente em inglês e irei perguntar tanto em português quanto em inglês. A resposta terá como base o mesmo dado recuperado, mas será traduzida conforme o idioma do prompt ^^!"
      ],
      "metadata": {
        "id": "LM9xcTBDcj_B"
      }
    },
    {
      "cell_type": "code",
      "source": [
        "query=\"Escreva um texto sobre dança!\"\n",
        "\n",
        "embed = get_embeddings([query])\n",
        "res = index.query(vector=embed.data[0].embedding, top_k=3, include_metadata=True)\n",
        "\n",
        "contexts = [\n",
        "    x['metadata']['text'] for x in res['matches']\n",
        "]\n",
        "\n",
        "prompt = f\"\"\"Answer the user question baseod on the context below. \\n\n",
        "        Context: {contexts}\\n\n",
        "        User Question: {query}\\n\n",
        "\"\"\"\n",
        "\n",
        "print(prompt)"
      ],
      "metadata": {
        "colab": {
          "base_uri": "https://localhost:8080/"
        },
        "id": "1IrkmpjdZdwV",
        "outputId": "482bbcfc-28cf-42d2-a164-aff31df7bc36"
      },
      "execution_count": 40,
      "outputs": [
        {
          "output_type": "stream",
          "name": "stdout",
          "text": [
            "Answer the user question baseod on the context below. \n",
            "\n",
            "        Context: ['Dance is a performing art. It is described in many ways. It is when people move to a musical rhythm. They may be alone, or in a group. The dance may be an informal play, a part of a ritual, or a part of a professional performance. There are many kinds of dances, and every human society has its own dances.\\n\\nAs with other performing arts, some people dance to express their feelings and emotions, or to feel better. Dance can be used to tell a story. In some societies, dance goes with song as well as music. Dancing is sometimes done as sport, and has similar athletic aspects. People who want to learn to dance can go to dance schools. It may take years of practice to become an experienced and capable dancer.\\n\\nTo plan a dance is called choreography, done by a choreographer. Often this goes with music, and fits into a certain style. Dances may be planned in detail, or they may be whatever dancers feel like doing. However, most dancing does follow some general style or pattern. One style is the couple dance, where (usually) a man and a woman dance together. Other dances need an ensemble, a group of people together to make it work.\\n\\nHistory  \\n\\nPeople have always danced. Every society has its own dances. There are pictures, on pottery and stone, which show dances from several thousand years ago, in Egypt and Greece.', 'Folk dance\\nIrish Dance\\nMorris Dance\\nCountry Dance\\n\\nIndian Classical Dances\\nBharat Natyam\\nKathak\\nMohini Attam\\nKathakali\\nKuchipudi\\n\\nProfessional dancers \\nAlvin Ailey \\nGeorge Balanchine\\nVernon and Irene Castle\\nMisty Copeland\\nKatherine Dunham\\nBob Fosse\\nLoie Fuller\\nGene Kelly\\nVaslav Nijinsky\\nMargot Fonteyn\\nMonsieur Pierre\\nAntonio Ruiz Soler\\n\\nReferences \\n\\n \\nNon-verbal communication', 'Until the 20th century, most ballroom dances were sequence dances. The way people moved was planned in set formation. These formations were usually lines or squares. Everyone moved at the same time, and finished at the same time. The music played for a set time, and then stopped. After the invention of the waltz, around 1800, another style of dancing developed. In the waltz, and later dances, people danced in couples, but they did so separately. They did not dance in formation, but moved round the room as they pleased (but anti-clockwise). Often, new dance styles arrive. Some dance as individuals, separately, as they please. Street dance is like that. All these types of dance have music.\\n\\nAt the same time, round the world there are many traditional dances. Some of them have been going for hundreds of years. We call them folkloric dances.\\n\\nThe coming of popular music videos and DVDs led to a kind of dancer previously seen in some stage shows. A backup dancer (or background dancer) is a performer who dances with or behind the lead performers in a live musical act or in a music video.\\n\\nStyles \\n\\nThere are many different styles of dance, which fall into these general types:\\n\\n Classic dance\\n\\nProfessional dancing\\nBallet\\nModern dance\\nTheatre dance\\nBelly dancing\\nJazz dance\\nTap dance\\n\\nSocial dancing\\nBallroom dancing (International style) \\nWaltz\\nFoxtrot\\nTango\\nQuickstep\\nViennese waltz\\nCha-cha-cha\\nJive\\nPaso doble\\nSamba\\nRumba\\nOther styles\\nSalsa\\nRock and Roll\\nStreet dance\\nBreakdancing\\nFunk\\nHip hop\\n\\nFolk dance\\nIrish Dance\\nMorris Dance\\nCountry Dance']\n",
            "\n",
            "        User Question: Escreva um texto sobre dança!\n",
            "\n",
            "\n"
          ]
        }
      ]
    },
    {
      "cell_type": "code",
      "source": [
        "res = openai_client.completions.create(\n",
        "    model=\"gpt-3.5-turbo-instruct\",\n",
        "    prompt=prompt,\n",
        "    temperature=0,\n",
        "    max_tokens=300\n",
        ")\n",
        "print('-' * 80)\n",
        "print(res.choices[0].text)"
      ],
      "metadata": {
        "colab": {
          "base_uri": "https://localhost:8080/"
        },
        "id": "pOzOxjuEbGLD",
        "outputId": "11c7129d-0ef2-44e4-a52c-d269932be1a1"
      },
      "execution_count": 41,
      "outputs": [
        {
          "output_type": "stream",
          "name": "stdout",
          "text": [
            "--------------------------------------------------------------------------------\n",
            "A dança é uma arte performática que pode ser descrita de várias maneiras. É quando as pessoas se movem ao ritmo da música, podendo estar sozinhas ou em grupo. A dança pode ser uma brincadeira informal, parte de um ritual ou uma performance profissional. Existem muitos tipos de danças e cada sociedade humana tem suas próprias danças.\n",
            "\n",
            "Assim como outras artes performáticas, algumas pessoas dançam para expressar seus sentimentos e emoções ou para se sentirem melhor. A dança também pode ser usada para contar uma história. Em algumas sociedades, a dança é acompanhada por canções e música. Além disso, a dança também pode ser praticada como esporte, possuindo aspectos atléticos semelhantes. Para aprender a dançar, as pessoas podem frequentar escolas de dança, sendo que pode levar anos de prática para se tornar um dançarino experiente e habilidoso.\n",
            "\n",
            "O planejamento de uma dança é chamado de coreografia e é feito por um coreógrafo. Geralmente, a coreografia é feita em conjunto com a música e segue um determinado estilo. Algumas danças são planejadas em detalhes, enquanto outras são improvisadas pelos dançarinos. No entanto, a maioria das danças segue\n"
          ]
        }
      ]
    },
    {
      "cell_type": "code",
      "source": [
        "query=\"Write a text about dance!\"\n",
        "\n",
        "prompt = f\"\"\"Answer the user question baseod on the context below. \\n\n",
        "        Context: {contexts}\\n\n",
        "        User Question: {query}\\n\n",
        "\"\"\"\n",
        "\n",
        "res = openai_client.completions.create(\n",
        "    model=\"gpt-3.5-turbo-instruct\",\n",
        "    prompt=prompt,\n",
        "    temperature=0,\n",
        "    max_tokens=300\n",
        ")\n",
        "print('-' * 80)\n",
        "print(res.choices[0].text)"
      ],
      "metadata": {
        "colab": {
          "base_uri": "https://localhost:8080/"
        },
        "id": "D953o-qIb_TX",
        "outputId": "dbafc52e-77fb-4659-a6de-853071bd18f8"
      },
      "execution_count": 43,
      "outputs": [
        {
          "output_type": "stream",
          "name": "stdout",
          "text": [
            "--------------------------------------------------------------------------------\n",
            "Dance is a performing art that has been a part of human society for centuries. It is a form of expression that involves moving to a musical rhythm, either alone or in a group. There are many different types of dances, each with its own unique style and purpose. Some people dance to express their emotions, while others use it as a form of storytelling. In some societies, dance is accompanied by song and music. It can also be a form of sport, requiring athleticism and years of practice to become skilled. The planning and creation of a dance is called choreography, and it is often done by a choreographer. There are also professional dancers who have dedicated their lives to perfecting their craft, such as Alvin Ailey, Misty Copeland, and Gene Kelly. In addition to these more formal styles of dance, there are also traditional folk dances that have been passed down for generations. With the rise of popular music videos and DVDs, backup dancers have become a common sight in live performances. Overall, dance is a diverse and dynamic art form that continues to evolve and captivate audiences around the world.\n"
          ]
        }
      ]
    }
  ]
}