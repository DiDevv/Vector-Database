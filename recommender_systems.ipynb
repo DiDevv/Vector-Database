{
  "nbformat": 4,
  "nbformat_minor": 0,
  "metadata": {
    "colab": {
      "provenance": [],
      "authorship_tag": "ABX9TyO6YQJFEFuN+BJlss8gEu1a",
      "include_colab_link": true
    },
    "kernelspec": {
      "name": "python3",
      "display_name": "Python 3"
    },
    "language_info": {
      "name": "python"
    },
    "widgets": {
      "application/vnd.jupyter.widget-state+json": {
        "113f7ab8074e45ceb98a9ffc21057e4a": {
          "model_module": "@jupyter-widgets/controls",
          "model_name": "HBoxModel",
          "model_module_version": "1.5.0",
          "state": {
            "_dom_classes": [],
            "_model_module": "@jupyter-widgets/controls",
            "_model_module_version": "1.5.0",
            "_model_name": "HBoxModel",
            "_view_count": null,
            "_view_module": "@jupyter-widgets/controls",
            "_view_module_version": "1.5.0",
            "_view_name": "HBoxView",
            "box_style": "",
            "children": [
              "IPY_MODEL_b486533d525d407bb74bc0bdbc275829",
              "IPY_MODEL_d8dc3210d52248949af8463d3bb7bd72",
              "IPY_MODEL_dafbc216ccd94fd5a74eb18e02a291b6"
            ],
            "layout": "IPY_MODEL_0f87eeb8cae245e8aac724d01c1576e2"
          }
        },
        "b486533d525d407bb74bc0bdbc275829": {
          "model_module": "@jupyter-widgets/controls",
          "model_name": "HTMLModel",
          "model_module_version": "1.5.0",
          "state": {
            "_dom_classes": [],
            "_model_module": "@jupyter-widgets/controls",
            "_model_module_version": "1.5.0",
            "_model_name": "HTMLModel",
            "_view_count": null,
            "_view_module": "@jupyter-widgets/controls",
            "_view_module_version": "1.5.0",
            "_view_name": "HTMLView",
            "description": "",
            "description_tooltip": null,
            "layout": "IPY_MODEL_5ac92466b80943c6a443b2a9e306149a",
            "placeholder": "​",
            "style": "IPY_MODEL_d48e3d8db48b4996b4597da4d9d30e6b",
            "value": "100%"
          }
        },
        "d8dc3210d52248949af8463d3bb7bd72": {
          "model_module": "@jupyter-widgets/controls",
          "model_name": "FloatProgressModel",
          "model_module_version": "1.5.0",
          "state": {
            "_dom_classes": [],
            "_model_module": "@jupyter-widgets/controls",
            "_model_module_version": "1.5.0",
            "_model_name": "FloatProgressModel",
            "_view_count": null,
            "_view_module": "@jupyter-widgets/controls",
            "_view_module_version": "1.5.0",
            "_view_name": "ProgressView",
            "bar_style": "",
            "description": "",
            "description_tooltip": null,
            "layout": "IPY_MODEL_904a5be08b0a4d2a8829b86d7a3d1203",
            "max": 10000,
            "min": 0,
            "orientation": "horizontal",
            "style": "IPY_MODEL_40e270583531481a90731cf53660dccd",
            "value": 10000
          }
        },
        "dafbc216ccd94fd5a74eb18e02a291b6": {
          "model_module": "@jupyter-widgets/controls",
          "model_name": "HTMLModel",
          "model_module_version": "1.5.0",
          "state": {
            "_dom_classes": [],
            "_model_module": "@jupyter-widgets/controls",
            "_model_module_version": "1.5.0",
            "_model_name": "HTMLModel",
            "_view_count": null,
            "_view_module": "@jupyter-widgets/controls",
            "_view_module_version": "1.5.0",
            "_view_name": "HTMLView",
            "description": "",
            "description_tooltip": null,
            "layout": "IPY_MODEL_c4dc71906cc14bf79de6919039cf4715",
            "placeholder": "​",
            "style": "IPY_MODEL_7ce0f009ecc946e28fe06f366f748c89",
            "value": " 10000/10000 [02:34&lt;00:00, 74.26it/s]"
          }
        },
        "0f87eeb8cae245e8aac724d01c1576e2": {
          "model_module": "@jupyter-widgets/base",
          "model_name": "LayoutModel",
          "model_module_version": "1.2.0",
          "state": {
            "_model_module": "@jupyter-widgets/base",
            "_model_module_version": "1.2.0",
            "_model_name": "LayoutModel",
            "_view_count": null,
            "_view_module": "@jupyter-widgets/base",
            "_view_module_version": "1.2.0",
            "_view_name": "LayoutView",
            "align_content": null,
            "align_items": null,
            "align_self": null,
            "border": null,
            "bottom": null,
            "display": null,
            "flex": null,
            "flex_flow": null,
            "grid_area": null,
            "grid_auto_columns": null,
            "grid_auto_flow": null,
            "grid_auto_rows": null,
            "grid_column": null,
            "grid_gap": null,
            "grid_row": null,
            "grid_template_areas": null,
            "grid_template_columns": null,
            "grid_template_rows": null,
            "height": null,
            "justify_content": null,
            "justify_items": null,
            "left": null,
            "margin": null,
            "max_height": null,
            "max_width": null,
            "min_height": null,
            "min_width": null,
            "object_fit": null,
            "object_position": null,
            "order": null,
            "overflow": null,
            "overflow_x": null,
            "overflow_y": null,
            "padding": null,
            "right": null,
            "top": null,
            "visibility": null,
            "width": null
          }
        },
        "5ac92466b80943c6a443b2a9e306149a": {
          "model_module": "@jupyter-widgets/base",
          "model_name": "LayoutModel",
          "model_module_version": "1.2.0",
          "state": {
            "_model_module": "@jupyter-widgets/base",
            "_model_module_version": "1.2.0",
            "_model_name": "LayoutModel",
            "_view_count": null,
            "_view_module": "@jupyter-widgets/base",
            "_view_module_version": "1.2.0",
            "_view_name": "LayoutView",
            "align_content": null,
            "align_items": null,
            "align_self": null,
            "border": null,
            "bottom": null,
            "display": null,
            "flex": null,
            "flex_flow": null,
            "grid_area": null,
            "grid_auto_columns": null,
            "grid_auto_flow": null,
            "grid_auto_rows": null,
            "grid_column": null,
            "grid_gap": null,
            "grid_row": null,
            "grid_template_areas": null,
            "grid_template_columns": null,
            "grid_template_rows": null,
            "height": null,
            "justify_content": null,
            "justify_items": null,
            "left": null,
            "margin": null,
            "max_height": null,
            "max_width": null,
            "min_height": null,
            "min_width": null,
            "object_fit": null,
            "object_position": null,
            "order": null,
            "overflow": null,
            "overflow_x": null,
            "overflow_y": null,
            "padding": null,
            "right": null,
            "top": null,
            "visibility": null,
            "width": null
          }
        },
        "d48e3d8db48b4996b4597da4d9d30e6b": {
          "model_module": "@jupyter-widgets/controls",
          "model_name": "DescriptionStyleModel",
          "model_module_version": "1.5.0",
          "state": {
            "_model_module": "@jupyter-widgets/controls",
            "_model_module_version": "1.5.0",
            "_model_name": "DescriptionStyleModel",
            "_view_count": null,
            "_view_module": "@jupyter-widgets/base",
            "_view_module_version": "1.2.0",
            "_view_name": "StyleView",
            "description_width": ""
          }
        },
        "904a5be08b0a4d2a8829b86d7a3d1203": {
          "model_module": "@jupyter-widgets/base",
          "model_name": "LayoutModel",
          "model_module_version": "1.2.0",
          "state": {
            "_model_module": "@jupyter-widgets/base",
            "_model_module_version": "1.2.0",
            "_model_name": "LayoutModel",
            "_view_count": null,
            "_view_module": "@jupyter-widgets/base",
            "_view_module_version": "1.2.0",
            "_view_name": "LayoutView",
            "align_content": null,
            "align_items": null,
            "align_self": null,
            "border": null,
            "bottom": null,
            "display": null,
            "flex": null,
            "flex_flow": null,
            "grid_area": null,
            "grid_auto_columns": null,
            "grid_auto_flow": null,
            "grid_auto_rows": null,
            "grid_column": null,
            "grid_gap": null,
            "grid_row": null,
            "grid_template_areas": null,
            "grid_template_columns": null,
            "grid_template_rows": null,
            "height": null,
            "justify_content": null,
            "justify_items": null,
            "left": null,
            "margin": null,
            "max_height": null,
            "max_width": null,
            "min_height": null,
            "min_width": null,
            "object_fit": null,
            "object_position": null,
            "order": null,
            "overflow": null,
            "overflow_x": null,
            "overflow_y": null,
            "padding": null,
            "right": null,
            "top": null,
            "visibility": null,
            "width": null
          }
        },
        "40e270583531481a90731cf53660dccd": {
          "model_module": "@jupyter-widgets/controls",
          "model_name": "ProgressStyleModel",
          "model_module_version": "1.5.0",
          "state": {
            "_model_module": "@jupyter-widgets/controls",
            "_model_module_version": "1.5.0",
            "_model_name": "ProgressStyleModel",
            "_view_count": null,
            "_view_module": "@jupyter-widgets/base",
            "_view_module_version": "1.2.0",
            "_view_name": "StyleView",
            "bar_color": null,
            "description_width": ""
          }
        },
        "c4dc71906cc14bf79de6919039cf4715": {
          "model_module": "@jupyter-widgets/base",
          "model_name": "LayoutModel",
          "model_module_version": "1.2.0",
          "state": {
            "_model_module": "@jupyter-widgets/base",
            "_model_module_version": "1.2.0",
            "_model_name": "LayoutModel",
            "_view_count": null,
            "_view_module": "@jupyter-widgets/base",
            "_view_module_version": "1.2.0",
            "_view_name": "LayoutView",
            "align_content": null,
            "align_items": null,
            "align_self": null,
            "border": null,
            "bottom": null,
            "display": null,
            "flex": null,
            "flex_flow": null,
            "grid_area": null,
            "grid_auto_columns": null,
            "grid_auto_flow": null,
            "grid_auto_rows": null,
            "grid_column": null,
            "grid_gap": null,
            "grid_row": null,
            "grid_template_areas": null,
            "grid_template_columns": null,
            "grid_template_rows": null,
            "height": null,
            "justify_content": null,
            "justify_items": null,
            "left": null,
            "margin": null,
            "max_height": null,
            "max_width": null,
            "min_height": null,
            "min_width": null,
            "object_fit": null,
            "object_position": null,
            "order": null,
            "overflow": null,
            "overflow_x": null,
            "overflow_y": null,
            "padding": null,
            "right": null,
            "top": null,
            "visibility": null,
            "width": null
          }
        },
        "7ce0f009ecc946e28fe06f366f748c89": {
          "model_module": "@jupyter-widgets/controls",
          "model_name": "DescriptionStyleModel",
          "model_module_version": "1.5.0",
          "state": {
            "_model_module": "@jupyter-widgets/controls",
            "_model_module_version": "1.5.0",
            "_model_name": "DescriptionStyleModel",
            "_view_count": null,
            "_view_module": "@jupyter-widgets/base",
            "_view_module_version": "1.2.0",
            "_view_name": "StyleView",
            "description_width": ""
          }
        }
      }
    }
  },
  "cells": [
    {
      "cell_type": "markdown",
      "metadata": {
        "id": "view-in-github",
        "colab_type": "text"
      },
      "source": [
        "<a href=\"https://colab.research.google.com/github/DiDevv/Vector-Database/blob/main/recommender_systems.ipynb\" target=\"_parent\"><img src=\"https://colab.research.google.com/assets/colab-badge.svg\" alt=\"Open In Colab\"/></a>"
      ]
    },
    {
      "cell_type": "markdown",
      "source": [
        "# Introdução:"
      ],
      "metadata": {
        "id": "O84_L3Hf9uZp"
      }
    },
    {
      "cell_type": "markdown",
      "source": [
        "Todo esse código estará armazenado no meu Github com o intuito tanto de guardar o meu aprendizado, quanto de compartilhar para outras pessoas.\n",
        "\n",
        "Todo aprendizado aquiduirido aqui me foi proporcionado gratuitamente pela organização DeeplearningAI. O curso pode ser encontrado aqui: [Building Applications With Vector Databases](https://learn.deeplearning.ai/courses/building-applications-vector-databases)\n",
        "\n",
        "A explicação do código estará em português e algumas abordagens alternativas foram tomadas pois estou rodando os códigos em um ambiente meu e não dentro do jupyter do próprio curso.\n",
        "\n",
        "O curso ainda não possui legendas em português, foi um ponto de dificuldade para mim pois ainda estou aprimorando minha escuta do idioma inglês, por isso, tentarei abordar o conteúdo em português por aqui, para quebrar a barreira linguística para outras pessoas que ainda não conseguem \"se virar\" no inglês :P, eu te entendo!\n",
        "\n",
        "Espero que possa ser útil, tanto pra você quanto pra mim!"
      ],
      "metadata": {
        "id": "nFuQA1_i9wqS"
      }
    },
    {
      "cell_type": "markdown",
      "source": [
        "# Recommender Syetems - Módulo 3"
      ],
      "metadata": {
        "id": "jL9sFK_AQget"
      }
    },
    {
      "cell_type": "markdown",
      "source": [
        "Sistemas de recomendação são utilizados em diversos setores da Indústria. Os bancos de dados vetoriais são capazes de otimizar a criação desses sistemas."
      ],
      "metadata": {
        "id": "JMqIkAiu-0s6"
      }
    },
    {
      "cell_type": "markdown",
      "source": [
        "---\n",
        "\n",
        "Antes de prosseguir, é necessário instalar alguns pacotes!"
      ],
      "metadata": {
        "id": "VDMaDWCx_wVc"
      }
    },
    {
      "cell_type": "code",
      "source": [
        "%pip install langchain openai pinecone tqdm"
      ],
      "metadata": {
        "colab": {
          "base_uri": "https://localhost:8080/"
        },
        "id": "Zo6bCY0PQlko",
        "outputId": "2ec36380-11dc-488a-aef6-bc95502fdd79"
      },
      "execution_count": 1,
      "outputs": [
        {
          "output_type": "stream",
          "name": "stdout",
          "text": [
            "Requirement already satisfied: langchain in /usr/local/lib/python3.10/dist-packages (0.3.14)\n",
            "Requirement already satisfied: openai in /usr/local/lib/python3.10/dist-packages (1.59.3)\n",
            "Collecting pinecone\n",
            "  Downloading pinecone-5.4.2-py3-none-any.whl.metadata (19 kB)\n",
            "Requirement already satisfied: tqdm in /usr/local/lib/python3.10/dist-packages (4.67.1)\n",
            "Requirement already satisfied: PyYAML>=5.3 in /usr/local/lib/python3.10/dist-packages (from langchain) (6.0.2)\n",
            "Requirement already satisfied: SQLAlchemy<3,>=1.4 in /usr/local/lib/python3.10/dist-packages (from langchain) (2.0.36)\n",
            "Requirement already satisfied: aiohttp<4.0.0,>=3.8.3 in /usr/local/lib/python3.10/dist-packages (from langchain) (3.11.11)\n",
            "Requirement already satisfied: async-timeout<5.0.0,>=4.0.0 in /usr/local/lib/python3.10/dist-packages (from langchain) (4.0.3)\n",
            "Requirement already satisfied: langchain-core<0.4.0,>=0.3.29 in /usr/local/lib/python3.10/dist-packages (from langchain) (0.3.29)\n",
            "Requirement already satisfied: langchain-text-splitters<0.4.0,>=0.3.3 in /usr/local/lib/python3.10/dist-packages (from langchain) (0.3.4)\n",
            "Requirement already satisfied: langsmith<0.3,>=0.1.17 in /usr/local/lib/python3.10/dist-packages (from langchain) (0.2.10)\n",
            "Requirement already satisfied: numpy<2,>=1.22.4 in /usr/local/lib/python3.10/dist-packages (from langchain) (1.26.4)\n",
            "Requirement already satisfied: pydantic<3.0.0,>=2.7.4 in /usr/local/lib/python3.10/dist-packages (from langchain) (2.10.4)\n",
            "Requirement already satisfied: requests<3,>=2 in /usr/local/lib/python3.10/dist-packages (from langchain) (2.32.3)\n",
            "Requirement already satisfied: tenacity!=8.4.0,<10,>=8.1.0 in /usr/local/lib/python3.10/dist-packages (from langchain) (9.0.0)\n",
            "Requirement already satisfied: anyio<5,>=3.5.0 in /usr/local/lib/python3.10/dist-packages (from openai) (3.7.1)\n",
            "Requirement already satisfied: distro<2,>=1.7.0 in /usr/local/lib/python3.10/dist-packages (from openai) (1.9.0)\n",
            "Requirement already satisfied: httpx<1,>=0.23.0 in /usr/local/lib/python3.10/dist-packages (from openai) (0.28.1)\n",
            "Requirement already satisfied: jiter<1,>=0.4.0 in /usr/local/lib/python3.10/dist-packages (from openai) (0.8.2)\n",
            "Requirement already satisfied: sniffio in /usr/local/lib/python3.10/dist-packages (from openai) (1.3.1)\n",
            "Requirement already satisfied: typing-extensions<5,>=4.11 in /usr/local/lib/python3.10/dist-packages (from openai) (4.12.2)\n",
            "Requirement already satisfied: certifi>=2019.11.17 in /usr/local/lib/python3.10/dist-packages (from pinecone) (2024.12.14)\n",
            "Collecting pinecone-plugin-inference<4.0.0,>=2.0.0 (from pinecone)\n",
            "  Downloading pinecone_plugin_inference-3.1.0-py3-none-any.whl.metadata (2.2 kB)\n",
            "Collecting pinecone-plugin-interface<0.0.8,>=0.0.7 (from pinecone)\n",
            "  Downloading pinecone_plugin_interface-0.0.7-py3-none-any.whl.metadata (1.2 kB)\n",
            "Requirement already satisfied: python-dateutil>=2.5.3 in /usr/local/lib/python3.10/dist-packages (from pinecone) (2.8.2)\n",
            "Requirement already satisfied: urllib3>=1.26.0 in /usr/local/lib/python3.10/dist-packages (from pinecone) (2.3.0)\n",
            "Requirement already satisfied: aiohappyeyeballs>=2.3.0 in /usr/local/lib/python3.10/dist-packages (from aiohttp<4.0.0,>=3.8.3->langchain) (2.4.4)\n",
            "Requirement already satisfied: aiosignal>=1.1.2 in /usr/local/lib/python3.10/dist-packages (from aiohttp<4.0.0,>=3.8.3->langchain) (1.3.2)\n",
            "Requirement already satisfied: attrs>=17.3.0 in /usr/local/lib/python3.10/dist-packages (from aiohttp<4.0.0,>=3.8.3->langchain) (24.3.0)\n",
            "Requirement already satisfied: frozenlist>=1.1.1 in /usr/local/lib/python3.10/dist-packages (from aiohttp<4.0.0,>=3.8.3->langchain) (1.5.0)\n",
            "Requirement already satisfied: multidict<7.0,>=4.5 in /usr/local/lib/python3.10/dist-packages (from aiohttp<4.0.0,>=3.8.3->langchain) (6.1.0)\n",
            "Requirement already satisfied: propcache>=0.2.0 in /usr/local/lib/python3.10/dist-packages (from aiohttp<4.0.0,>=3.8.3->langchain) (0.2.1)\n",
            "Requirement already satisfied: yarl<2.0,>=1.17.0 in /usr/local/lib/python3.10/dist-packages (from aiohttp<4.0.0,>=3.8.3->langchain) (1.18.3)\n",
            "Requirement already satisfied: idna>=2.8 in /usr/local/lib/python3.10/dist-packages (from anyio<5,>=3.5.0->openai) (3.10)\n",
            "Requirement already satisfied: exceptiongroup in /usr/local/lib/python3.10/dist-packages (from anyio<5,>=3.5.0->openai) (1.2.2)\n",
            "Requirement already satisfied: httpcore==1.* in /usr/local/lib/python3.10/dist-packages (from httpx<1,>=0.23.0->openai) (1.0.7)\n",
            "Requirement already satisfied: h11<0.15,>=0.13 in /usr/local/lib/python3.10/dist-packages (from httpcore==1.*->httpx<1,>=0.23.0->openai) (0.14.0)\n",
            "Requirement already satisfied: jsonpatch<2.0,>=1.33 in /usr/local/lib/python3.10/dist-packages (from langchain-core<0.4.0,>=0.3.29->langchain) (1.33)\n",
            "Requirement already satisfied: packaging<25,>=23.2 in /usr/local/lib/python3.10/dist-packages (from langchain-core<0.4.0,>=0.3.29->langchain) (24.2)\n",
            "Requirement already satisfied: orjson<4.0.0,>=3.9.14 in /usr/local/lib/python3.10/dist-packages (from langsmith<0.3,>=0.1.17->langchain) (3.10.13)\n",
            "Requirement already satisfied: requests-toolbelt<2.0.0,>=1.0.0 in /usr/local/lib/python3.10/dist-packages (from langsmith<0.3,>=0.1.17->langchain) (1.0.0)\n",
            "Requirement already satisfied: annotated-types>=0.6.0 in /usr/local/lib/python3.10/dist-packages (from pydantic<3.0.0,>=2.7.4->langchain) (0.7.0)\n",
            "Requirement already satisfied: pydantic-core==2.27.2 in /usr/local/lib/python3.10/dist-packages (from pydantic<3.0.0,>=2.7.4->langchain) (2.27.2)\n",
            "Requirement already satisfied: six>=1.5 in /usr/local/lib/python3.10/dist-packages (from python-dateutil>=2.5.3->pinecone) (1.17.0)\n",
            "Requirement already satisfied: charset-normalizer<4,>=2 in /usr/local/lib/python3.10/dist-packages (from requests<3,>=2->langchain) (3.4.1)\n",
            "Requirement already satisfied: greenlet!=0.4.17 in /usr/local/lib/python3.10/dist-packages (from SQLAlchemy<3,>=1.4->langchain) (3.1.1)\n",
            "Requirement already satisfied: jsonpointer>=1.9 in /usr/local/lib/python3.10/dist-packages (from jsonpatch<2.0,>=1.33->langchain-core<0.4.0,>=0.3.29->langchain) (3.0.0)\n",
            "Downloading pinecone-5.4.2-py3-none-any.whl (427 kB)\n",
            "\u001b[2K   \u001b[90m━━━━━━━━━━━━━━━━━━━━━━━━━━━━━━━━━━━━━━━━\u001b[0m \u001b[32m427.3/427.3 kB\u001b[0m \u001b[31m7.4 MB/s\u001b[0m eta \u001b[36m0:00:00\u001b[0m\n",
            "\u001b[?25hDownloading pinecone_plugin_inference-3.1.0-py3-none-any.whl (87 kB)\n",
            "\u001b[2K   \u001b[90m━━━━━━━━━━━━━━━━━━━━━━━━━━━━━━━━━━━━━━━━\u001b[0m \u001b[32m87.5/87.5 kB\u001b[0m \u001b[31m2.8 MB/s\u001b[0m eta \u001b[36m0:00:00\u001b[0m\n",
            "\u001b[?25hDownloading pinecone_plugin_interface-0.0.7-py3-none-any.whl (6.2 kB)\n",
            "Installing collected packages: pinecone-plugin-interface, pinecone-plugin-inference, pinecone\n",
            "Successfully installed pinecone-5.4.2 pinecone-plugin-inference-3.1.0 pinecone-plugin-interface-0.0.7\n"
          ]
        }
      ]
    },
    {
      "cell_type": "markdown",
      "source": [
        "# Importando Libs"
      ],
      "metadata": {
        "id": "xJYtfgTTfTi1"
      }
    },
    {
      "cell_type": "code",
      "source": [
        "from langchain.text_splitter import RecursiveCharacterTextSplitter\n",
        "from openai import OpenAI\n",
        "from pinecone import Pinecone, ServerlessSpec\n",
        "from tqdm.auto import tqdm, trange\n",
        "\n",
        "import pandas as pd\n",
        "import os\n",
        "import time\n",
        "import getpass"
      ],
      "metadata": {
        "id": "XMcojX8UfQax"
      },
      "execution_count": 2,
      "outputs": []
    },
    {
      "cell_type": "markdown",
      "source": [
        "É necessário que você forneça tanto sua API do Pinecone, quanto a API da OpenAI, pois utilizaremos o modelo de Embedding deles!"
      ],
      "metadata": {
        "id": "BumAv3UUCbLc"
      }
    },
    {
      "cell_type": "code",
      "source": [
        "os.environ[\"OPENAI_API_KEY\"] = getpass.getpass(\"Forneça sua API da OpenAI\")\n",
        "os.environ[\"PINECONE_API_KEY\"] = getpass.getpass(\"Forneça sua API da Pinecone\")"
      ],
      "metadata": {
        "colab": {
          "base_uri": "https://localhost:8080/"
        },
        "id": "UctciQxofYyN",
        "outputId": "7671096e-12d0-4519-e3f3-aca9381bdfb9"
      },
      "execution_count": 3,
      "outputs": [
        {
          "name": "stdout",
          "output_type": "stream",
          "text": [
            "Forneça sua API da OpenAI··········\n",
            "Forneça sua API da Pinecone··········\n"
          ]
        }
      ]
    },
    {
      "cell_type": "code",
      "source": [
        "OPENAI_API_KEY = os.environ[\"OPENAI_API_KEY\"]\n",
        "PINECONE_API_KEY = os.environ[\"PINECONE_API_KEY\"]"
      ],
      "metadata": {
        "id": "BdUSqQ4eiklz"
      },
      "execution_count": 4,
      "outputs": []
    },
    {
      "cell_type": "markdown",
      "source": [
        "# Baixando o Dataset"
      ],
      "metadata": {
        "id": "4hE1u2_vfsiF"
      }
    },
    {
      "cell_type": "markdown",
      "source": [
        "Esse dataset foi disponibilizado pelo curso"
      ],
      "metadata": {
        "id": "-e8PyYNsfuSm"
      }
    },
    {
      "cell_type": "code",
      "source": [
        "!wget -q --show-progress -O all-the-news-3.zip \"https://www.dropbox.com/scl/fi/wruzj2bwyg743d0jzd7ku/all-the-news-3.zip?rlkey=rgwtwpeznbdadpv3f01sznwxa&dl=1\"\n",
        "\n",
        "!unzip all-the-news-3.zip"
      ],
      "metadata": {
        "colab": {
          "base_uri": "https://localhost:8080/"
        },
        "id": "I2B33nsUfj0W",
        "outputId": "efdb9645-dc9f-403f-df4b-76ea794aa6f8"
      },
      "execution_count": 5,
      "outputs": [
        {
          "output_type": "stream",
          "name": "stdout",
          "text": [
            "all-the-news-3.zip  100%[===================>] 166.04M  87.0MB/s    in 1.9s    \n",
            "Archive:  all-the-news-3.zip\n",
            "  inflating: all-the-news-3.csv      \n"
          ]
        }
      ]
    },
    {
      "cell_type": "code",
      "source": [
        "df = pd.read_csv('./all-the-news-3.csv', nrows=99) # Lendo as colunas do Dataset\n",
        "df.head()"
      ],
      "metadata": {
        "colab": {
          "base_uri": "https://localhost:8080/",
          "height": 449
        },
        "id": "6hxiVx_dhqvf",
        "outputId": "cab9493b-0053-4b21-e4d5-6df6b94da042"
      },
      "execution_count": 6,
      "outputs": [
        {
          "output_type": "execute_result",
          "data": {
            "text/plain": [
              "                  date  year  month  day       author  \\\n",
              "0  2016-12-09 18:31:00  2016   12.0    9  Lee Drutman   \n",
              "1  2016-10-07 21:26:46  2016   10.0    7  Scott Davis   \n",
              "2  2018-01-26 00:00:00  2018    1.0   26          NaN   \n",
              "3  2019-06-27 00:00:00  2019    6.0   27          NaN   \n",
              "4  2016-01-27 00:00:00  2016    1.0   27          NaN   \n",
              "\n",
              "                                               title  \\\n",
              "0  We should take concerns about the health of li...   \n",
              "1  Colts GM Ryan Grigson says Andrew Luck's contr...   \n",
              "2       Trump denies report he ordered Mueller fired   \n",
              "3  France's Sarkozy reveals his 'Passions' but in...   \n",
              "4  Paris Hilton: Woman In Black For Uncle Monty's...   \n",
              "\n",
              "                                             article  \\\n",
              "0  This post is part of Polyarchy, an independent...   \n",
              "1   The Indianapolis Colts made Andrew Luck the h...   \n",
              "2  DAVOS, Switzerland (Reuters) - U.S. President ...   \n",
              "3  PARIS (Reuters) - Former French president Nico...   \n",
              "4  Paris Hilton arrived at LAX Wednesday dressed ...   \n",
              "\n",
              "                                                 url     section  \\\n",
              "0  https://www.vox.com/polyarchy/2016/12/9/138983...         NaN   \n",
              "1  https://www.businessinsider.com/colts-gm-ryan-...         NaN   \n",
              "2  https://www.reuters.com/article/us-davos-meeti...       Davos   \n",
              "3  https://www.reuters.com/article/france-politic...  World News   \n",
              "4  https://www.tmz.com/2016/01/27/paris-hilton-mo...         NaN   \n",
              "\n",
              "        publication  \n",
              "0               Vox  \n",
              "1  Business Insider  \n",
              "2           Reuters  \n",
              "3           Reuters  \n",
              "4               TMZ  "
            ],
            "text/html": [
              "\n",
              "  <div id=\"df-33c9214d-caa6-4594-951c-6961c91fa516\" class=\"colab-df-container\">\n",
              "    <div>\n",
              "<style scoped>\n",
              "    .dataframe tbody tr th:only-of-type {\n",
              "        vertical-align: middle;\n",
              "    }\n",
              "\n",
              "    .dataframe tbody tr th {\n",
              "        vertical-align: top;\n",
              "    }\n",
              "\n",
              "    .dataframe thead th {\n",
              "        text-align: right;\n",
              "    }\n",
              "</style>\n",
              "<table border=\"1\" class=\"dataframe\">\n",
              "  <thead>\n",
              "    <tr style=\"text-align: right;\">\n",
              "      <th></th>\n",
              "      <th>date</th>\n",
              "      <th>year</th>\n",
              "      <th>month</th>\n",
              "      <th>day</th>\n",
              "      <th>author</th>\n",
              "      <th>title</th>\n",
              "      <th>article</th>\n",
              "      <th>url</th>\n",
              "      <th>section</th>\n",
              "      <th>publication</th>\n",
              "    </tr>\n",
              "  </thead>\n",
              "  <tbody>\n",
              "    <tr>\n",
              "      <th>0</th>\n",
              "      <td>2016-12-09 18:31:00</td>\n",
              "      <td>2016</td>\n",
              "      <td>12.0</td>\n",
              "      <td>9</td>\n",
              "      <td>Lee Drutman</td>\n",
              "      <td>We should take concerns about the health of li...</td>\n",
              "      <td>This post is part of Polyarchy, an independent...</td>\n",
              "      <td>https://www.vox.com/polyarchy/2016/12/9/138983...</td>\n",
              "      <td>NaN</td>\n",
              "      <td>Vox</td>\n",
              "    </tr>\n",
              "    <tr>\n",
              "      <th>1</th>\n",
              "      <td>2016-10-07 21:26:46</td>\n",
              "      <td>2016</td>\n",
              "      <td>10.0</td>\n",
              "      <td>7</td>\n",
              "      <td>Scott Davis</td>\n",
              "      <td>Colts GM Ryan Grigson says Andrew Luck's contr...</td>\n",
              "      <td>The Indianapolis Colts made Andrew Luck the h...</td>\n",
              "      <td>https://www.businessinsider.com/colts-gm-ryan-...</td>\n",
              "      <td>NaN</td>\n",
              "      <td>Business Insider</td>\n",
              "    </tr>\n",
              "    <tr>\n",
              "      <th>2</th>\n",
              "      <td>2018-01-26 00:00:00</td>\n",
              "      <td>2018</td>\n",
              "      <td>1.0</td>\n",
              "      <td>26</td>\n",
              "      <td>NaN</td>\n",
              "      <td>Trump denies report he ordered Mueller fired</td>\n",
              "      <td>DAVOS, Switzerland (Reuters) - U.S. President ...</td>\n",
              "      <td>https://www.reuters.com/article/us-davos-meeti...</td>\n",
              "      <td>Davos</td>\n",
              "      <td>Reuters</td>\n",
              "    </tr>\n",
              "    <tr>\n",
              "      <th>3</th>\n",
              "      <td>2019-06-27 00:00:00</td>\n",
              "      <td>2019</td>\n",
              "      <td>6.0</td>\n",
              "      <td>27</td>\n",
              "      <td>NaN</td>\n",
              "      <td>France's Sarkozy reveals his 'Passions' but in...</td>\n",
              "      <td>PARIS (Reuters) - Former French president Nico...</td>\n",
              "      <td>https://www.reuters.com/article/france-politic...</td>\n",
              "      <td>World News</td>\n",
              "      <td>Reuters</td>\n",
              "    </tr>\n",
              "    <tr>\n",
              "      <th>4</th>\n",
              "      <td>2016-01-27 00:00:00</td>\n",
              "      <td>2016</td>\n",
              "      <td>1.0</td>\n",
              "      <td>27</td>\n",
              "      <td>NaN</td>\n",
              "      <td>Paris Hilton: Woman In Black For Uncle Monty's...</td>\n",
              "      <td>Paris Hilton arrived at LAX Wednesday dressed ...</td>\n",
              "      <td>https://www.tmz.com/2016/01/27/paris-hilton-mo...</td>\n",
              "      <td>NaN</td>\n",
              "      <td>TMZ</td>\n",
              "    </tr>\n",
              "  </tbody>\n",
              "</table>\n",
              "</div>\n",
              "    <div class=\"colab-df-buttons\">\n",
              "\n",
              "  <div class=\"colab-df-container\">\n",
              "    <button class=\"colab-df-convert\" onclick=\"convertToInteractive('df-33c9214d-caa6-4594-951c-6961c91fa516')\"\n",
              "            title=\"Convert this dataframe to an interactive table.\"\n",
              "            style=\"display:none;\">\n",
              "\n",
              "  <svg xmlns=\"http://www.w3.org/2000/svg\" height=\"24px\" viewBox=\"0 -960 960 960\">\n",
              "    <path d=\"M120-120v-720h720v720H120Zm60-500h600v-160H180v160Zm220 220h160v-160H400v160Zm0 220h160v-160H400v160ZM180-400h160v-160H180v160Zm440 0h160v-160H620v160ZM180-180h160v-160H180v160Zm440 0h160v-160H620v160Z\"/>\n",
              "  </svg>\n",
              "    </button>\n",
              "\n",
              "  <style>\n",
              "    .colab-df-container {\n",
              "      display:flex;\n",
              "      gap: 12px;\n",
              "    }\n",
              "\n",
              "    .colab-df-convert {\n",
              "      background-color: #E8F0FE;\n",
              "      border: none;\n",
              "      border-radius: 50%;\n",
              "      cursor: pointer;\n",
              "      display: none;\n",
              "      fill: #1967D2;\n",
              "      height: 32px;\n",
              "      padding: 0 0 0 0;\n",
              "      width: 32px;\n",
              "    }\n",
              "\n",
              "    .colab-df-convert:hover {\n",
              "      background-color: #E2EBFA;\n",
              "      box-shadow: 0px 1px 2px rgba(60, 64, 67, 0.3), 0px 1px 3px 1px rgba(60, 64, 67, 0.15);\n",
              "      fill: #174EA6;\n",
              "    }\n",
              "\n",
              "    .colab-df-buttons div {\n",
              "      margin-bottom: 4px;\n",
              "    }\n",
              "\n",
              "    [theme=dark] .colab-df-convert {\n",
              "      background-color: #3B4455;\n",
              "      fill: #D2E3FC;\n",
              "    }\n",
              "\n",
              "    [theme=dark] .colab-df-convert:hover {\n",
              "      background-color: #434B5C;\n",
              "      box-shadow: 0px 1px 3px 1px rgba(0, 0, 0, 0.15);\n",
              "      filter: drop-shadow(0px 1px 2px rgba(0, 0, 0, 0.3));\n",
              "      fill: #FFFFFF;\n",
              "    }\n",
              "  </style>\n",
              "\n",
              "    <script>\n",
              "      const buttonEl =\n",
              "        document.querySelector('#df-33c9214d-caa6-4594-951c-6961c91fa516 button.colab-df-convert');\n",
              "      buttonEl.style.display =\n",
              "        google.colab.kernel.accessAllowed ? 'block' : 'none';\n",
              "\n",
              "      async function convertToInteractive(key) {\n",
              "        const element = document.querySelector('#df-33c9214d-caa6-4594-951c-6961c91fa516');\n",
              "        const dataTable =\n",
              "          await google.colab.kernel.invokeFunction('convertToInteractive',\n",
              "                                                    [key], {});\n",
              "        if (!dataTable) return;\n",
              "\n",
              "        const docLinkHtml = 'Like what you see? Visit the ' +\n",
              "          '<a target=\"_blank\" href=https://colab.research.google.com/notebooks/data_table.ipynb>data table notebook</a>'\n",
              "          + ' to learn more about interactive tables.';\n",
              "        element.innerHTML = '';\n",
              "        dataTable['output_type'] = 'display_data';\n",
              "        await google.colab.output.renderOutput(dataTable, element);\n",
              "        const docLink = document.createElement('div');\n",
              "        docLink.innerHTML = docLinkHtml;\n",
              "        element.appendChild(docLink);\n",
              "      }\n",
              "    </script>\n",
              "  </div>\n",
              "\n",
              "\n",
              "<div id=\"df-62915847-768a-45ff-a924-fed289495fac\">\n",
              "  <button class=\"colab-df-quickchart\" onclick=\"quickchart('df-62915847-768a-45ff-a924-fed289495fac')\"\n",
              "            title=\"Suggest charts\"\n",
              "            style=\"display:none;\">\n",
              "\n",
              "<svg xmlns=\"http://www.w3.org/2000/svg\" height=\"24px\"viewBox=\"0 0 24 24\"\n",
              "     width=\"24px\">\n",
              "    <g>\n",
              "        <path d=\"M19 3H5c-1.1 0-2 .9-2 2v14c0 1.1.9 2 2 2h14c1.1 0 2-.9 2-2V5c0-1.1-.9-2-2-2zM9 17H7v-7h2v7zm4 0h-2V7h2v10zm4 0h-2v-4h2v4z\"/>\n",
              "    </g>\n",
              "</svg>\n",
              "  </button>\n",
              "\n",
              "<style>\n",
              "  .colab-df-quickchart {\n",
              "      --bg-color: #E8F0FE;\n",
              "      --fill-color: #1967D2;\n",
              "      --hover-bg-color: #E2EBFA;\n",
              "      --hover-fill-color: #174EA6;\n",
              "      --disabled-fill-color: #AAA;\n",
              "      --disabled-bg-color: #DDD;\n",
              "  }\n",
              "\n",
              "  [theme=dark] .colab-df-quickchart {\n",
              "      --bg-color: #3B4455;\n",
              "      --fill-color: #D2E3FC;\n",
              "      --hover-bg-color: #434B5C;\n",
              "      --hover-fill-color: #FFFFFF;\n",
              "      --disabled-bg-color: #3B4455;\n",
              "      --disabled-fill-color: #666;\n",
              "  }\n",
              "\n",
              "  .colab-df-quickchart {\n",
              "    background-color: var(--bg-color);\n",
              "    border: none;\n",
              "    border-radius: 50%;\n",
              "    cursor: pointer;\n",
              "    display: none;\n",
              "    fill: var(--fill-color);\n",
              "    height: 32px;\n",
              "    padding: 0;\n",
              "    width: 32px;\n",
              "  }\n",
              "\n",
              "  .colab-df-quickchart:hover {\n",
              "    background-color: var(--hover-bg-color);\n",
              "    box-shadow: 0 1px 2px rgba(60, 64, 67, 0.3), 0 1px 3px 1px rgba(60, 64, 67, 0.15);\n",
              "    fill: var(--button-hover-fill-color);\n",
              "  }\n",
              "\n",
              "  .colab-df-quickchart-complete:disabled,\n",
              "  .colab-df-quickchart-complete:disabled:hover {\n",
              "    background-color: var(--disabled-bg-color);\n",
              "    fill: var(--disabled-fill-color);\n",
              "    box-shadow: none;\n",
              "  }\n",
              "\n",
              "  .colab-df-spinner {\n",
              "    border: 2px solid var(--fill-color);\n",
              "    border-color: transparent;\n",
              "    border-bottom-color: var(--fill-color);\n",
              "    animation:\n",
              "      spin 1s steps(1) infinite;\n",
              "  }\n",
              "\n",
              "  @keyframes spin {\n",
              "    0% {\n",
              "      border-color: transparent;\n",
              "      border-bottom-color: var(--fill-color);\n",
              "      border-left-color: var(--fill-color);\n",
              "    }\n",
              "    20% {\n",
              "      border-color: transparent;\n",
              "      border-left-color: var(--fill-color);\n",
              "      border-top-color: var(--fill-color);\n",
              "    }\n",
              "    30% {\n",
              "      border-color: transparent;\n",
              "      border-left-color: var(--fill-color);\n",
              "      border-top-color: var(--fill-color);\n",
              "      border-right-color: var(--fill-color);\n",
              "    }\n",
              "    40% {\n",
              "      border-color: transparent;\n",
              "      border-right-color: var(--fill-color);\n",
              "      border-top-color: var(--fill-color);\n",
              "    }\n",
              "    60% {\n",
              "      border-color: transparent;\n",
              "      border-right-color: var(--fill-color);\n",
              "    }\n",
              "    80% {\n",
              "      border-color: transparent;\n",
              "      border-right-color: var(--fill-color);\n",
              "      border-bottom-color: var(--fill-color);\n",
              "    }\n",
              "    90% {\n",
              "      border-color: transparent;\n",
              "      border-bottom-color: var(--fill-color);\n",
              "    }\n",
              "  }\n",
              "</style>\n",
              "\n",
              "  <script>\n",
              "    async function quickchart(key) {\n",
              "      const quickchartButtonEl =\n",
              "        document.querySelector('#' + key + ' button');\n",
              "      quickchartButtonEl.disabled = true;  // To prevent multiple clicks.\n",
              "      quickchartButtonEl.classList.add('colab-df-spinner');\n",
              "      try {\n",
              "        const charts = await google.colab.kernel.invokeFunction(\n",
              "            'suggestCharts', [key], {});\n",
              "      } catch (error) {\n",
              "        console.error('Error during call to suggestCharts:', error);\n",
              "      }\n",
              "      quickchartButtonEl.classList.remove('colab-df-spinner');\n",
              "      quickchartButtonEl.classList.add('colab-df-quickchart-complete');\n",
              "    }\n",
              "    (() => {\n",
              "      let quickchartButtonEl =\n",
              "        document.querySelector('#df-62915847-768a-45ff-a924-fed289495fac button');\n",
              "      quickchartButtonEl.style.display =\n",
              "        google.colab.kernel.accessAllowed ? 'block' : 'none';\n",
              "    })();\n",
              "  </script>\n",
              "</div>\n",
              "\n",
              "    </div>\n",
              "  </div>\n"
            ],
            "application/vnd.google.colaboratory.intrinsic+json": {
              "type": "dataframe",
              "variable_name": "df",
              "summary": "{\n  \"name\": \"df\",\n  \"rows\": 99,\n  \"fields\": [\n    {\n      \"column\": \"date\",\n      \"properties\": {\n        \"dtype\": \"object\",\n        \"num_unique_values\": 94,\n        \"samples\": [\n          \"2017-06-30 00:00:00\",\n          \"2018-05-17 18:33:00\",\n          \"2017-10-16 00:00:00\"\n        ],\n        \"semantic_type\": \"\",\n        \"description\": \"\"\n      }\n    },\n    {\n      \"column\": \"year\",\n      \"properties\": {\n        \"dtype\": \"number\",\n        \"std\": 1,\n        \"min\": 2016,\n        \"max\": 2019,\n        \"num_unique_values\": 4,\n        \"samples\": [\n          2018,\n          2017,\n          2016\n        ],\n        \"semantic_type\": \"\",\n        \"description\": \"\"\n      }\n    },\n    {\n      \"column\": \"month\",\n      \"properties\": {\n        \"dtype\": \"number\",\n        \"std\": 3.2251459947234906,\n        \"min\": 1.0,\n        \"max\": 12.0,\n        \"num_unique_values\": 12,\n        \"samples\": [\n          4.0,\n          2.0,\n          12.0\n        ],\n        \"semantic_type\": \"\",\n        \"description\": \"\"\n      }\n    },\n    {\n      \"column\": \"day\",\n      \"properties\": {\n        \"dtype\": \"number\",\n        \"std\": 9,\n        \"min\": 1,\n        \"max\": 31,\n        \"num_unique_values\": 30,\n        \"samples\": [\n          14,\n          30,\n          16\n        ],\n        \"semantic_type\": \"\",\n        \"description\": \"\"\n      }\n    },\n    {\n      \"column\": \"author\",\n      \"properties\": {\n        \"dtype\": \"string\",\n        \"num_unique_values\": 67,\n        \"samples\": [\n          \"Rod Nickel, Nia Williams\",\n          \"Andrew MacAskill, Simon Jessop\",\n          \"Tim Hume\"\n        ],\n        \"semantic_type\": \"\",\n        \"description\": \"\"\n      }\n    },\n    {\n      \"column\": \"title\",\n      \"properties\": {\n        \"dtype\": \"string\",\n        \"num_unique_values\": 99,\n        \"samples\": [\n          \"The Best Christmas Music Knows This Is a Sad Time of Year\",\n          \"Turkey's Death Metal Scene Thrives Despite Government Repression\\n\",\n          \"Switzerland's SoftwareONE mandates banks for IPO - sources\"\n        ],\n        \"semantic_type\": \"\",\n        \"description\": \"\"\n      }\n    },\n    {\n      \"column\": \"article\",\n      \"properties\": {\n        \"dtype\": \"string\",\n        \"num_unique_values\": 99,\n        \"samples\": [\n          \"Open Thread is a daily feature where Waypoint staff talk about games and other things we find interesting. This is where you'll see us chat about movies, TV, and even sports, and welcome you to participate in the discussion. I love Christmas music. I know, a lot of it is grating and it\\u2019s been effectively weaponized by our Christmas, Inc. consumer culture, a sonic assault sent ahead of the credit card statements to force merriment and \\u201cChristmas Spirit\\u201d on people\\u2014of any and all beliefs\\u2014that find themselves in its path. If you\\u2019re feeling a bit blue this time of year, or if\\u2014like in my family\\u2014a lot of losses have attended this time of year, Christmas music can sound at best inappropriate and at worst positively mocking. And yet: starting around Thanksgiving I have an insatiable need to hear Frank Sinatra loving those J-I-N-G-L-E BELLS off an antique piece of vinyl with predictable, well-known scratches. John Denver  and The Muppets? Sign me right the fuck up. I just submit myself to the Boomer cultural hegemony around the holiday season, unironically enjoying Perry Fucking Como\\u2019s sentimental Christmas dirges, or Dean Martin sounding genuinely delighted to find himself in a \\u201cMarshmallow World\\u201d. But my  favorite music to listen to around this time of year is the music the leans all the way into the bittersweet nature of the holidays, and the sharp juxtapositions you get between personal struggle and public celebration. I\\u2019m the guy who, on Dec. 24th with the family gathered all around, is putting Low\\u2019s  Christmas on the CD player so we can all listen to the Gothic menace of \\u201cLong Way Around the Sea\\u201d. Or if I  really want to bring the eggnog and gift exchange to complete halt, I like to blast Stan Rogers\\u2019 \\u201cFirst Christmas\\u201d which always has a couple verses that leave me wrecked. The \\u201cnon-traditional\\u201d song I probably look forward to the most is one of the hardest to find: Marcia Ball and Marian McPartland\\u2019s \\u201cChristmas Is Just Another Day\\u201d, which is just a great, sparse jazz song about feeling like you\\u2019re stuck on the outside looking in at rituals of the holidays. I\\u2019ve only ever found it on  An NPR Jazz Christmas (which is way better than it sounds). What about you? What are your favorite holiday jams, ironic or unironic? Let me know in today's open thread!\",\n          \"It's never been easy to be a metalhead in Turkey, where they're forced to exist under the ominous glare of a conservative culture and a state riddled with authoritarian tendencies. A lack of venues has plagued the country's DIY music scenes even in its biggest cities, and the few that do open their doors to metal music often have terrible sound systems. But these setbacks haven't stopped a vibrant underground metal scene from flourishing in Turkey, where a handful of active groups are playing killer black and death metal. Turkey is firmly under the control of President Recep Tayyip Erdo\\u011fan, whose AK Parti party has led the country for a decade and a half, dominating the political arena; they've become known for their violent repression of the country's Kurdish population, and lack of hesitation to jail dissidents on the flimsiest of charges (including actual elected members of parliament). Now, a critical election is approaching, one that Erdo\\u011fan called over a year early. If elected again, he will preside over a newly-installed presidential system designed to grant him even more power, and the suffocating chokehold he has over the country will remain for years to come. Add all that to a Turkish lira that has been plummeting rapidly this year, and you get an atmosphere that feels mildly apocalyptic\\u2014something that has bled into its underground metal scene. Despite its authoritarian government, Turkey is no Turkmenistan or North Korea, and there is still just enough freedom and space for underground scenes to thrive. The vitality of the underground metal scene was no more evident than at a recent festival in Ankara that brought 14 bands to the stage over the course of two days. Hundreds of metalheads came out, many traveling from cultural capital Istanbul. Showcased were among some of the country's best active metal units, who delivered passionate and thunderous performances in a basement rock bar where the stage was buttressed with a row of barrels that seemed to encourage stage-diving and crowd surfing. Not every band featured below appeared at the festival that weekend, but all are among the most important and exciting of their kind active today. Though opportunities to play are indeed few and far between, this hasn't thwarted Turkey's underground metal groups from cultivating a rich scene. They rage on.  Perhaps the most brutal performance of the weekend came from Engulfed, an Istanbul death metal quartet that formed in 2010. Hot off 2017's debut LP,  Engulfed in Obscurity, the band ripped through an airtight set and sounded like a pack of speed-addled rhinos pounding down a dusty road. Vocalist/bassist Serkan elaborately described the band's sound as, \\u201cthe noise you hear while being dragged inside a dark tunnel, when everything positive in the universe is annihilated within eternal darkness, while taking pleasure in suffering and when everything sacred is being mercilessly destroyed.\\u201d  The band's usually frenetic pace is punctuated by slow, grim breakdowns laced with demonically appealing leads. Serkan cites visa problems as being one of the major inhibitors of the scene, preventing Turkish band from showcasing their sound abroad (Turks have to apply for Schengen visas to visit Europe; the application fees are expensive and arbitrary rejections are common.) Nevertheless, he appreciates the close-knit ties that bind the scene together and keep them motivated. \\u201cThe numbers are small, but we have a metal scene composed of friends that are totally connected and look out for one another,\\u201d Serkan says.  Another powerfully talented Istanbul death metal outdit, Diabolizer, shares two members with Engulfed but opts to take more of a gratuitous, exuberant approach that doesn't lack in brutality. Their most recent effort is 2016's bruiser   Apokalypse  EP. Defiant, cackling melodic guitar parts dance effortlessly around a bottomless pit of doom. Headbangers in Ankara and Istanbul have been fortunate enough to catch the dazzling Diabolizer on stage at recent shows this year.  Perhaps the most eagerly-awaited band of the festival was Burial Invocation, which was formed in 2008 with roots in both Istanbul and Ankara. The four-piece's hotly anticipated debut full-length, Abiogenesis, is slated to come out later this year and blends savage vocals with manic drum work and impressive guitar trickery slathered in alternating dollops of brutality and melodic brilliance. European metalheads will be fortunate to catch the band across a number of countries on their tour of the continent in September and October of this year. \\u201cIn my opinion, being a metalhead in Turkey is great; there are a number of great albums that will be released soon and some fantastic shows coming up,\\u201d says guitarist Cihan. \\u201cThere are both new and old bands, the attendance at shows is good, and they are more soulful and fun than the underground shows I've seen in Europe.\\\" Laying down a raw, sharp blend of death metal that blends power and precision, Hellsodomy (which also shares members with Engulfed and toured Europe together last year) is yet another mainstay of Turkey's underground metal scene. Their 2016 eight-song full length,  Chaostorm, is a barrage of throat-shredding vocals, skull-pounding drums, and razor-sharp solos. \\u201cThere has been an increase in the attendance of shows, at every show there are people we haven't seen before. Though in a city of 15 million, the number of people coming out to a show is around 150. In a country with 81 provinces, we can only play in five,\\u201d guitarist Yunus says. On the positive side, \\u201cwe've created this fantastic world within our own realm and are working to take things to the next level.\\\" Described by vocalist \\u00c7a\\u011fatay as \\u201ctwisted, malignant metal\\u201d that will appeal to fans of black, death and thrash metal, Persecutory formed in Istanbul in 2014. After a year and a half hiatus, they roared back to the stage with an intense, memorable performance at the Ankara festival. Their debut LP,   Towards an Ultimate Extinction,  wastes no time descending into pure chaos and mayhem, laying the foundation for an absolutely catastrophic sound formed around \\u00c7agatay's anguished, searing vocals. \\u201cBeing a metalhead is not a hobby for me, it's an identity,\\u201d \\u00c7a\\u011fatay says, adding that many people in the scene end up losing interest entirely and then chastise active metalheads for their ongoing commitment. \\u201cApart from three or four small bars that we've played at, venue owners don't take metal shows seriously and do not want to host them,\\u201d he adds.  Sarinvomit's sound is as vile and dark as its name implies. Sharing vocalists with Persecutory, this Istanbul unit is hot off the release of their debut,   Malignant Thermonuclear Supremacy, a throttling, crackbrained blend of extreme metal. Here, bloodthirsty vocals, battleaxe guitars, and blastbeats that make even the listener's wrists feel sore converge in a truly punishing fashion.  Long-running scene stalwarts Decaying Purity have been at it since 2005, enduring a number of lineup changes while amassing several releases and appearing at various festivals across Europe. The band, which describes its sound as \\u201csickeningly brutal death metal punishment,\\u201d most recently released   Malignant Resurrection of the Fallen Souls,  a raging beast of an affair with filthy, venomous vocals and the impressive riff-repertoire of co-founder Mustafa, who also plays in Engulfed and Diabolizer. A new recording is reportedly in the works. Paul Benjamin Osterlund is a writer based in Istanbul; follow him on Twitter. \",\n          \"ZURICH, June 26 (Reuters) - Swiss software group SoftwareONE has mandated banks for an upcoming stock market flotation, sources told Reuters on Wednesday, paving the way for a potential multi-billion dollar listing this autumn.  Credit Suisse, UBS and JPMorgan have been hired to advise on the planned initial public offering as so-called global coordinators, sources familiar with the matter said. The IPO could take place in October, one of the people said. The firm is expected to be valued at several billion Swiss francs.  Credit Suisse and SoftwareONE declined to comment. UBS and JPMorgan could not immediately be reached for comment.  Since taking over German IT firm Comparex earlier this year, SoftwareONE employs around 5,500 people. The company, headquartered in Stans, Switzerland, helps companies manage an estimated 10 billion euros in software purchases from vendors such as Microsoft, Adobe and IBM. In 2015, KKR acquired a 25 percent stake in the company, the majority of which is still held by the company\\u2019s founders. (Reporting by Arno Schuetze and Oliver Hirt; writing by Brenna Hughes Neghaiwi; editing by David Evans)\"\n        ],\n        \"semantic_type\": \"\",\n        \"description\": \"\"\n      }\n    },\n    {\n      \"column\": \"url\",\n      \"properties\": {\n        \"dtype\": \"string\",\n        \"num_unique_values\": 99,\n        \"samples\": [\n          \"https://www.vice.com/en_us/article/yw5g5y/the-best-christmas-music-knows-this-is-a-sad-time-of-year\",\n          \"https://www.vice.com/en_us/article/bj3daq/turkeys-death-metal-scene-thrives-despite-government-repression\",\n          \"https://www.reuters.com/article/softwareone-ipo/switzerlands-softwareone-mandates-banks-for-ipo-sources-idUSZ8N18K01L\"\n        ],\n        \"semantic_type\": \"\",\n        \"description\": \"\"\n      }\n    },\n    {\n      \"column\": \"section\",\n      \"properties\": {\n        \"dtype\": \"category\",\n        \"num_unique_values\": 21,\n        \"samples\": [\n          \"Davos\",\n          \"The VICE Guide to the 2016 Election\",\n          \"Games\"\n        ],\n        \"semantic_type\": \"\",\n        \"description\": \"\"\n      }\n    },\n    {\n      \"column\": \"publication\",\n      \"properties\": {\n        \"dtype\": \"category\",\n        \"num_unique_values\": 7,\n        \"samples\": [\n          \"Vox\",\n          \"Business Insider\",\n          \"Vice News\"\n        ],\n        \"semantic_type\": \"\",\n        \"description\": \"\"\n      }\n    }\n  ]\n}"
            }
          },
          "metadata": {},
          "execution_count": 6
        }
      ]
    },
    {
      "cell_type": "code",
      "source": [
        "df.columns"
      ],
      "metadata": {
        "colab": {
          "base_uri": "https://localhost:8080/"
        },
        "id": "UmFUIf7aCwrr",
        "outputId": "694ae16c-b391-4aca-faef-ba59851e0fb8"
      },
      "execution_count": 57,
      "outputs": [
        {
          "output_type": "execute_result",
          "data": {
            "text/plain": [
              "Index(['date', 'year', 'month', 'day', 'author', 'title', 'article', 'url',\n",
              "       'section', 'publication'],\n",
              "      dtype='object')"
            ]
          },
          "metadata": {},
          "execution_count": 57
        }
      ]
    },
    {
      "cell_type": "markdown",
      "source": [
        "# Setup Pinecone"
      ],
      "metadata": {
        "id": "-i--FZkuiLAQ"
      }
    },
    {
      "cell_type": "markdown",
      "source": [
        "Com nosso dados baixados, bora montar um ambiente no Pinecone. Tratei disso no primeiro módulo do curso, você pode conferir [clicando aqui](https://github.com/DiDevv/Vector-Database/tree/main) e visitando o Similarity Search."
      ],
      "metadata": {
        "id": "OFLkEuZQiMz7"
      }
    },
    {
      "cell_type": "code",
      "source": [
        "pinecone = Pinecone(api_key=PINECONE_API_KEY)\n",
        "openai_client = OpenAI(api_key=OPENAI_API_KEY)"
      ],
      "metadata": {
        "id": "2anI4I0ckF4Y"
      },
      "execution_count": 7,
      "outputs": []
    },
    {
      "cell_type": "code",
      "source": [
        "index_name = \"recommendation-systems\"\n",
        "\n",
        "pinecone.create_index(\n",
        "    name=index_name,\n",
        "    dimension=1536,\n",
        "    metric=\"cosine\",\n",
        "    spec=ServerlessSpec(\n",
        "        cloud=\"aws\",\n",
        "        region=\"us-east-1\"\n",
        "    )\n",
        ")"
      ],
      "metadata": {
        "id": "JxPSquURkxq6"
      },
      "execution_count": 8,
      "outputs": []
    },
    {
      "cell_type": "code",
      "source": [
        "index = pinecone.Index(index_name)"
      ],
      "metadata": {
        "id": "Avcubl-mlBRu"
      },
      "execution_count": 9,
      "outputs": []
    },
    {
      "cell_type": "markdown",
      "source": [
        "# Criando Embeddings de apenas os Títulos das Notícias"
      ],
      "metadata": {
        "id": "Ixkv-QvqlQBn"
      }
    },
    {
      "cell_type": "markdown",
      "source": [
        "Um artigo muito interessante sobre esses modelos de embeddings está disponível no site da OpenAI.\n",
        "\n",
        "[Clica aqui](https://platform.openai.com/docs/guides/embeddings) pra dar uma lida!"
      ],
      "metadata": {
        "id": "tOX4jp2Bliji"
      }
    },
    {
      "cell_type": "code",
      "source": [
        "def get_embeddings(articles, model=\"text-embedding-ada-002\"):\n",
        "    return openai_client.embeddings.create(input = articles, model=model)"
      ],
      "metadata": {
        "id": "qV61hBcplHWL"
      },
      "execution_count": 10,
      "outputs": []
    },
    {
      "cell_type": "markdown",
      "source": [
        "Enquanto eu estava estudando, confesso que só de bater o olho nesse \"CHUNK\" eu confundi com chunks que usamos em RAG (visto no módulo anterior).\n",
        "\n",
        "Aqui esses chunks são diferentes, tamo garantindo que ao processar uma grande quantidade de addos com o pd, ele simplesmente não puxe toda nossa memória ram, pra isso, processamos em chunks, aos pouquinhos, pra garantir que tudo flua como esperado."
      ],
      "metadata": {
        "id": "E_KZkbhBDH7O"
      }
    },
    {
      "cell_type": "markdown",
      "source": [
        "---\n",
        "\n",
        "O resto do código é aquela velha gambiarra pra conseguirmos embeddar e enviar pro pinecone, nada de novo por aqui. Seguimos ^^"
      ],
      "metadata": {
        "id": "pyoBGQCwGhUa"
      }
    },
    {
      "cell_type": "code",
      "source": [
        "CHUNK_SIZE=400\n",
        "TOTAL_ROWS=10000\n",
        "progress_bar = tqdm(total=TOTAL_ROWS)\n",
        "chunks = pd.read_csv('./all-the-news-3.csv', chunksize=CHUNK_SIZE,\n",
        "                     nrows=TOTAL_ROWS)\n",
        "chunk_num = 0\n",
        "for chunk in chunks:\n",
        "    titles = chunk['title'].tolist()\n",
        "    embeddings = get_embeddings(titles)\n",
        "    prepped = [{'id':str(chunk_num*CHUNK_SIZE+i), 'values':embeddings.data[i].embedding,\n",
        "                'metadata':{'title':titles[i]},} for i in range(0,len(titles))]\n",
        "    chunk_num = chunk_num + 1\n",
        "    if len(prepped) >= 200:\n",
        "      index.upsert(prepped)\n",
        "      prepped = []\n",
        "    progress_bar.update(len(chunk))"
      ],
      "metadata": {
        "colab": {
          "base_uri": "https://localhost:8080/",
          "height": 49,
          "referenced_widgets": [
            "113f7ab8074e45ceb98a9ffc21057e4a",
            "b486533d525d407bb74bc0bdbc275829",
            "d8dc3210d52248949af8463d3bb7bd72",
            "dafbc216ccd94fd5a74eb18e02a291b6",
            "0f87eeb8cae245e8aac724d01c1576e2",
            "5ac92466b80943c6a443b2a9e306149a",
            "d48e3d8db48b4996b4597da4d9d30e6b",
            "904a5be08b0a4d2a8829b86d7a3d1203",
            "40e270583531481a90731cf53660dccd",
            "c4dc71906cc14bf79de6919039cf4715",
            "7ce0f009ecc946e28fe06f366f748c89"
          ]
        },
        "id": "mwD7kD2u6C0s",
        "outputId": "d7170f47-9410-4938-b51f-8fa336b046d3"
      },
      "execution_count": 12,
      "outputs": [
        {
          "output_type": "display_data",
          "data": {
            "text/plain": [
              "  0%|          | 0/10000 [00:00<?, ?it/s]"
            ],
            "application/vnd.jupyter.widget-view+json": {
              "version_major": 2,
              "version_minor": 0,
              "model_id": "113f7ab8074e45ceb98a9ffc21057e4a"
            }
          },
          "metadata": {}
        }
      ]
    },
    {
      "cell_type": "code",
      "source": [
        "index.describe_index_stats()"
      ],
      "metadata": {
        "colab": {
          "base_uri": "https://localhost:8080/"
        },
        "id": "ISv57Bsf65Gy",
        "outputId": "8dad8836-5116-45cb-ca2d-fd6b3a536f92"
      },
      "execution_count": 13,
      "outputs": [
        {
          "output_type": "execute_result",
          "data": {
            "text/plain": [
              "{'dimension': 1536,\n",
              " 'index_fullness': 0.0,\n",
              " 'namespaces': {'': {'vector_count': 10000}},\n",
              " 'total_vector_count': 10000}"
            ]
          },
          "metadata": {},
          "execution_count": 13
        }
      ]
    },
    {
      "cell_type": "markdown",
      "source": [
        "# Sistema de Recomendação"
      ],
      "metadata": {
        "id": "IN_mqcxe69XC"
      }
    },
    {
      "cell_type": "markdown",
      "source": [
        "Basicamente essa função trata de pegar lá no nosso pinecone_index o termo ao qual estamos pesquisando e retorna 10 buscas."
      ],
      "metadata": {
        "id": "WNg2L2q2HLzo"
      }
    },
    {
      "cell_type": "code",
      "source": [
        "def get_recommendations(pinecone_index, search_term, top_k=10):\n",
        "  embed = get_embeddings([search_term]).data[0].embedding\n",
        "  res = pinecone_index.query(vector=embed, top_k=top_k, include_metadata=True)\n",
        "  return res"
      ],
      "metadata": {
        "id": "FVpngh137Al1"
      },
      "execution_count": 14,
      "outputs": []
    },
    {
      "cell_type": "markdown",
      "source": [
        "Aqui eu vou loopar pela minha variável reco pra pegar todos os dados que foram retornados com o seu Score e o Metadado.\n",
        "\n",
        "Pronto, temos nosso sistema de recomendação criado facilmente com um banco de dados vetorial."
      ],
      "metadata": {
        "id": "r6jHWxbfHcfK"
      }
    },
    {
      "cell_type": "code",
      "source": [
        "reco = get_recommendations(index, 'beyonce')\n",
        "for r in reco.matches:\n",
        "    print(f'{r.score} : {r.metadata[\"title\"]}')"
      ],
      "metadata": {
        "colab": {
          "base_uri": "https://localhost:8080/"
        },
        "id": "sCcGbC0N7Hvw",
        "outputId": "35f71576-5e4d-4a7a-d150-3d200b8ccef3"
      },
      "execution_count": 23,
      "outputs": [
        {
          "output_type": "stream",
          "name": "stdout",
          "text": [
            "0.852579176 : Super Bowl 50: Beyoncé Invites Coldplay, Bruno Mars, and the Football Players to Her Concert\n",
            "0.851625204 : Beyonce Gives Epic Side-Eye to Wife of Warriors Owner\n",
            "0.847580314 : The Zodiac Signs Ranked According to Beyoncé\n",
            "0.845997036 : Beyonce: 'Formation' Concert POSTPONED!!\n",
            "0.84172219 : Fan Rushes Stage At Beyonce, Jay-Z Concert in Atlanta\n",
            "0.838265479 : Beyonce -- Cops Boycott ... Screw You Bey and Your Black Panthers\n",
            "0.837614775 : A Beyoncé-Approved Virgo Explains How to Get Your Life Together\n",
            "0.836674333 : Jay-Z & Beyonce Gussy Up for Rihanna's Charity Ball\n",
            "0.832503498 : ​A Black Panther Halftime: The Revolutionary Politics Behind Beyoncé's Super Bowl Performance\n",
            "0.828721046 : Beyonce & Jay Z: Screw Pineapples ... We're Pushing Lemons\n"
          ]
        }
      ]
    },
    {
      "cell_type": "code",
      "source": [
        "reco = get_recommendations(index, 'adele')\n",
        "for r in reco.matches:\n",
        "    print(f'{r.score} : {r.metadata[\"title\"]}')"
      ],
      "metadata": {
        "colab": {
          "base_uri": "https://localhost:8080/"
        },
        "id": "_FzcsTN-7kIX",
        "outputId": "e4a0592c-0b6d-4b36-8734-dffb3ed6ee45"
      },
      "execution_count": 25,
      "outputs": [
        {
          "output_type": "stream",
          "name": "stdout",
          "text": [
            "0.820343435 : The Game Says Sorry Beyonce, Adele Deserved To Win\n",
            "0.820249498 : Adele at the Grammys: “I can't possibly accept this award … my life is Beyoncé.”\n",
            "0.812456727 : Adeline Gray is Wrestling For a Gold Medal and For Equality\n",
            "0.809960306 : Watch Adele Freak Onstage Because a Bat Flew into Her Concert\n",
            "0.799401045 : Madonna takes on frightening world with new album 'Madame X'\n",
            "0.798507273 : Saying Goodbye to Aretha Franklin\n",
            "0.797355354 : Ricotta Pansotti \n",
            "0.79449904 : Anders Is Secretly Ahead of Toronto's R&B World\n",
            "0.793943226 : Vince Staples Joins James Blake on Stage in Glastonbury \n",
            "0.793590069 : Eddie Vedder and His 7-Year-Old Daughter Recorded a Cover of the 'Batman' Theme Song\n"
          ]
        }
      ]
    },
    {
      "cell_type": "markdown",
      "source": [
        "# Criando Embeddings de todo o conteúdo das Notícias"
      ],
      "metadata": {
        "id": "IAHNS4AT-x7a"
      }
    },
    {
      "cell_type": "markdown",
      "source": [
        "Agora a gente vai fazer a mesma coisa, só que com o conteúdo das notícias."
      ],
      "metadata": {
        "id": "x-dN18VLHnt2"
      }
    },
    {
      "cell_type": "markdown",
      "source": [
        "---\n",
        "\n",
        "Se você desejar criar um outro index para não perder o anterior, recomendo que crie um novo setup do Pinecone (vc já sabe como ^^)!\n",
        "\n",
        "Nesse caso, como estou usando o plano gratuito do pinecone e ele só permite no máximo 5 indexes, irei apagar meu index anterior e criar um novo com o mesmo nome."
      ],
      "metadata": {
        "id": "3r7T7UX7Hx0G"
      }
    },
    {
      "cell_type": "code",
      "source": [
        "if index_name in [index.name for index in pinecone.list_indexes()]: # Esse código deleta nosso index anterior\n",
        "  pinecone.delete_index(name=index_name)                            # E cria um novo com o mesmo nome\n",
        "\n",
        "pinecone.create_index(name=index_name, dimension=1536, metric='cosine',\n",
        "  spec=ServerlessSpec(cloud='aws', region='us-east-1'))\n",
        "articles_index = pinecone.Index(index_name)"
      ],
      "metadata": {
        "id": "vB5MDt6b_B-n"
      },
      "execution_count": 28,
      "outputs": []
    },
    {
      "cell_type": "code",
      "source": [
        "def embed(embeddings, title, prepped, embed_num):\n",
        "  for embedding in embeddings.data:\n",
        "    prepped.append({'id':str(embed_num), 'values':embedding.embedding, 'metadata':{'title':title}})\n",
        "    embed_num += 1\n",
        "    if len(prepped) >= 100:\n",
        "        articles_index.upsert(prepped)\n",
        "        prepped.clear()\n",
        "  return embed_num"
      ],
      "metadata": {
        "id": "E-Iy3tej7qHK"
      },
      "execution_count": 29,
      "outputs": []
    },
    {
      "cell_type": "markdown",
      "source": [
        "Lembra daquele conceito de Chunk que a gente tratou la em cima? É, sabia que ele apareceria em um momento ou outro e fiquei surpreso que ele apareceu ainda nesse módulo.\n",
        "\n",
        "O text_splitter aqui serve para dividir os textos em chunks. Esses chunks servem para evitar extrapolar a quantidade de tokens que a gente pode enviar para um modelo de LLM (Se você não sabe o que são tokens, recomendo que pesquise sobre :) ). Existem várias técnicas de divisão desses chunks, mas a utilizada aqui é com base nesse algoritmo recursivo.\n",
        "\n",
        "Aqui estamos limitando um chunk a no máximo 400 caracteres com uma sobreposição de 20 caracteres.\n",
        "Isso ajuda a manter a integridade do texto.\n",
        "Esses chunks são embeddados depois, e daí modelos podem buscar de forma assertiva os chunks que irão utilizar para responder o usuário evitando pegar os desnecessários que apenas serviriam para inflar o número de tokens de entrada. Deu pra entender? Espero que sim!\n",
        "\n",
        "Um exemplo de divisão com um overlap de 20 caracteres:\n",
        "\n",
        "Chunk 1:\n",
        "\n",
        "```\"O aprendizado de máquina é fascinante. Ele perm\"```\n",
        "\n",
        "Chunk 2 (sobreposição de 10 caracteres com Chunk 1):\n",
        "\n",
        "```\" fascinante. Ele permite que os computadores aprendam\"```\n",
        "\n",
        "Chunk 3 (sobreposição de 10 caracteres com Chunk 2):\n",
        "\n",
        "```\"omputadores aprendam com os dados e realizem tarefas complexas\"```"
      ],
      "metadata": {
        "id": "VzAdA_VZKavS"
      }
    },
    {
      "cell_type": "code",
      "source": [
        "news_data_rows_num = 500 # Quanto mais linhas você adicionar, mais lento será o processo\n",
        "                         # Mas, melhor será o resultado.\n",
        "\n",
        "embed_num = 0\n",
        "text_splitter = RecursiveCharacterTextSplitter(chunk_size=400,\n",
        "    chunk_overlap=20)\n",
        "prepped = []\n",
        "df = pd.read_csv('./all-the-news-3.csv', nrows=news_data_rows_num)\n",
        "articles_list = df['article'].tolist()\n",
        "titles_list = df['title'].tolist()\n",
        "\n",
        "for i in range(0, len(articles_list)):\n",
        "    print(\".\",end=\"\") # ajuda a acompanhar o progresso visualmente xD\n",
        "    art = articles_list[i]\n",
        "    title = titles_list[i]\n",
        "    if art is not None and isinstance(art, str): #Aqui ele verifica que os artigos não são None e se são string\n",
        "      texts = text_splitter.split_text(art)\n",
        "      embeddings = get_embeddings(texts)\n",
        "      embed_num = embed(embeddings, title, prepped, embed_num) # Se não entender o que está rolando aqui, dá uma olhada na função embed lá em cima ^^!"
      ],
      "metadata": {
        "colab": {
          "base_uri": "https://localhost:8080/"
        },
        "id": "IilYARB-_iNV",
        "outputId": "7c290ee3-2b09-4805-b634-cbae84195638"
      },
      "execution_count": 31,
      "outputs": [
        {
          "output_type": "stream",
          "name": "stdout",
          "text": [
            "...................................................................................................................................................................................................................................................................................................................................................................................................................................................................................................................."
          ]
        }
      ]
    },
    {
      "cell_type": "code",
      "source": [
        "articles_index.describe_index_stats()"
      ],
      "metadata": {
        "colab": {
          "base_uri": "https://localhost:8080/"
        },
        "id": "ZkurPtVd_ocU",
        "outputId": "3b87ebac-93ce-482e-b3a7-244593f22c44"
      },
      "execution_count": 32,
      "outputs": [
        {
          "output_type": "execute_result",
          "data": {
            "text/plain": [
              "{'dimension': 1536,\n",
              " 'index_fullness': 0.0,\n",
              " 'namespaces': {'': {'vector_count': 5500}},\n",
              " 'total_vector_count': 5500}"
            ]
          },
          "metadata": {},
          "execution_count": 32
        }
      ]
    },
    {
      "cell_type": "markdown",
      "source": [
        "# Sistema de Recomendação"
      ],
      "metadata": {
        "id": "ztR17z66_qEm"
      }
    },
    {
      "cell_type": "code",
      "source": [
        "reco = get_recommendations(articles_index, 'Games', top_k=200)\n",
        "seen = {}\n",
        "for r in reco.matches:\n",
        "    title = r.metadata['title']\n",
        "    if title not in seen:\n",
        "        print(f'{r.score} : {title}')\n",
        "        seen[title] = '.'"
      ],
      "metadata": {
        "colab": {
          "base_uri": "https://localhost:8080/"
        },
        "id": "oE0uSxGJ_sFP",
        "outputId": "e92b7210-24fd-4b28-e85b-fa83adcdda1c"
      },
      "execution_count": 59,
      "outputs": [
        {
          "output_type": "stream",
          "name": "stdout",
          "text": [
            "0.81265229 : Tony Hawk Personally Picked Soundtrack for New Skate Video Game\n",
            "0.811769426 : How much does lithium cost? The industry can't seem to agree\n",
            "0.808714688 : Popular movies that were originally flops\n",
            "0.80471617 : A Browser Game Recreates the Tedium of a 1990s Office Job\n",
            "0.799053967 : Discussing the Enduring Appeal of Abe with Oddworld Creator Lorne Lanning\n",
            "0.797410071 : The Virtual-Reality Future Is Here\n",
            "0.797137201 : Fortnite meteors are falling: Here's what it means\n",
            "0.794478595 : The Forgotten Artistic Playgrounds of the 20th Century\n",
            "0.79368192 : A Painter's Fantasies Rendered as Cartoonish Dramas\n",
            "0.791459799 : Take a Guess at What the Most Downloaded Kind of Porn Is in Anti-LGBT States\n",
            "0.791047394 : It's 2012 All Over Again: We've Got 'Dragon's Dogma' Fever\n",
            "0.78981936 : Liliana Porter Shows How Everything Familiar Must Be Magnified or Forgotten\n",
            "0.789410055 : Kim says denuclearization “achievable” in second secret meeting with Xi \n",
            "0.787794948 : Finau fires first shot as 42nd Ryder Cup gets underway\n",
            "0.78716141 : Steam Is Filled With Groups That Celebrate School Shooters\n",
            "0.787097454 : Senate Democratic leader Schumer: House funding bill will not pass Senate\n",
            "0.786694169 : Art Movements\n",
            "0.786654592 : Trump tells anti-abortion marchers he will support them\n",
            "0.785760522 : U.S. Relay Team Successfully Appeals DQ After Dropped Baton, Will Race Alone Tonight for Spot in Final\n",
            "0.785690963 : Global Chip Industry Readies for a Future Beyond Moore's Law\n",
            "0.785690963 : The Gates Foundation is trying to stop Zika by giving mosquitos a sexually transmitted disease\n",
            "0.785332143 : Ballroom Is America's Most Slept-On Subculture—MikeQ Wants to Open Our Eyes.\n",
            "0.784813464 : Martin Parr Photographs Real, Sad Food\n",
            "0.784692347 : ArtRx NYC\n",
            "0.784446597 : How an Astrophysicist Used Math to Take the Math out of Darts\n",
            "0.784045637 : ECB's Coeure: If we decide to cut rates, we'd have to consider tiering\n",
            "0.783567607 : Your Week 7 College Football Bowl Game Projections\n",
            "0.783559263 : In Guatemala, woman searches for 50 relatives buried by volcano\n",
            "0.783524275 : Nick Gazin's Comic Book Love-In #110\n",
            "0.78318727 : An Artist Serves Up Food for Thought About Excessive Consumption\n",
            "0.782747328 : U.S.  judges weigh fate of program protecting young immigrants\n",
            "0.782501042 : Ex-German SPD chief suggests quitting coalition over EU top jobs deal\n",
            "0.782441795 : 'Fortnite' is changing how building works, and Ninja isn't happy about it\n",
            "0.781159103 : Never Mind The Polloks: Vice Sports Goals of the Week\n",
            "0.7811535 : Stranger Things season 2 review: bigger, weirder, and — eventually — better\n",
            "0.779885 : Where the software industry is growing outside Silicon Valley\n",
            "0.779683769 : Political price of no-deal Brexit would be high: Sturgeon\n",
            "0.779508114 : Russian hermit seeks peace in remote Siberia\n",
            "0.779285073 : ArtRx LA\n",
            "0.77913928 : White House plans new social media summit as Congress raises questions\n",
            "0.778708041 : The Istanbul Biennial Examines the Tricky Question of What Makes a “Good Neighbor”\n",
            "0.778672338 : How RAM's Combination of Vodou Culture and Politics Became the Soundtrack to Haiti's Modern History\n",
            "0.778302312 : NBA Dunk of the Week: Jayson Tatum, Look What You Did\n",
            "0.778076708 : France's Sarkozy reveals his 'Passions' but insists no come-back on cards\n",
            "0.77800709 : Lawmakers see path ahead for Puerto Rico rescue plan\n",
            "0.777727902 : You’ll Soon Be Able to Search for GIFs Directly On Twitter\n",
            "0.777711332 : Marcel Broodthaers's Fraught Relationship with Words\n",
            "0.77760148 : Yoko Ono Sings As If Our Lives Depended on It\n",
            "0.777552187 : Preserve your ammunition, BIS urges top central banks\n",
            "0.777419806 : Explore Digital Storytelling at SVA with the MFA Visual Narrative's Upcoming Exhibition\n",
            "0.777332485 : NASA Juno probe at Jupiter just sent back new photos of the gas giant\n",
            "0.777115285 : MaliVai Washington on Men's Tennis Today and His Historic Wimbledon Run 20 Years Ago\n",
            "0.777073741 : Hillary Was Great, but We Want a 'Fire and Fury' Audiobook by Cardi B\n",
            "0.776997864 : Months after a self-driving crash, Uber is being slower and more deliberate as it gets back on public roads to test its technology \n",
            "0.776750207 : Time for some digital spring cleaning: How to organize your tech life\n",
            "0.776738763 : Venezuela loses $1.4 billion of gold to banks for guarantees: sources\n",
            "0.776696861 : Forget Facebook, Amazon or Google. Up-and-coming top tech talent is opting for startups.\n",
            "0.77608335 : Twitter isn’t hosting its annual developers conference, Flight, this year\n",
            "0.775694788 : The Wild Story of How a 'GoT' Fan Found the Last Iron Throne on Earth\n",
            "0.775683582 : China hits U.S. goods with tariffs as 'sparks' of trade war fly\n",
            "0.775658727 : An Animated Masterpiece by the Unsung Co-Founder of Studio Ghibli\n",
            "0.775646627 : Free Throw Follies: Andre Drummond Doesn't Need to Get Better from the Line\n",
            "0.775558829 : NFL playoffs: How to live stream the championship games today \n",
            "0.775478959 : How the outdated, nonsensical Passover rules taught me what Judaism is really about\n",
            "0.77534318 : Dementia prevention: 9 behaviors could cut your risk by 35 percent\n",
            "0.775266528 : Honeybees Can Add and Subtract, Study Finds\n",
            "0.774964809 : The Only Known Film Footage of Marcel Proust, or Proust Descending a Staircase\n",
            "0.77494961 : This Small City is the Most Exciting Place to Party in the UK Right Now\n",
            "0.774934709 : The way K-pop stars like BTS dress is shaping fashion trends worldwide\n",
            "0.77465868 : Sweden upset Germany to reach World Cup semis\n",
            "0.774537385 : Exclusive - Malaysia seeks to lay multiple charges against ex-PM Najib over 1MDB: Mahathir\n",
            "0.774441183 : Kubo and the Two Strings is a gorgeous stop-motion homage to Kurosawa and the power of stories\n",
            "0.77440989 : How Death Threats and the Government Shut Down Pakistan's First LGBTQ Website\n",
            "0.774331331 : British politician's murder leaves EU membership campaigns in limbo\n",
            "0.774263561 : Westworld starts with a bang, then devolves into an HBO rip-off of Lost\n",
            "0.774026036 : Cocoa-growing Ivory Coast draws up new plan to stop child labor\n",
            "0.773739874 : Let This Adorable Animation Womansplain the Clitoris\n",
            "0.773001969 : No definite arrangements in place for Putin-Trump meeting: Kremlin\n",
            "0.772929788 : This 3-minute cartoon explains why nuclear weapons still pose a very real threat\n",
            "0.772928298 : Inside the Oceanside Commune Where Young People Live In 'Anarchy'  \n",
            "0.772716761 : Video Art Meets Psychotherapy at EFA Project Space\n",
            "0.772674859 : The History of Gowanus Cemented in Sculpture\n",
            "0.772661328 : China’s social credit system penalizes those who spend “frivolously”\n",
            "0.772354782 : Paul Ryan says Obamacare replacement bill should actually help older Americans more\n",
            "0.772260189 : Factbox: Investments by automakers in the U.S. and China since Trump came to power\n",
            "0.772224188 : BBQ Brisket\n",
            "0.77212286 : Sudan hospital traumatized by bloody crackdown\n",
            "0.772114158 : Review: Disney’s live-action Aladdin is half charming, half dreadful\n",
            "0.772010684 : NHLPA Blasts League Over Decision to Skip 2018 Olympics\n",
            "0.771977782 : Why 2016 Was the Year of the Algorithmic Timeline\n"
          ]
        }
      ]
    }
  ]
}