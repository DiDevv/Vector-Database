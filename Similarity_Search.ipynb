{
  "nbformat": 4,
  "nbformat_minor": 0,
  "metadata": {
    "colab": {
      "provenance": [],
      "gpuType": "T4",
      "authorship_tag": "ABX9TyOnyJnQ4pC3a/p5PJpmruul",
      "include_colab_link": true
    },
    "kernelspec": {
      "name": "python3",
      "display_name": "Python 3"
    },
    "language_info": {
      "name": "python"
    },
    "accelerator": "GPU",
    "widgets": {
      "application/vnd.jupyter.widget-state+json": {
        "a5ce81d8f85642c295b4bec65a936e70": {
          "model_module": "@jupyter-widgets/controls",
          "model_name": "HBoxModel",
          "model_module_version": "1.5.0",
          "state": {
            "_dom_classes": [],
            "_model_module": "@jupyter-widgets/controls",
            "_model_module_version": "1.5.0",
            "_model_name": "HBoxModel",
            "_view_count": null,
            "_view_module": "@jupyter-widgets/controls",
            "_view_module_version": "1.5.0",
            "_view_name": "HBoxView",
            "box_style": "",
            "children": [
              "IPY_MODEL_7a5b45cf8691422a8543b6f61130a0eb",
              "IPY_MODEL_7b79efc422fe4207a59b815c8c6b6e55",
              "IPY_MODEL_04ad45708ddd4c6ab2c4a13ad26fcc29"
            ],
            "layout": "IPY_MODEL_bd3868d8aa204615a028e043175bc97b"
          }
        },
        "7a5b45cf8691422a8543b6f61130a0eb": {
          "model_module": "@jupyter-widgets/controls",
          "model_name": "HTMLModel",
          "model_module_version": "1.5.0",
          "state": {
            "_dom_classes": [],
            "_model_module": "@jupyter-widgets/controls",
            "_model_module_version": "1.5.0",
            "_model_name": "HTMLModel",
            "_view_count": null,
            "_view_module": "@jupyter-widgets/controls",
            "_view_module_version": "1.5.0",
            "_view_name": "HTMLView",
            "description": "",
            "description_tooltip": null,
            "layout": "IPY_MODEL_f458627b04cb4f35aca22899bf456921",
            "placeholder": "​",
            "style": "IPY_MODEL_a0d7c544e67b41beb86633093c16d492",
            "value": "100%"
          }
        },
        "7b79efc422fe4207a59b815c8c6b6e55": {
          "model_module": "@jupyter-widgets/controls",
          "model_name": "FloatProgressModel",
          "model_module_version": "1.5.0",
          "state": {
            "_dom_classes": [],
            "_model_module": "@jupyter-widgets/controls",
            "_model_module_version": "1.5.0",
            "_model_name": "FloatProgressModel",
            "_view_count": null,
            "_view_module": "@jupyter-widgets/controls",
            "_view_module_version": "1.5.0",
            "_view_name": "ProgressView",
            "bar_style": "success",
            "description": "",
            "description_tooltip": null,
            "layout": "IPY_MODEL_4c8bb43156a44c45bf874dd8ceaa5c12",
            "max": 50,
            "min": 0,
            "orientation": "horizontal",
            "style": "IPY_MODEL_90566d6538c34ec5b1d5d460c3918070",
            "value": 50
          }
        },
        "04ad45708ddd4c6ab2c4a13ad26fcc29": {
          "model_module": "@jupyter-widgets/controls",
          "model_name": "HTMLModel",
          "model_module_version": "1.5.0",
          "state": {
            "_dom_classes": [],
            "_model_module": "@jupyter-widgets/controls",
            "_model_module_version": "1.5.0",
            "_model_name": "HTMLModel",
            "_view_count": null,
            "_view_module": "@jupyter-widgets/controls",
            "_view_module_version": "1.5.0",
            "_view_name": "HTMLView",
            "description": "",
            "description_tooltip": null,
            "layout": "IPY_MODEL_36a7ce3cd3324feda834a29559447751",
            "placeholder": "​",
            "style": "IPY_MODEL_5c262631f40d4f15aeff42eb7d41759e",
            "value": " 50/50 [00:41&lt;00:00,  1.27it/s]"
          }
        },
        "bd3868d8aa204615a028e043175bc97b": {
          "model_module": "@jupyter-widgets/base",
          "model_name": "LayoutModel",
          "model_module_version": "1.2.0",
          "state": {
            "_model_module": "@jupyter-widgets/base",
            "_model_module_version": "1.2.0",
            "_model_name": "LayoutModel",
            "_view_count": null,
            "_view_module": "@jupyter-widgets/base",
            "_view_module_version": "1.2.0",
            "_view_name": "LayoutView",
            "align_content": null,
            "align_items": null,
            "align_self": null,
            "border": null,
            "bottom": null,
            "display": null,
            "flex": null,
            "flex_flow": null,
            "grid_area": null,
            "grid_auto_columns": null,
            "grid_auto_flow": null,
            "grid_auto_rows": null,
            "grid_column": null,
            "grid_gap": null,
            "grid_row": null,
            "grid_template_areas": null,
            "grid_template_columns": null,
            "grid_template_rows": null,
            "height": null,
            "justify_content": null,
            "justify_items": null,
            "left": null,
            "margin": null,
            "max_height": null,
            "max_width": null,
            "min_height": null,
            "min_width": null,
            "object_fit": null,
            "object_position": null,
            "order": null,
            "overflow": null,
            "overflow_x": null,
            "overflow_y": null,
            "padding": null,
            "right": null,
            "top": null,
            "visibility": null,
            "width": null
          }
        },
        "f458627b04cb4f35aca22899bf456921": {
          "model_module": "@jupyter-widgets/base",
          "model_name": "LayoutModel",
          "model_module_version": "1.2.0",
          "state": {
            "_model_module": "@jupyter-widgets/base",
            "_model_module_version": "1.2.0",
            "_model_name": "LayoutModel",
            "_view_count": null,
            "_view_module": "@jupyter-widgets/base",
            "_view_module_version": "1.2.0",
            "_view_name": "LayoutView",
            "align_content": null,
            "align_items": null,
            "align_self": null,
            "border": null,
            "bottom": null,
            "display": null,
            "flex": null,
            "flex_flow": null,
            "grid_area": null,
            "grid_auto_columns": null,
            "grid_auto_flow": null,
            "grid_auto_rows": null,
            "grid_column": null,
            "grid_gap": null,
            "grid_row": null,
            "grid_template_areas": null,
            "grid_template_columns": null,
            "grid_template_rows": null,
            "height": null,
            "justify_content": null,
            "justify_items": null,
            "left": null,
            "margin": null,
            "max_height": null,
            "max_width": null,
            "min_height": null,
            "min_width": null,
            "object_fit": null,
            "object_position": null,
            "order": null,
            "overflow": null,
            "overflow_x": null,
            "overflow_y": null,
            "padding": null,
            "right": null,
            "top": null,
            "visibility": null,
            "width": null
          }
        },
        "a0d7c544e67b41beb86633093c16d492": {
          "model_module": "@jupyter-widgets/controls",
          "model_name": "DescriptionStyleModel",
          "model_module_version": "1.5.0",
          "state": {
            "_model_module": "@jupyter-widgets/controls",
            "_model_module_version": "1.5.0",
            "_model_name": "DescriptionStyleModel",
            "_view_count": null,
            "_view_module": "@jupyter-widgets/base",
            "_view_module_version": "1.2.0",
            "_view_name": "StyleView",
            "description_width": ""
          }
        },
        "4c8bb43156a44c45bf874dd8ceaa5c12": {
          "model_module": "@jupyter-widgets/base",
          "model_name": "LayoutModel",
          "model_module_version": "1.2.0",
          "state": {
            "_model_module": "@jupyter-widgets/base",
            "_model_module_version": "1.2.0",
            "_model_name": "LayoutModel",
            "_view_count": null,
            "_view_module": "@jupyter-widgets/base",
            "_view_module_version": "1.2.0",
            "_view_name": "LayoutView",
            "align_content": null,
            "align_items": null,
            "align_self": null,
            "border": null,
            "bottom": null,
            "display": null,
            "flex": null,
            "flex_flow": null,
            "grid_area": null,
            "grid_auto_columns": null,
            "grid_auto_flow": null,
            "grid_auto_rows": null,
            "grid_column": null,
            "grid_gap": null,
            "grid_row": null,
            "grid_template_areas": null,
            "grid_template_columns": null,
            "grid_template_rows": null,
            "height": null,
            "justify_content": null,
            "justify_items": null,
            "left": null,
            "margin": null,
            "max_height": null,
            "max_width": null,
            "min_height": null,
            "min_width": null,
            "object_fit": null,
            "object_position": null,
            "order": null,
            "overflow": null,
            "overflow_x": null,
            "overflow_y": null,
            "padding": null,
            "right": null,
            "top": null,
            "visibility": null,
            "width": null
          }
        },
        "90566d6538c34ec5b1d5d460c3918070": {
          "model_module": "@jupyter-widgets/controls",
          "model_name": "ProgressStyleModel",
          "model_module_version": "1.5.0",
          "state": {
            "_model_module": "@jupyter-widgets/controls",
            "_model_module_version": "1.5.0",
            "_model_name": "ProgressStyleModel",
            "_view_count": null,
            "_view_module": "@jupyter-widgets/base",
            "_view_module_version": "1.2.0",
            "_view_name": "StyleView",
            "bar_color": null,
            "description_width": ""
          }
        },
        "36a7ce3cd3324feda834a29559447751": {
          "model_module": "@jupyter-widgets/base",
          "model_name": "LayoutModel",
          "model_module_version": "1.2.0",
          "state": {
            "_model_module": "@jupyter-widgets/base",
            "_model_module_version": "1.2.0",
            "_model_name": "LayoutModel",
            "_view_count": null,
            "_view_module": "@jupyter-widgets/base",
            "_view_module_version": "1.2.0",
            "_view_name": "LayoutView",
            "align_content": null,
            "align_items": null,
            "align_self": null,
            "border": null,
            "bottom": null,
            "display": null,
            "flex": null,
            "flex_flow": null,
            "grid_area": null,
            "grid_auto_columns": null,
            "grid_auto_flow": null,
            "grid_auto_rows": null,
            "grid_column": null,
            "grid_gap": null,
            "grid_row": null,
            "grid_template_areas": null,
            "grid_template_columns": null,
            "grid_template_rows": null,
            "height": null,
            "justify_content": null,
            "justify_items": null,
            "left": null,
            "margin": null,
            "max_height": null,
            "max_width": null,
            "min_height": null,
            "min_width": null,
            "object_fit": null,
            "object_position": null,
            "order": null,
            "overflow": null,
            "overflow_x": null,
            "overflow_y": null,
            "padding": null,
            "right": null,
            "top": null,
            "visibility": null,
            "width": null
          }
        },
        "5c262631f40d4f15aeff42eb7d41759e": {
          "model_module": "@jupyter-widgets/controls",
          "model_name": "DescriptionStyleModel",
          "model_module_version": "1.5.0",
          "state": {
            "_model_module": "@jupyter-widgets/controls",
            "_model_module_version": "1.5.0",
            "_model_name": "DescriptionStyleModel",
            "_view_count": null,
            "_view_module": "@jupyter-widgets/base",
            "_view_module_version": "1.2.0",
            "_view_name": "StyleView",
            "description_width": ""
          }
        }
      }
    }
  },
  "cells": [
    {
      "cell_type": "markdown",
      "metadata": {
        "id": "view-in-github",
        "colab_type": "text"
      },
      "source": [
        "<a href=\"https://colab.research.google.com/github/DiDevv/Vector-Database/blob/main/Similarity_Search.ipynb\" target=\"_parent\"><img src=\"https://colab.research.google.com/assets/colab-badge.svg\" alt=\"Open In Colab\"/></a>"
      ]
    },
    {
      "cell_type": "markdown",
      "source": [
        "# Introdução:"
      ],
      "metadata": {
        "id": "O84_L3Hf9uZp"
      }
    },
    {
      "cell_type": "markdown",
      "source": [
        "Todo esse código estará armazenado no meu Github com o intuito tanto de guardar o meu aprendizado, quanto de compartilhar para outras pessoas.\n",
        "\n",
        "Todo aprendizado aquiduirido aqui me foi proporcionado gratuitamente pela organização DeeplearningAI. O curso pode ser encontrado aqui: [Building Applications With Vector Databases](https://learn.deeplearning.ai/courses/building-applications-vector-databases)\n",
        "\n",
        "A explicação do código estará em português e algumas abordagens alternativas foram tomadas pois estou rodando os códigos em um ambiente meu e não dentro do jupyter do próprio curso.\n",
        "\n",
        "O curso ainda não possui legendas em português, foi um ponto de dificuldade para mim pois ainda estou aprimorando minha escuta do idioma inglês, por isso, tentarei abordar o conteúdo em português por aqui, para quebrar a barreira linguística para outras pessoas que ainda não conseguem \"se virar\" no inglês :P, eu te entendo!\n",
        "\n",
        "Espero que possa ser útil, tanto pra você quanto pra mim!"
      ],
      "metadata": {
        "id": "nFuQA1_i9wqS"
      }
    },
    {
      "cell_type": "markdown",
      "source": [
        "# Busca por Similaridade - Módulo 1"
      ],
      "metadata": {
        "id": "4DCKdklHiCaw"
      }
    },
    {
      "cell_type": "markdown",
      "source": [
        "Esse módulo trata do nosso primeiro contato com o Pinecone e com um dos casos de uso mais frequentes quando se utiliza um banco de dados vetorial: Busca por Similaridade.\n",
        "\n",
        "Como o próprio nome já diz, a busca por similaridade é o processo de buscar conteúdos similares no banco de dados. Pra isso, precisamos primeiro \"embeddar\" nosso conteúdo - transformação de palavras, frases ou itens em vetores em um espaço vetorial (as aulas de algebra linear nunca fizeram tanto sentido) - e depois enviarmos nossos embeddings para o banco de dados vetorial, assim, podendo escolher um método de busca por similaridade (nesse curso utilizamos o cosseno da similaridade)!"
      ],
      "metadata": {
        "id": "JMqIkAiu-0s6"
      }
    },
    {
      "cell_type": "markdown",
      "source": [
        "---\n",
        "\n",
        "Antes de prosseguir, é necessário instalar alguns pacotes!"
      ],
      "metadata": {
        "id": "VDMaDWCx_wVc"
      }
    },
    {
      "cell_type": "code",
      "execution_count": 71,
      "metadata": {
        "colab": {
          "base_uri": "https://localhost:8080/"
        },
        "id": "2ohjr4eyW5_V",
        "outputId": "9a5e4267-e065-420c-9b6f-4530df81b96b"
      },
      "outputs": [
        {
          "output_type": "stream",
          "name": "stdout",
          "text": [
            "Requirement already satisfied: datasets in /usr/local/lib/python3.10/dist-packages (3.2.0)\n",
            "Requirement already satisfied: sentence_transformers in /usr/local/lib/python3.10/dist-packages (3.3.1)\n",
            "Requirement already satisfied: pinecone in /usr/local/lib/python3.10/dist-packages (5.4.2)\n",
            "Requirement already satisfied: dlai-tools in /usr/local/lib/python3.10/dist-packages (0.6.1)\n",
            "Requirement already satisfied: tqdm in /usr/local/lib/python3.10/dist-packages (4.67.1)\n",
            "Requirement already satisfied: filelock in /usr/local/lib/python3.10/dist-packages (from datasets) (3.16.1)\n",
            "Requirement already satisfied: numpy>=1.17 in /usr/local/lib/python3.10/dist-packages (from datasets) (1.26.4)\n",
            "Requirement already satisfied: pyarrow>=15.0.0 in /usr/local/lib/python3.10/dist-packages (from datasets) (17.0.0)\n",
            "Requirement already satisfied: dill<0.3.9,>=0.3.0 in /usr/local/lib/python3.10/dist-packages (from datasets) (0.3.8)\n",
            "Requirement already satisfied: pandas in /usr/local/lib/python3.10/dist-packages (from datasets) (2.2.2)\n",
            "Requirement already satisfied: requests>=2.32.2 in /usr/local/lib/python3.10/dist-packages (from datasets) (2.32.3)\n",
            "Requirement already satisfied: xxhash in /usr/local/lib/python3.10/dist-packages (from datasets) (3.5.0)\n",
            "Requirement already satisfied: multiprocess<0.70.17 in /usr/local/lib/python3.10/dist-packages (from datasets) (0.70.16)\n",
            "Requirement already satisfied: fsspec<=2024.9.0,>=2023.1.0 in /usr/local/lib/python3.10/dist-packages (from fsspec[http]<=2024.9.0,>=2023.1.0->datasets) (2024.9.0)\n",
            "Requirement already satisfied: aiohttp in /usr/local/lib/python3.10/dist-packages (from datasets) (3.11.10)\n",
            "Requirement already satisfied: huggingface-hub>=0.23.0 in /usr/local/lib/python3.10/dist-packages (from datasets) (0.27.0)\n",
            "Requirement already satisfied: packaging in /usr/local/lib/python3.10/dist-packages (from datasets) (24.2)\n",
            "Requirement already satisfied: pyyaml>=5.1 in /usr/local/lib/python3.10/dist-packages (from datasets) (6.0.2)\n",
            "Requirement already satisfied: transformers<5.0.0,>=4.41.0 in /usr/local/lib/python3.10/dist-packages (from sentence_transformers) (4.47.1)\n",
            "Requirement already satisfied: torch>=1.11.0 in /usr/local/lib/python3.10/dist-packages (from sentence_transformers) (2.5.1+cu121)\n",
            "Requirement already satisfied: scikit-learn in /usr/local/lib/python3.10/dist-packages (from sentence_transformers) (1.6.0)\n",
            "Requirement already satisfied: scipy in /usr/local/lib/python3.10/dist-packages (from sentence_transformers) (1.13.1)\n",
            "Requirement already satisfied: Pillow in /usr/local/lib/python3.10/dist-packages (from sentence_transformers) (11.0.0)\n",
            "Requirement already satisfied: certifi>=2019.11.17 in /usr/local/lib/python3.10/dist-packages (from pinecone) (2024.12.14)\n",
            "Requirement already satisfied: pinecone-plugin-inference<4.0.0,>=2.0.0 in /usr/local/lib/python3.10/dist-packages (from pinecone) (3.1.0)\n",
            "Requirement already satisfied: pinecone-plugin-interface<0.0.8,>=0.0.7 in /usr/local/lib/python3.10/dist-packages (from pinecone) (0.0.7)\n",
            "Requirement already satisfied: python-dateutil>=2.5.3 in /usr/local/lib/python3.10/dist-packages (from pinecone) (2.8.2)\n",
            "Requirement already satisfied: typing-extensions>=3.7.4 in /usr/local/lib/python3.10/dist-packages (from pinecone) (4.12.2)\n",
            "Requirement already satisfied: urllib3>=1.26.0 in /usr/local/lib/python3.10/dist-packages (from pinecone) (2.2.3)\n",
            "Requirement already satisfied: aiohappyeyeballs>=2.3.0 in /usr/local/lib/python3.10/dist-packages (from aiohttp->datasets) (2.4.4)\n",
            "Requirement already satisfied: aiosignal>=1.1.2 in /usr/local/lib/python3.10/dist-packages (from aiohttp->datasets) (1.3.2)\n",
            "Requirement already satisfied: async-timeout<6.0,>=4.0 in /usr/local/lib/python3.10/dist-packages (from aiohttp->datasets) (4.0.3)\n",
            "Requirement already satisfied: attrs>=17.3.0 in /usr/local/lib/python3.10/dist-packages (from aiohttp->datasets) (24.3.0)\n",
            "Requirement already satisfied: frozenlist>=1.1.1 in /usr/local/lib/python3.10/dist-packages (from aiohttp->datasets) (1.5.0)\n",
            "Requirement already satisfied: multidict<7.0,>=4.5 in /usr/local/lib/python3.10/dist-packages (from aiohttp->datasets) (6.1.0)\n",
            "Requirement already satisfied: propcache>=0.2.0 in /usr/local/lib/python3.10/dist-packages (from aiohttp->datasets) (0.2.1)\n",
            "Requirement already satisfied: yarl<2.0,>=1.17.0 in /usr/local/lib/python3.10/dist-packages (from aiohttp->datasets) (1.18.3)\n",
            "Requirement already satisfied: six>=1.5 in /usr/local/lib/python3.10/dist-packages (from python-dateutil>=2.5.3->pinecone) (1.17.0)\n",
            "Requirement already satisfied: charset-normalizer<4,>=2 in /usr/local/lib/python3.10/dist-packages (from requests>=2.32.2->datasets) (3.4.0)\n",
            "Requirement already satisfied: idna<4,>=2.5 in /usr/local/lib/python3.10/dist-packages (from requests>=2.32.2->datasets) (3.10)\n",
            "Requirement already satisfied: networkx in /usr/local/lib/python3.10/dist-packages (from torch>=1.11.0->sentence_transformers) (3.4.2)\n",
            "Requirement already satisfied: jinja2 in /usr/local/lib/python3.10/dist-packages (from torch>=1.11.0->sentence_transformers) (3.1.4)\n",
            "Requirement already satisfied: sympy==1.13.1 in /usr/local/lib/python3.10/dist-packages (from torch>=1.11.0->sentence_transformers) (1.13.1)\n",
            "Requirement already satisfied: mpmath<1.4,>=1.1.0 in /usr/local/lib/python3.10/dist-packages (from sympy==1.13.1->torch>=1.11.0->sentence_transformers) (1.3.0)\n",
            "Requirement already satisfied: regex!=2019.12.17 in /usr/local/lib/python3.10/dist-packages (from transformers<5.0.0,>=4.41.0->sentence_transformers) (2024.11.6)\n",
            "Requirement already satisfied: tokenizers<0.22,>=0.21 in /usr/local/lib/python3.10/dist-packages (from transformers<5.0.0,>=4.41.0->sentence_transformers) (0.21.0)\n",
            "Requirement already satisfied: safetensors>=0.4.1 in /usr/local/lib/python3.10/dist-packages (from transformers<5.0.0,>=4.41.0->sentence_transformers) (0.4.5)\n",
            "Requirement already satisfied: pytz>=2020.1 in /usr/local/lib/python3.10/dist-packages (from pandas->datasets) (2024.2)\n",
            "Requirement already satisfied: tzdata>=2022.7 in /usr/local/lib/python3.10/dist-packages (from pandas->datasets) (2024.2)\n",
            "Requirement already satisfied: joblib>=1.2.0 in /usr/local/lib/python3.10/dist-packages (from scikit-learn->sentence_transformers) (1.4.2)\n",
            "Requirement already satisfied: threadpoolctl>=3.1.0 in /usr/local/lib/python3.10/dist-packages (from scikit-learn->sentence_transformers) (3.5.0)\n",
            "Requirement already satisfied: MarkupSafe>=2.0 in /usr/local/lib/python3.10/dist-packages (from jinja2->torch>=1.11.0->sentence_transformers) (3.0.2)\n"
          ]
        }
      ],
      "source": [
        "%pip install datasets sentence_transformers pinecone dlai-tools tqdm"
      ]
    },
    {
      "cell_type": "markdown",
      "source": [
        "# Importação das Bibliotecas\n"
      ],
      "metadata": {
        "id": "bzplMds4iYmV"
      }
    },
    {
      "cell_type": "code",
      "source": [
        "import warnings\n",
        "warnings.filterwarnings('ignore')"
      ],
      "metadata": {
        "id": "I3n200qZk4HK"
      },
      "execution_count": 72,
      "outputs": []
    },
    {
      "cell_type": "code",
      "source": [
        "from datasets import load_dataset\n",
        "from sentence_transformers import SentenceTransformer # Modelos baseados no Transformer e possui uma forma mais fácil de computar vetores que representam sentenças, paragrafos e imagens\n",
        "from pinecone import Pinecone, ServerlessSpec\n",
        "\n",
        "import os\n",
        "import time\n",
        "import torch\n",
        "import getpass"
      ],
      "metadata": {
        "id": "vpiofNrziZv7"
      },
      "execution_count": 73,
      "outputs": []
    },
    {
      "cell_type": "code",
      "source": [
        "from tqdm.auto import tqdm # Para acompanhar o progresso do código"
      ],
      "metadata": {
        "id": "Y6Kf8A2zjOM0"
      },
      "execution_count": 74,
      "outputs": []
    },
    {
      "cell_type": "markdown",
      "source": [
        "# Vamos codar!"
      ],
      "metadata": {
        "id": "8Tq9U08zkEqu"
      }
    },
    {
      "cell_type": "code",
      "source": [
        "dataset = load_dataset(\"quora\", split=\"train[240000:290000]\") # Baixando o conjunto de dados Quora, e selecionando os dados específicos do split train que vão do 240000 ao 290000"
      ],
      "metadata": {
        "id": "imFHtT20jm2y"
      },
      "execution_count": 75,
      "outputs": []
    },
    {
      "cell_type": "code",
      "source": [
        "dataset[:3] # Visualizando alguns itens do dataset"
      ],
      "metadata": {
        "colab": {
          "base_uri": "https://localhost:8080/"
        },
        "id": "GoeEc0WjksSn",
        "outputId": "2e24d9bb-d6f6-48dc-c152-24b5c4679653"
      },
      "execution_count": 76,
      "outputs": [
        {
          "output_type": "execute_result",
          "data": {
            "text/plain": [
              "{'questions': [{'id': [207550, 351729],\n",
              "   'text': ['What is the truth of life?', \"What's the evil truth of life?\"]},\n",
              "  {'id': [33183, 351730],\n",
              "   'text': ['Which is the best smartphone under 20K in India?',\n",
              "    'Which is the best smartphone with in 20k in India?']},\n",
              "  {'id': [351731, 351732],\n",
              "   'text': ['Steps taken by Canadian government to improve literacy rate?',\n",
              "    'Can I send homemade herbal hair oil from India to US via postal or private courier services?']}],\n",
              " 'is_duplicate': [False, True, False]}"
            ]
          },
          "metadata": {},
          "execution_count": 76
        }
      ]
    },
    {
      "cell_type": "markdown",
      "source": [
        "---\n",
        "\n",
        "Vamos tratar esse dataset e separar apenas as questions dentro de uma lista."
      ],
      "metadata": {
        "id": "-qvwUatYAJQ3"
      }
    },
    {
      "cell_type": "code",
      "source": [
        "questions = []\n",
        "for record in dataset['questions']:\n",
        "    questions.extend(record['text'])\n",
        "questions = list(set(questions)) # O objetivo em converter primeiro em Set e depois em lista é remover duplicatas, pois sets não podem possuir conteúdos duplicados\n",
        "print(\"\\n\".join(questions[:10])) # O join serve pra concatenar uma lista com um separador específico, nesse caso, uma quebra de linhas :)\n",
        "print('-' * 50)\n",
        "print(f\"nunmber of questinons {len(questions)}\")"
      ],
      "metadata": {
        "colab": {
          "base_uri": "https://localhost:8080/"
        },
        "id": "evg7ubgtlFX6",
        "outputId": "921bb603-1f56-4219-8a41-4d86f27a4e47"
      },
      "execution_count": 77,
      "outputs": [
        {
          "output_type": "stream",
          "name": "stdout",
          "text": [
            "Will Donald Trump's brand value decrease if he loses in the presidential race?\n",
            "What is the salary for a software engineering intern with MS (Computer Science), Computer Science PhD and Operations Research PhD in Microsoft (US)?\n",
            "What are some of the best career options in India?\n",
            "How do I get better at acting?\n",
            "What strikes first time visitors as special or unusual when they arrive in Chula Vista, CA?\n",
            "How can I alleviate hamstring pain while stretching after lifting?\n",
            "How can I recover my Facebook email account if someone change my password without losing my Facebook account?\n",
            "What kind of nlp research is happening at Facebook?\n",
            "How can be a good leader?\n",
            "What’s the best breakfast in the morning?\n",
            "--------------------------------------------------\n",
            "nunmber of questinons 88919\n"
          ]
        }
      ]
    },
    {
      "cell_type": "markdown",
      "source": [
        "## Vamos criar e testa nosso Embedding!"
      ],
      "metadata": {
        "id": "0GnMIaV8scAf"
      }
    },
    {
      "cell_type": "markdown",
      "source": [
        "Essa célula verifica se podemos usar CUDA (pra quem tem placa de vídeo ^^), para processar os dados mais rapidamente.\n",
        "Se você não possuir,a tranquilo, o conjunto de dados é pequenininho! :)\n",
        "\n",
        "\n",
        "\n"
      ],
      "metadata": {
        "id": "BijLHwPLAYFb"
      }
    },
    {
      "cell_type": "code",
      "source": [
        "device = 'cuda' if torch.cuda.is_available() else 'cpu'\n",
        "if device != 'cuda':\n",
        "    print(\"Desculpa, sem cuda por aqui :P\")\n",
        "model = SentenceTransformer('all-MiniLM-L6-v2', device=device)"
      ],
      "metadata": {
        "id": "gQEjVmvDnNTj"
      },
      "execution_count": 78,
      "outputs": []
    },
    {
      "cell_type": "markdown",
      "source": [
        "Embeddando uma query de exemplo. Podemos notar que aqui teremos 384 elementos nesses embeddings, e se imprimirmos a variável, conseguiremos ver as coordenadas de todos os embeddings no espaço vetorial!"
      ],
      "metadata": {
        "id": "M08v7bZwt66B"
      }
    },
    {
      "cell_type": "code",
      "source": [
        "query = 'which city is the most populated in the world?'\n",
        "embedding_test = model.encode(query)\n",
        "print(embedding_test)\n",
        "print(\"--\"*50)\n",
        "print(embedding_test.shape)"
      ],
      "metadata": {
        "colab": {
          "base_uri": "https://localhost:8080/"
        },
        "id": "wD0mJ0IhroxV",
        "outputId": "96e9ce2d-145e-4535-c67c-13737d8124f3"
      },
      "execution_count": 79,
      "outputs": [
        {
          "output_type": "stream",
          "name": "stdout",
          "text": [
            "[ 1.50860831e-01  1.29710427e-02 -5.08222543e-02  6.06876425e-02\n",
            " -3.35402234e-04 -2.90263258e-02  5.06248511e-02  2.99537871e-02\n",
            " -3.10023613e-02  5.96766472e-02  5.95133491e-02 -1.33624226e-01\n",
            "  7.15945708e-03  4.92674410e-02  1.59945562e-02 -2.03522649e-02\n",
            "  3.74022759e-02 -9.18012261e-02  7.44751915e-02 -5.41728362e-02\n",
            " -5.14636040e-02 -4.53633517e-02  6.31610677e-02  4.29923683e-02\n",
            "  2.43182424e-02  2.65026204e-02  1.74598321e-02  8.24664831e-02\n",
            " -1.59858782e-02 -7.79032102e-03 -1.71448123e-02  7.63704553e-02\n",
            "  1.10217527e-01 -2.29894184e-02  8.37780535e-03  7.16604758e-03\n",
            " -5.05505642e-03 -4.04071063e-02  3.40001993e-02  3.00653689e-02\n",
            "  4.23339978e-02 -2.88223512e-02  3.75781395e-02 -4.33307998e-02\n",
            "  2.17319671e-02  8.27985723e-03 -1.04310159e-02  7.60996789e-02\n",
            "  3.55797145e-03  4.72234227e-02  3.57121602e-02  7.10471943e-02\n",
            " -2.74737310e-02  2.82491092e-03  1.41288508e-02 -3.47286239e-02\n",
            "  4.96902678e-04 -3.59864123e-02  5.80329797e-04  1.07831694e-02\n",
            " -1.44696620e-03  4.60125655e-02  2.73875752e-03  3.98803912e-02\n",
            "  7.77757242e-02  2.47401819e-02  3.38446163e-02  4.81837802e-02\n",
            " -1.74976010e-02 -4.13806774e-02  6.50566742e-02 -1.55672161e-02\n",
            "  1.48954457e-02  1.09180342e-02  1.46861123e-02 -1.02522768e-01\n",
            " -2.33959723e-02  1.25524299e-02 -1.22235250e-02  7.02659711e-02\n",
            "  9.04505029e-02  8.46168958e-03 -5.67268543e-02  5.59987873e-02\n",
            " -3.63560230e-03  2.16721483e-02 -1.73127614e-02  3.61832902e-02\n",
            " -2.94484235e-02 -3.78153026e-02 -2.27158088e-02  1.00750417e-01\n",
            " -6.23688735e-02  2.34935023e-02 -5.64873070e-02  5.65291829e-02\n",
            " -2.95202099e-02 -3.22049037e-02 -3.49645317e-02 -4.93095024e-03\n",
            " -5.88411167e-02  2.84449141e-02  1.04049943e-01  4.63022962e-02\n",
            " -4.01198119e-02 -6.48189336e-02 -7.45328665e-02  2.67529711e-02\n",
            " -7.22474009e-02  4.67022471e-02 -6.11195676e-02 -5.77815510e-02\n",
            " -4.73094843e-02  5.16157337e-02  6.66106539e-03 -1.17837284e-02\n",
            "  1.00815244e-01  2.28732675e-02 -4.79180701e-02  4.96793389e-02\n",
            " -4.11552824e-02 -4.39425074e-02 -4.66852374e-02  5.13562299e-02\n",
            "  1.06139472e-02 -2.50807293e-02 -1.83045417e-02 -6.32089100e-33\n",
            " -4.39462774e-02 -1.20059572e-01  1.01136707e-01  8.24262127e-02\n",
            " -5.55491038e-02 -5.69750816e-02  1.83991995e-02 -2.75889505e-02\n",
            " -9.55839921e-03 -5.93916215e-02  2.69410550e-03 -1.14852130e-01\n",
            " -1.58278029e-02  2.42455080e-02  7.79299885e-02  3.65475528e-02\n",
            "  3.54975909e-02  3.51127908e-02 -1.51175752e-01  3.70702855e-02\n",
            "  9.83952358e-03  8.33407342e-02 -2.36753002e-03 -3.59971114e-02\n",
            " -5.80666587e-02  3.53524508e-03  3.16513814e-02 -3.10317911e-02\n",
            "  5.54177240e-02 -3.04117873e-02  7.14341626e-02 -7.59041123e-03\n",
            "  1.31854685e-02 -2.92498656e-02  4.05388176e-02  7.68263787e-02\n",
            " -2.62774192e-02  2.90599875e-02 -3.32364030e-02  1.65869910e-02\n",
            " -3.83236371e-02 -3.86311561e-02  9.08703357e-03  1.35457912e-03\n",
            "  3.54728661e-02  4.94070426e-02 -1.35092353e-02 -5.17059490e-02\n",
            " -2.55238395e-02 -1.08915661e-02  9.30248573e-03  2.15242500e-03\n",
            " -1.13504872e-01  7.49539658e-02  6.63588941e-02  2.40175631e-02\n",
            "  1.87403057e-02  1.52875548e-02  2.45042071e-02  1.10359244e-01\n",
            " -1.06846869e-01  5.43385930e-02  1.96784437e-02  2.00691801e-02\n",
            "  1.53444692e-01 -2.95830350e-02  3.85143533e-02  2.52288207e-03\n",
            " -1.86602697e-02  6.26408979e-02  4.88260649e-02  1.42819481e-04\n",
            "  3.96575145e-02  9.41863284e-02  5.69917902e-04  1.62100997e-02\n",
            "  7.08778203e-02  1.12343049e-02 -2.89198402e-02  5.46819419e-02\n",
            "  1.25709483e-02 -3.80421965e-03 -3.60460170e-02  1.11114755e-02\n",
            "  6.12073541e-02  1.21991215e-02  1.09927561e-02 -1.00575007e-01\n",
            "  1.48818111e-02 -1.53343901e-02 -5.72263636e-02 -1.08473739e-02\n",
            "  1.28573889e-03 -7.33765960e-02 -1.13397241e-01  3.91340473e-33\n",
            " -2.78156605e-02 -3.92383412e-02  7.89139606e-03 -3.31691839e-02\n",
            " -1.02046058e-01 -3.23006213e-02  3.92892249e-02  4.31293398e-02\n",
            " -1.27266264e-02  5.52906692e-02 -6.78524002e-02 -5.19610122e-02\n",
            "  1.75767750e-01 -2.60392185e-02  5.02112992e-02  6.15827814e-02\n",
            "  9.12059098e-02 -1.27408626e-02 -5.69666289e-02  2.72945575e-02\n",
            " -5.50433435e-02 -3.54708396e-02 -7.82411452e-03 -6.98426645e-03\n",
            " -7.81824067e-02 -2.74379645e-03 -1.52199015e-01 -4.76334393e-02\n",
            " -4.02200036e-02 -3.63827236e-02 -1.86088625e-02  1.35078290e-02\n",
            " -7.06261098e-02 -7.19670393e-03 -2.92433016e-02  2.05202177e-02\n",
            "  2.58378498e-03  4.24924009e-02 -1.62082948e-02  9.69415680e-02\n",
            " -5.34600466e-02 -1.41348690e-02 -2.94679608e-02  4.40547131e-02\n",
            "  1.27093848e-02  3.89990769e-02 -6.16461262e-02  4.76006698e-03\n",
            "  1.69031490e-02 -4.25075442e-02  4.59335931e-02  3.42661254e-02\n",
            " -7.84273669e-02  3.63899805e-02  6.00521676e-02  4.43229936e-02\n",
            " -1.19443759e-02  7.79704824e-02 -1.54907501e-03 -9.17240605e-02\n",
            "  3.94992679e-02  7.73321092e-03 -4.85046804e-02  7.14286640e-02\n",
            " -1.55745782e-02 -3.27937342e-02  1.19734248e-02  3.82728204e-02\n",
            " -3.45533807e-03 -8.55742022e-02  2.60249060e-02  5.19886240e-02\n",
            " -3.32627259e-02 -2.76634712e-02 -2.98016872e-02  1.94583125e-02\n",
            "  7.95826167e-02  6.54215291e-02  1.01919711e-01 -1.03410836e-02\n",
            "  5.92855625e-02  6.20587952e-02 -2.09340919e-02 -6.15015663e-02\n",
            " -3.62642668e-02  2.40186062e-02  2.12603025e-02 -9.80800241e-02\n",
            " -1.65121965e-02 -1.44146709e-03 -4.93981875e-02  4.78734374e-02\n",
            " -5.90092689e-02 -1.55327290e-01 -4.45593372e-02 -1.89026874e-08\n",
            " -1.15726236e-02  2.88208630e-02 -2.19916962e-02  2.58944202e-02\n",
            "  4.41694334e-02 -4.72962037e-02  9.65852216e-02  1.18092075e-01\n",
            " -6.13944978e-03  6.07888661e-02  2.43716524e-03  2.19921619e-02\n",
            " -5.59685752e-03 -1.28865307e-02 -3.50236595e-02 -3.32663618e-02\n",
            " -3.81258875e-02 -1.94111299e-02  1.25464378e-03 -1.56648792e-02\n",
            "  3.91245149e-02  4.99419821e-03 -5.72018549e-02 -5.69661483e-02\n",
            "  3.12822498e-02 -7.29241818e-02 -2.19926871e-02 -5.32131977e-02\n",
            " -2.80537251e-02 -7.31067685e-03  1.54460231e-02 -1.05617963e-01\n",
            " -4.51053157e-02 -3.68995406e-02  3.54496054e-02 -1.94618907e-02\n",
            " -2.28580069e-02 -4.96497145e-03 -4.57563475e-02 -1.14124000e-01\n",
            " -6.43195631e-03  1.34237278e-02  2.25758217e-02  2.51029544e-02\n",
            "  3.39654125e-02 -6.47709742e-02  4.33925614e-02 -2.57033743e-02\n",
            "  2.52898987e-02 -4.77486923e-02 -1.27414852e-01 -2.43732482e-02\n",
            "  4.86195832e-02 -1.02466103e-02 -2.43240073e-02 -5.35421297e-02\n",
            " -1.57449171e-02 -3.12815793e-03 -5.75823709e-03  5.07179722e-02\n",
            "  4.77837436e-02  1.98365115e-02  1.88763179e-02  5.23564592e-02]\n",
            "----------------------------------------------------------------------------------------------------\n",
            "(384,)\n"
          ]
        }
      ]
    },
    {
      "cell_type": "markdown",
      "source": [
        "## Setup Pinecone"
      ],
      "metadata": {
        "id": "o_YA0obyuMuP"
      }
    },
    {
      "cell_type": "markdown",
      "source": [
        "Primeiramente, cria uma conta lá no [Pinecone](https://app.pinecone.io/) é facinho! Não se esquece de salvar sua API Key em um local seguro, é importante que você não esqueça."
      ],
      "metadata": {
        "id": "gOoZiZMsBSSS"
      }
    },
    {
      "cell_type": "markdown",
      "source": [
        "---\n",
        "\n",
        "Com esse código você pode colocar sua API Key aqui sem se preocupar, pois ela não ficará visível graças aos módulos os e getpass."
      ],
      "metadata": {
        "id": "JU737ACjBl__"
      }
    },
    {
      "cell_type": "code",
      "source": [
        "os.environ[\"PINECONE_API_KEY\"] = getpass.getpass(\"Forneça sua API Key do Pinecone: \")"
      ],
      "metadata": {
        "colab": {
          "base_uri": "https://localhost:8080/"
        },
        "id": "YSlazyBouNlj",
        "outputId": "9ffb711f-1b63-4567-c16f-d1671fcac4d4"
      },
      "execution_count": 80,
      "outputs": [
        {
          "name": "stdout",
          "output_type": "stream",
          "text": [
            "Forneça sua API Key do Pinecone: ··········\n"
          ]
        }
      ]
    },
    {
      "cell_type": "code",
      "source": [
        "PINECONE_API_KEY = os.environ[\"PINECONE_API_KEY\"]"
      ],
      "metadata": {
        "id": "wwHcpkp9u96T"
      },
      "execution_count": 81,
      "outputs": []
    },
    {
      "cell_type": "markdown",
      "source": [
        "Informação trazida da documentação do Pinecone\n",
        "\n",
        "---\n",
        "\n",
        "Uma etapa crucial no pinecone é criar um index para armazenar os dados.\n",
        "O index é criado com um nome, a dimenção do modelo de embeddings que estamos usando e a métrica usada para a busca semântica e por último a cloud a qual você deseja hospedar.\n",
        "\n",
        "---\n",
        "\n",
        "Vale lembrar que toda infra do banco de dados (Pinecone) é gerenciada por eles, então só escolha sua cloud e relaxe! xD\n"
      ],
      "metadata": {
        "id": "3Cm3W_nTxGg3"
      }
    },
    {
      "cell_type": "code",
      "source": [
        "pinecone = Pinecone(api_key=PINECONE_API_KEY)\n",
        "\n",
        "index_name = \"similarity-search\"\n",
        "\n",
        "pinecone.create_index(\n",
        "    name=index_name,\n",
        "    dimension=model.get_sentence_embedding_dimension(),\n",
        "    metric='cosine',\n",
        "    spec=ServerlessSpec(\n",
        "        cloud=\"aws\",\n",
        "        region=\"us-east-1\"\n",
        "    )\n",
        ")"
      ],
      "metadata": {
        "id": "kX02UWtzvIcS"
      },
      "execution_count": 83,
      "outputs": []
    },
    {
      "cell_type": "code",
      "source": [
        "index = pinecone.Index(index_name)\n",
        "print(index)"
      ],
      "metadata": {
        "colab": {
          "base_uri": "https://localhost:8080/"
        },
        "id": "l6-F_4H-vx9o",
        "outputId": "6631bcbc-c750-4712-cb23-b9c73f592940"
      },
      "execution_count": 84,
      "outputs": [
        {
          "output_type": "stream",
          "name": "stdout",
          "text": [
            "<pinecone.data.index.Index object at 0x785ade1583a0>\n"
          ]
        }
      ]
    },
    {
      "cell_type": "markdown",
      "source": [
        "## Criando os Embeddings e enviando para o Pinecone"
      ],
      "metadata": {
        "id": "3ioqQFEI5IkP"
      }
    },
    {
      "cell_type": "markdown",
      "source": [
        "Primeiramente criamos um limite de dados na variável \"vector_limit\", para não sobrecarregar nosso Pinecone (já que estamos utilizando um plano gratuito e limitado). O \"batch_size\" aqui, serve para processarmos grandes volumes de dados em lotes, otimizando o uso de memória ^^!\n",
        "\n",
        "---\n",
        "\n",
        "Pesquisando, descobri que o processamento em lotes é muito utilizado quando lidamos com grandes quantidades de dados. Nesse caso, processamos os dados em lotes menores (no nosso caso de uso, de 200 em 200) até o final da lista.\n",
        "\n",
        "Pra garantir que o número do lote nunca seja maior que o tamanho da lista de dados, utilizamos a função min(). Ela calcula o índice final de cada iteração de forma segura, evitando ultrapassar o tamanho da lista.\n",
        "\n",
        "Por exemplo: em uma lista com 5 itens e batch_size = 3, na primeira iteração, o código vai pegar os itens dos índices 0 a 2 (ou seja, 3 itens).\n",
        "\n",
        "1ª Iteração: Para a lista [\"casa\", \"carro\", \"coisa\", \"cuidado\", \"cheiro\"], o lote vai de índice 0 a 2 (ou seja, o lote inclui \"casa\", \"carro\" e \"coisa\").\n",
        "\n",
        "2ª Iteração: Agora, o código tenta pegar mais 3 itens, mas restam apenas 2 (os itens \"cuidado\" e \"cheiro\"). A função min(i + batch_size, len(lista)) garante que o índice final do lote seja ajustado, processando até o índice 4.\n",
        "\n",
        "Com essa abordagem, conseguimos dividir o processamento de forma eficiente, evitando o risco de tentar acessar um índice fora do limite e, ao mesmo tempo, otimizar o uso de memória e o desempenho.\n",
        "\n",
        "---\n",
        "\n",
        "Dando continuidade, precisamos criar os ids para nossos dados. Pra isso usamos o Range para percorrer os lotes e transformamos os números gerados em Strings.\n",
        "\n",
        "---\n",
        "\n",
        "Podemos criar metadados associados com o conteúdo que quisermos, nesse caso temos as perguntas associadas a cada id.\n",
        "\n",
        "---\n",
        "\n",
        "Por último mas não menos importante, criamos embeddings com nosso modelo escolhido anteriormente, para cada grupo de questões processadas.\n",
        "\n",
        "---\n",
        "\n",
        "zipamos tudo, e enviamos para o pinecone.\n",
        "\n",
        "---\n",
        "\n",
        "Ufa... Acabei a explicação por aqui."
      ],
      "metadata": {
        "id": "WQtxYkdwCOry"
      }
    },
    {
      "cell_type": "markdown",
      "source": [
        "---\n",
        "\n",
        "Usamos o TDQM para deixar o processo mais bonitinho, a gente consegue acompanhar visualmente o loop.\n",
        "\n",
        "\n",
        "\n"
      ],
      "metadata": {
        "id": "uauXWHz-C6gA"
      }
    },
    {
      "cell_type": "code",
      "source": [
        "batch_size=200\n",
        "vector_limit=10000\n",
        "\n",
        "questions = questions[:vector_limit]\n",
        "\n",
        "import json\n",
        "\n",
        "for i in tqdm(range(0, len(questions), batch_size)):\n",
        "    i_end = min(i+batch_size, len(questions))\n",
        "    ids = [str(x) for x in range(i, i_end)]\n",
        "    metadatas = [{'text': text} for text in questions[i:i_end]]\n",
        "    embd = model.encode(questions[i:i_end])\n",
        "    records = zip(ids, embd, metadatas)\n",
        "    index.upsert(vectors=records)\n"
      ],
      "metadata": {
        "colab": {
          "base_uri": "https://localhost:8080/",
          "height": 49,
          "referenced_widgets": [
            "a5ce81d8f85642c295b4bec65a936e70",
            "7a5b45cf8691422a8543b6f61130a0eb",
            "7b79efc422fe4207a59b815c8c6b6e55",
            "04ad45708ddd4c6ab2c4a13ad26fcc29",
            "bd3868d8aa204615a028e043175bc97b",
            "f458627b04cb4f35aca22899bf456921",
            "a0d7c544e67b41beb86633093c16d492",
            "4c8bb43156a44c45bf874dd8ceaa5c12",
            "90566d6538c34ec5b1d5d460c3918070",
            "36a7ce3cd3324feda834a29559447751",
            "5c262631f40d4f15aeff42eb7d41759e"
          ]
        },
        "id": "Xy5pI47fw70K",
        "outputId": "7fe171f6-340b-4b57-ec3b-698a944a1d87"
      },
      "execution_count": 85,
      "outputs": [
        {
          "output_type": "display_data",
          "data": {
            "text/plain": [
              "  0%|          | 0/50 [00:00<?, ?it/s]"
            ],
            "application/vnd.jupyter.widget-view+json": {
              "version_major": 2,
              "version_minor": 0,
              "model_id": "a5ce81d8f85642c295b4bec65a936e70"
            }
          },
          "metadata": {}
        }
      ]
    },
    {
      "cell_type": "code",
      "source": [
        "index.describe_index_stats()"
      ],
      "metadata": {
        "colab": {
          "base_uri": "https://localhost:8080/"
        },
        "id": "KrhdiAND5aDD",
        "outputId": "0ea01236-8204-4fea-e07c-916ff161148c"
      },
      "execution_count": 86,
      "outputs": [
        {
          "output_type": "execute_result",
          "data": {
            "text/plain": [
              "{'dimension': 384,\n",
              " 'index_fullness': 0.0,\n",
              " 'namespaces': {'': {'vector_count': 9400}},\n",
              " 'total_vector_count': 9400}"
            ]
          },
          "metadata": {},
          "execution_count": 86
        }
      ]
    },
    {
      "cell_type": "code",
      "source": [
        "def run_query(query):\n",
        "    embedding = model.encode(query).tolist()\n",
        "    results = index.query(top_k=10, vector=embedding, include_metadata=True, include_values=False)\n",
        "    for result in results['matches']:\n",
        "        print(f\"{round(result['score'], 2)}: {result['metadata']['text']}\")\n"
      ],
      "metadata": {
        "id": "kogOmfS67nz7"
      },
      "execution_count": 87,
      "outputs": []
    },
    {
      "cell_type": "code",
      "source": [
        "run_query('which city has the highest population in the world?')"
      ],
      "metadata": {
        "colab": {
          "base_uri": "https://localhost:8080/"
        },
        "id": "fB4y0svc8g3_",
        "outputId": "a59a08de-dab0-44b3-c8a1-c67cc4598c1e"
      },
      "execution_count": 88,
      "outputs": [
        {
          "output_type": "stream",
          "name": "stdout",
          "text": [
            "0.64: Which is the largest country in the world?\n",
            "0.6: What percentage of the world's population lives in developed countries?\n",
            "0.57: Why does America have the most unsafe cities in the world?\n",
            "0.56: Which is the best city in India?\n",
            "0.55: Which is the highest mountain in the world?\n",
            "0.55: About 50% of the world population is concentrated between the latitudes of?\n",
            "0.54: Which city is the best in India? Why?\n",
            "0.54: Which country is the world's largest democracy?\n",
            "0.51: Which is the safest country in the world?\n",
            "0.51: What do you think are the top 3 countries to live in?\n"
          ]
        }
      ]
    },
    {
      "cell_type": "code",
      "source": [
        "query = 'how do i make a cake?'\n",
        "run_query(query)"
      ],
      "metadata": {
        "colab": {
          "base_uri": "https://localhost:8080/"
        },
        "id": "38polB0A8jTr",
        "outputId": "f4412130-2e3f-451f-b270-1064645f2f01"
      },
      "execution_count": 89,
      "outputs": [
        {
          "output_type": "stream",
          "name": "stdout",
          "text": [
            "0.62: How do we bake cake in microwave oven?\n",
            "0.61: How do you make pancakes?\n",
            "0.54: How do I make whipped cream?\n",
            "0.51: What are some really simple recipes?\n",
            "0.51: How do I make a red fondant?\n",
            "0.51: How can you make duck sauce?\n",
            "0.48: What does red velvet cake taste like?\n",
            "0.46: How do I make chili?\n",
            "0.44: What is your best recipe?\n",
            "0.44: How do you make a chili dog?\n"
          ]
        }
      ]
    }
  ]
}